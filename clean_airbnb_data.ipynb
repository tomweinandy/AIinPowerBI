{
 "cells": [
  {
   "cell_type": "markdown",
   "source": [
    "# Clean the AirBnB data\n"
   ],
   "metadata": {
    "collapsed": false
   }
  },
  {
   "cell_type": "code",
   "execution_count": 2,
   "metadata": {
    "collapsed": true
   },
   "outputs": [
    {
     "data": {
      "text/plain": "             id                                      listing_url  \\\n0  4.440074e+07            https://www.airbnb.com/rooms/44400735   \n1  7.019696e+17  https://www.airbnb.com/rooms/701969602670827249   \n2  3.438172e+07            https://www.airbnb.com/rooms/34381719   \n3  3.320903e+07            https://www.airbnb.com/rooms/33209027   \n4  1.898866e+07            https://www.airbnb.com/rooms/18988656   \n\n      scrape_id last_scraped       source  \\\n0  2.022090e+13   2022-09-29  city scrape   \n1  2.022090e+13   2022-09-29  city scrape   \n2  2.022090e+13   2022-09-29  city scrape   \n3  2.022090e+13   2022-09-29  city scrape   \n4  2.022090e+13   2022-09-29  city scrape   \n\n                                        name  \\\n0                         Dolce Nido Falcade   \n1  Affittimoderni Ponte di Legno Ski - Pdl12   \n2  Ferienwohnung Papstlhof: Reinheit in Glas   \n3   Feienwohnung Papstlhof: Balance in Weiss   \n4                  Villa Vesta for 5 persons   \n\n                                         description  \\\n0                                                NaN   \n1  The <b>apartment in Ponte di Legno</b> has 1 b...   \n2  Der Papstlhof liegt im schönen Weindorf Kalter...   \n3  Der Papstlhof liegt im schönen Weindorf Kalter...   \n4  Note: You can directly book the best price if ...   \n\n                               neighborhood_overview  \\\n0                                                NaN   \n1                                                NaN   \n2  500 Meter vom Papstlhof entfernt finden Sie di...   \n3  500 Meter vom Papstlhof entfernt finden Sie di...   \n4                                                NaN   \n\n                                         picture_url    host_id  ...  \\\n0  https://a0.muscache.com/pictures/4e8f96f4-cbfc...  204428387  ...   \n1  https://a0.muscache.com/pictures/prohost-api/H...   21763382  ...   \n2  https://a0.muscache.com/pictures/b7343d0c-12aa...  250027698  ...   \n3  https://a0.muscache.com/pictures/b72fe4ed-1c86...  250027698  ...   \n4  https://a0.muscache.com/pictures/prohost-api/H...  131033815  ...   \n\n  review_scores_communication review_scores_location review_scores_value  \\\n0                         4.0                    2.0                 4.0   \n1                         NaN                    NaN                 NaN   \n2                         NaN                    NaN                 NaN   \n3                         NaN                    NaN                 NaN   \n4                         NaN                    NaN                 NaN   \n\n            license instant_bookable calculated_host_listings_count  \\\n0               NaN                t                              2   \n1               NaN                t                              1   \n2               NaN                f                              4   \n3               NaN                f                              4   \n4  017082-CIM-00014                t                             44   \n\n  calculated_host_listings_count_entire_homes  \\\n0                                           2   \n1                                           1   \n2                                           4   \n3                                           4   \n4                                          44   \n\n  calculated_host_listings_count_private_rooms  \\\n0                                            0   \n1                                            0   \n2                                            0   \n3                                            0   \n4                                            0   \n\n  calculated_host_listings_count_shared_rooms reviews_per_month  \n0                                           0              0.52  \n1                                           0               NaN  \n2                                           0               NaN  \n3                                           0               NaN  \n4                                           0               NaN  \n\n[5 rows x 75 columns]",
      "text/html": "<div>\n<style scoped>\n    .dataframe tbody tr th:only-of-type {\n        vertical-align: middle;\n    }\n\n    .dataframe tbody tr th {\n        vertical-align: top;\n    }\n\n    .dataframe thead th {\n        text-align: right;\n    }\n</style>\n<table border=\"1\" class=\"dataframe\">\n  <thead>\n    <tr style=\"text-align: right;\">\n      <th></th>\n      <th>id</th>\n      <th>listing_url</th>\n      <th>scrape_id</th>\n      <th>last_scraped</th>\n      <th>source</th>\n      <th>name</th>\n      <th>description</th>\n      <th>neighborhood_overview</th>\n      <th>picture_url</th>\n      <th>host_id</th>\n      <th>...</th>\n      <th>review_scores_communication</th>\n      <th>review_scores_location</th>\n      <th>review_scores_value</th>\n      <th>license</th>\n      <th>instant_bookable</th>\n      <th>calculated_host_listings_count</th>\n      <th>calculated_host_listings_count_entire_homes</th>\n      <th>calculated_host_listings_count_private_rooms</th>\n      <th>calculated_host_listings_count_shared_rooms</th>\n      <th>reviews_per_month</th>\n    </tr>\n  </thead>\n  <tbody>\n    <tr>\n      <th>0</th>\n      <td>4.440074e+07</td>\n      <td>https://www.airbnb.com/rooms/44400735</td>\n      <td>2.022090e+13</td>\n      <td>2022-09-29</td>\n      <td>city scrape</td>\n      <td>Dolce Nido Falcade</td>\n      <td>NaN</td>\n      <td>NaN</td>\n      <td>https://a0.muscache.com/pictures/4e8f96f4-cbfc...</td>\n      <td>204428387</td>\n      <td>...</td>\n      <td>4.0</td>\n      <td>2.0</td>\n      <td>4.0</td>\n      <td>NaN</td>\n      <td>t</td>\n      <td>2</td>\n      <td>2</td>\n      <td>0</td>\n      <td>0</td>\n      <td>0.52</td>\n    </tr>\n    <tr>\n      <th>1</th>\n      <td>7.019696e+17</td>\n      <td>https://www.airbnb.com/rooms/701969602670827249</td>\n      <td>2.022090e+13</td>\n      <td>2022-09-29</td>\n      <td>city scrape</td>\n      <td>Affittimoderni Ponte di Legno Ski - Pdl12</td>\n      <td>The &lt;b&gt;apartment in Ponte di Legno&lt;/b&gt; has 1 b...</td>\n      <td>NaN</td>\n      <td>https://a0.muscache.com/pictures/prohost-api/H...</td>\n      <td>21763382</td>\n      <td>...</td>\n      <td>NaN</td>\n      <td>NaN</td>\n      <td>NaN</td>\n      <td>NaN</td>\n      <td>t</td>\n      <td>1</td>\n      <td>1</td>\n      <td>0</td>\n      <td>0</td>\n      <td>NaN</td>\n    </tr>\n    <tr>\n      <th>2</th>\n      <td>3.438172e+07</td>\n      <td>https://www.airbnb.com/rooms/34381719</td>\n      <td>2.022090e+13</td>\n      <td>2022-09-29</td>\n      <td>city scrape</td>\n      <td>Ferienwohnung Papstlhof: Reinheit in Glas</td>\n      <td>Der Papstlhof liegt im schönen Weindorf Kalter...</td>\n      <td>500 Meter vom Papstlhof entfernt finden Sie di...</td>\n      <td>https://a0.muscache.com/pictures/b7343d0c-12aa...</td>\n      <td>250027698</td>\n      <td>...</td>\n      <td>NaN</td>\n      <td>NaN</td>\n      <td>NaN</td>\n      <td>NaN</td>\n      <td>f</td>\n      <td>4</td>\n      <td>4</td>\n      <td>0</td>\n      <td>0</td>\n      <td>NaN</td>\n    </tr>\n    <tr>\n      <th>3</th>\n      <td>3.320903e+07</td>\n      <td>https://www.airbnb.com/rooms/33209027</td>\n      <td>2.022090e+13</td>\n      <td>2022-09-29</td>\n      <td>city scrape</td>\n      <td>Feienwohnung Papstlhof: Balance in Weiss</td>\n      <td>Der Papstlhof liegt im schönen Weindorf Kalter...</td>\n      <td>500 Meter vom Papstlhof entfernt finden Sie di...</td>\n      <td>https://a0.muscache.com/pictures/b72fe4ed-1c86...</td>\n      <td>250027698</td>\n      <td>...</td>\n      <td>NaN</td>\n      <td>NaN</td>\n      <td>NaN</td>\n      <td>NaN</td>\n      <td>f</td>\n      <td>4</td>\n      <td>4</td>\n      <td>0</td>\n      <td>0</td>\n      <td>NaN</td>\n    </tr>\n    <tr>\n      <th>4</th>\n      <td>1.898866e+07</td>\n      <td>https://www.airbnb.com/rooms/18988656</td>\n      <td>2.022090e+13</td>\n      <td>2022-09-29</td>\n      <td>city scrape</td>\n      <td>Villa Vesta for 5 persons</td>\n      <td>Note: You can directly book the best price if ...</td>\n      <td>NaN</td>\n      <td>https://a0.muscache.com/pictures/prohost-api/H...</td>\n      <td>131033815</td>\n      <td>...</td>\n      <td>NaN</td>\n      <td>NaN</td>\n      <td>NaN</td>\n      <td>017082-CIM-00014</td>\n      <td>t</td>\n      <td>44</td>\n      <td>44</td>\n      <td>0</td>\n      <td>0</td>\n      <td>NaN</td>\n    </tr>\n  </tbody>\n</table>\n<p>5 rows × 75 columns</p>\n</div>"
     },
     "execution_count": 2,
     "metadata": {},
     "output_type": "execute_result"
    }
   ],
   "source": [
    "import pandas as pd\n",
    "\n",
    "listings_og = pd.read_csv('listings_og.csv')\n",
    "listings_og.head()"
   ]
  },
  {
   "cell_type": "code",
   "execution_count": 65,
   "outputs": [
    {
     "name": "stderr",
     "output_type": "stream",
     "text": [
      "/var/folders/8k/1982q0sd17v8dt4gxj5mqhk80000gn/T/ipykernel_17825/3865717276.py:24: SettingWithCopyWarning: \n",
      "A value is trying to be set on a copy of a slice from a DataFrame.\n",
      "Try using .loc[row_indexer,col_indexer] = value instead\n",
      "\n",
      "See the caveats in the documentation: https://pandas.pydata.org/pandas-docs/stable/user_guide/indexing.html#returning-a-view-versus-a-copy\n",
      "  listings['description'] = cleaned_description_list\n"
     ]
    },
    {
     "data": {
      "text/plain": "                id                                               name  \\\n5     3.281773e+07                         Villa Laura for 12 persons   \n6     1.898878e+07                          Villa Vesta for 5 persons   \n10    4.170959e+07                    WEEKEND ROMANTICO IN ALTO ADIGE   \n11    1.391737e+07                Charming home in Carezza, Dolomites   \n12    6.459583e+17                          Sirena - Apartment Masarè   \n...            ...                                                ...   \n7147  3.320698e+07          Feienwohnung Papstlhof: Harmonie in Stein   \n7148  1.695416e+07   Casa Sabine 9 people - Lakeview and Pet friendly   \n7149  5.417517e+07  NEU Apartment & Panormaterrasse an der Mendelbahn   \n7152  3.391388e+06                   Wonderful flat in Garda's heart!   \n7153  2.585840e+07                   Appartamenti la milanesa secondo   \n\n                                            description  \\\n5     Note: You can directly book the best price if ...   \n6     Note: You can directly book the best price if ...   \n10    Albergo a conduzione familiare nel paese più a...   \n11    My flat is situated in the Grand Hotel Carezza...   \n12    4 parking spaces are available on the property...   \n...                                                 ...   \n7147  Der Papstlhof liegt im schönen Weindorf Kalter...   \n7148  CIR 017082-CIM-00014Casa Sabine is an entire h...   \n7149  Anfang 2022 fertiggestellt, bietet die Unterku...   \n7152  In Limone just 50mt. from the lake, you will f...   \n7153  Appartamenti situati in una zona molto verde e...   \n\n                                            picture_url  host_since  \\\n5     https://a0.muscache.com/pictures/prohost-api/H...  2017-05-19   \n6     https://a0.muscache.com/pictures/prohost-api/H...  2017-05-19   \n10    https://a0.muscache.com/pictures/miso/Hosting-...  2020-01-20   \n11    https://a0.muscache.com/pictures/d967c984-8549...  2016-03-27   \n12    https://a0.muscache.com/pictures/prohost-api/H...  2021-11-15   \n...                                                 ...         ...   \n7147  https://a0.muscache.com/pictures/bdb966d9-cba2...  2019-03-20   \n7148  https://a0.muscache.com/pictures/4a9f414d-c8c7...  2014-09-01   \n7149  https://a0.muscache.com/pictures/miso/Hosting-...  2017-04-09   \n7152  https://a0.muscache.com/pictures/42957563/1f77...  2014-05-04   \n7153  https://a0.muscache.com/pictures/38316ae6-f779...  2018-06-08   \n\n      host_response_time host_response_rate host_acceptance_rate  \\\n5         within an hour               100%                  94%   \n6         within an hour               100%                  94%   \n10        within an hour               100%                 100%   \n11        within an hour               100%                 100%   \n12        within an hour               100%                 100%   \n...                  ...                ...                  ...   \n7147        within a day               100%                  40%   \n7148      within an hour               100%                  86%   \n7149      within an hour               100%                 100%   \n7152  within a few hours               100%                   0%   \n7153      within an hour               100%                  57%   \n\n     host_is_superhost  host_listings_count  ...  number_of_reviews_ltm  \\\n5                    f                133.0  ...                      1   \n6                    f                133.0  ...                      0   \n10                   f                  3.0  ...                      9   \n11                   f                  1.0  ...                      7   \n12                   f                850.0  ...                      1   \n...                ...                  ...  ...                    ...   \n7147                 f                  4.0  ...                      2   \n7148                 f                  4.0  ...                      2   \n7149                 f                 20.0  ...                      1   \n7152                 f                  1.0  ...                      0   \n7153                 f                  3.0  ...                      4   \n\n     number_of_reviews_l30d review_scores_rating  review_scores_accuracy  \\\n5                         0                 3.50                    3.00   \n6                         0                 4.50                    5.00   \n10                        0                 4.89                    4.89   \n11                        1                 4.71                    4.77   \n12                        0                 4.00                    4.00   \n...                     ...                  ...                     ...   \n7147                      0                 5.00                    5.00   \n7148                      0                 4.58                    4.58   \n7149                      0                 5.00                    5.00   \n7152                      0                 4.39                    4.66   \n7153                      0                 4.78                    5.00   \n\n      review_scores_cleanliness review_scores_checkin  \\\n5                          3.50                  4.50   \n6                          5.00                  5.00   \n10                         4.67                  5.00   \n11                         4.73                  4.90   \n12                         4.00                  4.00   \n...                         ...                   ...   \n7147                       5.00                  5.00   \n7148                       4.67                  4.75   \n7149                       5.00                  5.00   \n7152                       4.78                  4.89   \n7153                       5.00                  5.00   \n\n     review_scores_communication  review_scores_location review_scores_value  \\\n5                           4.50                    4.50                3.50   \n6                           5.00                    4.50                4.50   \n10                          4.67                    4.56                4.78   \n11                          4.89                    4.85                4.75   \n12                          3.00                    4.00                4.00   \n...                          ...                     ...                 ...   \n7147                        5.00                    5.00                4.80   \n7148                        4.58                    4.58                4.42   \n7149                        5.00                    5.00                5.00   \n7152                        4.78                    4.67                4.58   \n7153                        5.00                    4.89                4.78   \n\n      instant_bookable  \n5                    t  \n6                    t  \n10                   t  \n11                   t  \n12                   t  \n...                ...  \n7147                 f  \n7148                 f  \n7149                 t  \n7152                 f  \n7153                 f  \n\n[4711 rows x 41 columns]",
      "text/html": "<div>\n<style scoped>\n    .dataframe tbody tr th:only-of-type {\n        vertical-align: middle;\n    }\n\n    .dataframe tbody tr th {\n        vertical-align: top;\n    }\n\n    .dataframe thead th {\n        text-align: right;\n    }\n</style>\n<table border=\"1\" class=\"dataframe\">\n  <thead>\n    <tr style=\"text-align: right;\">\n      <th></th>\n      <th>id</th>\n      <th>name</th>\n      <th>description</th>\n      <th>picture_url</th>\n      <th>host_since</th>\n      <th>host_response_time</th>\n      <th>host_response_rate</th>\n      <th>host_acceptance_rate</th>\n      <th>host_is_superhost</th>\n      <th>host_listings_count</th>\n      <th>...</th>\n      <th>number_of_reviews_ltm</th>\n      <th>number_of_reviews_l30d</th>\n      <th>review_scores_rating</th>\n      <th>review_scores_accuracy</th>\n      <th>review_scores_cleanliness</th>\n      <th>review_scores_checkin</th>\n      <th>review_scores_communication</th>\n      <th>review_scores_location</th>\n      <th>review_scores_value</th>\n      <th>instant_bookable</th>\n    </tr>\n  </thead>\n  <tbody>\n    <tr>\n      <th>5</th>\n      <td>3.281773e+07</td>\n      <td>Villa Laura for 12 persons</td>\n      <td>Note: You can directly book the best price if ...</td>\n      <td>https://a0.muscache.com/pictures/prohost-api/H...</td>\n      <td>2017-05-19</td>\n      <td>within an hour</td>\n      <td>100%</td>\n      <td>94%</td>\n      <td>f</td>\n      <td>133.0</td>\n      <td>...</td>\n      <td>1</td>\n      <td>0</td>\n      <td>3.50</td>\n      <td>3.00</td>\n      <td>3.50</td>\n      <td>4.50</td>\n      <td>4.50</td>\n      <td>4.50</td>\n      <td>3.50</td>\n      <td>t</td>\n    </tr>\n    <tr>\n      <th>6</th>\n      <td>1.898878e+07</td>\n      <td>Villa Vesta for 5 persons</td>\n      <td>Note: You can directly book the best price if ...</td>\n      <td>https://a0.muscache.com/pictures/prohost-api/H...</td>\n      <td>2017-05-19</td>\n      <td>within an hour</td>\n      <td>100%</td>\n      <td>94%</td>\n      <td>f</td>\n      <td>133.0</td>\n      <td>...</td>\n      <td>0</td>\n      <td>0</td>\n      <td>4.50</td>\n      <td>5.00</td>\n      <td>5.00</td>\n      <td>5.00</td>\n      <td>5.00</td>\n      <td>4.50</td>\n      <td>4.50</td>\n      <td>t</td>\n    </tr>\n    <tr>\n      <th>10</th>\n      <td>4.170959e+07</td>\n      <td>WEEKEND ROMANTICO IN ALTO ADIGE</td>\n      <td>Albergo a conduzione familiare nel paese più a...</td>\n      <td>https://a0.muscache.com/pictures/miso/Hosting-...</td>\n      <td>2020-01-20</td>\n      <td>within an hour</td>\n      <td>100%</td>\n      <td>100%</td>\n      <td>f</td>\n      <td>3.0</td>\n      <td>...</td>\n      <td>9</td>\n      <td>0</td>\n      <td>4.89</td>\n      <td>4.89</td>\n      <td>4.67</td>\n      <td>5.00</td>\n      <td>4.67</td>\n      <td>4.56</td>\n      <td>4.78</td>\n      <td>t</td>\n    </tr>\n    <tr>\n      <th>11</th>\n      <td>1.391737e+07</td>\n      <td>Charming home in Carezza, Dolomites</td>\n      <td>My flat is situated in the Grand Hotel Carezza...</td>\n      <td>https://a0.muscache.com/pictures/d967c984-8549...</td>\n      <td>2016-03-27</td>\n      <td>within an hour</td>\n      <td>100%</td>\n      <td>100%</td>\n      <td>f</td>\n      <td>1.0</td>\n      <td>...</td>\n      <td>7</td>\n      <td>1</td>\n      <td>4.71</td>\n      <td>4.77</td>\n      <td>4.73</td>\n      <td>4.90</td>\n      <td>4.89</td>\n      <td>4.85</td>\n      <td>4.75</td>\n      <td>t</td>\n    </tr>\n    <tr>\n      <th>12</th>\n      <td>6.459583e+17</td>\n      <td>Sirena - Apartment Masarè</td>\n      <td>4 parking spaces are available on the property...</td>\n      <td>https://a0.muscache.com/pictures/prohost-api/H...</td>\n      <td>2021-11-15</td>\n      <td>within an hour</td>\n      <td>100%</td>\n      <td>100%</td>\n      <td>f</td>\n      <td>850.0</td>\n      <td>...</td>\n      <td>1</td>\n      <td>0</td>\n      <td>4.00</td>\n      <td>4.00</td>\n      <td>4.00</td>\n      <td>4.00</td>\n      <td>3.00</td>\n      <td>4.00</td>\n      <td>4.00</td>\n      <td>t</td>\n    </tr>\n    <tr>\n      <th>...</th>\n      <td>...</td>\n      <td>...</td>\n      <td>...</td>\n      <td>...</td>\n      <td>...</td>\n      <td>...</td>\n      <td>...</td>\n      <td>...</td>\n      <td>...</td>\n      <td>...</td>\n      <td>...</td>\n      <td>...</td>\n      <td>...</td>\n      <td>...</td>\n      <td>...</td>\n      <td>...</td>\n      <td>...</td>\n      <td>...</td>\n      <td>...</td>\n      <td>...</td>\n      <td>...</td>\n    </tr>\n    <tr>\n      <th>7147</th>\n      <td>3.320698e+07</td>\n      <td>Feienwohnung Papstlhof: Harmonie in Stein</td>\n      <td>Der Papstlhof liegt im schönen Weindorf Kalter...</td>\n      <td>https://a0.muscache.com/pictures/bdb966d9-cba2...</td>\n      <td>2019-03-20</td>\n      <td>within a day</td>\n      <td>100%</td>\n      <td>40%</td>\n      <td>f</td>\n      <td>4.0</td>\n      <td>...</td>\n      <td>2</td>\n      <td>0</td>\n      <td>5.00</td>\n      <td>5.00</td>\n      <td>5.00</td>\n      <td>5.00</td>\n      <td>5.00</td>\n      <td>5.00</td>\n      <td>4.80</td>\n      <td>f</td>\n    </tr>\n    <tr>\n      <th>7148</th>\n      <td>1.695416e+07</td>\n      <td>Casa Sabine 9 people - Lakeview and Pet friendly</td>\n      <td>CIR 017082-CIM-00014Casa Sabine is an entire h...</td>\n      <td>https://a0.muscache.com/pictures/4a9f414d-c8c7...</td>\n      <td>2014-09-01</td>\n      <td>within an hour</td>\n      <td>100%</td>\n      <td>86%</td>\n      <td>f</td>\n      <td>4.0</td>\n      <td>...</td>\n      <td>2</td>\n      <td>0</td>\n      <td>4.58</td>\n      <td>4.58</td>\n      <td>4.67</td>\n      <td>4.75</td>\n      <td>4.58</td>\n      <td>4.58</td>\n      <td>4.42</td>\n      <td>f</td>\n    </tr>\n    <tr>\n      <th>7149</th>\n      <td>5.417517e+07</td>\n      <td>NEU Apartment &amp; Panormaterrasse an der Mendelbahn</td>\n      <td>Anfang 2022 fertiggestellt, bietet die Unterku...</td>\n      <td>https://a0.muscache.com/pictures/miso/Hosting-...</td>\n      <td>2017-04-09</td>\n      <td>within an hour</td>\n      <td>100%</td>\n      <td>100%</td>\n      <td>f</td>\n      <td>20.0</td>\n      <td>...</td>\n      <td>1</td>\n      <td>0</td>\n      <td>5.00</td>\n      <td>5.00</td>\n      <td>5.00</td>\n      <td>5.00</td>\n      <td>5.00</td>\n      <td>5.00</td>\n      <td>5.00</td>\n      <td>t</td>\n    </tr>\n    <tr>\n      <th>7152</th>\n      <td>3.391388e+06</td>\n      <td>Wonderful flat in Garda's heart!</td>\n      <td>In Limone just 50mt. from the lake, you will f...</td>\n      <td>https://a0.muscache.com/pictures/42957563/1f77...</td>\n      <td>2014-05-04</td>\n      <td>within a few hours</td>\n      <td>100%</td>\n      <td>0%</td>\n      <td>f</td>\n      <td>1.0</td>\n      <td>...</td>\n      <td>0</td>\n      <td>0</td>\n      <td>4.39</td>\n      <td>4.66</td>\n      <td>4.78</td>\n      <td>4.89</td>\n      <td>4.78</td>\n      <td>4.67</td>\n      <td>4.58</td>\n      <td>f</td>\n    </tr>\n    <tr>\n      <th>7153</th>\n      <td>2.585840e+07</td>\n      <td>Appartamenti la milanesa secondo</td>\n      <td>Appartamenti situati in una zona molto verde e...</td>\n      <td>https://a0.muscache.com/pictures/38316ae6-f779...</td>\n      <td>2018-06-08</td>\n      <td>within an hour</td>\n      <td>100%</td>\n      <td>57%</td>\n      <td>f</td>\n      <td>3.0</td>\n      <td>...</td>\n      <td>4</td>\n      <td>0</td>\n      <td>4.78</td>\n      <td>5.00</td>\n      <td>5.00</td>\n      <td>5.00</td>\n      <td>5.00</td>\n      <td>4.89</td>\n      <td>4.78</td>\n      <td>f</td>\n    </tr>\n  </tbody>\n</table>\n<p>4711 rows × 41 columns</p>\n</div>"
     },
     "execution_count": 65,
     "metadata": {},
     "output_type": "execute_result"
    }
   ],
   "source": [
    "import re\n",
    "import numpy as np\n",
    "\n",
    "# Reduce to select columns\n",
    "listings = listings_og[['id', 'name', 'description', 'picture_url', 'host_since', 'host_response_time', 'host_response_rate',\n",
    "             'host_acceptance_rate', 'host_is_superhost', 'host_listings_count', 'host_total_listings_count', 'host_verifications',\n",
    "             'host_identity_verified', 'latitude', 'longitude', 'property_type', 'room_type', 'accommodates',\n",
    "             'bathrooms_text', 'bedrooms', 'beds', 'amenities', 'price', 'minimum_nights', 'maximum_nights', 'has_availability',\n",
    "             'availability_30', 'availability_60', 'availability_90', 'availability_365', 'number_of_reviews', 'number_of_reviews_ltm',\n",
    "             'number_of_reviews_l30d', 'review_scores_rating', 'review_scores_accuracy', 'review_scores_cleanliness', 'review_scores_checkin',\n",
    "             'review_scores_communication', 'review_scores_location', 'review_scores_value', 'instant_bookable']]\n",
    "\n",
    "# Remove html from description\n",
    "cleaned_description_list = []\n",
    "for d in listings['description']:\n",
    "    if type(d) == type('str'):\n",
    "        cleaned_description = re.sub('<[^<]+?>', '', d)\n",
    "    else:\n",
    "        cleaned_description = np.nan\n",
    "\n",
    "    cleaned_description_list.append(cleaned_description)\n",
    "\n",
    "# Save to dataframe\n",
    "listings['description'] = cleaned_description_list\n",
    "\n",
    "# Drop duplicates\n",
    "listings = listings.dropna()\n",
    "\n",
    "# Drop rows with the same description\n",
    "listings = listings.drop_duplicates(subset='description', keep='first')\n",
    "\n",
    "listings"
   ],
   "metadata": {
    "collapsed": false,
    "pycharm": {
     "name": "#%%\n"
    }
   }
  },
  {
   "cell_type": "markdown",
   "source": [
    "### Make sure listing data joins with reviews"
   ],
   "metadata": {
    "collapsed": false
   }
  },
  {
   "cell_type": "code",
   "execution_count": 62,
   "outputs": [
    {
     "data": {
      "text/plain": "          listing_id            id        date  reviewer_id   reviewer_name  \\\n0       3.773600e+04  1.052520e+05  2010-09-26       180558            Esha   \n1       3.773600e+04  1.090900e+05  2010-10-01       179520            Jack   \n2       3.773600e+04  1.774070e+05  2011-02-01       358799         Valerie   \n3       3.773600e+04  6.884190e+05  2011-11-02      1334818  Marius & Katha   \n4       3.773600e+04  7.754790e+05  2011-12-10       258681          Chiara   \n...              ...           ...         ...          ...             ...   \n106105  6.766024e+17  6.924970e+17  2022-08-13    200474777           Piero   \n106106  6.766024e+17  6.939595e+17  2022-08-15      3666570        Nataliya   \n106107  6.766024e+17  6.968469e+17  2022-08-19     70658780          Silvia   \n106108  6.766024e+17  6.982945e+17  2022-08-21    475129923        Samantha   \n106109  6.766330e+17  7.084417e+17  2022-09-04     17915504       Ekaterina   \n\n                                                 comments  \n0       Lovely quaint place in the mountains. Huge, sp...  \n1       Expansively large apartment with lots of room ...  \n2       Adorable apartment, but watch your head on tho...  \n3       we had a beautiful stay at danieles house! Her...  \n4       a really wonderful house! the photos don't lie...  \n...                                                   ...  \n106105  appartamento di nuova ristrutturazione in otti...  \n106106           beautiful stay, everything was wonderful  \n106107  Appartamento SUPER! Posizione centralissima e ...  \n106108                    super nice , lovkey little town  \n106109  Wonderful, equipped and large apartments in th...  \n\n[106110 rows x 6 columns]",
      "text/html": "<div>\n<style scoped>\n    .dataframe tbody tr th:only-of-type {\n        vertical-align: middle;\n    }\n\n    .dataframe tbody tr th {\n        vertical-align: top;\n    }\n\n    .dataframe thead th {\n        text-align: right;\n    }\n</style>\n<table border=\"1\" class=\"dataframe\">\n  <thead>\n    <tr style=\"text-align: right;\">\n      <th></th>\n      <th>listing_id</th>\n      <th>id</th>\n      <th>date</th>\n      <th>reviewer_id</th>\n      <th>reviewer_name</th>\n      <th>comments</th>\n    </tr>\n  </thead>\n  <tbody>\n    <tr>\n      <th>0</th>\n      <td>3.773600e+04</td>\n      <td>1.052520e+05</td>\n      <td>2010-09-26</td>\n      <td>180558</td>\n      <td>Esha</td>\n      <td>Lovely quaint place in the mountains. Huge, sp...</td>\n    </tr>\n    <tr>\n      <th>1</th>\n      <td>3.773600e+04</td>\n      <td>1.090900e+05</td>\n      <td>2010-10-01</td>\n      <td>179520</td>\n      <td>Jack</td>\n      <td>Expansively large apartment with lots of room ...</td>\n    </tr>\n    <tr>\n      <th>2</th>\n      <td>3.773600e+04</td>\n      <td>1.774070e+05</td>\n      <td>2011-02-01</td>\n      <td>358799</td>\n      <td>Valerie</td>\n      <td>Adorable apartment, but watch your head on tho...</td>\n    </tr>\n    <tr>\n      <th>3</th>\n      <td>3.773600e+04</td>\n      <td>6.884190e+05</td>\n      <td>2011-11-02</td>\n      <td>1334818</td>\n      <td>Marius &amp; Katha</td>\n      <td>we had a beautiful stay at danieles house! Her...</td>\n    </tr>\n    <tr>\n      <th>4</th>\n      <td>3.773600e+04</td>\n      <td>7.754790e+05</td>\n      <td>2011-12-10</td>\n      <td>258681</td>\n      <td>Chiara</td>\n      <td>a really wonderful house! the photos don't lie...</td>\n    </tr>\n    <tr>\n      <th>...</th>\n      <td>...</td>\n      <td>...</td>\n      <td>...</td>\n      <td>...</td>\n      <td>...</td>\n      <td>...</td>\n    </tr>\n    <tr>\n      <th>106105</th>\n      <td>6.766024e+17</td>\n      <td>6.924970e+17</td>\n      <td>2022-08-13</td>\n      <td>200474777</td>\n      <td>Piero</td>\n      <td>appartamento di nuova ristrutturazione in otti...</td>\n    </tr>\n    <tr>\n      <th>106106</th>\n      <td>6.766024e+17</td>\n      <td>6.939595e+17</td>\n      <td>2022-08-15</td>\n      <td>3666570</td>\n      <td>Nataliya</td>\n      <td>beautiful stay, everything was wonderful</td>\n    </tr>\n    <tr>\n      <th>106107</th>\n      <td>6.766024e+17</td>\n      <td>6.968469e+17</td>\n      <td>2022-08-19</td>\n      <td>70658780</td>\n      <td>Silvia</td>\n      <td>Appartamento SUPER! Posizione centralissima e ...</td>\n    </tr>\n    <tr>\n      <th>106108</th>\n      <td>6.766024e+17</td>\n      <td>6.982945e+17</td>\n      <td>2022-08-21</td>\n      <td>475129923</td>\n      <td>Samantha</td>\n      <td>super nice , lovkey little town</td>\n    </tr>\n    <tr>\n      <th>106109</th>\n      <td>6.766330e+17</td>\n      <td>7.084417e+17</td>\n      <td>2022-09-04</td>\n      <td>17915504</td>\n      <td>Ekaterina</td>\n      <td>Wonderful, equipped and large apartments in th...</td>\n    </tr>\n  </tbody>\n</table>\n<p>106110 rows × 6 columns</p>\n</div>"
     },
     "execution_count": 62,
     "metadata": {},
     "output_type": "execute_result"
    }
   ],
   "source": [
    "reviews_og = pd.read_csv('reviews_og.csv')\n",
    "reviews_og"
   ],
   "metadata": {
    "collapsed": false,
    "pycharm": {
     "name": "#%%\n"
    }
   }
  },
  {
   "cell_type": "code",
   "execution_count": null,
   "outputs": [],
   "source": [
    "### Shorten reviewer name"
   ],
   "metadata": {
    "collapsed": false,
    "pycharm": {
     "name": "#%%\n"
    }
   }
  }
 ],
 "metadata": {
  "kernelspec": {
   "display_name": "Python 3",
   "language": "python",
   "name": "python3"
  },
  "language_info": {
   "codemirror_mode": {
    "name": "ipython",
    "version": 2
   },
   "file_extension": ".py",
   "mimetype": "text/x-python",
   "name": "python",
   "nbconvert_exporter": "python",
   "pygments_lexer": "ipython2",
   "version": "2.7.6"
  }
 },
 "nbformat": 4,
 "nbformat_minor": 0
}