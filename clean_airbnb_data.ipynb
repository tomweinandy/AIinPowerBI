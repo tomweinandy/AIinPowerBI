{
 "cells": [
  {
   "cell_type": "markdown",
   "source": [
    "# Clean the AirBnB data\n"
   ],
   "metadata": {
    "collapsed": false
   }
  },
  {
   "cell_type": "code",
   "execution_count": 1,
   "metadata": {
    "collapsed": true
   },
   "outputs": [
    {
     "data": {
      "text/plain": "             id                                      listing_url  \\\n0  4.440074e+07            https://www.airbnb.com/rooms/44400735   \n1  7.019696e+17  https://www.airbnb.com/rooms/701969602670827249   \n2  3.438172e+07            https://www.airbnb.com/rooms/34381719   \n3  3.320903e+07            https://www.airbnb.com/rooms/33209027   \n4  1.898866e+07            https://www.airbnb.com/rooms/18988656   \n\n      scrape_id last_scraped       source  \\\n0  2.022090e+13   2022-09-29  city scrape   \n1  2.022090e+13   2022-09-29  city scrape   \n2  2.022090e+13   2022-09-29  city scrape   \n3  2.022090e+13   2022-09-29  city scrape   \n4  2.022090e+13   2022-09-29  city scrape   \n\n                                        name  \\\n0                         Dolce Nido Falcade   \n1  Affittimoderni Ponte di Legno Ski - Pdl12   \n2  Ferienwohnung Papstlhof: Reinheit in Glas   \n3   Feienwohnung Papstlhof: Balance in Weiss   \n4                  Villa Vesta for 5 persons   \n\n                                         description  \\\n0                                                NaN   \n1  The <b>apartment in Ponte di Legno</b> has 1 b...   \n2  Der Papstlhof liegt im schönen Weindorf Kalter...   \n3  Der Papstlhof liegt im schönen Weindorf Kalter...   \n4  Note: You can directly book the best price if ...   \n\n                               neighborhood_overview  \\\n0                                                NaN   \n1                                                NaN   \n2  500 Meter vom Papstlhof entfernt finden Sie di...   \n3  500 Meter vom Papstlhof entfernt finden Sie di...   \n4                                                NaN   \n\n                                         picture_url    host_id  ...  \\\n0  https://a0.muscache.com/pictures/4e8f96f4-cbfc...  204428387  ...   \n1  https://a0.muscache.com/pictures/prohost-api/H...   21763382  ...   \n2  https://a0.muscache.com/pictures/b7343d0c-12aa...  250027698  ...   \n3  https://a0.muscache.com/pictures/b72fe4ed-1c86...  250027698  ...   \n4  https://a0.muscache.com/pictures/prohost-api/H...  131033815  ...   \n\n  review_scores_communication review_scores_location review_scores_value  \\\n0                         4.0                    2.0                 4.0   \n1                         NaN                    NaN                 NaN   \n2                         NaN                    NaN                 NaN   \n3                         NaN                    NaN                 NaN   \n4                         NaN                    NaN                 NaN   \n\n            license instant_bookable calculated_host_listings_count  \\\n0               NaN                t                              2   \n1               NaN                t                              1   \n2               NaN                f                              4   \n3               NaN                f                              4   \n4  017082-CIM-00014                t                             44   \n\n  calculated_host_listings_count_entire_homes  \\\n0                                           2   \n1                                           1   \n2                                           4   \n3                                           4   \n4                                          44   \n\n  calculated_host_listings_count_private_rooms  \\\n0                                            0   \n1                                            0   \n2                                            0   \n3                                            0   \n4                                            0   \n\n  calculated_host_listings_count_shared_rooms reviews_per_month  \n0                                           0              0.52  \n1                                           0               NaN  \n2                                           0               NaN  \n3                                           0               NaN  \n4                                           0               NaN  \n\n[5 rows x 75 columns]",
      "text/html": "<div>\n<style scoped>\n    .dataframe tbody tr th:only-of-type {\n        vertical-align: middle;\n    }\n\n    .dataframe tbody tr th {\n        vertical-align: top;\n    }\n\n    .dataframe thead th {\n        text-align: right;\n    }\n</style>\n<table border=\"1\" class=\"dataframe\">\n  <thead>\n    <tr style=\"text-align: right;\">\n      <th></th>\n      <th>id</th>\n      <th>listing_url</th>\n      <th>scrape_id</th>\n      <th>last_scraped</th>\n      <th>source</th>\n      <th>name</th>\n      <th>description</th>\n      <th>neighborhood_overview</th>\n      <th>picture_url</th>\n      <th>host_id</th>\n      <th>...</th>\n      <th>review_scores_communication</th>\n      <th>review_scores_location</th>\n      <th>review_scores_value</th>\n      <th>license</th>\n      <th>instant_bookable</th>\n      <th>calculated_host_listings_count</th>\n      <th>calculated_host_listings_count_entire_homes</th>\n      <th>calculated_host_listings_count_private_rooms</th>\n      <th>calculated_host_listings_count_shared_rooms</th>\n      <th>reviews_per_month</th>\n    </tr>\n  </thead>\n  <tbody>\n    <tr>\n      <th>0</th>\n      <td>4.440074e+07</td>\n      <td>https://www.airbnb.com/rooms/44400735</td>\n      <td>2.022090e+13</td>\n      <td>2022-09-29</td>\n      <td>city scrape</td>\n      <td>Dolce Nido Falcade</td>\n      <td>NaN</td>\n      <td>NaN</td>\n      <td>https://a0.muscache.com/pictures/4e8f96f4-cbfc...</td>\n      <td>204428387</td>\n      <td>...</td>\n      <td>4.0</td>\n      <td>2.0</td>\n      <td>4.0</td>\n      <td>NaN</td>\n      <td>t</td>\n      <td>2</td>\n      <td>2</td>\n      <td>0</td>\n      <td>0</td>\n      <td>0.52</td>\n    </tr>\n    <tr>\n      <th>1</th>\n      <td>7.019696e+17</td>\n      <td>https://www.airbnb.com/rooms/701969602670827249</td>\n      <td>2.022090e+13</td>\n      <td>2022-09-29</td>\n      <td>city scrape</td>\n      <td>Affittimoderni Ponte di Legno Ski - Pdl12</td>\n      <td>The &lt;b&gt;apartment in Ponte di Legno&lt;/b&gt; has 1 b...</td>\n      <td>NaN</td>\n      <td>https://a0.muscache.com/pictures/prohost-api/H...</td>\n      <td>21763382</td>\n      <td>...</td>\n      <td>NaN</td>\n      <td>NaN</td>\n      <td>NaN</td>\n      <td>NaN</td>\n      <td>t</td>\n      <td>1</td>\n      <td>1</td>\n      <td>0</td>\n      <td>0</td>\n      <td>NaN</td>\n    </tr>\n    <tr>\n      <th>2</th>\n      <td>3.438172e+07</td>\n      <td>https://www.airbnb.com/rooms/34381719</td>\n      <td>2.022090e+13</td>\n      <td>2022-09-29</td>\n      <td>city scrape</td>\n      <td>Ferienwohnung Papstlhof: Reinheit in Glas</td>\n      <td>Der Papstlhof liegt im schönen Weindorf Kalter...</td>\n      <td>500 Meter vom Papstlhof entfernt finden Sie di...</td>\n      <td>https://a0.muscache.com/pictures/b7343d0c-12aa...</td>\n      <td>250027698</td>\n      <td>...</td>\n      <td>NaN</td>\n      <td>NaN</td>\n      <td>NaN</td>\n      <td>NaN</td>\n      <td>f</td>\n      <td>4</td>\n      <td>4</td>\n      <td>0</td>\n      <td>0</td>\n      <td>NaN</td>\n    </tr>\n    <tr>\n      <th>3</th>\n      <td>3.320903e+07</td>\n      <td>https://www.airbnb.com/rooms/33209027</td>\n      <td>2.022090e+13</td>\n      <td>2022-09-29</td>\n      <td>city scrape</td>\n      <td>Feienwohnung Papstlhof: Balance in Weiss</td>\n      <td>Der Papstlhof liegt im schönen Weindorf Kalter...</td>\n      <td>500 Meter vom Papstlhof entfernt finden Sie di...</td>\n      <td>https://a0.muscache.com/pictures/b72fe4ed-1c86...</td>\n      <td>250027698</td>\n      <td>...</td>\n      <td>NaN</td>\n      <td>NaN</td>\n      <td>NaN</td>\n      <td>NaN</td>\n      <td>f</td>\n      <td>4</td>\n      <td>4</td>\n      <td>0</td>\n      <td>0</td>\n      <td>NaN</td>\n    </tr>\n    <tr>\n      <th>4</th>\n      <td>1.898866e+07</td>\n      <td>https://www.airbnb.com/rooms/18988656</td>\n      <td>2.022090e+13</td>\n      <td>2022-09-29</td>\n      <td>city scrape</td>\n      <td>Villa Vesta for 5 persons</td>\n      <td>Note: You can directly book the best price if ...</td>\n      <td>NaN</td>\n      <td>https://a0.muscache.com/pictures/prohost-api/H...</td>\n      <td>131033815</td>\n      <td>...</td>\n      <td>NaN</td>\n      <td>NaN</td>\n      <td>NaN</td>\n      <td>017082-CIM-00014</td>\n      <td>t</td>\n      <td>44</td>\n      <td>44</td>\n      <td>0</td>\n      <td>0</td>\n      <td>NaN</td>\n    </tr>\n  </tbody>\n</table>\n<p>5 rows × 75 columns</p>\n</div>"
     },
     "execution_count": 1,
     "metadata": {},
     "output_type": "execute_result"
    }
   ],
   "source": [
    "import pandas as pd\n",
    "\n",
    "listings_og = pd.read_csv('listings_og.csv')\n",
    "listings_og.head()"
   ]
  },
  {
   "cell_type": "code",
   "execution_count": 2,
   "outputs": [
    {
     "data": {
      "text/plain": "Index(['id', 'listing_url', 'scrape_id', 'last_scraped', 'source', 'name',\n       'description', 'neighborhood_overview', 'picture_url', 'host_id',\n       'host_url', 'host_name', 'host_since', 'host_location', 'host_about',\n       'host_response_time', 'host_response_rate', 'host_acceptance_rate',\n       'host_is_superhost', 'host_thumbnail_url', 'host_picture_url',\n       'host_neighbourhood', 'host_listings_count',\n       'host_total_listings_count', 'host_verifications',\n       'host_has_profile_pic', 'host_identity_verified', 'neighbourhood',\n       'neighbourhood_cleansed', 'neighbourhood_group_cleansed', 'latitude',\n       'longitude', 'property_type', 'room_type', 'accommodates', 'bathrooms',\n       'bathrooms_text', 'bedrooms', 'beds', 'amenities', 'price',\n       'minimum_nights', 'maximum_nights', 'minimum_minimum_nights',\n       'maximum_minimum_nights', 'minimum_maximum_nights',\n       'maximum_maximum_nights', 'minimum_nights_avg_ntm',\n       'maximum_nights_avg_ntm', 'calendar_updated', 'has_availability',\n       'availability_30', 'availability_60', 'availability_90',\n       'availability_365', 'calendar_last_scraped', 'number_of_reviews',\n       'number_of_reviews_ltm', 'number_of_reviews_l30d', 'first_review',\n       'last_review', 'review_scores_rating', 'review_scores_accuracy',\n       'review_scores_cleanliness', 'review_scores_checkin',\n       'review_scores_communication', 'review_scores_location',\n       'review_scores_value', 'license', 'instant_bookable',\n       'calculated_host_listings_count',\n       'calculated_host_listings_count_entire_homes',\n       'calculated_host_listings_count_private_rooms',\n       'calculated_host_listings_count_shared_rooms', 'reviews_per_month'],\n      dtype='object')"
     },
     "execution_count": 2,
     "metadata": {},
     "output_type": "execute_result"
    }
   ],
   "source": [
    "listings_og[['id', 'name', 'description', 'neighborhood_overview', 'picture_url', 'host_since', 'host_response_time', 'host_response_rate',\n",
    "             'host_acceptance_rate', 'host_is_superhost', 'host_listings_count', 'host_total_listings_count', 'host_verifications',\n",
    "             'host_identity_verified', 'neighbourhood_cleansed', 'latitude', 'longitude', 'property_type', 'room_type', 'accommodates', 'bathrooms',\n",
    "             'bathrooms_text', 'bedrooms', 'beds', 'amenities', 'price', 'minimum_nights', 'maximum_nights', 'has_availability', 'availability_30', 'availability_60', 'availability_90', 'availability_365', 'number_of_reviews', 'number_of_reviews_ltm', 'number_of_reviews_l30d',\n",
    "             'first_review',\n",
    "             \n",
    "             # Pick up here\n",
    "       'last_review', 'review_scores_rating', 'review_scores_accuracy',\n",
    "       'review_scores_cleanliness', 'review_scores_checkin',\n",
    "       'review_scores_communication', 'review_scores_location',\n",
    "       'review_scores_value', 'license', 'instant_bookable',\n",
    "       'calculated_host_listings_count',\n",
    "       'calculated_host_listings_count_entire_homes',\n",
    "       'calculated_host_listings_count_private_rooms',\n",
    "       'calculated_host_listings_count_shared_rooms', 'reviews_per_month']]"
   ],
   "metadata": {
    "collapsed": false,
    "pycharm": {
     "name": "#%%\n"
    }
   }
  },
  {
   "cell_type": "code",
   "execution_count": null,
   "outputs": [],
   "source": [],
   "metadata": {
    "collapsed": false,
    "pycharm": {
     "name": "#%%\n"
    }
   }
  }
 ],
 "metadata": {
  "kernelspec": {
   "display_name": "Python 3",
   "language": "python",
   "name": "python3"
  },
  "language_info": {
   "codemirror_mode": {
    "name": "ipython",
    "version": 2
   },
   "file_extension": ".py",
   "mimetype": "text/x-python",
   "name": "python",
   "nbconvert_exporter": "python",
   "pygments_lexer": "ipython2",
   "version": "2.7.6"
  }
 },
 "nbformat": 4,
 "nbformat_minor": 0
}