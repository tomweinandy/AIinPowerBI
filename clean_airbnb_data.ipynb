{
 "cells": [
  {
   "cell_type": "markdown",
   "source": [
    "# Clean the AirBnB data\n",
    "### Clean listings data"
   ],
   "metadata": {
    "collapsed": false
   }
  },
  {
   "cell_type": "code",
   "execution_count": 13,
   "metadata": {
    "collapsed": true
   },
   "outputs": [
    {
     "data": {
      "text/plain": "             id                                      listing_url  \\\n0  4.440074e+07            https://www.airbnb.com/rooms/44400735   \n1  7.019696e+17  https://www.airbnb.com/rooms/701969602670827249   \n2  3.438172e+07            https://www.airbnb.com/rooms/34381719   \n3  3.320903e+07            https://www.airbnb.com/rooms/33209027   \n4  1.898866e+07            https://www.airbnb.com/rooms/18988656   \n\n      scrape_id last_scraped       source  \\\n0  2.022090e+13   2022-09-29  city scrape   \n1  2.022090e+13   2022-09-29  city scrape   \n2  2.022090e+13   2022-09-29  city scrape   \n3  2.022090e+13   2022-09-29  city scrape   \n4  2.022090e+13   2022-09-29  city scrape   \n\n                                        name  \\\n0                         Dolce Nido Falcade   \n1  Affittimoderni Ponte di Legno Ski - Pdl12   \n2  Ferienwohnung Papstlhof: Reinheit in Glas   \n3   Feienwohnung Papstlhof: Balance in Weiss   \n4                  Villa Vesta for 5 persons   \n\n                                         description  \\\n0                                                NaN   \n1  The <b>apartment in Ponte di Legno</b> has 1 b...   \n2  Der Papstlhof liegt im schönen Weindorf Kalter...   \n3  Der Papstlhof liegt im schönen Weindorf Kalter...   \n4  Note: You can directly book the best price if ...   \n\n                               neighborhood_overview  \\\n0                                                NaN   \n1                                                NaN   \n2  500 Meter vom Papstlhof entfernt finden Sie di...   \n3  500 Meter vom Papstlhof entfernt finden Sie di...   \n4                                                NaN   \n\n                                         picture_url    host_id  ...  \\\n0  https://a0.muscache.com/pictures/4e8f96f4-cbfc...  204428387  ...   \n1  https://a0.muscache.com/pictures/prohost-api/H...   21763382  ...   \n2  https://a0.muscache.com/pictures/b7343d0c-12aa...  250027698  ...   \n3  https://a0.muscache.com/pictures/b72fe4ed-1c86...  250027698  ...   \n4  https://a0.muscache.com/pictures/prohost-api/H...  131033815  ...   \n\n  review_scores_communication review_scores_location review_scores_value  \\\n0                         4.0                    2.0                 4.0   \n1                         NaN                    NaN                 NaN   \n2                         NaN                    NaN                 NaN   \n3                         NaN                    NaN                 NaN   \n4                         NaN                    NaN                 NaN   \n\n            license instant_bookable calculated_host_listings_count  \\\n0               NaN                t                              2   \n1               NaN                t                              1   \n2               NaN                f                              4   \n3               NaN                f                              4   \n4  017082-CIM-00014                t                             44   \n\n  calculated_host_listings_count_entire_homes  \\\n0                                           2   \n1                                           1   \n2                                           4   \n3                                           4   \n4                                          44   \n\n  calculated_host_listings_count_private_rooms  \\\n0                                            0   \n1                                            0   \n2                                            0   \n3                                            0   \n4                                            0   \n\n  calculated_host_listings_count_shared_rooms reviews_per_month  \n0                                           0              0.52  \n1                                           0               NaN  \n2                                           0               NaN  \n3                                           0               NaN  \n4                                           0               NaN  \n\n[5 rows x 75 columns]",
      "text/html": "<div>\n<style scoped>\n    .dataframe tbody tr th:only-of-type {\n        vertical-align: middle;\n    }\n\n    .dataframe tbody tr th {\n        vertical-align: top;\n    }\n\n    .dataframe thead th {\n        text-align: right;\n    }\n</style>\n<table border=\"1\" class=\"dataframe\">\n  <thead>\n    <tr style=\"text-align: right;\">\n      <th></th>\n      <th>id</th>\n      <th>listing_url</th>\n      <th>scrape_id</th>\n      <th>last_scraped</th>\n      <th>source</th>\n      <th>name</th>\n      <th>description</th>\n      <th>neighborhood_overview</th>\n      <th>picture_url</th>\n      <th>host_id</th>\n      <th>...</th>\n      <th>review_scores_communication</th>\n      <th>review_scores_location</th>\n      <th>review_scores_value</th>\n      <th>license</th>\n      <th>instant_bookable</th>\n      <th>calculated_host_listings_count</th>\n      <th>calculated_host_listings_count_entire_homes</th>\n      <th>calculated_host_listings_count_private_rooms</th>\n      <th>calculated_host_listings_count_shared_rooms</th>\n      <th>reviews_per_month</th>\n    </tr>\n  </thead>\n  <tbody>\n    <tr>\n      <th>0</th>\n      <td>4.440074e+07</td>\n      <td>https://www.airbnb.com/rooms/44400735</td>\n      <td>2.022090e+13</td>\n      <td>2022-09-29</td>\n      <td>city scrape</td>\n      <td>Dolce Nido Falcade</td>\n      <td>NaN</td>\n      <td>NaN</td>\n      <td>https://a0.muscache.com/pictures/4e8f96f4-cbfc...</td>\n      <td>204428387</td>\n      <td>...</td>\n      <td>4.0</td>\n      <td>2.0</td>\n      <td>4.0</td>\n      <td>NaN</td>\n      <td>t</td>\n      <td>2</td>\n      <td>2</td>\n      <td>0</td>\n      <td>0</td>\n      <td>0.52</td>\n    </tr>\n    <tr>\n      <th>1</th>\n      <td>7.019696e+17</td>\n      <td>https://www.airbnb.com/rooms/701969602670827249</td>\n      <td>2.022090e+13</td>\n      <td>2022-09-29</td>\n      <td>city scrape</td>\n      <td>Affittimoderni Ponte di Legno Ski - Pdl12</td>\n      <td>The &lt;b&gt;apartment in Ponte di Legno&lt;/b&gt; has 1 b...</td>\n      <td>NaN</td>\n      <td>https://a0.muscache.com/pictures/prohost-api/H...</td>\n      <td>21763382</td>\n      <td>...</td>\n      <td>NaN</td>\n      <td>NaN</td>\n      <td>NaN</td>\n      <td>NaN</td>\n      <td>t</td>\n      <td>1</td>\n      <td>1</td>\n      <td>0</td>\n      <td>0</td>\n      <td>NaN</td>\n    </tr>\n    <tr>\n      <th>2</th>\n      <td>3.438172e+07</td>\n      <td>https://www.airbnb.com/rooms/34381719</td>\n      <td>2.022090e+13</td>\n      <td>2022-09-29</td>\n      <td>city scrape</td>\n      <td>Ferienwohnung Papstlhof: Reinheit in Glas</td>\n      <td>Der Papstlhof liegt im schönen Weindorf Kalter...</td>\n      <td>500 Meter vom Papstlhof entfernt finden Sie di...</td>\n      <td>https://a0.muscache.com/pictures/b7343d0c-12aa...</td>\n      <td>250027698</td>\n      <td>...</td>\n      <td>NaN</td>\n      <td>NaN</td>\n      <td>NaN</td>\n      <td>NaN</td>\n      <td>f</td>\n      <td>4</td>\n      <td>4</td>\n      <td>0</td>\n      <td>0</td>\n      <td>NaN</td>\n    </tr>\n    <tr>\n      <th>3</th>\n      <td>3.320903e+07</td>\n      <td>https://www.airbnb.com/rooms/33209027</td>\n      <td>2.022090e+13</td>\n      <td>2022-09-29</td>\n      <td>city scrape</td>\n      <td>Feienwohnung Papstlhof: Balance in Weiss</td>\n      <td>Der Papstlhof liegt im schönen Weindorf Kalter...</td>\n      <td>500 Meter vom Papstlhof entfernt finden Sie di...</td>\n      <td>https://a0.muscache.com/pictures/b72fe4ed-1c86...</td>\n      <td>250027698</td>\n      <td>...</td>\n      <td>NaN</td>\n      <td>NaN</td>\n      <td>NaN</td>\n      <td>NaN</td>\n      <td>f</td>\n      <td>4</td>\n      <td>4</td>\n      <td>0</td>\n      <td>0</td>\n      <td>NaN</td>\n    </tr>\n    <tr>\n      <th>4</th>\n      <td>1.898866e+07</td>\n      <td>https://www.airbnb.com/rooms/18988656</td>\n      <td>2.022090e+13</td>\n      <td>2022-09-29</td>\n      <td>city scrape</td>\n      <td>Villa Vesta for 5 persons</td>\n      <td>Note: You can directly book the best price if ...</td>\n      <td>NaN</td>\n      <td>https://a0.muscache.com/pictures/prohost-api/H...</td>\n      <td>131033815</td>\n      <td>...</td>\n      <td>NaN</td>\n      <td>NaN</td>\n      <td>NaN</td>\n      <td>017082-CIM-00014</td>\n      <td>t</td>\n      <td>44</td>\n      <td>44</td>\n      <td>0</td>\n      <td>0</td>\n      <td>NaN</td>\n    </tr>\n  </tbody>\n</table>\n<p>5 rows × 75 columns</p>\n</div>"
     },
     "execution_count": 13,
     "metadata": {},
     "output_type": "execute_result"
    }
   ],
   "source": [
    "import pandas as pd\n",
    "\n",
    "listings_og = pd.read_csv('listings_og.csv')\n",
    "listings_og.head()"
   ]
  },
  {
   "cell_type": "code",
   "execution_count": 27,
   "outputs": [
    {
     "data": {
      "text/plain": "    listing_id                                               name  \\\n0   42433599.0       Be & Being (Milena) - next to Sabbioni Beach   \n1   34200714.0                       Casa Carina 022251-AT-330714   \n2   53536257.0               026 Bilocale con caminetto, Giustino   \n3   21158645.0         Appartamento nel cuore della Val di Fiemme   \n4   30341842.0       Tonale -Vista mozzafiato a 300m da impianti.   \n..         ...                                                ...   \n95  13594109.0           Garda Lakeside B&B Casa Sandra Bertolini   \n96  14315038.0      Lago di Garda casa tipica in borgo medioevale   \n97  26556844.0  Mansarda StudioApartment in the center of Torbole   \n98  22547035.0                         Al Pescatore for 4 persons   \n99  49895994.0                     Appartamento Cascate di Varone   \n\n                                          description  \\\n0   Be & Being is a modern apartment located in a ...   \n1    Guest access A disposizione ce un ampio balco...   \n2   In the immediate vicinity of Pinzolo, in the r...   \n3   Appartamento molto caldo e confortevole a 2 pa...   \n4   Luminoso e grazioso bilocale d'angolo di 30m2 ...   \n..                                                ...   \n95  The highlights of Casa Sandra Bertolini are th...   \n96  Tradizionale casa in pietra e legno con impare...   \n97  The apartment is cozy \"Mansarda\" under the roo...   \n98  Note: You can directly book the best price if ...   \n99  Elisabetta beneficia di una posizione centrale...   \n\n                                          picture_url  host_since  \\\n0   https://a0.muscache.com/pictures/miso/Hosting-...  2020-02-20   \n1   https://a0.muscache.com/pictures/36f6b80b-0b1a...  2019-04-24   \n2   https://a0.muscache.com/pictures/prohost-api/H...  2016-10-04   \n3   https://a0.muscache.com/pictures/2cb0b950-62e3...  2017-04-01   \n4   https://a0.muscache.com/pictures/17885e5e-17fd...  2018-11-27   \n..                                                ...         ...   \n95  https://a0.muscache.com/pictures/ba3a36f9-e5ed...  2015-03-26   \n96  https://a0.muscache.com/pictures/076aa77a-14cb...  2015-09-15   \n97  https://a0.muscache.com/pictures/miso/Hosting-...  2013-05-06   \n98  https://a0.muscache.com/pictures/prohost-api/H...  2017-12-06   \n99  https://a0.muscache.com/pictures/5aa68fc2-6833...  2019-09-17   \n\n    host_response_time host_is_superhost  host_listings_count  \\\n0       within an hour                 t                  1.0   \n1       within an hour                 f                  3.0   \n2   within a few hours                 f                 54.0   \n3       within an hour                 f                  2.0   \n4       within an hour                 f                  1.0   \n..                 ...               ...                  ...   \n95  within a few hours                 t                  7.0   \n96      within an hour                 f                  1.0   \n97      within an hour                 f                  8.0   \n98      within an hour                 f                112.0   \n99      within an hour                 f                  9.0   \n\n   host_identity_verified        room_type  ...  availability_90  \\\n0                       t  Entire home/apt  ...               77   \n1                       t     Private room  ...                0   \n2                       t  Entire home/apt  ...               79   \n3                       t  Entire home/apt  ...               63   \n4                       f  Entire home/apt  ...               90   \n..                    ...              ...  ...              ...   \n95                      t     Private room  ...                0   \n96                      f  Entire home/apt  ...               18   \n97                      t  Entire home/apt  ...               30   \n98                      t  Entire home/apt  ...               15   \n99                      t  Entire home/apt  ...               90   \n\n   number_of_reviews  review_scores_rating  review_scores_accuracy  \\\n0                 31                  4.90                    4.90   \n1                 81                  4.63                    4.84   \n2                  1                  5.00                    5.00   \n3                 17                  4.41                    4.59   \n4                 54                  4.44                    4.43   \n..               ...                   ...                     ...   \n95                 7                  4.71                    4.86   \n96                 5                  5.00                    4.80   \n97                15                  4.80                    4.80   \n98                 4                  4.50                    4.50   \n99                 3                  4.00                    4.67   \n\n   review_scores_cleanliness review_scores_checkin  \\\n0                       4.90                  4.97   \n1                       4.91                  4.89   \n2                       5.00                  5.00   \n3                       4.47                  4.76   \n4                       4.57                  4.78   \n..                       ...                   ...   \n95                      4.86                  4.86   \n96                      4.80                  5.00   \n97                      4.73                  5.00   \n98                      4.75                  4.75   \n99                      4.33                  4.67   \n\n    review_scores_communication  review_scores_location  review_scores_value  \\\n0                          5.00                    4.97                 4.77   \n1                          4.84                    4.52                 4.65   \n2                          5.00                    3.00                 3.00   \n3                          4.71                    4.59                 4.59   \n4                          4.78                    4.67                 4.43   \n..                          ...                     ...                  ...   \n95                         4.86                    4.86                 4.86   \n96                         5.00                    5.00                 4.40   \n97                         4.93                    5.00                 4.73   \n98                         4.50                    5.00                 4.75   \n99                         4.67                    4.00                 3.67   \n\n    instant_bookable  \n0                  f  \n1                  t  \n2                  t  \n3                  t  \n4                  t  \n..               ...  \n95                 f  \n96                 t  \n97                 t  \n98                 t  \n99                 t  \n\n[100 rows x 26 columns]",
      "text/html": "<div>\n<style scoped>\n    .dataframe tbody tr th:only-of-type {\n        vertical-align: middle;\n    }\n\n    .dataframe tbody tr th {\n        vertical-align: top;\n    }\n\n    .dataframe thead th {\n        text-align: right;\n    }\n</style>\n<table border=\"1\" class=\"dataframe\">\n  <thead>\n    <tr style=\"text-align: right;\">\n      <th></th>\n      <th>listing_id</th>\n      <th>name</th>\n      <th>description</th>\n      <th>picture_url</th>\n      <th>host_since</th>\n      <th>host_response_time</th>\n      <th>host_is_superhost</th>\n      <th>host_listings_count</th>\n      <th>host_identity_verified</th>\n      <th>room_type</th>\n      <th>...</th>\n      <th>availability_90</th>\n      <th>number_of_reviews</th>\n      <th>review_scores_rating</th>\n      <th>review_scores_accuracy</th>\n      <th>review_scores_cleanliness</th>\n      <th>review_scores_checkin</th>\n      <th>review_scores_communication</th>\n      <th>review_scores_location</th>\n      <th>review_scores_value</th>\n      <th>instant_bookable</th>\n    </tr>\n  </thead>\n  <tbody>\n    <tr>\n      <th>0</th>\n      <td>42433599.0</td>\n      <td>Be &amp; Being (Milena) - next to Sabbioni Beach</td>\n      <td>Be &amp; Being is a modern apartment located in a ...</td>\n      <td>https://a0.muscache.com/pictures/miso/Hosting-...</td>\n      <td>2020-02-20</td>\n      <td>within an hour</td>\n      <td>t</td>\n      <td>1.0</td>\n      <td>t</td>\n      <td>Entire home/apt</td>\n      <td>...</td>\n      <td>77</td>\n      <td>31</td>\n      <td>4.90</td>\n      <td>4.90</td>\n      <td>4.90</td>\n      <td>4.97</td>\n      <td>5.00</td>\n      <td>4.97</td>\n      <td>4.77</td>\n      <td>f</td>\n    </tr>\n    <tr>\n      <th>1</th>\n      <td>34200714.0</td>\n      <td>Casa Carina 022251-AT-330714</td>\n      <td>Guest access A disposizione ce un ampio balco...</td>\n      <td>https://a0.muscache.com/pictures/36f6b80b-0b1a...</td>\n      <td>2019-04-24</td>\n      <td>within an hour</td>\n      <td>f</td>\n      <td>3.0</td>\n      <td>t</td>\n      <td>Private room</td>\n      <td>...</td>\n      <td>0</td>\n      <td>81</td>\n      <td>4.63</td>\n      <td>4.84</td>\n      <td>4.91</td>\n      <td>4.89</td>\n      <td>4.84</td>\n      <td>4.52</td>\n      <td>4.65</td>\n      <td>t</td>\n    </tr>\n    <tr>\n      <th>2</th>\n      <td>53536257.0</td>\n      <td>026 Bilocale con caminetto, Giustino</td>\n      <td>In the immediate vicinity of Pinzolo, in the r...</td>\n      <td>https://a0.muscache.com/pictures/prohost-api/H...</td>\n      <td>2016-10-04</td>\n      <td>within a few hours</td>\n      <td>f</td>\n      <td>54.0</td>\n      <td>t</td>\n      <td>Entire home/apt</td>\n      <td>...</td>\n      <td>79</td>\n      <td>1</td>\n      <td>5.00</td>\n      <td>5.00</td>\n      <td>5.00</td>\n      <td>5.00</td>\n      <td>5.00</td>\n      <td>3.00</td>\n      <td>3.00</td>\n      <td>t</td>\n    </tr>\n    <tr>\n      <th>3</th>\n      <td>21158645.0</td>\n      <td>Appartamento nel cuore della Val di Fiemme</td>\n      <td>Appartamento molto caldo e confortevole a 2 pa...</td>\n      <td>https://a0.muscache.com/pictures/2cb0b950-62e3...</td>\n      <td>2017-04-01</td>\n      <td>within an hour</td>\n      <td>f</td>\n      <td>2.0</td>\n      <td>t</td>\n      <td>Entire home/apt</td>\n      <td>...</td>\n      <td>63</td>\n      <td>17</td>\n      <td>4.41</td>\n      <td>4.59</td>\n      <td>4.47</td>\n      <td>4.76</td>\n      <td>4.71</td>\n      <td>4.59</td>\n      <td>4.59</td>\n      <td>t</td>\n    </tr>\n    <tr>\n      <th>4</th>\n      <td>30341842.0</td>\n      <td>Tonale -Vista mozzafiato a 300m da impianti.</td>\n      <td>Luminoso e grazioso bilocale d'angolo di 30m2 ...</td>\n      <td>https://a0.muscache.com/pictures/17885e5e-17fd...</td>\n      <td>2018-11-27</td>\n      <td>within an hour</td>\n      <td>f</td>\n      <td>1.0</td>\n      <td>f</td>\n      <td>Entire home/apt</td>\n      <td>...</td>\n      <td>90</td>\n      <td>54</td>\n      <td>4.44</td>\n      <td>4.43</td>\n      <td>4.57</td>\n      <td>4.78</td>\n      <td>4.78</td>\n      <td>4.67</td>\n      <td>4.43</td>\n      <td>t</td>\n    </tr>\n    <tr>\n      <th>...</th>\n      <td>...</td>\n      <td>...</td>\n      <td>...</td>\n      <td>...</td>\n      <td>...</td>\n      <td>...</td>\n      <td>...</td>\n      <td>...</td>\n      <td>...</td>\n      <td>...</td>\n      <td>...</td>\n      <td>...</td>\n      <td>...</td>\n      <td>...</td>\n      <td>...</td>\n      <td>...</td>\n      <td>...</td>\n      <td>...</td>\n      <td>...</td>\n      <td>...</td>\n      <td>...</td>\n    </tr>\n    <tr>\n      <th>95</th>\n      <td>13594109.0</td>\n      <td>Garda Lakeside B&amp;B Casa Sandra Bertolini</td>\n      <td>The highlights of Casa Sandra Bertolini are th...</td>\n      <td>https://a0.muscache.com/pictures/ba3a36f9-e5ed...</td>\n      <td>2015-03-26</td>\n      <td>within a few hours</td>\n      <td>t</td>\n      <td>7.0</td>\n      <td>t</td>\n      <td>Private room</td>\n      <td>...</td>\n      <td>0</td>\n      <td>7</td>\n      <td>4.71</td>\n      <td>4.86</td>\n      <td>4.86</td>\n      <td>4.86</td>\n      <td>4.86</td>\n      <td>4.86</td>\n      <td>4.86</td>\n      <td>f</td>\n    </tr>\n    <tr>\n      <th>96</th>\n      <td>14315038.0</td>\n      <td>Lago di Garda casa tipica in borgo medioevale</td>\n      <td>Tradizionale casa in pietra e legno con impare...</td>\n      <td>https://a0.muscache.com/pictures/076aa77a-14cb...</td>\n      <td>2015-09-15</td>\n      <td>within an hour</td>\n      <td>f</td>\n      <td>1.0</td>\n      <td>f</td>\n      <td>Entire home/apt</td>\n      <td>...</td>\n      <td>18</td>\n      <td>5</td>\n      <td>5.00</td>\n      <td>4.80</td>\n      <td>4.80</td>\n      <td>5.00</td>\n      <td>5.00</td>\n      <td>5.00</td>\n      <td>4.40</td>\n      <td>t</td>\n    </tr>\n    <tr>\n      <th>97</th>\n      <td>26556844.0</td>\n      <td>Mansarda StudioApartment in the center of Torbole</td>\n      <td>The apartment is cozy \"Mansarda\" under the roo...</td>\n      <td>https://a0.muscache.com/pictures/miso/Hosting-...</td>\n      <td>2013-05-06</td>\n      <td>within an hour</td>\n      <td>f</td>\n      <td>8.0</td>\n      <td>t</td>\n      <td>Entire home/apt</td>\n      <td>...</td>\n      <td>30</td>\n      <td>15</td>\n      <td>4.80</td>\n      <td>4.80</td>\n      <td>4.73</td>\n      <td>5.00</td>\n      <td>4.93</td>\n      <td>5.00</td>\n      <td>4.73</td>\n      <td>t</td>\n    </tr>\n    <tr>\n      <th>98</th>\n      <td>22547035.0</td>\n      <td>Al Pescatore for 4 persons</td>\n      <td>Note: You can directly book the best price if ...</td>\n      <td>https://a0.muscache.com/pictures/prohost-api/H...</td>\n      <td>2017-12-06</td>\n      <td>within an hour</td>\n      <td>f</td>\n      <td>112.0</td>\n      <td>t</td>\n      <td>Entire home/apt</td>\n      <td>...</td>\n      <td>15</td>\n      <td>4</td>\n      <td>4.50</td>\n      <td>4.50</td>\n      <td>4.75</td>\n      <td>4.75</td>\n      <td>4.50</td>\n      <td>5.00</td>\n      <td>4.75</td>\n      <td>t</td>\n    </tr>\n    <tr>\n      <th>99</th>\n      <td>49895994.0</td>\n      <td>Appartamento Cascate di Varone</td>\n      <td>Elisabetta beneficia di una posizione centrale...</td>\n      <td>https://a0.muscache.com/pictures/5aa68fc2-6833...</td>\n      <td>2019-09-17</td>\n      <td>within an hour</td>\n      <td>f</td>\n      <td>9.0</td>\n      <td>t</td>\n      <td>Entire home/apt</td>\n      <td>...</td>\n      <td>90</td>\n      <td>3</td>\n      <td>4.00</td>\n      <td>4.67</td>\n      <td>4.33</td>\n      <td>4.67</td>\n      <td>4.67</td>\n      <td>4.00</td>\n      <td>3.67</td>\n      <td>t</td>\n    </tr>\n  </tbody>\n</table>\n<p>100 rows × 26 columns</p>\n</div>"
     },
     "execution_count": 27,
     "metadata": {},
     "output_type": "execute_result"
    }
   ],
   "source": [
    "import re\n",
    "import numpy as np\n",
    "\n",
    "# Reduce to select columns\n",
    "listings = listings_og[['id', 'name', 'description', 'picture_url', 'host_since', 'host_response_time', 'host_is_superhost',\n",
    "             'host_listings_count', 'host_identity_verified', 'room_type', 'accommodates', 'bathrooms_text', 'bedrooms', 'beds', 'amenities', 'price', 'availability_90', 'number_of_reviews', 'review_scores_rating', 'review_scores_accuracy', 'review_scores_cleanliness', 'review_scores_checkin', 'review_scores_communication', 'review_scores_location', 'review_scores_value', 'instant_bookable']]\n",
    "listings = listings.rename(columns={'id':'listing_id'})\n",
    "\n",
    "# Clean up description\n",
    "cleaned_description_list = []\n",
    "for description in listings['description']:\n",
    "    if type(description) == type('str'):\n",
    "        cleaned_description = re.sub('<[^<]+?>', ' ', description)      # remove html\n",
    "        cleaned_description = cleaned_description.replace('\\n', ' ')    # remove linebreaks\n",
    "        cleaned_description = cleaned_description.replace('   ', ' ')   # remove extra space\n",
    "        cleaned_description = cleaned_description.replace('  ', ' ')    # remove extra space again\n",
    "    else:\n",
    "        cleaned_description = np.nan\n",
    "\n",
    "    cleaned_description_list.append(cleaned_description)\n",
    "\n",
    "# Save to dataframe\n",
    "listings['description'] = cleaned_description_list\n",
    "\n",
    "# Drop duplicates\n",
    "listings = listings.dropna()\n",
    "\n",
    "# Drop rows with the same description\n",
    "listings = listings.drop_duplicates(subset='description', keep='first')\n",
    "\n",
    "# Pare down to 100\n",
    "listings = listings.sample(n=100, random_state=24)\n",
    "listings = listings.reset_index(drop=True)\n",
    "listings"
   ],
   "metadata": {
    "collapsed": false,
    "pycharm": {
     "name": "#%%\n"
    }
   }
  },
  {
   "cell_type": "code",
   "execution_count": 28,
   "outputs": [],
   "source": [
    "# listings.to_csv('listings.csv')"
   ],
   "metadata": {
    "collapsed": false,
    "pycharm": {
     "name": "#%%\n"
    }
   }
  },
  {
   "cell_type": "markdown",
   "source": [
    "### Clean reviews data"
   ],
   "metadata": {
    "collapsed": false
   }
  },
  {
   "cell_type": "code",
   "execution_count": 16,
   "outputs": [
    {
     "data": {
      "text/plain": "   listing_id         id        date  reviewer_id   reviewer_name  \\\n0     37736.0   105252.0  2010-09-26       180558            Esha   \n1     37736.0   109090.0  2010-10-01       179520            Jack   \n2     37736.0   177407.0  2011-02-01       358799         Valerie   \n3     37736.0   688419.0  2011-11-02      1334818  Marius & Katha   \n4     37736.0   775479.0  2011-12-10       258681          Chiara   \n5     37736.0  1215740.0  2012-05-02       685271           Maria   \n6     37736.0  3034630.0  2012-12-06      3223988    Elmar & Tina   \n7     37736.0  3521812.0  2013-02-11      1574462         Mariana   \n8     37736.0  3555136.0  2013-02-16     13958507           Nenad   \n9     37736.0  3891917.0  2013-03-25      4928271             Tim   \n\n                                            comments  \n0  Lovely quaint place in the mountains. Huge, sp...  \n1  Expansively large apartment with lots of room ...  \n2  Adorable apartment, but watch your head on tho...  \n3  we had a beautiful stay at danieles house! Her...  \n4  a really wonderful house! the photos don't lie...  \n5  We loved this place and felt that we should ha...  \n6  Beautiful little appartment in the mountains c...  \n7  The apartment is new and very nice. The beds a...  \n8  Sehr schön und sehr sauber !!!! Toller Ausblic...  \n9  Die FeWo ist sehr hübsch eingerichtet, tolles ...  ",
      "text/html": "<div>\n<style scoped>\n    .dataframe tbody tr th:only-of-type {\n        vertical-align: middle;\n    }\n\n    .dataframe tbody tr th {\n        vertical-align: top;\n    }\n\n    .dataframe thead th {\n        text-align: right;\n    }\n</style>\n<table border=\"1\" class=\"dataframe\">\n  <thead>\n    <tr style=\"text-align: right;\">\n      <th></th>\n      <th>listing_id</th>\n      <th>id</th>\n      <th>date</th>\n      <th>reviewer_id</th>\n      <th>reviewer_name</th>\n      <th>comments</th>\n    </tr>\n  </thead>\n  <tbody>\n    <tr>\n      <th>0</th>\n      <td>37736.0</td>\n      <td>105252.0</td>\n      <td>2010-09-26</td>\n      <td>180558</td>\n      <td>Esha</td>\n      <td>Lovely quaint place in the mountains. Huge, sp...</td>\n    </tr>\n    <tr>\n      <th>1</th>\n      <td>37736.0</td>\n      <td>109090.0</td>\n      <td>2010-10-01</td>\n      <td>179520</td>\n      <td>Jack</td>\n      <td>Expansively large apartment with lots of room ...</td>\n    </tr>\n    <tr>\n      <th>2</th>\n      <td>37736.0</td>\n      <td>177407.0</td>\n      <td>2011-02-01</td>\n      <td>358799</td>\n      <td>Valerie</td>\n      <td>Adorable apartment, but watch your head on tho...</td>\n    </tr>\n    <tr>\n      <th>3</th>\n      <td>37736.0</td>\n      <td>688419.0</td>\n      <td>2011-11-02</td>\n      <td>1334818</td>\n      <td>Marius &amp; Katha</td>\n      <td>we had a beautiful stay at danieles house! Her...</td>\n    </tr>\n    <tr>\n      <th>4</th>\n      <td>37736.0</td>\n      <td>775479.0</td>\n      <td>2011-12-10</td>\n      <td>258681</td>\n      <td>Chiara</td>\n      <td>a really wonderful house! the photos don't lie...</td>\n    </tr>\n    <tr>\n      <th>5</th>\n      <td>37736.0</td>\n      <td>1215740.0</td>\n      <td>2012-05-02</td>\n      <td>685271</td>\n      <td>Maria</td>\n      <td>We loved this place and felt that we should ha...</td>\n    </tr>\n    <tr>\n      <th>6</th>\n      <td>37736.0</td>\n      <td>3034630.0</td>\n      <td>2012-12-06</td>\n      <td>3223988</td>\n      <td>Elmar &amp; Tina</td>\n      <td>Beautiful little appartment in the mountains c...</td>\n    </tr>\n    <tr>\n      <th>7</th>\n      <td>37736.0</td>\n      <td>3521812.0</td>\n      <td>2013-02-11</td>\n      <td>1574462</td>\n      <td>Mariana</td>\n      <td>The apartment is new and very nice. The beds a...</td>\n    </tr>\n    <tr>\n      <th>8</th>\n      <td>37736.0</td>\n      <td>3555136.0</td>\n      <td>2013-02-16</td>\n      <td>13958507</td>\n      <td>Nenad</td>\n      <td>Sehr schön und sehr sauber !!!! Toller Ausblic...</td>\n    </tr>\n    <tr>\n      <th>9</th>\n      <td>37736.0</td>\n      <td>3891917.0</td>\n      <td>2013-03-25</td>\n      <td>4928271</td>\n      <td>Tim</td>\n      <td>Die FeWo ist sehr hübsch eingerichtet, tolles ...</td>\n    </tr>\n  </tbody>\n</table>\n</div>"
     },
     "execution_count": 16,
     "metadata": {},
     "output_type": "execute_result"
    }
   ],
   "source": [
    "reviews_og = pd.read_csv('reviews_og.csv')\n",
    "reviews_og.head(10)"
   ],
   "metadata": {
    "collapsed": false,
    "pycharm": {
     "name": "#%%\n"
    }
   }
  },
  {
   "cell_type": "code",
   "execution_count": 17,
   "outputs": [
    {
     "data": {
      "text/plain": "          listing_id            id        date reviewer_name  \\\n96      1.854763e+06  3.628033e+07  2015-06-27    Alessandro   \n306     1.875390e+06  9.432904e+06  2013-12-28         Elisa   \n307     1.875390e+06  9.527083e+06  2014-01-01         Dario   \n308     1.875390e+06  9.793940e+06  2014-01-10        Alexey   \n309     1.875390e+06  1.033288e+07  2014-02-14          Andy   \n...              ...           ...         ...           ...   \n105858  6.664468e+17  7.084708e+17  2022-09-04      Vladimir   \n105938  6.695624e+17  6.882574e+17  2022-08-07         Angel   \n105974  6.897558e+17  6.939997e+17  2022-08-15        Gloria   \n105975  6.897558e+17  6.983271e+17  2022-08-21        Sandra   \n106072  6.752101e+17  6.997607e+17  2022-08-23      Maurizio   \n\n                                                 comments  \n96      Struttura a dir poco splendida, curata nei min...  \n306     I giorni trascorsi allo chalet sono stati perf...  \n307     Chalet perfetto per chi vuole stare tranquillo...  \n308     Paolo is a great host and the chalet is a fant...  \n309     We came to Malga Ciappela after 2metres of sno...  \n...                                                   ...  \n105858  Очень понравилось расположение, красивый вид. ...  \n105938  Posto molto bello e tranquillo, belle passeggi...  \n105974  La casa è davvero molto bella, fornita di tutt...  \n105975  bello e accogliente l'appartamento, Alessandra...  \n106072  Appartamento ok Molto cortese i propetari ok U...  \n\n[10488 rows x 5 columns]",
      "text/html": "<div>\n<style scoped>\n    .dataframe tbody tr th:only-of-type {\n        vertical-align: middle;\n    }\n\n    .dataframe tbody tr th {\n        vertical-align: top;\n    }\n\n    .dataframe thead th {\n        text-align: right;\n    }\n</style>\n<table border=\"1\" class=\"dataframe\">\n  <thead>\n    <tr style=\"text-align: right;\">\n      <th></th>\n      <th>listing_id</th>\n      <th>id</th>\n      <th>date</th>\n      <th>reviewer_name</th>\n      <th>comments</th>\n    </tr>\n  </thead>\n  <tbody>\n    <tr>\n      <th>96</th>\n      <td>1.854763e+06</td>\n      <td>3.628033e+07</td>\n      <td>2015-06-27</td>\n      <td>Alessandro</td>\n      <td>Struttura a dir poco splendida, curata nei min...</td>\n    </tr>\n    <tr>\n      <th>306</th>\n      <td>1.875390e+06</td>\n      <td>9.432904e+06</td>\n      <td>2013-12-28</td>\n      <td>Elisa</td>\n      <td>I giorni trascorsi allo chalet sono stati perf...</td>\n    </tr>\n    <tr>\n      <th>307</th>\n      <td>1.875390e+06</td>\n      <td>9.527083e+06</td>\n      <td>2014-01-01</td>\n      <td>Dario</td>\n      <td>Chalet perfetto per chi vuole stare tranquillo...</td>\n    </tr>\n    <tr>\n      <th>308</th>\n      <td>1.875390e+06</td>\n      <td>9.793940e+06</td>\n      <td>2014-01-10</td>\n      <td>Alexey</td>\n      <td>Paolo is a great host and the chalet is a fant...</td>\n    </tr>\n    <tr>\n      <th>309</th>\n      <td>1.875390e+06</td>\n      <td>1.033288e+07</td>\n      <td>2014-02-14</td>\n      <td>Andy</td>\n      <td>We came to Malga Ciappela after 2metres of sno...</td>\n    </tr>\n    <tr>\n      <th>...</th>\n      <td>...</td>\n      <td>...</td>\n      <td>...</td>\n      <td>...</td>\n      <td>...</td>\n    </tr>\n    <tr>\n      <th>105858</th>\n      <td>6.664468e+17</td>\n      <td>7.084708e+17</td>\n      <td>2022-09-04</td>\n      <td>Vladimir</td>\n      <td>Очень понравилось расположение, красивый вид. ...</td>\n    </tr>\n    <tr>\n      <th>105938</th>\n      <td>6.695624e+17</td>\n      <td>6.882574e+17</td>\n      <td>2022-08-07</td>\n      <td>Angel</td>\n      <td>Posto molto bello e tranquillo, belle passeggi...</td>\n    </tr>\n    <tr>\n      <th>105974</th>\n      <td>6.897558e+17</td>\n      <td>6.939997e+17</td>\n      <td>2022-08-15</td>\n      <td>Gloria</td>\n      <td>La casa è davvero molto bella, fornita di tutt...</td>\n    </tr>\n    <tr>\n      <th>105975</th>\n      <td>6.897558e+17</td>\n      <td>6.983271e+17</td>\n      <td>2022-08-21</td>\n      <td>Sandra</td>\n      <td>bello e accogliente l'appartamento, Alessandra...</td>\n    </tr>\n    <tr>\n      <th>106072</th>\n      <td>6.752101e+17</td>\n      <td>6.997607e+17</td>\n      <td>2022-08-23</td>\n      <td>Maurizio</td>\n      <td>Appartamento ok Molto cortese i propetari ok U...</td>\n    </tr>\n  </tbody>\n</table>\n<p>10488 rows × 5 columns</p>\n</div>"
     },
     "execution_count": 17,
     "metadata": {},
     "output_type": "execute_result"
    }
   ],
   "source": [
    "reviews = reviews_og.copy()\n",
    "reviews = reviews.drop(columns='reviewer_id')\n",
    "\n",
    "# Exclude reviews not in the listings dataframe\n",
    "reviews = reviews[reviews['listing_id'].isin(listings['listing_id'])]\n",
    "\n",
    "# Clean up comments\n",
    "cleaned_comments_list = []\n",
    "for comment in reviews['comments']:\n",
    "    if type(comment) == type('str') and len(comment)>0:\n",
    "        cleaned_comment = re.sub('<[^<]+?>', ' ', comment)      # remove html\n",
    "        cleaned_comment = cleaned_comment.replace('\\n', ' ')    # remove linebreaks\n",
    "        cleaned_comment = cleaned_comment.replace('   ', ' ')   # remove extra space\n",
    "        cleaned_comment = cleaned_comment.replace('  ', ' ')    # remove extra space again\n",
    "    else:\n",
    "        cleaned_comment = np.nan\n",
    "\n",
    "    cleaned_comments_list.append(cleaned_comment)\n",
    "\n",
    "# Save to dataframe\n",
    "reviews['comments'] = cleaned_comments_list\n",
    "\n",
    "# Drop duplicates\n",
    "reviews = reviews.dropna()\n",
    "\n",
    "# Drop rows with the same description\n",
    "reviews = reviews.drop_duplicates(subset='comments', keep='first')\n",
    "\n",
    "# Keep only first name in reviewer_name\n",
    "review_first_name_list = []\n",
    "for name in reviews['reviewer_name']:\n",
    "    first_name = name.split()[0]\n",
    "    review_first_name_list.append(first_name)\n",
    "reviews['reviewer_name'] = review_first_name_list\n",
    "\n",
    "reviews"
   ],
   "metadata": {
    "collapsed": false,
    "pycharm": {
     "name": "#%%\n"
    }
   }
  },
  {
   "cell_type": "code",
   "execution_count": 17,
   "outputs": [],
   "source": [],
   "metadata": {
    "collapsed": false,
    "pycharm": {
     "name": "#%%\n"
    }
   }
  },
  {
   "cell_type": "code",
   "execution_count": 18,
   "outputs": [],
   "source": [
    "# reviews.to_csv('reviews.csv')"
   ],
   "metadata": {
    "collapsed": false,
    "pycharm": {
     "name": "#%%\n"
    }
   }
  },
  {
   "cell_type": "markdown",
   "source": [
    "### Find individual example"
   ],
   "metadata": {
    "collapsed": false
   }
  },
  {
   "cell_type": "code",
   "execution_count": 19,
   "outputs": [
    {
     "data": {
      "text/plain": "               id  date  reviewer_name  comments\nlisting_id                                      \n6.937576e+06  364   364            364       364\n2.054723e+06  315   315            315       315\n3.194015e+06  268   268            268       268\n1.025536e+06  168   168            168       168\n1.399423e+07  166   166            166       166\n...           ...   ...            ...       ...\n4.730395e+07    1     1              1         1\n5.753042e+17    1     1              1         1\n3.127352e+07    1     1              1         1\n5.786564e+17    1     1              1         1\n3.300071e+07    1     1              1         1\n\n[500 rows x 4 columns]",
      "text/html": "<div>\n<style scoped>\n    .dataframe tbody tr th:only-of-type {\n        vertical-align: middle;\n    }\n\n    .dataframe tbody tr th {\n        vertical-align: top;\n    }\n\n    .dataframe thead th {\n        text-align: right;\n    }\n</style>\n<table border=\"1\" class=\"dataframe\">\n  <thead>\n    <tr style=\"text-align: right;\">\n      <th></th>\n      <th>id</th>\n      <th>date</th>\n      <th>reviewer_name</th>\n      <th>comments</th>\n    </tr>\n    <tr>\n      <th>listing_id</th>\n      <th></th>\n      <th></th>\n      <th></th>\n      <th></th>\n    </tr>\n  </thead>\n  <tbody>\n    <tr>\n      <th>6.937576e+06</th>\n      <td>364</td>\n      <td>364</td>\n      <td>364</td>\n      <td>364</td>\n    </tr>\n    <tr>\n      <th>2.054723e+06</th>\n      <td>315</td>\n      <td>315</td>\n      <td>315</td>\n      <td>315</td>\n    </tr>\n    <tr>\n      <th>3.194015e+06</th>\n      <td>268</td>\n      <td>268</td>\n      <td>268</td>\n      <td>268</td>\n    </tr>\n    <tr>\n      <th>1.025536e+06</th>\n      <td>168</td>\n      <td>168</td>\n      <td>168</td>\n      <td>168</td>\n    </tr>\n    <tr>\n      <th>1.399423e+07</th>\n      <td>166</td>\n      <td>166</td>\n      <td>166</td>\n      <td>166</td>\n    </tr>\n    <tr>\n      <th>...</th>\n      <td>...</td>\n      <td>...</td>\n      <td>...</td>\n      <td>...</td>\n    </tr>\n    <tr>\n      <th>4.730395e+07</th>\n      <td>1</td>\n      <td>1</td>\n      <td>1</td>\n      <td>1</td>\n    </tr>\n    <tr>\n      <th>5.753042e+17</th>\n      <td>1</td>\n      <td>1</td>\n      <td>1</td>\n      <td>1</td>\n    </tr>\n    <tr>\n      <th>3.127352e+07</th>\n      <td>1</td>\n      <td>1</td>\n      <td>1</td>\n      <td>1</td>\n    </tr>\n    <tr>\n      <th>5.786564e+17</th>\n      <td>1</td>\n      <td>1</td>\n      <td>1</td>\n      <td>1</td>\n    </tr>\n    <tr>\n      <th>3.300071e+07</th>\n      <td>1</td>\n      <td>1</td>\n      <td>1</td>\n      <td>1</td>\n    </tr>\n  </tbody>\n</table>\n<p>500 rows × 4 columns</p>\n</div>"
     },
     "execution_count": 19,
     "metadata": {},
     "output_type": "execute_result"
    }
   ],
   "source": [
    "# Which listing has the most reviews?\n",
    "reviews.groupby('listing_id').count().sort_values('id', ascending=False)"
   ],
   "metadata": {
    "collapsed": false,
    "pycharm": {
     "name": "#%%\n"
    }
   }
  },
  {
   "cell_type": "code",
   "execution_count": 20,
   "outputs": [
    {
     "data": {
      "text/plain": "      listing_id            id        date reviewer_name  \\\n1310   2054723.0  1.154160e+07  2014-04-07       Gorazio   \n1316   2054723.0  1.200749e+07  2014-04-21        Sigrid   \n1327   2054723.0  1.214647e+07  2014-04-24        Mareen   \n1328   2054723.0  1.228703e+07  2014-04-28          Luís   \n1329   2054723.0  1.235246e+07  2014-04-29         Artem   \n...          ...           ...         ...           ...   \n1744   2054723.0  7.055587e+17  2022-08-31         Silke   \n1745   2054723.0  7.157552e+17  2022-09-14        Sandra   \n1746   2054723.0  7.208100e+17  2022-09-21       Henryka   \n1747   2054723.0  7.237143e+17  2022-09-25       Kristin   \n1748   2054723.0  7.252069e+17  2022-09-27        Fabian   \n\n                                               comments  \n1310  Хочу поблагодарить Роберто и всю его семью на ...  \n1316  Sehr großzügige und neue Wohnung mit großer Te...  \n1327  Roberto is a great hosts. He was always availa...  \n1328  Perfezione è la parola che esprime l'appartame...  \n1329  The apartments are wonderful, comfortable, cle...  \n...                                                 ...  \n1744  What a beautifull place, especially the view! ...  \n1745  Wir hatten eine schöne Zeit auf der tollen Ter...  \n1746         Wieder einmal alles perfekt! Danke Roberto  \n1747  Alles super! Kommunikation und Check in und ou...  \n1748  Die Wohnung ist super gemütlich, sauber und sc...  \n\n[315 rows x 5 columns]",
      "text/html": "<div>\n<style scoped>\n    .dataframe tbody tr th:only-of-type {\n        vertical-align: middle;\n    }\n\n    .dataframe tbody tr th {\n        vertical-align: top;\n    }\n\n    .dataframe thead th {\n        text-align: right;\n    }\n</style>\n<table border=\"1\" class=\"dataframe\">\n  <thead>\n    <tr style=\"text-align: right;\">\n      <th></th>\n      <th>listing_id</th>\n      <th>id</th>\n      <th>date</th>\n      <th>reviewer_name</th>\n      <th>comments</th>\n    </tr>\n  </thead>\n  <tbody>\n    <tr>\n      <th>1310</th>\n      <td>2054723.0</td>\n      <td>1.154160e+07</td>\n      <td>2014-04-07</td>\n      <td>Gorazio</td>\n      <td>Хочу поблагодарить Роберто и всю его семью на ...</td>\n    </tr>\n    <tr>\n      <th>1316</th>\n      <td>2054723.0</td>\n      <td>1.200749e+07</td>\n      <td>2014-04-21</td>\n      <td>Sigrid</td>\n      <td>Sehr großzügige und neue Wohnung mit großer Te...</td>\n    </tr>\n    <tr>\n      <th>1327</th>\n      <td>2054723.0</td>\n      <td>1.214647e+07</td>\n      <td>2014-04-24</td>\n      <td>Mareen</td>\n      <td>Roberto is a great hosts. He was always availa...</td>\n    </tr>\n    <tr>\n      <th>1328</th>\n      <td>2054723.0</td>\n      <td>1.228703e+07</td>\n      <td>2014-04-28</td>\n      <td>Luís</td>\n      <td>Perfezione è la parola che esprime l'appartame...</td>\n    </tr>\n    <tr>\n      <th>1329</th>\n      <td>2054723.0</td>\n      <td>1.235246e+07</td>\n      <td>2014-04-29</td>\n      <td>Artem</td>\n      <td>The apartments are wonderful, comfortable, cle...</td>\n    </tr>\n    <tr>\n      <th>...</th>\n      <td>...</td>\n      <td>...</td>\n      <td>...</td>\n      <td>...</td>\n      <td>...</td>\n    </tr>\n    <tr>\n      <th>1744</th>\n      <td>2054723.0</td>\n      <td>7.055587e+17</td>\n      <td>2022-08-31</td>\n      <td>Silke</td>\n      <td>What a beautifull place, especially the view! ...</td>\n    </tr>\n    <tr>\n      <th>1745</th>\n      <td>2054723.0</td>\n      <td>7.157552e+17</td>\n      <td>2022-09-14</td>\n      <td>Sandra</td>\n      <td>Wir hatten eine schöne Zeit auf der tollen Ter...</td>\n    </tr>\n    <tr>\n      <th>1746</th>\n      <td>2054723.0</td>\n      <td>7.208100e+17</td>\n      <td>2022-09-21</td>\n      <td>Henryka</td>\n      <td>Wieder einmal alles perfekt! Danke Roberto</td>\n    </tr>\n    <tr>\n      <th>1747</th>\n      <td>2054723.0</td>\n      <td>7.237143e+17</td>\n      <td>2022-09-25</td>\n      <td>Kristin</td>\n      <td>Alles super! Kommunikation und Check in und ou...</td>\n    </tr>\n    <tr>\n      <th>1748</th>\n      <td>2054723.0</td>\n      <td>7.252069e+17</td>\n      <td>2022-09-27</td>\n      <td>Fabian</td>\n      <td>Die Wohnung ist super gemütlich, sauber und sc...</td>\n    </tr>\n  </tbody>\n</table>\n<p>315 rows × 5 columns</p>\n</div>"
     },
     "execution_count": 20,
     "metadata": {},
     "output_type": "execute_result"
    }
   ],
   "source": [
    "reviews[reviews['listing_id']==19500580]\n",
    "reviews[reviews['listing_id']==9191785]\n",
    "# reviews[reviews['listing_id']==6937576].to_csv('sample1.csv')\n",
    "# reviews[reviews['listing_id']==2054723].to_csv('sample2.csv')\n",
    "reviews[reviews['listing_id']==2054723]"
   ],
   "metadata": {
    "collapsed": false,
    "pycharm": {
     "name": "#%%\n"
    }
   }
  },
  {
   "cell_type": "code",
   "execution_count": 21,
   "outputs": [
    {
     "data": {
      "text/plain": "           Date     Name                                            Reviews\n0    2022-09-27   Fabian  Die Wohnung ist super gemütlich, sauber und sc...\n1    2022-09-25  Kristin  Alles super! Kommunikation und Check in und ou...\n2    2022-09-21  Henryka         Wieder einmal alles perfekt! Danke Roberto\n3    2022-09-14   Sandra  Wir hatten eine schöne Zeit auf der tollen Ter...\n4    2022-08-31    Silke  What a beautifull place, especially the view! ...\n..          ...      ...                                                ...\n309  2014-04-29    Artem  The apartments are wonderful, comfortable, cle...\n310  2014-04-28     Luís  Perfezione è la parola che esprime l'appartame...\n311  2014-04-24   Mareen  Roberto is a great hosts. He was always availa...\n312  2014-04-21   Sigrid  Sehr großzügige und neue Wohnung mit großer Te...\n313  2014-04-07  Gorazio  Хочу поблагодарить Роберто и всю его семью на ...\n\n[314 rows x 3 columns]",
      "text/html": "<div>\n<style scoped>\n    .dataframe tbody tr th:only-of-type {\n        vertical-align: middle;\n    }\n\n    .dataframe tbody tr th {\n        vertical-align: top;\n    }\n\n    .dataframe thead th {\n        text-align: right;\n    }\n</style>\n<table border=\"1\" class=\"dataframe\">\n  <thead>\n    <tr style=\"text-align: right;\">\n      <th></th>\n      <th>Date</th>\n      <th>Name</th>\n      <th>Reviews</th>\n    </tr>\n  </thead>\n  <tbody>\n    <tr>\n      <th>0</th>\n      <td>2022-09-27</td>\n      <td>Fabian</td>\n      <td>Die Wohnung ist super gemütlich, sauber und sc...</td>\n    </tr>\n    <tr>\n      <th>1</th>\n      <td>2022-09-25</td>\n      <td>Kristin</td>\n      <td>Alles super! Kommunikation und Check in und ou...</td>\n    </tr>\n    <tr>\n      <th>2</th>\n      <td>2022-09-21</td>\n      <td>Henryka</td>\n      <td>Wieder einmal alles perfekt! Danke Roberto</td>\n    </tr>\n    <tr>\n      <th>3</th>\n      <td>2022-09-14</td>\n      <td>Sandra</td>\n      <td>Wir hatten eine schöne Zeit auf der tollen Ter...</td>\n    </tr>\n    <tr>\n      <th>4</th>\n      <td>2022-08-31</td>\n      <td>Silke</td>\n      <td>What a beautifull place, especially the view! ...</td>\n    </tr>\n    <tr>\n      <th>...</th>\n      <td>...</td>\n      <td>...</td>\n      <td>...</td>\n    </tr>\n    <tr>\n      <th>309</th>\n      <td>2014-04-29</td>\n      <td>Artem</td>\n      <td>The apartments are wonderful, comfortable, cle...</td>\n    </tr>\n    <tr>\n      <th>310</th>\n      <td>2014-04-28</td>\n      <td>Luís</td>\n      <td>Perfezione è la parola che esprime l'appartame...</td>\n    </tr>\n    <tr>\n      <th>311</th>\n      <td>2014-04-24</td>\n      <td>Mareen</td>\n      <td>Roberto is a great hosts. He was always availa...</td>\n    </tr>\n    <tr>\n      <th>312</th>\n      <td>2014-04-21</td>\n      <td>Sigrid</td>\n      <td>Sehr großzügige und neue Wohnung mit großer Te...</td>\n    </tr>\n    <tr>\n      <th>313</th>\n      <td>2014-04-07</td>\n      <td>Gorazio</td>\n      <td>Хочу поблагодарить Роберто и всю его семью на ...</td>\n    </tr>\n  </tbody>\n</table>\n<p>314 rows × 3 columns</p>\n</div>"
     },
     "execution_count": 21,
     "metadata": {},
     "output_type": "execute_result"
    }
   ],
   "source": [
    "# Select reviews from a single listing\n",
    "df = reviews[reviews['listing_id']==2054723]\n",
    "\n",
    "# Remove Czech review (won't work with text analytics)\n",
    "df = df[df['reviewer_name'] != 'Zuzana']\n",
    "\n",
    "# Remove unnecessary columns, format\n",
    "df = df[['date', 'reviewer_name', 'comments']]\n",
    "df = df.rename(columns={'date':'Date', 'reviewer_name': 'Name', 'comments':'Reviews'})\n",
    "df = df.sort_values(by='Date', ascending=False)\n",
    "df = df.reset_index(drop=True)\n",
    "\n",
    "# Save and display results\n",
    "df.to_csv('TrentinoReviews.csv')\n",
    "df"
   ],
   "metadata": {
    "collapsed": false,
    "pycharm": {
     "name": "#%%\n"
    }
   }
  },
  {
   "cell_type": "code",
   "execution_count": 22,
   "outputs": [
    {
     "data": {
      "text/plain": "    listing_id                              name  \\\n31   2054723.0  Lake Garda, wide terrace and sun   \n\n                                          description  \\\n31  Placed in a very sunny, quite and nice area cl...   \n\n                                          picture_url  host_since  \\\n31  https://a0.muscache.com/pictures/49170274-d1be...  2013-12-09   \n\n   host_response_time host_response_rate host_acceptance_rate  \\\n31     within an hour               100%                 100%   \n\n   host_is_superhost  host_listings_count  ...  number_of_reviews_ltm  \\\n31                 t                  2.0  ...                     32   \n\n   number_of_reviews_l30d review_scores_rating  review_scores_accuracy  \\\n31                      5                 4.95                    4.98   \n\n    review_scores_cleanliness review_scores_checkin  \\\n31                       4.97                  4.98   \n\n   review_scores_communication  review_scores_location review_scores_value  \\\n31                        4.97                    4.77                4.93   \n\n    instant_bookable  \n31                 t  \n\n[1 rows x 41 columns]",
      "text/html": "<div>\n<style scoped>\n    .dataframe tbody tr th:only-of-type {\n        vertical-align: middle;\n    }\n\n    .dataframe tbody tr th {\n        vertical-align: top;\n    }\n\n    .dataframe thead th {\n        text-align: right;\n    }\n</style>\n<table border=\"1\" class=\"dataframe\">\n  <thead>\n    <tr style=\"text-align: right;\">\n      <th></th>\n      <th>listing_id</th>\n      <th>name</th>\n      <th>description</th>\n      <th>picture_url</th>\n      <th>host_since</th>\n      <th>host_response_time</th>\n      <th>host_response_rate</th>\n      <th>host_acceptance_rate</th>\n      <th>host_is_superhost</th>\n      <th>host_listings_count</th>\n      <th>...</th>\n      <th>number_of_reviews_ltm</th>\n      <th>number_of_reviews_l30d</th>\n      <th>review_scores_rating</th>\n      <th>review_scores_accuracy</th>\n      <th>review_scores_cleanliness</th>\n      <th>review_scores_checkin</th>\n      <th>review_scores_communication</th>\n      <th>review_scores_location</th>\n      <th>review_scores_value</th>\n      <th>instant_bookable</th>\n    </tr>\n  </thead>\n  <tbody>\n    <tr>\n      <th>31</th>\n      <td>2054723.0</td>\n      <td>Lake Garda, wide terrace and sun</td>\n      <td>Placed in a very sunny, quite and nice area cl...</td>\n      <td>https://a0.muscache.com/pictures/49170274-d1be...</td>\n      <td>2013-12-09</td>\n      <td>within an hour</td>\n      <td>100%</td>\n      <td>100%</td>\n      <td>t</td>\n      <td>2.0</td>\n      <td>...</td>\n      <td>32</td>\n      <td>5</td>\n      <td>4.95</td>\n      <td>4.98</td>\n      <td>4.97</td>\n      <td>4.98</td>\n      <td>4.97</td>\n      <td>4.77</td>\n      <td>4.93</td>\n      <td>t</td>\n    </tr>\n  </tbody>\n</table>\n<p>1 rows × 41 columns</p>\n</div>"
     },
     "execution_count": 22,
     "metadata": {},
     "output_type": "execute_result"
    }
   ],
   "source": [
    "listings[listings['listing_id']==19500580]\n",
    "listings[listings['listing_id']==9191785]\n",
    "# listings[listings['listing_id']==6937576]\n",
    "listings[listings['listing_id']==2054723]"
   ],
   "metadata": {
    "collapsed": false,
    "pycharm": {
     "name": "#%%\n"
    }
   }
  },
  {
   "cell_type": "code",
   "execution_count": 22,
   "outputs": [],
   "source": [],
   "metadata": {
    "collapsed": false,
    "pycharm": {
     "name": "#%%\n"
    }
   }
  }
 ],
 "metadata": {
  "kernelspec": {
   "display_name": "Python 3",
   "language": "python",
   "name": "python3"
  },
  "language_info": {
   "codemirror_mode": {
    "name": "ipython",
    "version": 2
   },
   "file_extension": ".py",
   "mimetype": "text/x-python",
   "name": "python",
   "nbconvert_exporter": "python",
   "pygments_lexer": "ipython2",
   "version": "2.7.6"
  }
 },
 "nbformat": 4,
 "nbformat_minor": 0
}