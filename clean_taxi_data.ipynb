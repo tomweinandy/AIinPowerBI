{
 "cells": [
  {
   "cell_type": "markdown",
   "source": [
    "https://www.nyc.gov/site/tlc/about/tlc-trip-record-data.page\n",
    "\n",
    "[Data dictionary](https://www.nyc.gov/assets/tlc/downloads/pdf/data_dictionary_trip_records_yellow.pdf)"
   ],
   "metadata": {
    "collapsed": false
   }
  },
  {
   "cell_type": "code",
   "execution_count": 55,
   "metadata": {
    "collapsed": true
   },
   "outputs": [],
   "source": [
    "import pandas as pd\n",
    "import numpy as np\n",
    "import pyarrow\n",
    "# import fastparquet\n",
    "\n",
    "url = \"https://d37ci6vzurychx.cloudfront.net/trip-data/yellow_tripdata_2023-01.parquet\"\n",
    "# url3 = \"https://d37ci6vzurychx.cloudfront.net/trip-data/yellow_tripdata_2022-12.parquet\"\n",
    "df2 = pd.read_parquet(url)\n",
    "# df3 = pd.read_parquet(url)"
   ]
  },
  {
   "cell_type": "code",
   "execution_count": 56,
   "outputs": [
    {
     "data": {
      "text/plain": "         VendorID tpep_pickup_datetime tpep_dropoff_datetime  passenger_count  \\\n0               2  2023-01-01 00:32:10   2023-01-01 00:40:36              1.0   \n1               2  2023-01-01 00:55:08   2023-01-01 01:01:27              1.0   \n2               2  2023-01-01 00:25:04   2023-01-01 00:37:49              1.0   \n3               1  2023-01-01 00:03:48   2023-01-01 00:13:25              0.0   \n4               2  2023-01-01 00:10:29   2023-01-01 00:21:19              1.0   \n...           ...                  ...                   ...              ...   \n3066761         2  2023-01-31 23:58:34   2023-02-01 00:12:33              NaN   \n3066762         2  2023-01-31 23:31:09   2023-01-31 23:50:36              NaN   \n3066763         2  2023-01-31 23:01:05   2023-01-31 23:25:36              NaN   \n3066764         2  2023-01-31 23:40:00   2023-01-31 23:53:00              NaN   \n3066765         2  2023-01-31 23:07:32   2023-01-31 23:21:56              NaN   \n\n         trip_distance  RatecodeID store_and_fwd_flag  PULocationID  \\\n0                 0.97         1.0                  N           161   \n1                 1.10         1.0                  N            43   \n2                 2.51         1.0                  N            48   \n3                 1.90         1.0                  N           138   \n4                 1.43         1.0                  N           107   \n...                ...         ...                ...           ...   \n3066761           3.05         NaN               None           107   \n3066762           5.80         NaN               None           112   \n3066763           4.67         NaN               None           114   \n3066764           3.15         NaN               None           230   \n3066765           2.85         NaN               None           262   \n\n         DOLocationID  payment_type  fare_amount  extra  mta_tax  tip_amount  \\\n0                 141             2         9.30   1.00      0.5        0.00   \n1                 237             1         7.90   1.00      0.5        4.00   \n2                 238             1        14.90   1.00      0.5       15.00   \n3                   7             1        12.10   7.25      0.5        0.00   \n4                  79             1        11.40   1.00      0.5        3.28   \n...               ...           ...          ...    ...      ...         ...   \n3066761            48             0        15.80   0.00      0.5        3.96   \n3066762            75             0        22.43   0.00      0.5        2.64   \n3066763           239             0        17.61   0.00      0.5        5.32   \n3066764            79             0        18.15   0.00      0.5        4.43   \n3066765           143             0        15.97   0.00      0.5        2.00   \n\n         tolls_amount  improvement_surcharge  total_amount  \\\n0                 0.0                    1.0         14.30   \n1                 0.0                    1.0         16.90   \n2                 0.0                    1.0         34.90   \n3                 0.0                    1.0         20.85   \n4                 0.0                    1.0         19.68   \n...               ...                    ...           ...   \n3066761           0.0                    1.0         23.76   \n3066762           0.0                    1.0         29.07   \n3066763           0.0                    1.0         26.93   \n3066764           0.0                    1.0         26.58   \n3066765           0.0                    1.0         21.97   \n\n         congestion_surcharge  airport_fee  \n0                         2.5         0.00  \n1                         2.5         0.00  \n2                         2.5         0.00  \n3                         0.0         1.25  \n4                         2.5         0.00  \n...                       ...          ...  \n3066761                   NaN          NaN  \n3066762                   NaN          NaN  \n3066763                   NaN          NaN  \n3066764                   NaN          NaN  \n3066765                   NaN          NaN  \n\n[3066766 rows x 19 columns]",
      "text/html": "<div>\n<style scoped>\n    .dataframe tbody tr th:only-of-type {\n        vertical-align: middle;\n    }\n\n    .dataframe tbody tr th {\n        vertical-align: top;\n    }\n\n    .dataframe thead th {\n        text-align: right;\n    }\n</style>\n<table border=\"1\" class=\"dataframe\">\n  <thead>\n    <tr style=\"text-align: right;\">\n      <th></th>\n      <th>VendorID</th>\n      <th>tpep_pickup_datetime</th>\n      <th>tpep_dropoff_datetime</th>\n      <th>passenger_count</th>\n      <th>trip_distance</th>\n      <th>RatecodeID</th>\n      <th>store_and_fwd_flag</th>\n      <th>PULocationID</th>\n      <th>DOLocationID</th>\n      <th>payment_type</th>\n      <th>fare_amount</th>\n      <th>extra</th>\n      <th>mta_tax</th>\n      <th>tip_amount</th>\n      <th>tolls_amount</th>\n      <th>improvement_surcharge</th>\n      <th>total_amount</th>\n      <th>congestion_surcharge</th>\n      <th>airport_fee</th>\n    </tr>\n  </thead>\n  <tbody>\n    <tr>\n      <th>0</th>\n      <td>2</td>\n      <td>2023-01-01 00:32:10</td>\n      <td>2023-01-01 00:40:36</td>\n      <td>1.0</td>\n      <td>0.97</td>\n      <td>1.0</td>\n      <td>N</td>\n      <td>161</td>\n      <td>141</td>\n      <td>2</td>\n      <td>9.30</td>\n      <td>1.00</td>\n      <td>0.5</td>\n      <td>0.00</td>\n      <td>0.0</td>\n      <td>1.0</td>\n      <td>14.30</td>\n      <td>2.5</td>\n      <td>0.00</td>\n    </tr>\n    <tr>\n      <th>1</th>\n      <td>2</td>\n      <td>2023-01-01 00:55:08</td>\n      <td>2023-01-01 01:01:27</td>\n      <td>1.0</td>\n      <td>1.10</td>\n      <td>1.0</td>\n      <td>N</td>\n      <td>43</td>\n      <td>237</td>\n      <td>1</td>\n      <td>7.90</td>\n      <td>1.00</td>\n      <td>0.5</td>\n      <td>4.00</td>\n      <td>0.0</td>\n      <td>1.0</td>\n      <td>16.90</td>\n      <td>2.5</td>\n      <td>0.00</td>\n    </tr>\n    <tr>\n      <th>2</th>\n      <td>2</td>\n      <td>2023-01-01 00:25:04</td>\n      <td>2023-01-01 00:37:49</td>\n      <td>1.0</td>\n      <td>2.51</td>\n      <td>1.0</td>\n      <td>N</td>\n      <td>48</td>\n      <td>238</td>\n      <td>1</td>\n      <td>14.90</td>\n      <td>1.00</td>\n      <td>0.5</td>\n      <td>15.00</td>\n      <td>0.0</td>\n      <td>1.0</td>\n      <td>34.90</td>\n      <td>2.5</td>\n      <td>0.00</td>\n    </tr>\n    <tr>\n      <th>3</th>\n      <td>1</td>\n      <td>2023-01-01 00:03:48</td>\n      <td>2023-01-01 00:13:25</td>\n      <td>0.0</td>\n      <td>1.90</td>\n      <td>1.0</td>\n      <td>N</td>\n      <td>138</td>\n      <td>7</td>\n      <td>1</td>\n      <td>12.10</td>\n      <td>7.25</td>\n      <td>0.5</td>\n      <td>0.00</td>\n      <td>0.0</td>\n      <td>1.0</td>\n      <td>20.85</td>\n      <td>0.0</td>\n      <td>1.25</td>\n    </tr>\n    <tr>\n      <th>4</th>\n      <td>2</td>\n      <td>2023-01-01 00:10:29</td>\n      <td>2023-01-01 00:21:19</td>\n      <td>1.0</td>\n      <td>1.43</td>\n      <td>1.0</td>\n      <td>N</td>\n      <td>107</td>\n      <td>79</td>\n      <td>1</td>\n      <td>11.40</td>\n      <td>1.00</td>\n      <td>0.5</td>\n      <td>3.28</td>\n      <td>0.0</td>\n      <td>1.0</td>\n      <td>19.68</td>\n      <td>2.5</td>\n      <td>0.00</td>\n    </tr>\n    <tr>\n      <th>...</th>\n      <td>...</td>\n      <td>...</td>\n      <td>...</td>\n      <td>...</td>\n      <td>...</td>\n      <td>...</td>\n      <td>...</td>\n      <td>...</td>\n      <td>...</td>\n      <td>...</td>\n      <td>...</td>\n      <td>...</td>\n      <td>...</td>\n      <td>...</td>\n      <td>...</td>\n      <td>...</td>\n      <td>...</td>\n      <td>...</td>\n      <td>...</td>\n    </tr>\n    <tr>\n      <th>3066761</th>\n      <td>2</td>\n      <td>2023-01-31 23:58:34</td>\n      <td>2023-02-01 00:12:33</td>\n      <td>NaN</td>\n      <td>3.05</td>\n      <td>NaN</td>\n      <td>None</td>\n      <td>107</td>\n      <td>48</td>\n      <td>0</td>\n      <td>15.80</td>\n      <td>0.00</td>\n      <td>0.5</td>\n      <td>3.96</td>\n      <td>0.0</td>\n      <td>1.0</td>\n      <td>23.76</td>\n      <td>NaN</td>\n      <td>NaN</td>\n    </tr>\n    <tr>\n      <th>3066762</th>\n      <td>2</td>\n      <td>2023-01-31 23:31:09</td>\n      <td>2023-01-31 23:50:36</td>\n      <td>NaN</td>\n      <td>5.80</td>\n      <td>NaN</td>\n      <td>None</td>\n      <td>112</td>\n      <td>75</td>\n      <td>0</td>\n      <td>22.43</td>\n      <td>0.00</td>\n      <td>0.5</td>\n      <td>2.64</td>\n      <td>0.0</td>\n      <td>1.0</td>\n      <td>29.07</td>\n      <td>NaN</td>\n      <td>NaN</td>\n    </tr>\n    <tr>\n      <th>3066763</th>\n      <td>2</td>\n      <td>2023-01-31 23:01:05</td>\n      <td>2023-01-31 23:25:36</td>\n      <td>NaN</td>\n      <td>4.67</td>\n      <td>NaN</td>\n      <td>None</td>\n      <td>114</td>\n      <td>239</td>\n      <td>0</td>\n      <td>17.61</td>\n      <td>0.00</td>\n      <td>0.5</td>\n      <td>5.32</td>\n      <td>0.0</td>\n      <td>1.0</td>\n      <td>26.93</td>\n      <td>NaN</td>\n      <td>NaN</td>\n    </tr>\n    <tr>\n      <th>3066764</th>\n      <td>2</td>\n      <td>2023-01-31 23:40:00</td>\n      <td>2023-01-31 23:53:00</td>\n      <td>NaN</td>\n      <td>3.15</td>\n      <td>NaN</td>\n      <td>None</td>\n      <td>230</td>\n      <td>79</td>\n      <td>0</td>\n      <td>18.15</td>\n      <td>0.00</td>\n      <td>0.5</td>\n      <td>4.43</td>\n      <td>0.0</td>\n      <td>1.0</td>\n      <td>26.58</td>\n      <td>NaN</td>\n      <td>NaN</td>\n    </tr>\n    <tr>\n      <th>3066765</th>\n      <td>2</td>\n      <td>2023-01-31 23:07:32</td>\n      <td>2023-01-31 23:21:56</td>\n      <td>NaN</td>\n      <td>2.85</td>\n      <td>NaN</td>\n      <td>None</td>\n      <td>262</td>\n      <td>143</td>\n      <td>0</td>\n      <td>15.97</td>\n      <td>0.00</td>\n      <td>0.5</td>\n      <td>2.00</td>\n      <td>0.0</td>\n      <td>1.0</td>\n      <td>21.97</td>\n      <td>NaN</td>\n      <td>NaN</td>\n    </tr>\n  </tbody>\n</table>\n<p>3066766 rows × 19 columns</p>\n</div>"
     },
     "execution_count": 56,
     "metadata": {},
     "output_type": "execute_result"
    }
   ],
   "source": [
    "df2"
   ],
   "metadata": {
    "collapsed": false,
    "pycharm": {
     "name": "#%%\n"
    }
   }
  },
  {
   "cell_type": "code",
   "execution_count": 73,
   "outputs": [
    {
     "name": "stdout",
     "output_type": "stream",
     "text": [
      "0.0 1000.0\n"
     ]
    }
   ],
   "source": [
    "col = 'total_amount'\n",
    "print(df2[col].min(), df2[col].max())\n",
    "\n",
    "# len(df2[df2['trip_distance']>100])/len(df2)"
   ],
   "metadata": {
    "collapsed": false,
    "pycharm": {
     "name": "#%%\n"
    }
   }
  },
  {
   "cell_type": "code",
   "execution_count": 76,
   "outputs": [
    {
     "data": {
      "text/plain": "Index(['VendorID', 'tpep_pickup_datetime', 'tpep_dropoff_datetime',\n       'passenger_count', 'trip_distance', 'RatecodeID', 'store_and_fwd_flag',\n       'PULocationID', 'DOLocationID', 'payment_type', 'fare_amount', 'extra',\n       'mta_tax', 'tip_amount', 'tolls_amount', 'improvement_surcharge',\n       'total_amount', 'congestion_surcharge', 'airport_fee'],\n      dtype='object')"
     },
     "execution_count": 76,
     "metadata": {},
     "output_type": "execute_result"
    }
   ],
   "source": [
    "df2.columns"
   ],
   "metadata": {
    "collapsed": false,
    "pycharm": {
     "name": "#%%\n"
    }
   }
  },
  {
   "cell_type": "code",
   "execution_count": 94,
   "outputs": [
    {
     "data": {
      "text/plain": "         VendorID tpep_pickup_datetime tpep_dropoff_datetime  passenger_count  \\\n2929496         2  2023-02-01 00:13:10   2023-02-01 00:29:37              1.0   \n2929497         2  2023-02-01 00:56:53   2023-02-01 01:06:43              1.0   \n2992346         2  2023-02-01 00:00:24   2023-02-01 00:07:53              2.0   \n2992642         2  2023-02-01 00:01:10   2023-02-01 00:14:26              1.0   \n2993262         2  2023-02-01 00:00:18   2023-02-01 00:08:46              1.0   \n2993558         2  2023-02-01 00:00:55   2023-02-01 00:06:33              1.0   \n2993635         2  2023-02-01 00:00:01   2023-02-01 00:33:41              1.0   \n2993890         2  2023-02-01 00:00:20   2023-02-01 00:13:18              2.0   \n2994212         2  2023-02-01 00:00:35   2023-02-01 00:17:12              1.0   \n2994844         2  2023-02-01 00:00:40   2023-02-01 00:23:03              5.0   \n\n         trip_distance  RatecodeID store_and_fwd_flag  PULocationID  \\\n2929496           3.27         1.0                  N           230   \n2929497           2.38         1.0                  N           162   \n2992346           2.22         1.0                  N           211   \n2992642           2.03         1.0                  N           230   \n2993262           2.12         1.0                  N           230   \n2993558           1.09         1.0                  N           246   \n2993635          17.31         2.0                  N           132   \n2993890           2.31         1.0                  N            68   \n2994212           2.88         1.0                  N           137   \n2994844          10.12         1.0                  N            70   \n\n         DOLocationID  payment_type  fare_amount  extra  mta_tax  tip_amount  \\\n2929496             4             1         19.1    0.0      0.5        4.62   \n2929497            90             1         13.5    0.0      0.5        3.50   \n2992346            90             1         11.4    1.0      0.5        3.28   \n2992642           162             1         13.5    1.0      0.5        3.70   \n2993262           239             2         12.1    1.0      0.5         NaN   \n2993558           164             2          7.9    1.0      0.5         NaN   \n2993635           170             1         70.0    0.0      0.5       16.36   \n2993890           148             2         14.2    1.0      0.5         NaN   \n2994212           142             1         17.7    1.0      0.5        2.27   \n2994844            75             1         40.8    1.0      0.5        5.08   \n\n         tolls_amount  improvement_surcharge  total_amount  \\\n2929496          0.00                    1.0         27.72   \n2929497          0.00                    1.0         21.00   \n2992346          0.00                    1.0         19.68   \n2992642          0.00                    1.0         22.20   \n2993262          0.00                    1.0         17.10   \n2993558          0.00                    1.0         12.90   \n2993635          6.55                    1.0         98.16   \n2993890          0.00                    1.0         19.20   \n2994212          0.00                    1.0         24.97   \n2994844          0.00                    1.0         50.88   \n\n         congestion_surcharge  airport_fee  \n2929496                   2.5         0.00  \n2929497                   2.5         0.00  \n2992346                   2.5         0.00  \n2992642                   2.5         0.00  \n2993262                   2.5         0.00  \n2993558                   2.5         0.00  \n2993635                   2.5         1.25  \n2993890                   2.5         0.00  \n2994212                   2.5         0.00  \n2994844                   2.5         0.00  ",
      "text/html": "<div>\n<style scoped>\n    .dataframe tbody tr th:only-of-type {\n        vertical-align: middle;\n    }\n\n    .dataframe tbody tr th {\n        vertical-align: top;\n    }\n\n    .dataframe thead th {\n        text-align: right;\n    }\n</style>\n<table border=\"1\" class=\"dataframe\">\n  <thead>\n    <tr style=\"text-align: right;\">\n      <th></th>\n      <th>VendorID</th>\n      <th>tpep_pickup_datetime</th>\n      <th>tpep_dropoff_datetime</th>\n      <th>passenger_count</th>\n      <th>trip_distance</th>\n      <th>RatecodeID</th>\n      <th>store_and_fwd_flag</th>\n      <th>PULocationID</th>\n      <th>DOLocationID</th>\n      <th>payment_type</th>\n      <th>fare_amount</th>\n      <th>extra</th>\n      <th>mta_tax</th>\n      <th>tip_amount</th>\n      <th>tolls_amount</th>\n      <th>improvement_surcharge</th>\n      <th>total_amount</th>\n      <th>congestion_surcharge</th>\n      <th>airport_fee</th>\n    </tr>\n  </thead>\n  <tbody>\n    <tr>\n      <th>2929496</th>\n      <td>2</td>\n      <td>2023-02-01 00:13:10</td>\n      <td>2023-02-01 00:29:37</td>\n      <td>1.0</td>\n      <td>3.27</td>\n      <td>1.0</td>\n      <td>N</td>\n      <td>230</td>\n      <td>4</td>\n      <td>1</td>\n      <td>19.1</td>\n      <td>0.0</td>\n      <td>0.5</td>\n      <td>4.62</td>\n      <td>0.00</td>\n      <td>1.0</td>\n      <td>27.72</td>\n      <td>2.5</td>\n      <td>0.00</td>\n    </tr>\n    <tr>\n      <th>2929497</th>\n      <td>2</td>\n      <td>2023-02-01 00:56:53</td>\n      <td>2023-02-01 01:06:43</td>\n      <td>1.0</td>\n      <td>2.38</td>\n      <td>1.0</td>\n      <td>N</td>\n      <td>162</td>\n      <td>90</td>\n      <td>1</td>\n      <td>13.5</td>\n      <td>0.0</td>\n      <td>0.5</td>\n      <td>3.50</td>\n      <td>0.00</td>\n      <td>1.0</td>\n      <td>21.00</td>\n      <td>2.5</td>\n      <td>0.00</td>\n    </tr>\n    <tr>\n      <th>2992346</th>\n      <td>2</td>\n      <td>2023-02-01 00:00:24</td>\n      <td>2023-02-01 00:07:53</td>\n      <td>2.0</td>\n      <td>2.22</td>\n      <td>1.0</td>\n      <td>N</td>\n      <td>211</td>\n      <td>90</td>\n      <td>1</td>\n      <td>11.4</td>\n      <td>1.0</td>\n      <td>0.5</td>\n      <td>3.28</td>\n      <td>0.00</td>\n      <td>1.0</td>\n      <td>19.68</td>\n      <td>2.5</td>\n      <td>0.00</td>\n    </tr>\n    <tr>\n      <th>2992642</th>\n      <td>2</td>\n      <td>2023-02-01 00:01:10</td>\n      <td>2023-02-01 00:14:26</td>\n      <td>1.0</td>\n      <td>2.03</td>\n      <td>1.0</td>\n      <td>N</td>\n      <td>230</td>\n      <td>162</td>\n      <td>1</td>\n      <td>13.5</td>\n      <td>1.0</td>\n      <td>0.5</td>\n      <td>3.70</td>\n      <td>0.00</td>\n      <td>1.0</td>\n      <td>22.20</td>\n      <td>2.5</td>\n      <td>0.00</td>\n    </tr>\n    <tr>\n      <th>2993262</th>\n      <td>2</td>\n      <td>2023-02-01 00:00:18</td>\n      <td>2023-02-01 00:08:46</td>\n      <td>1.0</td>\n      <td>2.12</td>\n      <td>1.0</td>\n      <td>N</td>\n      <td>230</td>\n      <td>239</td>\n      <td>2</td>\n      <td>12.1</td>\n      <td>1.0</td>\n      <td>0.5</td>\n      <td>NaN</td>\n      <td>0.00</td>\n      <td>1.0</td>\n      <td>17.10</td>\n      <td>2.5</td>\n      <td>0.00</td>\n    </tr>\n    <tr>\n      <th>2993558</th>\n      <td>2</td>\n      <td>2023-02-01 00:00:55</td>\n      <td>2023-02-01 00:06:33</td>\n      <td>1.0</td>\n      <td>1.09</td>\n      <td>1.0</td>\n      <td>N</td>\n      <td>246</td>\n      <td>164</td>\n      <td>2</td>\n      <td>7.9</td>\n      <td>1.0</td>\n      <td>0.5</td>\n      <td>NaN</td>\n      <td>0.00</td>\n      <td>1.0</td>\n      <td>12.90</td>\n      <td>2.5</td>\n      <td>0.00</td>\n    </tr>\n    <tr>\n      <th>2993635</th>\n      <td>2</td>\n      <td>2023-02-01 00:00:01</td>\n      <td>2023-02-01 00:33:41</td>\n      <td>1.0</td>\n      <td>17.31</td>\n      <td>2.0</td>\n      <td>N</td>\n      <td>132</td>\n      <td>170</td>\n      <td>1</td>\n      <td>70.0</td>\n      <td>0.0</td>\n      <td>0.5</td>\n      <td>16.36</td>\n      <td>6.55</td>\n      <td>1.0</td>\n      <td>98.16</td>\n      <td>2.5</td>\n      <td>1.25</td>\n    </tr>\n    <tr>\n      <th>2993890</th>\n      <td>2</td>\n      <td>2023-02-01 00:00:20</td>\n      <td>2023-02-01 00:13:18</td>\n      <td>2.0</td>\n      <td>2.31</td>\n      <td>1.0</td>\n      <td>N</td>\n      <td>68</td>\n      <td>148</td>\n      <td>2</td>\n      <td>14.2</td>\n      <td>1.0</td>\n      <td>0.5</td>\n      <td>NaN</td>\n      <td>0.00</td>\n      <td>1.0</td>\n      <td>19.20</td>\n      <td>2.5</td>\n      <td>0.00</td>\n    </tr>\n    <tr>\n      <th>2994212</th>\n      <td>2</td>\n      <td>2023-02-01 00:00:35</td>\n      <td>2023-02-01 00:17:12</td>\n      <td>1.0</td>\n      <td>2.88</td>\n      <td>1.0</td>\n      <td>N</td>\n      <td>137</td>\n      <td>142</td>\n      <td>1</td>\n      <td>17.7</td>\n      <td>1.0</td>\n      <td>0.5</td>\n      <td>2.27</td>\n      <td>0.00</td>\n      <td>1.0</td>\n      <td>24.97</td>\n      <td>2.5</td>\n      <td>0.00</td>\n    </tr>\n    <tr>\n      <th>2994844</th>\n      <td>2</td>\n      <td>2023-02-01 00:00:40</td>\n      <td>2023-02-01 00:23:03</td>\n      <td>5.0</td>\n      <td>10.12</td>\n      <td>1.0</td>\n      <td>N</td>\n      <td>70</td>\n      <td>75</td>\n      <td>1</td>\n      <td>40.8</td>\n      <td>1.0</td>\n      <td>0.5</td>\n      <td>5.08</td>\n      <td>0.00</td>\n      <td>1.0</td>\n      <td>50.88</td>\n      <td>2.5</td>\n      <td>0.00</td>\n    </tr>\n  </tbody>\n</table>\n</div>"
     },
     "execution_count": 94,
     "metadata": {},
     "output_type": "execute_result"
    }
   ],
   "source": [
    "first_day = datetime.date(2009, 1, 1)\n",
    "last_day = datetime.date(2023, 1, 31)\n",
    "\n",
    "\n",
    "\n",
    "# df2.iloc[0]['tpep_pickup_datetime'].date()"
   ],
   "metadata": {
    "collapsed": false,
    "pycharm": {
     "name": "#%%\n"
    }
   }
  },
  {
   "cell_type": "code",
   "execution_count": 3,
   "outputs": [
    {
     "name": "stdout",
     "output_type": "stream",
     "text": [
      "Adding 2009-01...\n",
      "Adding 2009-02...\n",
      "Adding 2009-03...\n",
      "Adding 2009-04...\n",
      "Adding 2009-05...\n",
      "Adding 2009-06...\n",
      "Adding 2009-07...\n",
      "Adding 2009-08...\n",
      "Adding 2009-09...\n",
      "Adding 2009-10...\n",
      "Adding 2009-11...\n",
      "Adding 2009-12...\n",
      "Adding 2010-01...\n",
      "Adding 2010-02...\n",
      "Adding 2010-03...\n",
      "Adding 2010-04...\n",
      "Adding 2010-05...\n",
      "Adding 2010-06...\n",
      "Adding 2010-07...\n",
      "Adding 2010-08...\n",
      "Adding 2010-09...\n",
      "Adding 2010-10...\n",
      "Adding 2010-11...\n",
      "Adding 2010-12...\n",
      "Adding 2011-01...\n",
      "Adding 2011-02...\n",
      "Adding 2011-03...\n",
      "Adding 2011-04...\n",
      "Adding 2011-05...\n",
      "Adding 2011-06...\n",
      "Adding 2011-07...\n",
      "Adding 2011-08...\n",
      "Adding 2011-09...\n",
      "Adding 2011-10...\n",
      "Adding 2011-11...\n",
      "Adding 2011-12...\n",
      "Adding 2012-01...\n",
      "Adding 2012-02...\n",
      "Adding 2012-03...\n",
      "Adding 2012-04...\n",
      "Adding 2012-05...\n",
      "Adding 2012-06...\n",
      "Adding 2012-07...\n",
      "Adding 2012-08...\n",
      "Adding 2012-09...\n",
      "Adding 2012-10...\n",
      "Adding 2012-11...\n",
      "Adding 2012-12...\n",
      "Adding 2013-01...\n",
      "Adding 2013-02...\n",
      "Adding 2013-03...\n",
      "Adding 2013-04...\n",
      "Adding 2013-05...\n",
      "Adding 2013-06...\n",
      "Adding 2013-07...\n",
      "Adding 2013-08...\n",
      "Adding 2013-09...\n",
      "Adding 2013-10...\n",
      "Adding 2013-11...\n",
      "Adding 2013-12...\n",
      "Adding 2014-01...\n",
      "Adding 2014-02...\n",
      "Adding 2014-03...\n",
      "Adding 2014-04...\n",
      "Adding 2014-05...\n",
      "Adding 2014-06...\n",
      "Adding 2014-07...\n",
      "Adding 2014-08...\n",
      "Adding 2014-09...\n",
      "Adding 2014-10...\n",
      "Adding 2014-11...\n",
      "Adding 2014-12...\n",
      "Adding 2015-01...\n",
      "Adding 2015-02...\n",
      "Adding 2015-03...\n",
      "Adding 2015-04...\n",
      "Adding 2015-05...\n",
      "Adding 2015-06...\n",
      "Adding 2015-07...\n",
      "Adding 2015-08...\n",
      "Adding 2015-09...\n",
      "Adding 2015-10...\n",
      "Adding 2015-11...\n",
      "Adding 2015-12...\n",
      "Adding 2016-01...\n",
      "Adding 2016-02...\n",
      "Adding 2016-03...\n",
      "Adding 2016-04...\n",
      "Adding 2016-05...\n",
      "Adding 2016-06...\n",
      "Adding 2016-07...\n",
      "Adding 2016-08...\n",
      "Adding 2016-09...\n",
      "Adding 2016-10...\n",
      "Adding 2016-11...\n",
      "Adding 2016-12...\n",
      "Adding 2017-01...\n",
      "Adding 2017-02...\n",
      "Adding 2017-03...\n",
      "Adding 2017-04...\n",
      "Adding 2017-05...\n",
      "Adding 2017-06...\n",
      "Adding 2017-07...\n",
      "Adding 2017-08...\n",
      "Adding 2017-09...\n",
      "Adding 2017-10...\n",
      "Adding 2017-11...\n",
      "Adding 2017-12...\n",
      "Adding 2018-01...\n",
      "Adding 2018-02...\n",
      "Adding 2018-03...\n",
      "Adding 2018-04...\n",
      "Adding 2018-05...\n",
      "Adding 2018-06...\n",
      "Adding 2018-07...\n",
      "Adding 2018-08...\n",
      "Adding 2018-09...\n",
      "Adding 2018-10...\n",
      "Adding 2018-11...\n",
      "Adding 2018-12...\n",
      "Adding 2019-01...\n",
      "Adding 2019-02...\n",
      "Adding 2019-03...\n",
      "Adding 2019-04...\n",
      "Adding 2019-05...\n",
      "Adding 2019-06...\n",
      "Adding 2019-07...\n",
      "Adding 2019-08...\n",
      "Adding 2019-09...\n",
      "Adding 2019-10...\n",
      "Adding 2019-11...\n",
      "Adding 2019-12...\n",
      "Adding 2020-01...\n",
      "Adding 2020-02...\n",
      "Adding 2020-03...\n",
      "Adding 2020-04...\n",
      "Adding 2020-05...\n",
      "Adding 2020-06...\n",
      "Adding 2020-07...\n",
      "Adding 2020-08...\n",
      "Adding 2020-09...\n",
      "Adding 2020-10...\n",
      "Adding 2020-11...\n",
      "Adding 2020-12...\n",
      "Adding 2021-01...\n",
      "Adding 2021-02...\n",
      "Adding 2021-03...\n",
      "Adding 2021-04...\n",
      "Adding 2021-05...\n",
      "Adding 2021-06...\n",
      "Adding 2021-07...\n",
      "Adding 2021-08...\n",
      "Adding 2021-09...\n",
      "Adding 2021-10...\n",
      "Adding 2021-11...\n",
      "Adding 2021-12...\n",
      "Adding 2022-01...\n",
      "Adding 2022-02...\n",
      "Adding 2022-03...\n",
      "Adding 2022-04...\n",
      "Adding 2022-05...\n",
      "Adding 2022-06...\n",
      "Adding 2022-07...\n",
      "Adding 2022-08...\n",
      "Adding 2022-09...\n",
      "Adding 2022-10...\n",
      "Adding 2022-11...\n",
      "Adding 2022-12...\n",
      "Adding 2023-01...\n"
     ]
    }
   ],
   "source": [
    "import numpy as np\n",
    "import datetime\n",
    "\n",
    "# Define variables specific to this dataset\n",
    "car_type = 'yellow_taxi'\n",
    "month_list = ['01', '02', '03', '04', '05', '06', '07', '08', '09', '10', '11', '12']\n",
    "year_list = [str(i) for i in range(2009, 2024)]\n",
    "first_day = datetime.date(2009, 1, 1)\n",
    "last_day = datetime.date(2023, 1, 31)\n",
    "\n",
    "# More variables\n",
    "last_month = last_day.strftime('%Y-%m')\n",
    "data = pd.DataFrame()\n",
    "\n",
    "# Loop through each year-month\n",
    "for year in year_list:\n",
    "    for month in month_list:\n",
    "        print(f\"Adding {year}-{month}...\")\n",
    "\n",
    "        # Load data\n",
    "        url = f\"https://d37ci6vzurychx.cloudfront.net/trip-data/yellow_tripdata_{year}-{month}.parquet\"\n",
    "        df = pd.read_parquet(url)\n",
    "\n",
    "        # Rename columns\n",
    "        new_names = {'Passanger_Count': 'passanger_count',\n",
    "                     'Trip_Distance': 'trip_distance',\n",
    "                     'Payment_Type': 'payment_type',\n",
    "                     'Tip_Amt': 'tip_amount',\n",
    "                     'Total_Amt': 'total_amount',\n",
    "                     'Trip_Pickup_DateTime': 'tpep_pickup_datetime',\n",
    "                     'Trip_Dropoff_DateTime': 'tpep_dropoff_datetime',\n",
    "                     'pickup_datetime': 'tpep_pickup_datetime',\n",
    "                     'dropoff_datetime': 'tpep_dropoff_datetime',\n",
    "                     'old_col2': 'new_col2'}\n",
    "        df = df.rename(columns=new_names)\n",
    "\n",
    "        # Exclude dates not in range\n",
    "        df = df[df['tpep_pickup_datetime'].dt.date > first_day]\n",
    "        df = df[df['tpep_pickup_datetime'].dt.date > last_day]\n",
    "\n",
    "        # Create a column for trip duration\n",
    "        duration_list = []\n",
    "        time_delta_series = pd.to_datetime(df['tpep_dropoff_datetime']) - pd.to_datetime(df['tpep_pickup_datetime'])\n",
    "        time_delta_series = time_delta_series.dt.total_seconds() / 60\n",
    "        df.insert(3, 'duration', time_delta_series)\n",
    "\n",
    "        # Define date from the pickup time\n",
    "        df.insert(0, 'date', pd.to_datetime(df['tpep_pickup_datetime']).dt.date)\n",
    "\n",
    "        # Define type of car\n",
    "        df.insert(1, 'type', car_type)\n",
    "\n",
    "        # Create a variable for the share of trip to an airport\n",
    "        if 'RatecodeID' in df.columns:\n",
    "            if 'airport_fee' in df.columns:\n",
    "                # Fill None values with NaN\n",
    "                df['airport_fee'] = df['airport_fee'].fillna(value=np.nan)\n",
    "\n",
    "                # Indicate if the ride was to an airport (RatecodeID = 2 or 3 or airport_fee is non-zero)\n",
    "                df['airport_share'] = df.apply(lambda x: 1 if x['RatecodeID'] in [2, 3] or x['airport_fee'] > 0 else 0, axis=1)\n",
    "            else:\n",
    "                df['airport_share'] = df.apply(lambda x: 1 if x['RatecodeID'] in [2, 3] else 0, axis=1)\n",
    "        else:\n",
    "            # Add blank column\n",
    "            df['airport_share'] = np.nan\n",
    "\n",
    "        # Indicate if the payment was credit (if column exists)\n",
    "        if 'credit_share' in df.columns:\n",
    "            df['credit_share'] = df['payment_type'].apply(lambda x: 1 if x == 1 or x =='CREDIT' else 0)\n",
    "        else:\n",
    "            df['credit_share'] = np.nan\n",
    "\n",
    "        # Create empty column if it does not exist\n",
    "        if 'passenger_count' not in df.columns:\n",
    "            df['passenger_count'] = np.nan\n",
    "\n",
    "        # Define columns to keep\n",
    "        columns_to_keep =  ['date', 'type', 'duration', 'passenger_count', 'trip_distance', 'tip_amount', 'total_amount', 'airport_share', 'credit_share']\n",
    "        df = df[columns_to_keep]\n",
    "\n",
    "        # Replace rows in defined range with NaN (high likelihood of being outliers or errors)\n",
    "        df.loc[(df['passenger_count'] < 1) | (df['passenger_count'] > 9), 'passenger_count'] = np.nan\n",
    "        df.loc[(df['trip_distance'] <= 0) | (df['trip_distance'] > 100), 'trip_distance'] = np.nan\n",
    "        df.loc[(df['tip_amount'] < 0) | (df['tip_amount'] > 1000), 'tip_amount'] = np.nan\n",
    "        df.loc[(df['total_amount'] < 0) | (df['total_amount'] > 1000), 'total_amount'] = np.nan\n",
    "        df.loc[(df['duration'] < 0) | (df['duration'] > 500), 'duration'] = np.nan\n",
    "\n",
    "        # Group data\n",
    "        df_daily = df.groupby(['date', 'type']).mean()\n",
    "        df_daily.insert(0, 'count', df.groupby(['date', 'type']).count()['duration'])\n",
    "\n",
    "        data = pd.concat([data, df_daily], axis=0)\n",
    "\n",
    "        # Stop the loop on the last month\n",
    "        if f\"{year}-{month}\" == last_month:\n",
    "            break\n",
    "\n",
    "    # Stop the loop on the last month\n",
    "    if f\"{year}-{month}\" == last_month:\n",
    "        break"
   ],
   "metadata": {
    "collapsed": false,
    "pycharm": {
     "name": "#%%\n"
    }
   }
  },
  {
   "cell_type": "code",
   "execution_count": 7,
   "outputs": [
    {
     "data": {
      "text/plain": "                         count   duration  passenger_count  trip_distance  \\\ndate       type                                                             \n2009-01-01 yellow_taxi  327625  10.455512              NaN       2.880037   \n2009-01-02 yellow_taxi  376708  11.105919              NaN       2.683653   \n2009-01-03 yellow_taxi  432710  11.355001              NaN       2.725801   \n2009-01-04 yellow_taxi  367525  11.798098              NaN       3.068749   \n2009-01-05 yellow_taxi  370901  11.144530              NaN       2.788340   \n...                        ...        ...              ...            ...   \n2023-01-28 yellow_taxi  111645  15.499590         1.438778       3.135049   \n2023-01-29 yellow_taxi   88131  14.910676         1.403728       3.719613   \n2023-01-30 yellow_taxi   83768  15.515086         1.292904       3.524962   \n2023-01-31 yellow_taxi  100372  16.183662         1.285499       4.808261   \n2023-02-01 yellow_taxi      10  14.676667         1.600000       4.573000   \n\n                        tip_amount  total_amount  airport_share  credit_share  \ndate       type                                                                \n2009-01-01 yellow_taxi    0.329896     10.377966            NaN           NaN  \n2009-01-02 yellow_taxi    0.339906     10.353366            NaN           NaN  \n2009-01-03 yellow_taxi    0.366799     10.278468            NaN           NaN  \n2009-01-04 yellow_taxi    0.452462     11.064838            NaN           NaN  \n2009-01-05 yellow_taxi    0.439258     10.605498            NaN           NaN  \n...                            ...           ...            ...           ...  \n2023-01-28 yellow_taxi    3.119819     24.762694       0.059089           NaN  \n2023-01-29 yellow_taxi    3.456762     27.428120       0.110177           NaN  \n2023-01-30 yellow_taxi    3.423433     27.565056       0.111057           NaN  \n2023-01-31 yellow_taxi    3.360753     26.573676       0.080182           NaN  \n2023-02-01 yellow_taxi    3.881000     31.381000       0.100000           NaN  \n\n[6485 rows x 8 columns]",
      "text/html": "<div>\n<style scoped>\n    .dataframe tbody tr th:only-of-type {\n        vertical-align: middle;\n    }\n\n    .dataframe tbody tr th {\n        vertical-align: top;\n    }\n\n    .dataframe thead th {\n        text-align: right;\n    }\n</style>\n<table border=\"1\" class=\"dataframe\">\n  <thead>\n    <tr style=\"text-align: right;\">\n      <th></th>\n      <th></th>\n      <th>count</th>\n      <th>duration</th>\n      <th>passenger_count</th>\n      <th>trip_distance</th>\n      <th>tip_amount</th>\n      <th>total_amount</th>\n      <th>airport_share</th>\n      <th>credit_share</th>\n    </tr>\n    <tr>\n      <th>date</th>\n      <th>type</th>\n      <th></th>\n      <th></th>\n      <th></th>\n      <th></th>\n      <th></th>\n      <th></th>\n      <th></th>\n      <th></th>\n    </tr>\n  </thead>\n  <tbody>\n    <tr>\n      <th>2009-01-01</th>\n      <th>yellow_taxi</th>\n      <td>327625</td>\n      <td>10.455512</td>\n      <td>NaN</td>\n      <td>2.880037</td>\n      <td>0.329896</td>\n      <td>10.377966</td>\n      <td>NaN</td>\n      <td>NaN</td>\n    </tr>\n    <tr>\n      <th>2009-01-02</th>\n      <th>yellow_taxi</th>\n      <td>376708</td>\n      <td>11.105919</td>\n      <td>NaN</td>\n      <td>2.683653</td>\n      <td>0.339906</td>\n      <td>10.353366</td>\n      <td>NaN</td>\n      <td>NaN</td>\n    </tr>\n    <tr>\n      <th>2009-01-03</th>\n      <th>yellow_taxi</th>\n      <td>432710</td>\n      <td>11.355001</td>\n      <td>NaN</td>\n      <td>2.725801</td>\n      <td>0.366799</td>\n      <td>10.278468</td>\n      <td>NaN</td>\n      <td>NaN</td>\n    </tr>\n    <tr>\n      <th>2009-01-04</th>\n      <th>yellow_taxi</th>\n      <td>367525</td>\n      <td>11.798098</td>\n      <td>NaN</td>\n      <td>3.068749</td>\n      <td>0.452462</td>\n      <td>11.064838</td>\n      <td>NaN</td>\n      <td>NaN</td>\n    </tr>\n    <tr>\n      <th>2009-01-05</th>\n      <th>yellow_taxi</th>\n      <td>370901</td>\n      <td>11.144530</td>\n      <td>NaN</td>\n      <td>2.788340</td>\n      <td>0.439258</td>\n      <td>10.605498</td>\n      <td>NaN</td>\n      <td>NaN</td>\n    </tr>\n    <tr>\n      <th>...</th>\n      <th>...</th>\n      <td>...</td>\n      <td>...</td>\n      <td>...</td>\n      <td>...</td>\n      <td>...</td>\n      <td>...</td>\n      <td>...</td>\n      <td>...</td>\n    </tr>\n    <tr>\n      <th>2023-01-28</th>\n      <th>yellow_taxi</th>\n      <td>111645</td>\n      <td>15.499590</td>\n      <td>1.438778</td>\n      <td>3.135049</td>\n      <td>3.119819</td>\n      <td>24.762694</td>\n      <td>0.059089</td>\n      <td>NaN</td>\n    </tr>\n    <tr>\n      <th>2023-01-29</th>\n      <th>yellow_taxi</th>\n      <td>88131</td>\n      <td>14.910676</td>\n      <td>1.403728</td>\n      <td>3.719613</td>\n      <td>3.456762</td>\n      <td>27.428120</td>\n      <td>0.110177</td>\n      <td>NaN</td>\n    </tr>\n    <tr>\n      <th>2023-01-30</th>\n      <th>yellow_taxi</th>\n      <td>83768</td>\n      <td>15.515086</td>\n      <td>1.292904</td>\n      <td>3.524962</td>\n      <td>3.423433</td>\n      <td>27.565056</td>\n      <td>0.111057</td>\n      <td>NaN</td>\n    </tr>\n    <tr>\n      <th>2023-01-31</th>\n      <th>yellow_taxi</th>\n      <td>100372</td>\n      <td>16.183662</td>\n      <td>1.285499</td>\n      <td>4.808261</td>\n      <td>3.360753</td>\n      <td>26.573676</td>\n      <td>0.080182</td>\n      <td>NaN</td>\n    </tr>\n    <tr>\n      <th>2023-02-01</th>\n      <th>yellow_taxi</th>\n      <td>10</td>\n      <td>14.676667</td>\n      <td>1.600000</td>\n      <td>4.573000</td>\n      <td>3.881000</td>\n      <td>31.381000</td>\n      <td>0.100000</td>\n      <td>NaN</td>\n    </tr>\n  </tbody>\n</table>\n<p>6485 rows × 8 columns</p>\n</div>"
     },
     "execution_count": 7,
     "metadata": {},
     "output_type": "execute_result"
    }
   ],
   "source": [
    "data.to_csv('data2.csv')"
   ],
   "metadata": {
    "collapsed": false,
    "pycharm": {
     "name": "#%%\n"
    }
   }
  },
  {
   "cell_type": "code",
   "execution_count": 74,
   "outputs": [
    {
     "data": {
      "text/plain": "                         count     duration  passenger_count  trip_distance  \\\ndate       type                                                               \n2028-12-07 yellow_taxi       1    40.966667         3.000000      16.150000   \n2029-05-06 yellow_taxi       1    20.000000         4.000000       4.470000   \n2070-08-29 yellow_taxi       1  1148.466667         1.000000       0.000000   \n2041-06-25 yellow_taxi       1     6.000000         1.000000       1.340000   \n2090-12-31 yellow_taxi       1    37.383333         2.000000      18.600000   \n...                        ...          ...              ...            ...   \n2010-09-22 yellow_taxi  678683    13.078569         1.512846       2.688022   \n2010-09-23 yellow_taxi  679260    13.303752         1.514227       2.826557   \n2010-09-24 yellow_taxi  725850    13.126564         1.565880       2.779904   \n2010-09-25 yellow_taxi  763954    12.259220         1.669161       2.789760   \n2010-09-19 yellow_taxi  849414    12.243235         1.580665       3.082259   \n\n                        tip_amount  total_amount  airport_share  credit_share  \ndate       type                                                                \n2028-12-07 yellow_taxi    0.000000     63.100000            1.0           NaN  \n2029-05-06 yellow_taxi    4.910000     29.470000            0.0           NaN  \n2070-08-29 yellow_taxi    0.000000      0.000000            0.0           NaN  \n2041-06-25 yellow_taxi    0.000000      8.300000            0.0           NaN  \n2090-12-31 yellow_taxi    0.000000     61.420000            1.0           NaN  \n...                            ...           ...            ...           ...  \n2010-09-22 yellow_taxi    0.883752     12.192887            NaN           NaN  \n2010-09-23 yellow_taxi    0.917060     12.614110            NaN           NaN  \n2010-09-24 yellow_taxi    0.842562     12.331652            NaN           NaN  \n2010-09-25 yellow_taxi    0.717480     11.695756            NaN           NaN  \n2010-09-19 yellow_taxi    0.790757     12.373424            NaN           NaN  \n\n[5197 rows x 8 columns]",
      "text/html": "<div>\n<style scoped>\n    .dataframe tbody tr th:only-of-type {\n        vertical-align: middle;\n    }\n\n    .dataframe tbody tr th {\n        vertical-align: top;\n    }\n\n    .dataframe thead th {\n        text-align: right;\n    }\n</style>\n<table border=\"1\" class=\"dataframe\">\n  <thead>\n    <tr style=\"text-align: right;\">\n      <th></th>\n      <th></th>\n      <th>count</th>\n      <th>duration</th>\n      <th>passenger_count</th>\n      <th>trip_distance</th>\n      <th>tip_amount</th>\n      <th>total_amount</th>\n      <th>airport_share</th>\n      <th>credit_share</th>\n    </tr>\n    <tr>\n      <th>date</th>\n      <th>type</th>\n      <th></th>\n      <th></th>\n      <th></th>\n      <th></th>\n      <th></th>\n      <th></th>\n      <th></th>\n      <th></th>\n    </tr>\n  </thead>\n  <tbody>\n    <tr>\n      <th>2028-12-07</th>\n      <th>yellow_taxi</th>\n      <td>1</td>\n      <td>40.966667</td>\n      <td>3.000000</td>\n      <td>16.150000</td>\n      <td>0.000000</td>\n      <td>63.100000</td>\n      <td>1.0</td>\n      <td>NaN</td>\n    </tr>\n    <tr>\n      <th>2029-05-06</th>\n      <th>yellow_taxi</th>\n      <td>1</td>\n      <td>20.000000</td>\n      <td>4.000000</td>\n      <td>4.470000</td>\n      <td>4.910000</td>\n      <td>29.470000</td>\n      <td>0.0</td>\n      <td>NaN</td>\n    </tr>\n    <tr>\n      <th>2070-08-29</th>\n      <th>yellow_taxi</th>\n      <td>1</td>\n      <td>1148.466667</td>\n      <td>1.000000</td>\n      <td>0.000000</td>\n      <td>0.000000</td>\n      <td>0.000000</td>\n      <td>0.0</td>\n      <td>NaN</td>\n    </tr>\n    <tr>\n      <th>2041-06-25</th>\n      <th>yellow_taxi</th>\n      <td>1</td>\n      <td>6.000000</td>\n      <td>1.000000</td>\n      <td>1.340000</td>\n      <td>0.000000</td>\n      <td>8.300000</td>\n      <td>0.0</td>\n      <td>NaN</td>\n    </tr>\n    <tr>\n      <th>2090-12-31</th>\n      <th>yellow_taxi</th>\n      <td>1</td>\n      <td>37.383333</td>\n      <td>2.000000</td>\n      <td>18.600000</td>\n      <td>0.000000</td>\n      <td>61.420000</td>\n      <td>1.0</td>\n      <td>NaN</td>\n    </tr>\n    <tr>\n      <th>...</th>\n      <th>...</th>\n      <td>...</td>\n      <td>...</td>\n      <td>...</td>\n      <td>...</td>\n      <td>...</td>\n      <td>...</td>\n      <td>...</td>\n      <td>...</td>\n    </tr>\n    <tr>\n      <th>2010-09-22</th>\n      <th>yellow_taxi</th>\n      <td>678683</td>\n      <td>13.078569</td>\n      <td>1.512846</td>\n      <td>2.688022</td>\n      <td>0.883752</td>\n      <td>12.192887</td>\n      <td>NaN</td>\n      <td>NaN</td>\n    </tr>\n    <tr>\n      <th>2010-09-23</th>\n      <th>yellow_taxi</th>\n      <td>679260</td>\n      <td>13.303752</td>\n      <td>1.514227</td>\n      <td>2.826557</td>\n      <td>0.917060</td>\n      <td>12.614110</td>\n      <td>NaN</td>\n      <td>NaN</td>\n    </tr>\n    <tr>\n      <th>2010-09-24</th>\n      <th>yellow_taxi</th>\n      <td>725850</td>\n      <td>13.126564</td>\n      <td>1.565880</td>\n      <td>2.779904</td>\n      <td>0.842562</td>\n      <td>12.331652</td>\n      <td>NaN</td>\n      <td>NaN</td>\n    </tr>\n    <tr>\n      <th>2010-09-25</th>\n      <th>yellow_taxi</th>\n      <td>763954</td>\n      <td>12.259220</td>\n      <td>1.669161</td>\n      <td>2.789760</td>\n      <td>0.717480</td>\n      <td>11.695756</td>\n      <td>NaN</td>\n      <td>NaN</td>\n    </tr>\n    <tr>\n      <th>2010-09-19</th>\n      <th>yellow_taxi</th>\n      <td>849414</td>\n      <td>12.243235</td>\n      <td>1.580665</td>\n      <td>3.082259</td>\n      <td>0.790757</td>\n      <td>12.373424</td>\n      <td>NaN</td>\n      <td>NaN</td>\n    </tr>\n  </tbody>\n</table>\n<p>5197 rows × 8 columns</p>\n</div>"
     },
     "execution_count": 74,
     "metadata": {},
     "output_type": "execute_result"
    }
   ],
   "source": [
    "da = data.copy()\n",
    "da = da.sort_values(by='count', ascending=False) #.drop_duplicates(subset=['date'])\n",
    "da = da[~da.index.duplicated(keep='first')]\n",
    "da.sort_values('count')"
   ],
   "metadata": {
    "collapsed": false,
    "pycharm": {
     "name": "#%%\n"
    }
   }
  },
  {
   "cell_type": "code",
   "execution_count": 8,
   "outputs": [
    {
     "data": {
      "text/plain": "                         count      duration  passenger_count  trip_distance  \\\ndate       type                                                                \n2002-10-24 yellow_taxi      61  4.568739e+06         1.262295       5.747869   \n2002-10-26 yellow_taxi      44  3.753438e+06         1.136364       2.631136   \n2002-10-21 yellow_taxi      42  3.440656e+06         1.214286       5.127619   \n2002-10-27 yellow_taxi      64  3.064353e+06         1.406250       4.689531   \n2002-10-23 yellow_taxi      63  2.949137e+06         1.190476       4.025238   \n...                        ...           ...              ...            ...   \n2015-04-04 yellow_taxi  439978 -3.679601e+01         1.762027       2.742896   \n2014-12-20 yellow_taxi  499142 -1.067791e+02         1.744496       2.870625   \n2015-07-31 yellow_taxi  397703 -1.358162e+02         1.696935      33.811875   \n2018-11-13 yellow_taxi  287048 -1.502714e+02         1.535233       2.852006   \n2015-12-26 yellow_taxi  238522 -2.400369e+02         1.790405       3.092139   \n\n                        tip_amount  total_amount  airport_share  credit_share  \ndate       type                                                                \n2002-10-24 yellow_taxi    1.252787     30.173279       0.229508           NaN  \n2002-10-26 yellow_taxi    0.647273     21.140455       0.090909           NaN  \n2002-10-21 yellow_taxi    1.380714     28.511667       0.119048           NaN  \n2002-10-27 yellow_taxi    1.879219     24.697969       0.250000           NaN  \n2002-10-23 yellow_taxi    1.744127     24.702857       0.222222           NaN  \n...                            ...           ...            ...           ...  \n2015-04-04 yellow_taxi    1.325973     14.191453       0.014596           NaN  \n2014-12-20 yellow_taxi    1.424808     14.754150       0.020092           NaN  \n2015-07-31 yellow_taxi    1.764190     17.364206       0.025104           NaN  \n2018-11-13 yellow_taxi    2.044547     16.923080       0.023979           NaN  \n2015-12-26 yellow_taxi    1.310975     15.334715       0.029259           NaN  \n\n[6485 rows x 8 columns]",
      "text/html": "<div>\n<style scoped>\n    .dataframe tbody tr th:only-of-type {\n        vertical-align: middle;\n    }\n\n    .dataframe tbody tr th {\n        vertical-align: top;\n    }\n\n    .dataframe thead th {\n        text-align: right;\n    }\n</style>\n<table border=\"1\" class=\"dataframe\">\n  <thead>\n    <tr style=\"text-align: right;\">\n      <th></th>\n      <th></th>\n      <th>count</th>\n      <th>duration</th>\n      <th>passenger_count</th>\n      <th>trip_distance</th>\n      <th>tip_amount</th>\n      <th>total_amount</th>\n      <th>airport_share</th>\n      <th>credit_share</th>\n    </tr>\n    <tr>\n      <th>date</th>\n      <th>type</th>\n      <th></th>\n      <th></th>\n      <th></th>\n      <th></th>\n      <th></th>\n      <th></th>\n      <th></th>\n      <th></th>\n    </tr>\n  </thead>\n  <tbody>\n    <tr>\n      <th>2002-10-24</th>\n      <th>yellow_taxi</th>\n      <td>61</td>\n      <td>4.568739e+06</td>\n      <td>1.262295</td>\n      <td>5.747869</td>\n      <td>1.252787</td>\n      <td>30.173279</td>\n      <td>0.229508</td>\n      <td>NaN</td>\n    </tr>\n    <tr>\n      <th>2002-10-26</th>\n      <th>yellow_taxi</th>\n      <td>44</td>\n      <td>3.753438e+06</td>\n      <td>1.136364</td>\n      <td>2.631136</td>\n      <td>0.647273</td>\n      <td>21.140455</td>\n      <td>0.090909</td>\n      <td>NaN</td>\n    </tr>\n    <tr>\n      <th>2002-10-21</th>\n      <th>yellow_taxi</th>\n      <td>42</td>\n      <td>3.440656e+06</td>\n      <td>1.214286</td>\n      <td>5.127619</td>\n      <td>1.380714</td>\n      <td>28.511667</td>\n      <td>0.119048</td>\n      <td>NaN</td>\n    </tr>\n    <tr>\n      <th>2002-10-27</th>\n      <th>yellow_taxi</th>\n      <td>64</td>\n      <td>3.064353e+06</td>\n      <td>1.406250</td>\n      <td>4.689531</td>\n      <td>1.879219</td>\n      <td>24.697969</td>\n      <td>0.250000</td>\n      <td>NaN</td>\n    </tr>\n    <tr>\n      <th>2002-10-23</th>\n      <th>yellow_taxi</th>\n      <td>63</td>\n      <td>2.949137e+06</td>\n      <td>1.190476</td>\n      <td>4.025238</td>\n      <td>1.744127</td>\n      <td>24.702857</td>\n      <td>0.222222</td>\n      <td>NaN</td>\n    </tr>\n    <tr>\n      <th>...</th>\n      <th>...</th>\n      <td>...</td>\n      <td>...</td>\n      <td>...</td>\n      <td>...</td>\n      <td>...</td>\n      <td>...</td>\n      <td>...</td>\n      <td>...</td>\n    </tr>\n    <tr>\n      <th>2015-04-04</th>\n      <th>yellow_taxi</th>\n      <td>439978</td>\n      <td>-3.679601e+01</td>\n      <td>1.762027</td>\n      <td>2.742896</td>\n      <td>1.325973</td>\n      <td>14.191453</td>\n      <td>0.014596</td>\n      <td>NaN</td>\n    </tr>\n    <tr>\n      <th>2014-12-20</th>\n      <th>yellow_taxi</th>\n      <td>499142</td>\n      <td>-1.067791e+02</td>\n      <td>1.744496</td>\n      <td>2.870625</td>\n      <td>1.424808</td>\n      <td>14.754150</td>\n      <td>0.020092</td>\n      <td>NaN</td>\n    </tr>\n    <tr>\n      <th>2015-07-31</th>\n      <th>yellow_taxi</th>\n      <td>397703</td>\n      <td>-1.358162e+02</td>\n      <td>1.696935</td>\n      <td>33.811875</td>\n      <td>1.764190</td>\n      <td>17.364206</td>\n      <td>0.025104</td>\n      <td>NaN</td>\n    </tr>\n    <tr>\n      <th>2018-11-13</th>\n      <th>yellow_taxi</th>\n      <td>287048</td>\n      <td>-1.502714e+02</td>\n      <td>1.535233</td>\n      <td>2.852006</td>\n      <td>2.044547</td>\n      <td>16.923080</td>\n      <td>0.023979</td>\n      <td>NaN</td>\n    </tr>\n    <tr>\n      <th>2015-12-26</th>\n      <th>yellow_taxi</th>\n      <td>238522</td>\n      <td>-2.400369e+02</td>\n      <td>1.790405</td>\n      <td>3.092139</td>\n      <td>1.310975</td>\n      <td>15.334715</td>\n      <td>0.029259</td>\n      <td>NaN</td>\n    </tr>\n  </tbody>\n</table>\n<p>6485 rows × 8 columns</p>\n</div>"
     },
     "execution_count": 8,
     "metadata": {},
     "output_type": "execute_result"
    }
   ],
   "source": [
    "data.sort_values(by='duration', ascending=False) #.drop_duplicates(subset=['date'])"
   ],
   "metadata": {
    "collapsed": false,
    "pycharm": {
     "name": "#%%\n"
    }
   }
  },
  {
   "cell_type": "code",
   "execution_count": 23,
   "outputs": [
    {
     "data": {
      "text/plain": "(datetime.date(2009, 1, 1), 'yellow_taxi')"
     },
     "execution_count": 23,
     "metadata": {},
     "output_type": "execute_result"
    }
   ],
   "source": [
    "data.index[0]"
   ],
   "metadata": {
    "collapsed": false,
    "pycharm": {
     "name": "#%%\n"
    }
   }
  },
  {
   "cell_type": "code",
   "execution_count": 25,
   "outputs": [
    {
     "name": "stderr",
     "output_type": "stream",
     "text": [
      "/var/folders/8k/1982q0sd17v8dt4gxj5mqhk80000gn/T/ipykernel_50645/1183234500.py:2: PerformanceWarning: indexing past lexsort depth may impact performance.\n",
      "  data.loc[(datetime.date(2012, 2, 22), 'yellow_taxi')]\n"
     ]
    },
    {
     "data": {
      "text/plain": "                         count     duration  passenger_count  trip_distance  \\\ndate       type                                                               \n2012-02-22 yellow_taxi  450353    11.611726         1.595875       2.728795   \n           yellow_taxi       1  1432.216667         1.000000       0.000000   \n\n                        tip_amount  total_amount  airport_share  credit_share  \ndate       type                                                                \n2012-02-22 yellow_taxi    1.063574     12.040756       0.015381           NaN  \n           yellow_taxi    0.000000      0.000000       0.000000           NaN  ",
      "text/html": "<div>\n<style scoped>\n    .dataframe tbody tr th:only-of-type {\n        vertical-align: middle;\n    }\n\n    .dataframe tbody tr th {\n        vertical-align: top;\n    }\n\n    .dataframe thead th {\n        text-align: right;\n    }\n</style>\n<table border=\"1\" class=\"dataframe\">\n  <thead>\n    <tr style=\"text-align: right;\">\n      <th></th>\n      <th></th>\n      <th>count</th>\n      <th>duration</th>\n      <th>passenger_count</th>\n      <th>trip_distance</th>\n      <th>tip_amount</th>\n      <th>total_amount</th>\n      <th>airport_share</th>\n      <th>credit_share</th>\n    </tr>\n    <tr>\n      <th>date</th>\n      <th>type</th>\n      <th></th>\n      <th></th>\n      <th></th>\n      <th></th>\n      <th></th>\n      <th></th>\n      <th></th>\n      <th></th>\n    </tr>\n  </thead>\n  <tbody>\n    <tr>\n      <th rowspan=\"2\" valign=\"top\">2012-02-22</th>\n      <th>yellow_taxi</th>\n      <td>450353</td>\n      <td>11.611726</td>\n      <td>1.595875</td>\n      <td>2.728795</td>\n      <td>1.063574</td>\n      <td>12.040756</td>\n      <td>0.015381</td>\n      <td>NaN</td>\n    </tr>\n    <tr>\n      <th>yellow_taxi</th>\n      <td>1</td>\n      <td>1432.216667</td>\n      <td>1.000000</td>\n      <td>0.000000</td>\n      <td>0.000000</td>\n      <td>0.000000</td>\n      <td>0.000000</td>\n      <td>NaN</td>\n    </tr>\n  </tbody>\n</table>\n</div>"
     },
     "execution_count": 25,
     "metadata": {},
     "output_type": "execute_result"
    }
   ],
   "source": [
    "import datetime\n",
    "data.loc[(datetime.date(2012, 2, 22), 'yellow_taxi')]"
   ],
   "metadata": {
    "collapsed": false,
    "pycharm": {
     "name": "#%%\n"
    }
   }
  },
  {
   "cell_type": "code",
   "execution_count": 4,
   "outputs": [
    {
     "data": {
      "text/plain": "         VendorID tpep_pickup_datetime tpep_dropoff_datetime  passenger_count  \\\n0               1  2022-12-01 00:37:35   2022-12-01 00:47:35              1.0   \n1               1  2022-12-01 00:34:35   2022-12-01 00:55:21              0.0   \n2               1  2022-12-01 00:33:26   2022-12-01 00:37:34              1.0   \n3               1  2022-12-01 00:45:51   2022-12-01 00:53:16              1.0   \n4               2  2022-12-01 00:49:49   2022-12-01 00:54:13              1.0   \n...           ...                  ...                   ...              ...   \n3399544         2  2022-12-31 23:46:00   2023-01-01 00:11:00              NaN   \n3399545         2  2022-12-31 23:13:24   2022-12-31 23:29:08              NaN   \n3399546         2  2022-12-31 23:00:49   2022-12-31 23:26:57              NaN   \n3399547         1  2022-12-31 23:02:50   2022-12-31 23:16:05              NaN   \n3399548         2  2022-12-31 23:00:15   2022-12-31 23:22:56              NaN   \n\n         trip_distance  RatecodeID store_and_fwd_flag  PULocationID  \\\n0                 2.00         1.0                  N           170   \n1                 8.40         1.0                  N           138   \n2                 0.80         1.0                  N           140   \n3                 3.00         1.0                  N           141   \n4                 0.76         1.0                  N           261   \n...                ...         ...                ...           ...   \n3399544          11.56         NaN               None            16   \n3399545           5.06         NaN               None            75   \n3399546          13.35         NaN               None           168   \n3399547           0.00         NaN               None           238   \n3399548           4.24         NaN               None            85   \n\n         DOLocationID  payment_type  fare_amount  extra  mta_tax  tip_amount  \\\n0                 237             1         8.50   3.00      0.5        3.10   \n1                 141             2        26.00   4.25      0.5        0.00   \n2                 140             1         5.00   3.00      0.5        1.76   \n3                  79             3        10.00   3.00      0.5        0.00   \n4                 231             1         5.00   0.50      0.5        1.76   \n...               ...           ...          ...    ...      ...         ...   \n3399544            36             0        39.55   0.00      0.5        8.21   \n3399545            50             0        26.23   0.00      0.5        0.00   \n3399546           197             0        47.73   0.00      0.5        9.85   \n3399547           116             0        12.74   0.00      0.5        0.00   \n3399548            37             0        19.60   0.00      0.5        4.00   \n\n         tolls_amount  improvement_surcharge  total_amount  \\\n0                 0.0                    0.3         15.40   \n1                 0.0                    0.3         31.05   \n2                 0.0                    0.3         10.56   \n3                 0.0                    0.3         13.80   \n4                 0.0                    0.3         10.56   \n...               ...                    ...           ...   \n3399544           0.0                    1.0         49.26   \n3399545           0.0                    1.0         30.23   \n3399546           0.0                    1.0         59.08   \n3399547           0.0                    1.0         16.74   \n3399548           0.0                    1.0         25.10   \n\n         congestion_surcharge  airport_fee  \n0                         2.5         0.00  \n1                         2.5         1.25  \n2                         2.5         0.00  \n3                         2.5         0.00  \n4                         2.5         0.00  \n...                       ...          ...  \n3399544                   NaN          NaN  \n3399545                   NaN          NaN  \n3399546                   NaN          NaN  \n3399547                   NaN          NaN  \n3399548                   NaN          NaN  \n\n[3399549 rows x 19 columns]",
      "text/html": "<div>\n<style scoped>\n    .dataframe tbody tr th:only-of-type {\n        vertical-align: middle;\n    }\n\n    .dataframe tbody tr th {\n        vertical-align: top;\n    }\n\n    .dataframe thead th {\n        text-align: right;\n    }\n</style>\n<table border=\"1\" class=\"dataframe\">\n  <thead>\n    <tr style=\"text-align: right;\">\n      <th></th>\n      <th>VendorID</th>\n      <th>tpep_pickup_datetime</th>\n      <th>tpep_dropoff_datetime</th>\n      <th>passenger_count</th>\n      <th>trip_distance</th>\n      <th>RatecodeID</th>\n      <th>store_and_fwd_flag</th>\n      <th>PULocationID</th>\n      <th>DOLocationID</th>\n      <th>payment_type</th>\n      <th>fare_amount</th>\n      <th>extra</th>\n      <th>mta_tax</th>\n      <th>tip_amount</th>\n      <th>tolls_amount</th>\n      <th>improvement_surcharge</th>\n      <th>total_amount</th>\n      <th>congestion_surcharge</th>\n      <th>airport_fee</th>\n    </tr>\n  </thead>\n  <tbody>\n    <tr>\n      <th>0</th>\n      <td>1</td>\n      <td>2022-12-01 00:37:35</td>\n      <td>2022-12-01 00:47:35</td>\n      <td>1.0</td>\n      <td>2.00</td>\n      <td>1.0</td>\n      <td>N</td>\n      <td>170</td>\n      <td>237</td>\n      <td>1</td>\n      <td>8.50</td>\n      <td>3.00</td>\n      <td>0.5</td>\n      <td>3.10</td>\n      <td>0.0</td>\n      <td>0.3</td>\n      <td>15.40</td>\n      <td>2.5</td>\n      <td>0.00</td>\n    </tr>\n    <tr>\n      <th>1</th>\n      <td>1</td>\n      <td>2022-12-01 00:34:35</td>\n      <td>2022-12-01 00:55:21</td>\n      <td>0.0</td>\n      <td>8.40</td>\n      <td>1.0</td>\n      <td>N</td>\n      <td>138</td>\n      <td>141</td>\n      <td>2</td>\n      <td>26.00</td>\n      <td>4.25</td>\n      <td>0.5</td>\n      <td>0.00</td>\n      <td>0.0</td>\n      <td>0.3</td>\n      <td>31.05</td>\n      <td>2.5</td>\n      <td>1.25</td>\n    </tr>\n    <tr>\n      <th>2</th>\n      <td>1</td>\n      <td>2022-12-01 00:33:26</td>\n      <td>2022-12-01 00:37:34</td>\n      <td>1.0</td>\n      <td>0.80</td>\n      <td>1.0</td>\n      <td>N</td>\n      <td>140</td>\n      <td>140</td>\n      <td>1</td>\n      <td>5.00</td>\n      <td>3.00</td>\n      <td>0.5</td>\n      <td>1.76</td>\n      <td>0.0</td>\n      <td>0.3</td>\n      <td>10.56</td>\n      <td>2.5</td>\n      <td>0.00</td>\n    </tr>\n    <tr>\n      <th>3</th>\n      <td>1</td>\n      <td>2022-12-01 00:45:51</td>\n      <td>2022-12-01 00:53:16</td>\n      <td>1.0</td>\n      <td>3.00</td>\n      <td>1.0</td>\n      <td>N</td>\n      <td>141</td>\n      <td>79</td>\n      <td>3</td>\n      <td>10.00</td>\n      <td>3.00</td>\n      <td>0.5</td>\n      <td>0.00</td>\n      <td>0.0</td>\n      <td>0.3</td>\n      <td>13.80</td>\n      <td>2.5</td>\n      <td>0.00</td>\n    </tr>\n    <tr>\n      <th>4</th>\n      <td>2</td>\n      <td>2022-12-01 00:49:49</td>\n      <td>2022-12-01 00:54:13</td>\n      <td>1.0</td>\n      <td>0.76</td>\n      <td>1.0</td>\n      <td>N</td>\n      <td>261</td>\n      <td>231</td>\n      <td>1</td>\n      <td>5.00</td>\n      <td>0.50</td>\n      <td>0.5</td>\n      <td>1.76</td>\n      <td>0.0</td>\n      <td>0.3</td>\n      <td>10.56</td>\n      <td>2.5</td>\n      <td>0.00</td>\n    </tr>\n    <tr>\n      <th>...</th>\n      <td>...</td>\n      <td>...</td>\n      <td>...</td>\n      <td>...</td>\n      <td>...</td>\n      <td>...</td>\n      <td>...</td>\n      <td>...</td>\n      <td>...</td>\n      <td>...</td>\n      <td>...</td>\n      <td>...</td>\n      <td>...</td>\n      <td>...</td>\n      <td>...</td>\n      <td>...</td>\n      <td>...</td>\n      <td>...</td>\n      <td>...</td>\n    </tr>\n    <tr>\n      <th>3399544</th>\n      <td>2</td>\n      <td>2022-12-31 23:46:00</td>\n      <td>2023-01-01 00:11:00</td>\n      <td>NaN</td>\n      <td>11.56</td>\n      <td>NaN</td>\n      <td>None</td>\n      <td>16</td>\n      <td>36</td>\n      <td>0</td>\n      <td>39.55</td>\n      <td>0.00</td>\n      <td>0.5</td>\n      <td>8.21</td>\n      <td>0.0</td>\n      <td>1.0</td>\n      <td>49.26</td>\n      <td>NaN</td>\n      <td>NaN</td>\n    </tr>\n    <tr>\n      <th>3399545</th>\n      <td>2</td>\n      <td>2022-12-31 23:13:24</td>\n      <td>2022-12-31 23:29:08</td>\n      <td>NaN</td>\n      <td>5.06</td>\n      <td>NaN</td>\n      <td>None</td>\n      <td>75</td>\n      <td>50</td>\n      <td>0</td>\n      <td>26.23</td>\n      <td>0.00</td>\n      <td>0.5</td>\n      <td>0.00</td>\n      <td>0.0</td>\n      <td>1.0</td>\n      <td>30.23</td>\n      <td>NaN</td>\n      <td>NaN</td>\n    </tr>\n    <tr>\n      <th>3399546</th>\n      <td>2</td>\n      <td>2022-12-31 23:00:49</td>\n      <td>2022-12-31 23:26:57</td>\n      <td>NaN</td>\n      <td>13.35</td>\n      <td>NaN</td>\n      <td>None</td>\n      <td>168</td>\n      <td>197</td>\n      <td>0</td>\n      <td>47.73</td>\n      <td>0.00</td>\n      <td>0.5</td>\n      <td>9.85</td>\n      <td>0.0</td>\n      <td>1.0</td>\n      <td>59.08</td>\n      <td>NaN</td>\n      <td>NaN</td>\n    </tr>\n    <tr>\n      <th>3399547</th>\n      <td>1</td>\n      <td>2022-12-31 23:02:50</td>\n      <td>2022-12-31 23:16:05</td>\n      <td>NaN</td>\n      <td>0.00</td>\n      <td>NaN</td>\n      <td>None</td>\n      <td>238</td>\n      <td>116</td>\n      <td>0</td>\n      <td>12.74</td>\n      <td>0.00</td>\n      <td>0.5</td>\n      <td>0.00</td>\n      <td>0.0</td>\n      <td>1.0</td>\n      <td>16.74</td>\n      <td>NaN</td>\n      <td>NaN</td>\n    </tr>\n    <tr>\n      <th>3399548</th>\n      <td>2</td>\n      <td>2022-12-31 23:00:15</td>\n      <td>2022-12-31 23:22:56</td>\n      <td>NaN</td>\n      <td>4.24</td>\n      <td>NaN</td>\n      <td>None</td>\n      <td>85</td>\n      <td>37</td>\n      <td>0</td>\n      <td>19.60</td>\n      <td>0.00</td>\n      <td>0.5</td>\n      <td>4.00</td>\n      <td>0.0</td>\n      <td>1.0</td>\n      <td>25.10</td>\n      <td>NaN</td>\n      <td>NaN</td>\n    </tr>\n  </tbody>\n</table>\n<p>3399549 rows × 19 columns</p>\n</div>"
     },
     "execution_count": 4,
     "metadata": {},
     "output_type": "execute_result"
    }
   ],
   "source": [
    "df2.shape\n",
    "df2"
   ],
   "metadata": {
    "collapsed": false
   }
  },
  {
   "cell_type": "code",
   "execution_count": 27,
   "outputs": [
    {
     "data": {
      "text/plain": "                         count   duration  passenger_count  trip_distance  \\\ndate       type                                                             \n2022-11-30 yellow_taxi      41  48.808943         1.829268       4.061951   \n2022-12-01 yellow_taxi  130584  19.615969         1.342595       3.762795   \n2022-12-02 yellow_taxi  129951  18.574828         1.409842       7.078983   \n2022-12-03 yellow_taxi  129172  17.765761         1.486262       7.828807   \n2022-12-04 yellow_taxi  111619  17.331685         1.459053       5.187190   \n2022-12-05 yellow_taxi  113626  17.839936         1.351442       6.654190   \n2022-12-06 yellow_taxi  120179  19.894612         1.321348       5.898933   \n2022-12-07 yellow_taxi  125589  20.066481         1.327339       5.750370   \n2022-12-08 yellow_taxi  133862  20.442521         1.338319       4.976634   \n2022-12-09 yellow_taxi  135397  19.308076         1.397184       5.262050   \n2022-12-10 yellow_taxi  129278  18.597965         1.470738       4.159240   \n2022-12-11 yellow_taxi  107756  17.423852         1.456085       3.909874   \n2022-12-12 yellow_taxi  112374  17.853251         1.354041       4.268605   \n2022-12-13 yellow_taxi  124239  18.417275         1.330301       4.677001   \n2022-12-14 yellow_taxi  129324  19.010448         1.326511       4.524565   \n2022-12-15 yellow_taxi  131175  19.900291         1.335300       3.526985   \n2022-12-16 yellow_taxi  127755  19.036533         1.389955       4.424712   \n2022-12-17 yellow_taxi  125382  18.495686         1.492043       3.782385   \n2022-12-18 yellow_taxi  102878  17.050404         1.487629       4.017527   \n2022-12-19 yellow_taxi  112460  16.925512         1.404397       4.832532   \n2022-12-20 yellow_taxi  116021  17.863042         1.395455       3.356491   \n2022-12-21 yellow_taxi  113560  18.491917         1.400350       5.167580   \n2022-12-22 yellow_taxi  102850  18.557160         1.414972       3.650806   \n2022-12-23 yellow_taxi   95028  16.382870         1.449239       3.455618   \n2022-12-24 yellow_taxi   75519  14.327706         1.514524       3.329849   \n2022-12-25 yellow_taxi   50109  16.054531         1.556460       4.138615   \n2022-12-26 yellow_taxi   67459  17.667564         1.564689       4.130195   \n2022-12-27 yellow_taxi   86290  18.507198         1.514512       4.205887   \n2022-12-28 yellow_taxi   89065  18.671067         1.510301       4.193342   \n2022-12-29 yellow_taxi   93498  18.804426         1.514585       3.791165   \n2022-12-30 yellow_taxi   92429  18.641188         1.507088       3.934692   \n2022-12-31 yellow_taxi   85075  15.312132         1.522136       5.496663   \n2023-01-01 yellow_taxi       5  12.700000         2.000000       1.752000   \n\n                         tip_amount  total_amount  airport_share  credit_share  \ndate       type                                                                 \n2022-11-30 yellow_taxi     3.546585     24.558780       0.097561      0.853659  \n2022-12-01 yellow_taxi     2.979600     22.982356       0.097968      0.774337  \n2022-12-02 yellow_taxi     2.839394     22.101694       0.090442      0.764111  \n2022-12-03 yellow_taxi     2.695179     20.934024       0.070743      0.764252  \n2022-12-04 yellow_taxi     3.014759     23.263871       0.119693      0.764637  \n2022-12-05 yellow_taxi     2.937978     22.739217       0.114965      0.762317  \n2022-12-06 yellow_taxi     3.026158     22.935720       0.093394      0.772614  \n2022-12-07 yellow_taxi     3.096526     23.262348       0.095422      0.782306  \n2022-12-08 yellow_taxi     3.129861     23.638735       0.095285      0.781088  \n2022-12-09 yellow_taxi     2.988420     22.783169       0.090822      0.770844  \n2022-12-10 yellow_taxi     2.778917     21.525987       0.068349      0.766596  \n2022-12-11 yellow_taxi     3.005270     23.033014       0.115158      0.768932  \n2022-12-12 yellow_taxi     2.899893     22.422283       0.108949      0.765604  \n2022-12-13 yellow_taxi     2.906127     22.065443       0.085835      0.775216  \n2022-12-14 yellow_taxi  1378.200417     22.219213       0.081825      0.772703  \n2022-12-15 yellow_taxi     3.023031     22.769464       0.084803      0.777198  \n2022-12-16 yellow_taxi     2.973724     22.673416       0.089515      0.760628  \n2022-12-17 yellow_taxi     2.834931     21.834228       0.073814      0.756943  \n2022-12-18 yellow_taxi     2.983972     23.269454       0.106621      0.737106  \n2022-12-19 yellow_taxi     3.319893     27.510186       0.099449      0.737053  \n2022-12-20 yellow_taxi     3.385662     27.806331       0.084640      0.753614  \n2022-12-21 yellow_taxi     3.466525     28.507353       0.089222      0.750335  \n2022-12-22 yellow_taxi     3.374415     28.403130       0.096976      0.738755  \n2022-12-23 yellow_taxi     3.123522     26.942867       0.093120      0.713221  \n2022-12-24 yellow_taxi     2.835761     25.025802       0.090904      0.668388  \n2022-12-25 yellow_taxi     3.150251     28.624608       0.139197      0.649125  \n2022-12-26 yellow_taxi     3.341734     29.594587       0.152404      0.692228  \n2022-12-27 yellow_taxi     3.418239     29.909588       0.141766      0.708170  \n2022-12-28 yellow_taxi     3.428778     29.564857       0.127996      0.714624  \n2022-12-29 yellow_taxi     3.429100     29.533789       0.123179      0.719331  \n2022-12-30 yellow_taxi     3.461874     29.836820       0.125956      0.721711  \n2022-12-31 yellow_taxi     3.162040     26.715433       0.103544      0.715087  \n2023-01-01 yellow_taxi     2.780000     22.240000       0.000000      0.800000  ",
      "text/html": "<div>\n<style scoped>\n    .dataframe tbody tr th:only-of-type {\n        vertical-align: middle;\n    }\n\n    .dataframe tbody tr th {\n        vertical-align: top;\n    }\n\n    .dataframe thead th {\n        text-align: right;\n    }\n</style>\n<table border=\"1\" class=\"dataframe\">\n  <thead>\n    <tr style=\"text-align: right;\">\n      <th></th>\n      <th></th>\n      <th>count</th>\n      <th>duration</th>\n      <th>passenger_count</th>\n      <th>trip_distance</th>\n      <th>tip_amount</th>\n      <th>total_amount</th>\n      <th>airport_share</th>\n      <th>credit_share</th>\n    </tr>\n    <tr>\n      <th>date</th>\n      <th>type</th>\n      <th></th>\n      <th></th>\n      <th></th>\n      <th></th>\n      <th></th>\n      <th></th>\n      <th></th>\n      <th></th>\n    </tr>\n  </thead>\n  <tbody>\n    <tr>\n      <th>2022-11-30</th>\n      <th>yellow_taxi</th>\n      <td>41</td>\n      <td>48.808943</td>\n      <td>1.829268</td>\n      <td>4.061951</td>\n      <td>3.546585</td>\n      <td>24.558780</td>\n      <td>0.097561</td>\n      <td>0.853659</td>\n    </tr>\n    <tr>\n      <th>2022-12-01</th>\n      <th>yellow_taxi</th>\n      <td>130584</td>\n      <td>19.615969</td>\n      <td>1.342595</td>\n      <td>3.762795</td>\n      <td>2.979600</td>\n      <td>22.982356</td>\n      <td>0.097968</td>\n      <td>0.774337</td>\n    </tr>\n    <tr>\n      <th>2022-12-02</th>\n      <th>yellow_taxi</th>\n      <td>129951</td>\n      <td>18.574828</td>\n      <td>1.409842</td>\n      <td>7.078983</td>\n      <td>2.839394</td>\n      <td>22.101694</td>\n      <td>0.090442</td>\n      <td>0.764111</td>\n    </tr>\n    <tr>\n      <th>2022-12-03</th>\n      <th>yellow_taxi</th>\n      <td>129172</td>\n      <td>17.765761</td>\n      <td>1.486262</td>\n      <td>7.828807</td>\n      <td>2.695179</td>\n      <td>20.934024</td>\n      <td>0.070743</td>\n      <td>0.764252</td>\n    </tr>\n    <tr>\n      <th>2022-12-04</th>\n      <th>yellow_taxi</th>\n      <td>111619</td>\n      <td>17.331685</td>\n      <td>1.459053</td>\n      <td>5.187190</td>\n      <td>3.014759</td>\n      <td>23.263871</td>\n      <td>0.119693</td>\n      <td>0.764637</td>\n    </tr>\n    <tr>\n      <th>2022-12-05</th>\n      <th>yellow_taxi</th>\n      <td>113626</td>\n      <td>17.839936</td>\n      <td>1.351442</td>\n      <td>6.654190</td>\n      <td>2.937978</td>\n      <td>22.739217</td>\n      <td>0.114965</td>\n      <td>0.762317</td>\n    </tr>\n    <tr>\n      <th>2022-12-06</th>\n      <th>yellow_taxi</th>\n      <td>120179</td>\n      <td>19.894612</td>\n      <td>1.321348</td>\n      <td>5.898933</td>\n      <td>3.026158</td>\n      <td>22.935720</td>\n      <td>0.093394</td>\n      <td>0.772614</td>\n    </tr>\n    <tr>\n      <th>2022-12-07</th>\n      <th>yellow_taxi</th>\n      <td>125589</td>\n      <td>20.066481</td>\n      <td>1.327339</td>\n      <td>5.750370</td>\n      <td>3.096526</td>\n      <td>23.262348</td>\n      <td>0.095422</td>\n      <td>0.782306</td>\n    </tr>\n    <tr>\n      <th>2022-12-08</th>\n      <th>yellow_taxi</th>\n      <td>133862</td>\n      <td>20.442521</td>\n      <td>1.338319</td>\n      <td>4.976634</td>\n      <td>3.129861</td>\n      <td>23.638735</td>\n      <td>0.095285</td>\n      <td>0.781088</td>\n    </tr>\n    <tr>\n      <th>2022-12-09</th>\n      <th>yellow_taxi</th>\n      <td>135397</td>\n      <td>19.308076</td>\n      <td>1.397184</td>\n      <td>5.262050</td>\n      <td>2.988420</td>\n      <td>22.783169</td>\n      <td>0.090822</td>\n      <td>0.770844</td>\n    </tr>\n    <tr>\n      <th>2022-12-10</th>\n      <th>yellow_taxi</th>\n      <td>129278</td>\n      <td>18.597965</td>\n      <td>1.470738</td>\n      <td>4.159240</td>\n      <td>2.778917</td>\n      <td>21.525987</td>\n      <td>0.068349</td>\n      <td>0.766596</td>\n    </tr>\n    <tr>\n      <th>2022-12-11</th>\n      <th>yellow_taxi</th>\n      <td>107756</td>\n      <td>17.423852</td>\n      <td>1.456085</td>\n      <td>3.909874</td>\n      <td>3.005270</td>\n      <td>23.033014</td>\n      <td>0.115158</td>\n      <td>0.768932</td>\n    </tr>\n    <tr>\n      <th>2022-12-12</th>\n      <th>yellow_taxi</th>\n      <td>112374</td>\n      <td>17.853251</td>\n      <td>1.354041</td>\n      <td>4.268605</td>\n      <td>2.899893</td>\n      <td>22.422283</td>\n      <td>0.108949</td>\n      <td>0.765604</td>\n    </tr>\n    <tr>\n      <th>2022-12-13</th>\n      <th>yellow_taxi</th>\n      <td>124239</td>\n      <td>18.417275</td>\n      <td>1.330301</td>\n      <td>4.677001</td>\n      <td>2.906127</td>\n      <td>22.065443</td>\n      <td>0.085835</td>\n      <td>0.775216</td>\n    </tr>\n    <tr>\n      <th>2022-12-14</th>\n      <th>yellow_taxi</th>\n      <td>129324</td>\n      <td>19.010448</td>\n      <td>1.326511</td>\n      <td>4.524565</td>\n      <td>1378.200417</td>\n      <td>22.219213</td>\n      <td>0.081825</td>\n      <td>0.772703</td>\n    </tr>\n    <tr>\n      <th>2022-12-15</th>\n      <th>yellow_taxi</th>\n      <td>131175</td>\n      <td>19.900291</td>\n      <td>1.335300</td>\n      <td>3.526985</td>\n      <td>3.023031</td>\n      <td>22.769464</td>\n      <td>0.084803</td>\n      <td>0.777198</td>\n    </tr>\n    <tr>\n      <th>2022-12-16</th>\n      <th>yellow_taxi</th>\n      <td>127755</td>\n      <td>19.036533</td>\n      <td>1.389955</td>\n      <td>4.424712</td>\n      <td>2.973724</td>\n      <td>22.673416</td>\n      <td>0.089515</td>\n      <td>0.760628</td>\n    </tr>\n    <tr>\n      <th>2022-12-17</th>\n      <th>yellow_taxi</th>\n      <td>125382</td>\n      <td>18.495686</td>\n      <td>1.492043</td>\n      <td>3.782385</td>\n      <td>2.834931</td>\n      <td>21.834228</td>\n      <td>0.073814</td>\n      <td>0.756943</td>\n    </tr>\n    <tr>\n      <th>2022-12-18</th>\n      <th>yellow_taxi</th>\n      <td>102878</td>\n      <td>17.050404</td>\n      <td>1.487629</td>\n      <td>4.017527</td>\n      <td>2.983972</td>\n      <td>23.269454</td>\n      <td>0.106621</td>\n      <td>0.737106</td>\n    </tr>\n    <tr>\n      <th>2022-12-19</th>\n      <th>yellow_taxi</th>\n      <td>112460</td>\n      <td>16.925512</td>\n      <td>1.404397</td>\n      <td>4.832532</td>\n      <td>3.319893</td>\n      <td>27.510186</td>\n      <td>0.099449</td>\n      <td>0.737053</td>\n    </tr>\n    <tr>\n      <th>2022-12-20</th>\n      <th>yellow_taxi</th>\n      <td>116021</td>\n      <td>17.863042</td>\n      <td>1.395455</td>\n      <td>3.356491</td>\n      <td>3.385662</td>\n      <td>27.806331</td>\n      <td>0.084640</td>\n      <td>0.753614</td>\n    </tr>\n    <tr>\n      <th>2022-12-21</th>\n      <th>yellow_taxi</th>\n      <td>113560</td>\n      <td>18.491917</td>\n      <td>1.400350</td>\n      <td>5.167580</td>\n      <td>3.466525</td>\n      <td>28.507353</td>\n      <td>0.089222</td>\n      <td>0.750335</td>\n    </tr>\n    <tr>\n      <th>2022-12-22</th>\n      <th>yellow_taxi</th>\n      <td>102850</td>\n      <td>18.557160</td>\n      <td>1.414972</td>\n      <td>3.650806</td>\n      <td>3.374415</td>\n      <td>28.403130</td>\n      <td>0.096976</td>\n      <td>0.738755</td>\n    </tr>\n    <tr>\n      <th>2022-12-23</th>\n      <th>yellow_taxi</th>\n      <td>95028</td>\n      <td>16.382870</td>\n      <td>1.449239</td>\n      <td>3.455618</td>\n      <td>3.123522</td>\n      <td>26.942867</td>\n      <td>0.093120</td>\n      <td>0.713221</td>\n    </tr>\n    <tr>\n      <th>2022-12-24</th>\n      <th>yellow_taxi</th>\n      <td>75519</td>\n      <td>14.327706</td>\n      <td>1.514524</td>\n      <td>3.329849</td>\n      <td>2.835761</td>\n      <td>25.025802</td>\n      <td>0.090904</td>\n      <td>0.668388</td>\n    </tr>\n    <tr>\n      <th>2022-12-25</th>\n      <th>yellow_taxi</th>\n      <td>50109</td>\n      <td>16.054531</td>\n      <td>1.556460</td>\n      <td>4.138615</td>\n      <td>3.150251</td>\n      <td>28.624608</td>\n      <td>0.139197</td>\n      <td>0.649125</td>\n    </tr>\n    <tr>\n      <th>2022-12-26</th>\n      <th>yellow_taxi</th>\n      <td>67459</td>\n      <td>17.667564</td>\n      <td>1.564689</td>\n      <td>4.130195</td>\n      <td>3.341734</td>\n      <td>29.594587</td>\n      <td>0.152404</td>\n      <td>0.692228</td>\n    </tr>\n    <tr>\n      <th>2022-12-27</th>\n      <th>yellow_taxi</th>\n      <td>86290</td>\n      <td>18.507198</td>\n      <td>1.514512</td>\n      <td>4.205887</td>\n      <td>3.418239</td>\n      <td>29.909588</td>\n      <td>0.141766</td>\n      <td>0.708170</td>\n    </tr>\n    <tr>\n      <th>2022-12-28</th>\n      <th>yellow_taxi</th>\n      <td>89065</td>\n      <td>18.671067</td>\n      <td>1.510301</td>\n      <td>4.193342</td>\n      <td>3.428778</td>\n      <td>29.564857</td>\n      <td>0.127996</td>\n      <td>0.714624</td>\n    </tr>\n    <tr>\n      <th>2022-12-29</th>\n      <th>yellow_taxi</th>\n      <td>93498</td>\n      <td>18.804426</td>\n      <td>1.514585</td>\n      <td>3.791165</td>\n      <td>3.429100</td>\n      <td>29.533789</td>\n      <td>0.123179</td>\n      <td>0.719331</td>\n    </tr>\n    <tr>\n      <th>2022-12-30</th>\n      <th>yellow_taxi</th>\n      <td>92429</td>\n      <td>18.641188</td>\n      <td>1.507088</td>\n      <td>3.934692</td>\n      <td>3.461874</td>\n      <td>29.836820</td>\n      <td>0.125956</td>\n      <td>0.721711</td>\n    </tr>\n    <tr>\n      <th>2022-12-31</th>\n      <th>yellow_taxi</th>\n      <td>85075</td>\n      <td>15.312132</td>\n      <td>1.522136</td>\n      <td>5.496663</td>\n      <td>3.162040</td>\n      <td>26.715433</td>\n      <td>0.103544</td>\n      <td>0.715087</td>\n    </tr>\n    <tr>\n      <th>2023-01-01</th>\n      <th>yellow_taxi</th>\n      <td>5</td>\n      <td>12.700000</td>\n      <td>2.000000</td>\n      <td>1.752000</td>\n      <td>2.780000</td>\n      <td>22.240000</td>\n      <td>0.000000</td>\n      <td>0.800000</td>\n    </tr>\n  </tbody>\n</table>\n</div>"
     },
     "execution_count": 27,
     "metadata": {},
     "output_type": "execute_result"
    }
   ],
   "source": [
    "df = df2.head(100).copy()\n",
    "\n",
    "# Remove edge cases\n",
    "df[df['tip_amount'] < 1000] # Remove data entry error with 9-figure tip\n",
    "\n",
    "# Create a column for trip duration\n",
    "duration_list = []\n",
    "time_delta_series = df['tpep_dropoff_datetime'] - df['tpep_pickup_datetime']\n",
    "for t in time_delta_series:\n",
    "    duration_list.append(t.total_seconds() / 60)\n",
    "df.insert(3, 'duration', duration_list)\n",
    "\n",
    "\n",
    "# Define date from the pickup time\n",
    "df.insert(0, 'date', df['tpep_pickup_datetime'].dt.date)\n",
    "\n",
    "# Define type\n",
    "df.insert(1, 'type', 'yellow_taxi')\n",
    "\n",
    "# Indicate if the ride was to an airport (RatecodeID = 2 or 3 or airport_fee is non-zero)\n",
    "df['airport_share'] = df.apply(lambda x: 1 if x['RatecodeID'] in [2, 3] or x['airport_fee'] > 0 else 0, axis=1)\n",
    "\n",
    "# Indicate if the payment was credit\n",
    "df['credit_share'] = df['payment_type'].apply(lambda x: 1 if x == 1 else 0)\n",
    "\n",
    "# Define columns to keep\n",
    "columns_to_keep =  ['date', 'type', 'duration', 'passenger_count', 'trip_distance', 'tip_amount', 'total_amount', 'airport_share', 'credit_share']\n",
    "df = df[columns_to_keep]\n",
    "\n",
    "# Group data\n",
    "df_daily = df.groupby(['date', 'type']).mean()\n",
    "df_daily.insert(0, 'count', df.groupby(['date', 'type']).count()['duration'])\n",
    "\n",
    "df_daily"
   ],
   "metadata": {
    "collapsed": false
   }
  },
  {
   "cell_type": "code",
   "execution_count": 14,
   "outputs": [
    {
     "data": {
      "text/plain": "Index(['date', 'type', 'VendorID', 'tpep_pickup_datetime',\n       'tpep_dropoff_datetime', 'duration', 'passenger_count', 'trip_distance',\n       'RatecodeID', 'store_and_fwd_flag', 'PULocationID', 'DOLocationID',\n       'payment_type', 'fare_amount', 'extra', 'mta_tax', 'tip_amount',\n       'tolls_amount', 'improvement_surcharge', 'total_amount',\n       'congestion_surcharge', 'airport_fee', 'airport'],\n      dtype='object')"
     },
     "execution_count": 14,
     "metadata": {},
     "output_type": "execute_result"
    }
   ],
   "source": [
    "df.columns"
   ],
   "metadata": {
    "collapsed": false
   }
  },
  {
   "cell_type": "code",
   "execution_count": null,
   "outputs": [],
   "source": [],
   "metadata": {
    "collapsed": false
   }
  }
 ],
 "metadata": {
  "kernelspec": {
   "display_name": "Python 3",
   "language": "python",
   "name": "python3"
  },
  "language_info": {
   "codemirror_mode": {
    "name": "ipython",
    "version": 2
   },
   "file_extension": ".py",
   "mimetype": "text/x-python",
   "name": "python",
   "nbconvert_exporter": "python",
   "pygments_lexer": "ipython2",
   "version": "2.7.6"
  }
 },
 "nbformat": 4,
 "nbformat_minor": 0
}