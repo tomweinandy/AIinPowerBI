{
 "cells": [
  {
   "cell_type": "markdown",
   "source": [
    "https://www.nyc.gov/site/tlc/about/tlc-trip-record-data.page\n",
    "\n",
    "[Data dictionary](https://www.nyc.gov/assets/tlc/downloads/pdf/data_dictionary_trip_records_yellow.pdf)"
   ],
   "metadata": {
    "collapsed": false
   }
  },
  {
   "cell_type": "code",
   "execution_count": 107,
   "metadata": {
    "collapsed": true
   },
   "outputs": [],
   "source": [
    "import pandas as pd\n",
    "import numpy as np\n",
    "import datetime\n",
    "import time\n",
    "import winsound\n",
    "import pyarrow\n",
    "# import fastparquet\n",
    "\n",
    "# url = \"https://d37ci6vzurychx.cloudfront.net/trip-data/yellow_tripdata_2023-01.parquet\"\n",
    "# url3 = \"https://d37ci6vzurychx.cloudfront.net/trip-data/yellow_tripdata_2022-12.parquet\"\n",
    "# df2 = pd.read_parquet(url)\n",
    "# df3 = pd.read_parquet(url)"
   ]
  },
  {
   "cell_type": "code",
   "execution_count": 108,
   "outputs": [],
   "source": [
    "# df2"
   ],
   "metadata": {
    "collapsed": false,
    "pycharm": {
     "name": "#%%\n"
    }
   }
  },
  {
   "cell_type": "code",
   "execution_count": 109,
   "outputs": [],
   "source": [
    "# col = 'total_amount'\n",
    "# print(df2[col].min(), df2[col].max())\n",
    "\n",
    "# len(df2[df2['trip_distance']>100])/len(df2)"
   ],
   "metadata": {
    "collapsed": false,
    "pycharm": {
     "name": "#%%\n"
    }
   }
  },
  {
   "cell_type": "code",
   "execution_count": 110,
   "outputs": [],
   "source": [
    "# df2.columns"
   ],
   "metadata": {
    "collapsed": false,
    "pycharm": {
     "name": "#%%\n"
    }
   }
  },
  {
   "cell_type": "code",
   "execution_count": 112,
   "outputs": [
    {
     "name": "stdout",
     "output_type": "stream",
     "text": [
      "Adding 2009-01...\n",
      "Adding 2009-02...\n",
      "Adding 2009-03...\n",
      "Adding 2009-04...\n",
      "Adding 2009-05...\n",
      "Adding 2009-06...\n",
      "Adding 2009-07...\n",
      "Adding 2009-08...\n",
      "Adding 2009-09...\n",
      "Adding 2009-10...\n",
      "Adding 2009-11...\n",
      "Adding 2009-12...\n",
      "Adding 2010-01...\n",
      "Adding 2010-02...\n",
      "Adding 2010-03...\n",
      "Adding 2010-04...\n",
      "Adding 2010-05...\n",
      "Adding 2010-06...\n",
      "Adding 2010-07...\n",
      "Adding 2010-08...\n",
      "Adding 2010-09...\n",
      "Adding 2010-10...\n",
      "Adding 2010-11...\n",
      "Adding 2010-12...\n"
     ]
    },
    {
     "name": "stderr",
     "output_type": "stream",
     "text": [
      "\n",
      "KeyboardInterrupt\n",
      "\n"
     ]
    }
   ],
   "source": [
    "# Define variables specific to this dataset\n",
    "car_type = 'yellow_taxi'\n",
    "month_list = ['01', '02', '03', '04', '05', '06', '07', '08', '09', '10', '11', '12']\n",
    "year_list = [str(i) for i in range(2009, 2024)]\n",
    "first_day = datetime.date(2009, 1, 1)\n",
    "last_day = datetime.date(2023, 1, 31)\n",
    "\n",
    "# More variables\n",
    "last_month = last_day.strftime('%Y-%m')\n",
    "data = pd.DataFrame()\n",
    "\n",
    "# Loop through each year-month\n",
    "for year in year_list:\n",
    "    for month in month_list:\n",
    "        print(f\"Adding {year}-{month}...\")\n",
    "\n",
    "        # Load data\n",
    "        url = f\"https://d37ci6vzurychx.cloudfront.net/trip-data/yellow_tripdata_{year}-{month}.parquet\"\n",
    "        df = pd.read_parquet(url)\n",
    "\n",
    "        # Rename columns\n",
    "        new_names = {'Passanger_Count': 'passanger_count',\n",
    "                     'Trip_Distance': 'trip_distance',\n",
    "                     'Payment_Type': 'payment_type',\n",
    "                     'Tip_Amt': 'tip_amount',\n",
    "                     'Total_Amt': 'total_amount',\n",
    "                     'Trip_Pickup_DateTime': 'tpep_pickup_datetime',\n",
    "                     'Trip_Dropoff_DateTime': 'tpep_dropoff_datetime',\n",
    "                     'pickup_datetime': 'tpep_pickup_datetime',\n",
    "                     'dropoff_datetime': 'tpep_dropoff_datetime',\n",
    "                     'old_col2': 'new_col2'}\n",
    "        df = df.rename(columns=new_names)\n",
    "\n",
    "        # Exclude dates not in range\n",
    "        df['tpep_pickup_datetime'] = pd.to_datetime(df['tpep_pickup_datetime'])\n",
    "        df['tpep_dropoff_datetime'] = pd.to_datetime(df['tpep_dropoff_datetime'])\n",
    "        df = df[df['tpep_pickup_datetime'].dt.date > first_day]\n",
    "        df = df[df['tpep_pickup_datetime'].dt.date > last_day]\n",
    "\n",
    "        # Create a column for trip duration\n",
    "        duration_list = []\n",
    "        time_delta_series = df['tpep_dropoff_datetime'] - df['tpep_pickup_datetime']\n",
    "        time_delta_series = time_delta_series.dt.total_seconds() / 60\n",
    "        df.insert(3, 'duration', time_delta_series)\n",
    "\n",
    "        # Define date from the pickup time\n",
    "        df.insert(0, 'date', pd.to_datetime(df['tpep_pickup_datetime']).dt.date)\n",
    "\n",
    "        # Define type of car\n",
    "        df.insert(1, 'type', car_type)\n",
    "\n",
    "        # Create a variable for the share of trip to an airport\n",
    "        if 'RatecodeID' in df.columns:\n",
    "            if 'airport_fee' in df.columns:\n",
    "                # Fill None values with NaN\n",
    "                df['airport_fee'] = df['airport_fee'].fillna(value=np.nan)\n",
    "\n",
    "                # Indicate if the ride was to an airport (RatecodeID = 2 or 3 or airport_fee is non-zero)\n",
    "                df['airport_share'] = df.apply(lambda x: 1 if x['RatecodeID'] in [2, 3] or x['airport_fee'] > 0 else 0, axis=1)\n",
    "            else:\n",
    "                df['airport_share'] = df.apply(lambda x: 1 if x['RatecodeID'] in [2, 3] else 0, axis=1)\n",
    "        else:\n",
    "            # Add blank column\n",
    "            df['airport_share'] = np.nan\n",
    "\n",
    "        # Indicate if the payment was credit (if column exists)\n",
    "        if 'credit_share' in df.columns:\n",
    "            df['credit_share'] = df['payment_type'].apply(lambda x: 1 if x == 1 or x =='CREDIT' else 0)\n",
    "        else:\n",
    "            df['credit_share'] = np.nan\n",
    "\n",
    "        # Create empty column if it does not exist\n",
    "        if 'passenger_count' not in df.columns:\n",
    "            df['passenger_count'] = np.nan\n",
    "\n",
    "        # Define columns to keep\n",
    "        columns_to_keep =  ['date', 'type', 'duration', 'passenger_count', 'trip_distance', 'tip_amount', 'total_amount', 'airport_share', 'credit_share']\n",
    "        df = df[columns_to_keep]\n",
    "\n",
    "        # Replace rows in defined range with NaN (high likelihood of being outliers or errors)\n",
    "        df.loc[(df['passenger_count'] < 1) | (df['passenger_count'] > 9), 'passenger_count'] = np.nan\n",
    "        df.loc[(df['trip_distance'] <= 0) | (df['trip_distance'] > 100), 'trip_distance'] = np.nan\n",
    "        df.loc[(df['tip_amount'] < 0) | (df['tip_amount'] > 1000), 'tip_amount'] = np.nan\n",
    "        df.loc[(df['total_amount'] < 0) | (df['total_amount'] > 1000), 'total_amount'] = np.nan\n",
    "        df.loc[(df['duration'] < 0) | (df['duration'] > 500), 'duration'] = np.nan\n",
    "\n",
    "        # Group data\n",
    "        df_daily = df.groupby(['date', 'type']).mean()\n",
    "        df_daily.insert(0, 'count', df.groupby(['date', 'type']).count()['duration'])\n",
    "\n",
    "        data = pd.concat([data, df_daily], axis=0)\n",
    "        winsound.Beep(2500, 1000)\n",
    "\n",
    "        # Stop the loop on the last month\n",
    "        if f\"{year}-{month}\" == last_month:\n",
    "            break\n",
    "\n",
    "    # Stop the loop on the last month\n",
    "    if f\"{year}-{month}\" == last_month:\n",
    "        break\n",
    "\n",
    "# Play sound announcing completion\n",
    "winsound.Beep(2500, 1000)\n",
    "time.sleep(0.5)\n",
    "winsound.Beep(2500, 1000)"
   ],
   "metadata": {
    "collapsed": false,
    "pycharm": {
     "name": "#%%\n"
    }
   }
  },
  {
   "cell_type": "code",
   "execution_count": null,
   "outputs": [],
   "source": [
    "data #.to_csv('data2.csv')"
   ],
   "metadata": {
    "collapsed": false,
    "pycharm": {
     "name": "#%%\n"
    }
   }
  },
  {
   "cell_type": "code",
   "execution_count": null,
   "outputs": [],
   "source": [
    "import winsound\n",
    "winsound.Beep(2500, 1000)"
   ],
   "metadata": {
    "collapsed": false,
    "pycharm": {
     "name": "#%%\n"
    }
   }
  },
  {
   "cell_type": "code",
   "execution_count": null,
   "outputs": [],
   "source": [
    "break"
   ],
   "metadata": {
    "collapsed": false,
    "pycharm": {
     "name": "#%%\n"
    }
   }
  },
  {
   "cell_type": "code",
   "execution_count": 74,
   "outputs": [
    {
     "data": {
      "text/plain": "                         count     duration  passenger_count  trip_distance  \\\ndate       type                                                               \n2028-12-07 yellow_taxi       1    40.966667         3.000000      16.150000   \n2029-05-06 yellow_taxi       1    20.000000         4.000000       4.470000   \n2070-08-29 yellow_taxi       1  1148.466667         1.000000       0.000000   \n2041-06-25 yellow_taxi       1     6.000000         1.000000       1.340000   \n2090-12-31 yellow_taxi       1    37.383333         2.000000      18.600000   \n...                        ...          ...              ...            ...   \n2010-09-22 yellow_taxi  678683    13.078569         1.512846       2.688022   \n2010-09-23 yellow_taxi  679260    13.303752         1.514227       2.826557   \n2010-09-24 yellow_taxi  725850    13.126564         1.565880       2.779904   \n2010-09-25 yellow_taxi  763954    12.259220         1.669161       2.789760   \n2010-09-19 yellow_taxi  849414    12.243235         1.580665       3.082259   \n\n                        tip_amount  total_amount  airport_share  credit_share  \ndate       type                                                                \n2028-12-07 yellow_taxi    0.000000     63.100000            1.0           NaN  \n2029-05-06 yellow_taxi    4.910000     29.470000            0.0           NaN  \n2070-08-29 yellow_taxi    0.000000      0.000000            0.0           NaN  \n2041-06-25 yellow_taxi    0.000000      8.300000            0.0           NaN  \n2090-12-31 yellow_taxi    0.000000     61.420000            1.0           NaN  \n...                            ...           ...            ...           ...  \n2010-09-22 yellow_taxi    0.883752     12.192887            NaN           NaN  \n2010-09-23 yellow_taxi    0.917060     12.614110            NaN           NaN  \n2010-09-24 yellow_taxi    0.842562     12.331652            NaN           NaN  \n2010-09-25 yellow_taxi    0.717480     11.695756            NaN           NaN  \n2010-09-19 yellow_taxi    0.790757     12.373424            NaN           NaN  \n\n[5197 rows x 8 columns]",
      "text/html": "<div>\n<style scoped>\n    .dataframe tbody tr th:only-of-type {\n        vertical-align: middle;\n    }\n\n    .dataframe tbody tr th {\n        vertical-align: top;\n    }\n\n    .dataframe thead th {\n        text-align: right;\n    }\n</style>\n<table border=\"1\" class=\"dataframe\">\n  <thead>\n    <tr style=\"text-align: right;\">\n      <th></th>\n      <th></th>\n      <th>count</th>\n      <th>duration</th>\n      <th>passenger_count</th>\n      <th>trip_distance</th>\n      <th>tip_amount</th>\n      <th>total_amount</th>\n      <th>airport_share</th>\n      <th>credit_share</th>\n    </tr>\n    <tr>\n      <th>date</th>\n      <th>type</th>\n      <th></th>\n      <th></th>\n      <th></th>\n      <th></th>\n      <th></th>\n      <th></th>\n      <th></th>\n      <th></th>\n    </tr>\n  </thead>\n  <tbody>\n    <tr>\n      <th>2028-12-07</th>\n      <th>yellow_taxi</th>\n      <td>1</td>\n      <td>40.966667</td>\n      <td>3.000000</td>\n      <td>16.150000</td>\n      <td>0.000000</td>\n      <td>63.100000</td>\n      <td>1.0</td>\n      <td>NaN</td>\n    </tr>\n    <tr>\n      <th>2029-05-06</th>\n      <th>yellow_taxi</th>\n      <td>1</td>\n      <td>20.000000</td>\n      <td>4.000000</td>\n      <td>4.470000</td>\n      <td>4.910000</td>\n      <td>29.470000</td>\n      <td>0.0</td>\n      <td>NaN</td>\n    </tr>\n    <tr>\n      <th>2070-08-29</th>\n      <th>yellow_taxi</th>\n      <td>1</td>\n      <td>1148.466667</td>\n      <td>1.000000</td>\n      <td>0.000000</td>\n      <td>0.000000</td>\n      <td>0.000000</td>\n      <td>0.0</td>\n      <td>NaN</td>\n    </tr>\n    <tr>\n      <th>2041-06-25</th>\n      <th>yellow_taxi</th>\n      <td>1</td>\n      <td>6.000000</td>\n      <td>1.000000</td>\n      <td>1.340000</td>\n      <td>0.000000</td>\n      <td>8.300000</td>\n      <td>0.0</td>\n      <td>NaN</td>\n    </tr>\n    <tr>\n      <th>2090-12-31</th>\n      <th>yellow_taxi</th>\n      <td>1</td>\n      <td>37.383333</td>\n      <td>2.000000</td>\n      <td>18.600000</td>\n      <td>0.000000</td>\n      <td>61.420000</td>\n      <td>1.0</td>\n      <td>NaN</td>\n    </tr>\n    <tr>\n      <th>...</th>\n      <th>...</th>\n      <td>...</td>\n      <td>...</td>\n      <td>...</td>\n      <td>...</td>\n      <td>...</td>\n      <td>...</td>\n      <td>...</td>\n      <td>...</td>\n    </tr>\n    <tr>\n      <th>2010-09-22</th>\n      <th>yellow_taxi</th>\n      <td>678683</td>\n      <td>13.078569</td>\n      <td>1.512846</td>\n      <td>2.688022</td>\n      <td>0.883752</td>\n      <td>12.192887</td>\n      <td>NaN</td>\n      <td>NaN</td>\n    </tr>\n    <tr>\n      <th>2010-09-23</th>\n      <th>yellow_taxi</th>\n      <td>679260</td>\n      <td>13.303752</td>\n      <td>1.514227</td>\n      <td>2.826557</td>\n      <td>0.917060</td>\n      <td>12.614110</td>\n      <td>NaN</td>\n      <td>NaN</td>\n    </tr>\n    <tr>\n      <th>2010-09-24</th>\n      <th>yellow_taxi</th>\n      <td>725850</td>\n      <td>13.126564</td>\n      <td>1.565880</td>\n      <td>2.779904</td>\n      <td>0.842562</td>\n      <td>12.331652</td>\n      <td>NaN</td>\n      <td>NaN</td>\n    </tr>\n    <tr>\n      <th>2010-09-25</th>\n      <th>yellow_taxi</th>\n      <td>763954</td>\n      <td>12.259220</td>\n      <td>1.669161</td>\n      <td>2.789760</td>\n      <td>0.717480</td>\n      <td>11.695756</td>\n      <td>NaN</td>\n      <td>NaN</td>\n    </tr>\n    <tr>\n      <th>2010-09-19</th>\n      <th>yellow_taxi</th>\n      <td>849414</td>\n      <td>12.243235</td>\n      <td>1.580665</td>\n      <td>3.082259</td>\n      <td>0.790757</td>\n      <td>12.373424</td>\n      <td>NaN</td>\n      <td>NaN</td>\n    </tr>\n  </tbody>\n</table>\n<p>5197 rows × 8 columns</p>\n</div>"
     },
     "execution_count": 74,
     "metadata": {},
     "output_type": "execute_result"
    }
   ],
   "source": [
    "da = data.copy()\n",
    "da = da.sort_values(by='count', ascending=False) #.drop_duplicates(subset=['date'])\n",
    "da = da[~da.index.duplicated(keep='first')]\n",
    "da.sort_values('count')"
   ],
   "metadata": {
    "collapsed": false,
    "pycharm": {
     "name": "#%%\n"
    }
   }
  },
  {
   "cell_type": "code",
   "execution_count": 8,
   "outputs": [
    {
     "data": {
      "text/plain": "                         count      duration  passenger_count  trip_distance  \\\ndate       type                                                                \n2002-10-24 yellow_taxi      61  4.568739e+06         1.262295       5.747869   \n2002-10-26 yellow_taxi      44  3.753438e+06         1.136364       2.631136   \n2002-10-21 yellow_taxi      42  3.440656e+06         1.214286       5.127619   \n2002-10-27 yellow_taxi      64  3.064353e+06         1.406250       4.689531   \n2002-10-23 yellow_taxi      63  2.949137e+06         1.190476       4.025238   \n...                        ...           ...              ...            ...   \n2015-04-04 yellow_taxi  439978 -3.679601e+01         1.762027       2.742896   \n2014-12-20 yellow_taxi  499142 -1.067791e+02         1.744496       2.870625   \n2015-07-31 yellow_taxi  397703 -1.358162e+02         1.696935      33.811875   \n2018-11-13 yellow_taxi  287048 -1.502714e+02         1.535233       2.852006   \n2015-12-26 yellow_taxi  238522 -2.400369e+02         1.790405       3.092139   \n\n                        tip_amount  total_amount  airport_share  credit_share  \ndate       type                                                                \n2002-10-24 yellow_taxi    1.252787     30.173279       0.229508           NaN  \n2002-10-26 yellow_taxi    0.647273     21.140455       0.090909           NaN  \n2002-10-21 yellow_taxi    1.380714     28.511667       0.119048           NaN  \n2002-10-27 yellow_taxi    1.879219     24.697969       0.250000           NaN  \n2002-10-23 yellow_taxi    1.744127     24.702857       0.222222           NaN  \n...                            ...           ...            ...           ...  \n2015-04-04 yellow_taxi    1.325973     14.191453       0.014596           NaN  \n2014-12-20 yellow_taxi    1.424808     14.754150       0.020092           NaN  \n2015-07-31 yellow_taxi    1.764190     17.364206       0.025104           NaN  \n2018-11-13 yellow_taxi    2.044547     16.923080       0.023979           NaN  \n2015-12-26 yellow_taxi    1.310975     15.334715       0.029259           NaN  \n\n[6485 rows x 8 columns]",
      "text/html": "<div>\n<style scoped>\n    .dataframe tbody tr th:only-of-type {\n        vertical-align: middle;\n    }\n\n    .dataframe tbody tr th {\n        vertical-align: top;\n    }\n\n    .dataframe thead th {\n        text-align: right;\n    }\n</style>\n<table border=\"1\" class=\"dataframe\">\n  <thead>\n    <tr style=\"text-align: right;\">\n      <th></th>\n      <th></th>\n      <th>count</th>\n      <th>duration</th>\n      <th>passenger_count</th>\n      <th>trip_distance</th>\n      <th>tip_amount</th>\n      <th>total_amount</th>\n      <th>airport_share</th>\n      <th>credit_share</th>\n    </tr>\n    <tr>\n      <th>date</th>\n      <th>type</th>\n      <th></th>\n      <th></th>\n      <th></th>\n      <th></th>\n      <th></th>\n      <th></th>\n      <th></th>\n      <th></th>\n    </tr>\n  </thead>\n  <tbody>\n    <tr>\n      <th>2002-10-24</th>\n      <th>yellow_taxi</th>\n      <td>61</td>\n      <td>4.568739e+06</td>\n      <td>1.262295</td>\n      <td>5.747869</td>\n      <td>1.252787</td>\n      <td>30.173279</td>\n      <td>0.229508</td>\n      <td>NaN</td>\n    </tr>\n    <tr>\n      <th>2002-10-26</th>\n      <th>yellow_taxi</th>\n      <td>44</td>\n      <td>3.753438e+06</td>\n      <td>1.136364</td>\n      <td>2.631136</td>\n      <td>0.647273</td>\n      <td>21.140455</td>\n      <td>0.090909</td>\n      <td>NaN</td>\n    </tr>\n    <tr>\n      <th>2002-10-21</th>\n      <th>yellow_taxi</th>\n      <td>42</td>\n      <td>3.440656e+06</td>\n      <td>1.214286</td>\n      <td>5.127619</td>\n      <td>1.380714</td>\n      <td>28.511667</td>\n      <td>0.119048</td>\n      <td>NaN</td>\n    </tr>\n    <tr>\n      <th>2002-10-27</th>\n      <th>yellow_taxi</th>\n      <td>64</td>\n      <td>3.064353e+06</td>\n      <td>1.406250</td>\n      <td>4.689531</td>\n      <td>1.879219</td>\n      <td>24.697969</td>\n      <td>0.250000</td>\n      <td>NaN</td>\n    </tr>\n    <tr>\n      <th>2002-10-23</th>\n      <th>yellow_taxi</th>\n      <td>63</td>\n      <td>2.949137e+06</td>\n      <td>1.190476</td>\n      <td>4.025238</td>\n      <td>1.744127</td>\n      <td>24.702857</td>\n      <td>0.222222</td>\n      <td>NaN</td>\n    </tr>\n    <tr>\n      <th>...</th>\n      <th>...</th>\n      <td>...</td>\n      <td>...</td>\n      <td>...</td>\n      <td>...</td>\n      <td>...</td>\n      <td>...</td>\n      <td>...</td>\n      <td>...</td>\n    </tr>\n    <tr>\n      <th>2015-04-04</th>\n      <th>yellow_taxi</th>\n      <td>439978</td>\n      <td>-3.679601e+01</td>\n      <td>1.762027</td>\n      <td>2.742896</td>\n      <td>1.325973</td>\n      <td>14.191453</td>\n      <td>0.014596</td>\n      <td>NaN</td>\n    </tr>\n    <tr>\n      <th>2014-12-20</th>\n      <th>yellow_taxi</th>\n      <td>499142</td>\n      <td>-1.067791e+02</td>\n      <td>1.744496</td>\n      <td>2.870625</td>\n      <td>1.424808</td>\n      <td>14.754150</td>\n      <td>0.020092</td>\n      <td>NaN</td>\n    </tr>\n    <tr>\n      <th>2015-07-31</th>\n      <th>yellow_taxi</th>\n      <td>397703</td>\n      <td>-1.358162e+02</td>\n      <td>1.696935</td>\n      <td>33.811875</td>\n      <td>1.764190</td>\n      <td>17.364206</td>\n      <td>0.025104</td>\n      <td>NaN</td>\n    </tr>\n    <tr>\n      <th>2018-11-13</th>\n      <th>yellow_taxi</th>\n      <td>287048</td>\n      <td>-1.502714e+02</td>\n      <td>1.535233</td>\n      <td>2.852006</td>\n      <td>2.044547</td>\n      <td>16.923080</td>\n      <td>0.023979</td>\n      <td>NaN</td>\n    </tr>\n    <tr>\n      <th>2015-12-26</th>\n      <th>yellow_taxi</th>\n      <td>238522</td>\n      <td>-2.400369e+02</td>\n      <td>1.790405</td>\n      <td>3.092139</td>\n      <td>1.310975</td>\n      <td>15.334715</td>\n      <td>0.029259</td>\n      <td>NaN</td>\n    </tr>\n  </tbody>\n</table>\n<p>6485 rows × 8 columns</p>\n</div>"
     },
     "execution_count": 8,
     "metadata": {},
     "output_type": "execute_result"
    }
   ],
   "source": [
    "data.sort_values(by='duration', ascending=False) #.drop_duplicates(subset=['date'])"
   ],
   "metadata": {
    "collapsed": false,
    "pycharm": {
     "name": "#%%\n"
    }
   }
  },
  {
   "cell_type": "markdown",
   "source": [
    "# Add weather data\n",
    "[Data source](https://www.ncei.noaa.gov)\n",
    "[Documentation](https://www.ncei.noaa.gov/data/daily-summaries/doc/GHCND_documentation.pdf)"
   ],
   "metadata": {
    "collapsed": false
   }
  },
  {
   "cell_type": "code",
   "execution_count": 28,
   "outputs": [
    {
     "data": {
      "text/plain": "            date         type   count   duration  passenger_count  \\\n0     2009-01-01  yellow_taxi  327625  10.455512              NaN   \n1     2009-01-02  yellow_taxi  376708  11.105919              NaN   \n2     2009-01-03  yellow_taxi  432710  11.355001              NaN   \n3     2009-01-04  yellow_taxi  367525  11.798098              NaN   \n4     2009-01-05  yellow_taxi  370901  11.144530              NaN   \n...          ...          ...     ...        ...              ...   \n6480  2023-01-28  yellow_taxi  111645  15.499590         1.438778   \n6481  2023-01-29  yellow_taxi   88131  14.910676         1.403728   \n6482  2023-01-30  yellow_taxi   83768  15.515086         1.292904   \n6483  2023-01-31  yellow_taxi  100372  16.183662         1.285499   \n6484  2023-02-01  yellow_taxi      10  14.676667         1.600000   \n\n      trip_distance  tip_amount  total_amount  airport_share  credit_share  \\\n0          2.880037    0.329896     10.377966            NaN           NaN   \n1          2.683653    0.339906     10.353366            NaN           NaN   \n2          2.725801    0.366799     10.278468            NaN           NaN   \n3          3.068749    0.452462     11.064838            NaN           NaN   \n4          2.788340    0.439258     10.605498            NaN           NaN   \n...             ...         ...           ...            ...           ...   \n6480       3.135049    3.119819     24.762694       0.059089           NaN   \n6481       3.719613    3.456762     27.428120       0.110177           NaN   \n6482       3.524962    3.423433     27.565056       0.111057           NaN   \n6483       4.808261    3.360753     26.573676       0.080182           NaN   \n6484       4.573000    3.881000     31.381000       0.100000           NaN   \n\n      avg_wind_speed  precipitation  snow  freezing_rain  \n0              11.18           0.00   0.0            0.0  \n1               6.26           0.00   0.0            0.0  \n2              10.07           0.00   0.0            0.0  \n3               7.61           0.00   0.0            0.0  \n4               6.93           0.00   0.0            0.0  \n...              ...            ...   ...            ...  \n6480            7.16           0.00   0.0            0.0  \n6481            4.70           0.00   0.0            0.0  \n6482            2.91           0.00   0.0            0.0  \n6483            4.25           0.06   0.0            0.0  \n6484             NaN            NaN   NaN            NaN  \n\n[6485 rows x 14 columns]",
      "text/html": "<div>\n<style scoped>\n    .dataframe tbody tr th:only-of-type {\n        vertical-align: middle;\n    }\n\n    .dataframe tbody tr th {\n        vertical-align: top;\n    }\n\n    .dataframe thead th {\n        text-align: right;\n    }\n</style>\n<table border=\"1\" class=\"dataframe\">\n  <thead>\n    <tr style=\"text-align: right;\">\n      <th></th>\n      <th>date</th>\n      <th>type</th>\n      <th>count</th>\n      <th>duration</th>\n      <th>passenger_count</th>\n      <th>trip_distance</th>\n      <th>tip_amount</th>\n      <th>total_amount</th>\n      <th>airport_share</th>\n      <th>credit_share</th>\n      <th>avg_wind_speed</th>\n      <th>precipitation</th>\n      <th>snow</th>\n      <th>freezing_rain</th>\n    </tr>\n  </thead>\n  <tbody>\n    <tr>\n      <th>0</th>\n      <td>2009-01-01</td>\n      <td>yellow_taxi</td>\n      <td>327625</td>\n      <td>10.455512</td>\n      <td>NaN</td>\n      <td>2.880037</td>\n      <td>0.329896</td>\n      <td>10.377966</td>\n      <td>NaN</td>\n      <td>NaN</td>\n      <td>11.18</td>\n      <td>0.00</td>\n      <td>0.0</td>\n      <td>0.0</td>\n    </tr>\n    <tr>\n      <th>1</th>\n      <td>2009-01-02</td>\n      <td>yellow_taxi</td>\n      <td>376708</td>\n      <td>11.105919</td>\n      <td>NaN</td>\n      <td>2.683653</td>\n      <td>0.339906</td>\n      <td>10.353366</td>\n      <td>NaN</td>\n      <td>NaN</td>\n      <td>6.26</td>\n      <td>0.00</td>\n      <td>0.0</td>\n      <td>0.0</td>\n    </tr>\n    <tr>\n      <th>2</th>\n      <td>2009-01-03</td>\n      <td>yellow_taxi</td>\n      <td>432710</td>\n      <td>11.355001</td>\n      <td>NaN</td>\n      <td>2.725801</td>\n      <td>0.366799</td>\n      <td>10.278468</td>\n      <td>NaN</td>\n      <td>NaN</td>\n      <td>10.07</td>\n      <td>0.00</td>\n      <td>0.0</td>\n      <td>0.0</td>\n    </tr>\n    <tr>\n      <th>3</th>\n      <td>2009-01-04</td>\n      <td>yellow_taxi</td>\n      <td>367525</td>\n      <td>11.798098</td>\n      <td>NaN</td>\n      <td>3.068749</td>\n      <td>0.452462</td>\n      <td>11.064838</td>\n      <td>NaN</td>\n      <td>NaN</td>\n      <td>7.61</td>\n      <td>0.00</td>\n      <td>0.0</td>\n      <td>0.0</td>\n    </tr>\n    <tr>\n      <th>4</th>\n      <td>2009-01-05</td>\n      <td>yellow_taxi</td>\n      <td>370901</td>\n      <td>11.144530</td>\n      <td>NaN</td>\n      <td>2.788340</td>\n      <td>0.439258</td>\n      <td>10.605498</td>\n      <td>NaN</td>\n      <td>NaN</td>\n      <td>6.93</td>\n      <td>0.00</td>\n      <td>0.0</td>\n      <td>0.0</td>\n    </tr>\n    <tr>\n      <th>...</th>\n      <td>...</td>\n      <td>...</td>\n      <td>...</td>\n      <td>...</td>\n      <td>...</td>\n      <td>...</td>\n      <td>...</td>\n      <td>...</td>\n      <td>...</td>\n      <td>...</td>\n      <td>...</td>\n      <td>...</td>\n      <td>...</td>\n      <td>...</td>\n    </tr>\n    <tr>\n      <th>6480</th>\n      <td>2023-01-28</td>\n      <td>yellow_taxi</td>\n      <td>111645</td>\n      <td>15.499590</td>\n      <td>1.438778</td>\n      <td>3.135049</td>\n      <td>3.119819</td>\n      <td>24.762694</td>\n      <td>0.059089</td>\n      <td>NaN</td>\n      <td>7.16</td>\n      <td>0.00</td>\n      <td>0.0</td>\n      <td>0.0</td>\n    </tr>\n    <tr>\n      <th>6481</th>\n      <td>2023-01-29</td>\n      <td>yellow_taxi</td>\n      <td>88131</td>\n      <td>14.910676</td>\n      <td>1.403728</td>\n      <td>3.719613</td>\n      <td>3.456762</td>\n      <td>27.428120</td>\n      <td>0.110177</td>\n      <td>NaN</td>\n      <td>4.70</td>\n      <td>0.00</td>\n      <td>0.0</td>\n      <td>0.0</td>\n    </tr>\n    <tr>\n      <th>6482</th>\n      <td>2023-01-30</td>\n      <td>yellow_taxi</td>\n      <td>83768</td>\n      <td>15.515086</td>\n      <td>1.292904</td>\n      <td>3.524962</td>\n      <td>3.423433</td>\n      <td>27.565056</td>\n      <td>0.111057</td>\n      <td>NaN</td>\n      <td>2.91</td>\n      <td>0.00</td>\n      <td>0.0</td>\n      <td>0.0</td>\n    </tr>\n    <tr>\n      <th>6483</th>\n      <td>2023-01-31</td>\n      <td>yellow_taxi</td>\n      <td>100372</td>\n      <td>16.183662</td>\n      <td>1.285499</td>\n      <td>4.808261</td>\n      <td>3.360753</td>\n      <td>26.573676</td>\n      <td>0.080182</td>\n      <td>NaN</td>\n      <td>4.25</td>\n      <td>0.06</td>\n      <td>0.0</td>\n      <td>0.0</td>\n    </tr>\n    <tr>\n      <th>6484</th>\n      <td>2023-02-01</td>\n      <td>yellow_taxi</td>\n      <td>10</td>\n      <td>14.676667</td>\n      <td>1.600000</td>\n      <td>4.573000</td>\n      <td>3.881000</td>\n      <td>31.381000</td>\n      <td>0.100000</td>\n      <td>NaN</td>\n      <td>NaN</td>\n      <td>NaN</td>\n      <td>NaN</td>\n      <td>NaN</td>\n    </tr>\n  </tbody>\n</table>\n<p>6485 rows × 14 columns</p>\n</div>"
     },
     "execution_count": 28,
     "metadata": {},
     "output_type": "execute_result"
    }
   ],
   "source": [
    "import pandas as pd\n",
    "dfw = pd.read_csv('nyc_weather.csv')\n",
    "df = pd.read_csv('data.csv')\n",
    "\n",
    "col_dict = {\n",
    "    'DATE':'date',\n",
    "    'AWND':'avg_wind_speed',\n",
    "    'PRCP':'precipitation',\n",
    "    'SNOW':'snow',\n",
    "    'WT17':'freezing_rain'}\n",
    "\n",
    "columns_to_keep = [key for key, value in col_dict.items()]\n",
    "dfw = dfw[columns_to_keep]\n",
    "dfw = dfw.rename(columns=col_dict)\n",
    "dfw['freezing_rain'] = dfw['freezing_rain'].fillna(0)\n",
    "\n",
    "df_full = pd.merge(df, dfw, on='date', how='left')\n",
    "df_full.to_csv('data_full.csv', index=False)\n",
    "df_full"
   ],
   "metadata": {
    "collapsed": false
   }
  },
  {
   "cell_type": "code",
   "execution_count": null,
   "outputs": [],
   "source": [],
   "metadata": {
    "collapsed": false,
    "pycharm": {
     "name": "#%%\n"
    }
   }
  }
 ],
 "metadata": {
  "kernelspec": {
   "display_name": "Python 3",
   "language": "python",
   "name": "python3"
  },
  "language_info": {
   "codemirror_mode": {
    "name": "ipython",
    "version": 2
   },
   "file_extension": ".py",
   "mimetype": "text/x-python",
   "name": "python",
   "nbconvert_exporter": "python",
   "pygments_lexer": "ipython2",
   "version": "2.7.6"
  }
 },
 "nbformat": 4,
 "nbformat_minor": 0
}