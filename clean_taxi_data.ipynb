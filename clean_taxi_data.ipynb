{
 "cells": [
  {
   "cell_type": "markdown",
   "source": [
    "https://www.nyc.gov/site/tlc/about/tlc-trip-record-data.page\n",
    "\n",
    "[Data dictionary](https://www.nyc.gov/assets/tlc/downloads/pdf/data_dictionary_trip_records_yellow.pdf)"
   ],
   "metadata": {
    "collapsed": false
   }
  },
  {
   "cell_type": "code",
   "execution_count": 8,
   "metadata": {
    "collapsed": true
   },
   "outputs": [],
   "source": [
    "import pandas as pd\n",
    "import numpy as np\n",
    "import datetime\n",
    "import time\n",
    "import os\n",
    "import pyarrow\n",
    "# import fastparquet\n",
    "\n",
    "# url = \"https://d37ci6vzurychx.cloudfront.net/trip-data/yellow_tripdata_2010-01.parquet\"\n",
    "# url3 = \"https://d37ci6vzurychx.cloudfront.net/trip-data/yellow_tripdata_2022-12.parquet\"\n",
    "# df2 = pd.read_parquet(url)\n",
    "# df3 = pd.read_parquet(url)"
   ]
  },
  {
   "cell_type": "code",
   "execution_count": 9,
   "outputs": [],
   "source": [
    "# month = '05'\n",
    "# year = '2020'\n",
    "#\n",
    "# url = f\"https://d37ci6vzurychx.cloudfront.net/trip-data/yellow_tripdata_{year}-{month}.parquet\"\n",
    "# df2 = pd.read_parquet(url)\n",
    "# print('\\n', month, year)\n",
    "# print(df2.value_counts('payment_type'))"
   ],
   "metadata": {
    "collapsed": false
   }
  },
  {
   "cell_type": "code",
   "execution_count": 10,
   "outputs": [],
   "source": [
    "# month_list = ['01', '02', '03', '04', '05', '06', '07', '08', '09', '10', '11', '12']\n",
    "# year_list = [str(i) for i in range(2009, 2024)]\n",
    "# for year in year_list:\n",
    "#     for month in month_list:\n",
    "#         try:\n",
    "#             url = f\"https://d37ci6vzurychx.cloudfront.net/trip-data/yellow_tripdata_{year}-{month}.parquet\"\n",
    "#             df2 = pd.read_parquet(url)\n",
    "#             print('\\n', month, year)\n",
    "#             print(df2.value_counts('payment_type'))\n",
    "#         except:\n",
    "#             print(f\"No data for {year}-{month}\")\n",
    "#     os.system(f'say \"{year} done\"')\n",
    "#\n",
    "# time.sleep(2)\n",
    "# os.system('say \"Daisy, Daisy, give me your answer true. I\\'m. Half. Cray. Zee. All for the likes of you.\"')"
   ],
   "metadata": {
    "collapsed": false
   }
  },
  {
   "cell_type": "code",
   "execution_count": 11,
   "outputs": [],
   "source": [
    "# Define helper function\n",
    "# Define a function to convert the values to 'negative', 'positive', or 'zero'\n",
    "def cash_or_credit(x):\n",
    "    if x in [1, 'CREDIT', 'Credit', 'CRD', 'Crd', 'CRE', 'Cre']:\n",
    "        return 1\n",
    "    elif x in [2, 'CASH', 'Cash', 'CSH', 'Csh', 'CAS', 'Cas']:\n",
    "        return 0\n",
    "    else:\n",
    "        return np.nan"
   ],
   "metadata": {
    "collapsed": false
   }
  },
  {
   "cell_type": "code",
   "execution_count": null,
   "outputs": [
    {
     "name": "stdout",
     "output_type": "stream",
     "text": [
      "Adding 2009-01...\n"
     ]
    }
   ],
   "source": [
    "# Define variables specific to this dataset\n",
    "car_type = 'yellow_taxi'\n",
    "month_list = ['01', '02', '03', '04', '05', '06', '07', '08', '09', '10', '11', '12']\n",
    "# month_list = ['01'] #, '02', '03', '04', '05', '06', '07', '08', '09', '10', '11', '12']\n",
    "year_list = [str(i) for i in range(2009, 2024)]\n",
    "first_day = datetime.date(2009, 1, 1)\n",
    "last_day = datetime.date(2023, 1, 31)\n",
    "\n",
    "# More variables\n",
    "last_month = last_day.strftime('%Y-%m')\n",
    "data = pd.DataFrame()\n",
    "\n",
    "# Loop through each year-month\n",
    "for year in year_list:\n",
    "    for month in month_list:\n",
    "        print(f\"Adding {year}-{month}...\")\n",
    "\n",
    "        # Load data\n",
    "        url = f\"https://d37ci6vzurychx.cloudfront.net/trip-data/yellow_tripdata_{year}-{month}.parquet\"\n",
    "        df = pd.read_parquet(url)\n",
    "\n",
    "        # Rename columns\n",
    "        new_names = {'Passanger_Count': 'passanger_count',\n",
    "                     'Trip_Distance': 'trip_distance',\n",
    "                     'Payment_Type': 'payment_type',\n",
    "                     'Tip_Amt': 'tip_amount',\n",
    "                     'Total_Amt': 'total_amount',\n",
    "                     'Trip_Pickup_DateTime': 'tpep_pickup_datetime',\n",
    "                     'Trip_Dropoff_DateTime': 'tpep_dropoff_datetime',\n",
    "                     'pickup_datetime': 'tpep_pickup_datetime',\n",
    "                     'dropoff_datetime': 'tpep_dropoff_datetime',\n",
    "                     'old_col2': 'new_col2'}\n",
    "        df = df.rename(columns=new_names)\n",
    "\n",
    "        # Exclude dates not in range\n",
    "        df['tpep_pickup_datetime'] = pd.to_datetime(df['tpep_pickup_datetime'])\n",
    "        df['tpep_dropoff_datetime'] = pd.to_datetime(df['tpep_dropoff_datetime'])\n",
    "        df = df[df['tpep_pickup_datetime'].dt.date >= first_day]\n",
    "        df = df[df['tpep_pickup_datetime'].dt.date <= last_day]\n",
    "\n",
    "        # Create a column for trip duration\n",
    "        duration_list = []\n",
    "        time_delta_series = df['tpep_dropoff_datetime'] - df['tpep_pickup_datetime']\n",
    "        time_delta_series = time_delta_series.dt.total_seconds() / 60\n",
    "        df.insert(3, 'duration', time_delta_series)\n",
    "\n",
    "        # Define date from the pickup time\n",
    "        df.insert(0, 'date', pd.to_datetime(df['tpep_pickup_datetime']).dt.date)\n",
    "\n",
    "        # Define type of car\n",
    "        df.insert(1, 'type', car_type)\n",
    "\n",
    "        # Create a variable for the share of trip to an airport\n",
    "        if 'RatecodeID' in df.columns:\n",
    "            if 'airport_fee' in df.columns:\n",
    "                # Fill None values with NaN\n",
    "                df['airport_fee'] = df['airport_fee'].fillna(value=np.nan)\n",
    "\n",
    "                # Indicate if the ride was to an airport (RatecodeID = 2 or 3 or airport_fee is non-zero)\n",
    "                df['airport_share'] = df.apply(lambda x: 1 if x['RatecodeID'] in [2, 3] or x['airport_fee'] > 0 else 0, axis=1)\n",
    "            else:\n",
    "                df['airport_share'] = df.apply(lambda x: 1 if x['RatecodeID'] in [2, 3] else 0, axis=1)\n",
    "        else:\n",
    "            # Add blank column\n",
    "            df['airport_share'] = np.nan\n",
    "\n",
    "        # Indicate if the payment was credit (if column exists)\n",
    "        if 'payment_type' in df.columns:\n",
    "            # df['credit_share'] = df['payment_type'].apply(lambda x: 1 if x in [1, 'CREDIT', 'Credit', 'CRD', 'Crd', 'CRE', 'Cre'] else 0)\n",
    "            # Use helper function to set cash=0, credit=1 and 0 otherwise\n",
    "            df['credit_share'] = df['payment_type'].apply(cash_or_credit)\n",
    "        else:\n",
    "            df['credit_share'] = np.nan\n",
    "\n",
    "        # Create empty column if it does not exist\n",
    "        if 'passenger_count' not in df.columns:\n",
    "            df['passenger_count'] = np.nan\n",
    "\n",
    "        # Define columns to keep\n",
    "        columns_to_keep =  ['date', 'type', 'duration', 'passenger_count', 'trip_distance', 'tip_amount', 'total_amount', 'airport_share', 'credit_share']\n",
    "        df = df[columns_to_keep]\n",
    "\n",
    "        # Replace rows in defined range with NaN (high likelihood of being outliers or errors)\n",
    "        df.loc[(df['passenger_count'] < 1) | (df['passenger_count'] > 9), 'passenger_count'] = np.nan\n",
    "        df.loc[(df['trip_distance'] <= 0) | (df['trip_distance'] > 100), 'trip_distance'] = np.nan\n",
    "        df.loc[(df['tip_amount'] < 0) | (df['tip_amount'] > 1000), 'tip_amount'] = np.nan\n",
    "        df.loc[(df['total_amount'] < 0) | (df['total_amount'] > 1000), 'total_amount'] = np.nan\n",
    "        df.loc[(df['duration'] < 0) | (df['duration'] > 500), 'duration'] = np.nan\n",
    "\n",
    "        # Group and combine data\n",
    "        df_daily = df.groupby(['date', 'type']).mean()\n",
    "        df_daily.insert(0, 'count', df.groupby(['date', 'type']).count()['duration'])\n",
    "        data = pd.concat([data, df_daily], axis=0)\n",
    "        data = data.sort_values('date')\n",
    "\n",
    "        # # Speak status\n",
    "        # month_name = datetime.date(2000, int(month), 1).strftime('%B')\n",
    "        # os.system(f'say \"{month_name} {year} done\"')\n",
    "\n",
    "        # Stop the loop on the last month\n",
    "        if f\"{year}-{month}\" == last_month:\n",
    "            break\n",
    "\n",
    "    # Speak status\n",
    "    os.system(f'say \"{year} done\"')\n",
    "\n",
    "    # Stop the loop on the last month\n",
    "    if f\"{year}-{month}\" == last_month:\n",
    "        break\n",
    "\n",
    "# Announce completion with a song\n",
    "time.sleep(2)\n",
    "os.system('say \"Daisy, Daisy, give me your answer true. I\\'m. Half. Cray. Zee. All for the likes of you.\"')"
   ],
   "metadata": {
    "collapsed": false,
    "pycharm": {
     "is_executing": true
    }
   }
  },
  {
   "cell_type": "code",
   "execution_count": null,
   "outputs": [],
   "source": [
    "# Define date variables\n",
    "data['day_name'] = data['date'].dt.day_name()\n",
    "data['day_number_of_week'] = data['date'].dt.weekday\n",
    "data['day_number_of_year'] = data['date'].dt.dayofyear\n",
    "data['month_name'] = data['date'].dt.month_name()\n",
    "data['month_number'] = data['date'].dt.month"
   ],
   "metadata": {
    "collapsed": false,
    "pycharm": {
     "is_executing": true
    }
   }
  },
  {
   "cell_type": "code",
   "execution_count": null,
   "outputs": [],
   "source": [
    "da = data.copy()\n",
    "da = da.sort_values(by='count', ascending=False)\n",
    "da = da[~da.index.duplicated(keep='first')]\n",
    "da = da.sort_values('date')\n",
    "da.to_csv('data4.csv')"
   ],
   "metadata": {
    "collapsed": false,
    "pycharm": {
     "is_executing": true
    }
   }
  },
  {
   "cell_type": "code",
   "execution_count": null,
   "outputs": [],
   "source": [
    "# da.sort_values(by='count', ascending=False)\n",
    "da.sort_values(by='date')"
   ],
   "metadata": {
    "collapsed": false,
    "pycharm": {
     "is_executing": true
    }
   }
  },
  {
   "cell_type": "code",
   "execution_count": null,
   "outputs": [],
   "source": [
    "df"
   ],
   "metadata": {
    "collapsed": false,
    "pycharm": {
     "is_executing": true
    }
   }
  },
  {
   "cell_type": "code",
   "execution_count": null,
   "outputs": [],
   "source": [],
   "metadata": {
    "collapsed": false,
    "pycharm": {
     "is_executing": true
    }
   }
  }
 ],
 "metadata": {
  "kernelspec": {
   "display_name": "Python 3",
   "language": "python",
   "name": "python3"
  },
  "language_info": {
   "codemirror_mode": {
    "name": "ipython",
    "version": 2
   },
   "file_extension": ".py",
   "mimetype": "text/x-python",
   "name": "python",
   "nbconvert_exporter": "python",
   "pygments_lexer": "ipython2",
   "version": "2.7.6"
  }
 },
 "nbformat": 4,
 "nbformat_minor": 0
}
