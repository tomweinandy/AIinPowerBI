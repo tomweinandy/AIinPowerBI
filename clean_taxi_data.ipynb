{
 "cells": [
  {
   "cell_type": "markdown",
   "source": [
    "https://www.nyc.gov/site/tlc/about/tlc-trip-record-data.page\n",
    "\n",
    "[Data dictionary](https://www.nyc.gov/assets/tlc/downloads/pdf/data_dictionary_trip_records_yellow.pdf)"
   ],
   "metadata": {
    "collapsed": false
   }
  },
  {
   "cell_type": "code",
   "execution_count": 32,
   "metadata": {
    "collapsed": true
   },
   "outputs": [],
   "source": [
    "import pandas as pd\n",
    "import numpy as np\n",
    "import datetime\n",
    "import time\n",
    "import os\n",
    "import pyarrow\n",
    "# import fastparquet\n",
    "\n",
    "# url = \"https://d37ci6vzurychx.cloudfront.net/trip-data/yellow_tripdata_2010-09.parquet\"\n",
    "# df2 = pd.read_parquet(url)"
   ]
  },
  {
   "cell_type": "code",
   "execution_count": 11,
   "outputs": [],
   "source": [
    "# Define helper function\n",
    "# Define a function to convert the values to 'negative', 'positive', or 'zero'\n",
    "def cash_or_credit(x):\n",
    "    if x in [1, 'CREDIT', 'Credit', 'CRD', 'Crd', 'CRE', 'Cre']:\n",
    "        return 1\n",
    "    elif x in [2, 'CASH', 'Cash', 'CSH', 'Csh', 'CAS', 'Cas']:\n",
    "        return 0\n",
    "    else:\n",
    "        return np.nan"
   ],
   "metadata": {
    "collapsed": false
   }
  },
  {
   "cell_type": "code",
   "execution_count": 12,
   "outputs": [
    {
     "name": "stdout",
     "output_type": "stream",
     "text": [
      "Adding 2009-01...\n",
      "Adding 2009-02...\n",
      "Adding 2009-03...\n",
      "Adding 2009-04...\n",
      "Adding 2009-05...\n",
      "Adding 2009-06...\n",
      "Adding 2009-07...\n",
      "Adding 2009-08...\n",
      "Adding 2009-09...\n",
      "Adding 2009-10...\n",
      "Adding 2009-11...\n",
      "Adding 2009-12...\n",
      "Adding 2010-01...\n",
      "Adding 2010-02...\n",
      "Adding 2010-03...\n",
      "Adding 2010-04...\n",
      "Adding 2010-05...\n",
      "Adding 2010-06...\n",
      "Adding 2010-07...\n",
      "Adding 2010-08...\n",
      "Adding 2010-09...\n",
      "Adding 2010-10...\n",
      "Adding 2010-11...\n",
      "Adding 2010-12...\n",
      "Adding 2011-01...\n",
      "Adding 2011-02...\n",
      "Adding 2011-03...\n",
      "Adding 2011-04...\n",
      "Adding 2011-05...\n",
      "Adding 2011-06...\n",
      "Adding 2011-07...\n",
      "Adding 2011-08...\n",
      "Adding 2011-09...\n",
      "Adding 2011-10...\n",
      "Adding 2011-11...\n",
      "Adding 2011-12...\n",
      "Adding 2012-01...\n",
      "Adding 2012-02...\n",
      "Adding 2012-03...\n",
      "Adding 2012-04...\n",
      "Adding 2012-05...\n",
      "Adding 2012-06...\n",
      "Adding 2012-07...\n",
      "Adding 2012-08...\n",
      "Adding 2012-09...\n",
      "Adding 2012-10...\n",
      "Adding 2012-11...\n",
      "Adding 2012-12...\n",
      "Adding 2013-01...\n",
      "Adding 2013-02...\n",
      "Adding 2013-03...\n",
      "Adding 2013-04...\n",
      "Adding 2013-05...\n",
      "Adding 2013-06...\n",
      "Adding 2013-07...\n",
      "Adding 2013-08...\n",
      "Adding 2013-09...\n",
      "Adding 2013-10...\n",
      "Adding 2013-11...\n",
      "Adding 2013-12...\n",
      "Adding 2014-01...\n",
      "Adding 2014-02...\n",
      "Adding 2014-03...\n",
      "Adding 2014-04...\n",
      "Adding 2014-05...\n",
      "Adding 2014-06...\n",
      "Adding 2014-07...\n",
      "Adding 2014-08...\n",
      "Adding 2014-09...\n",
      "Adding 2014-10...\n",
      "Adding 2014-11...\n",
      "Adding 2014-12...\n",
      "Adding 2015-01...\n",
      "Adding 2015-02...\n",
      "Adding 2015-03...\n",
      "Adding 2015-04...\n",
      "Adding 2015-05...\n",
      "Adding 2015-06...\n",
      "Adding 2015-07...\n",
      "Adding 2015-08...\n",
      "Adding 2015-09...\n",
      "Adding 2015-10...\n",
      "Adding 2015-11...\n",
      "Adding 2015-12...\n",
      "Adding 2016-01...\n",
      "Adding 2016-02...\n",
      "Adding 2016-03...\n",
      "Adding 2016-04...\n",
      "Adding 2016-05...\n",
      "Adding 2016-06...\n",
      "Adding 2016-07...\n",
      "Adding 2016-08...\n",
      "Adding 2016-09...\n",
      "Adding 2016-10...\n",
      "Adding 2016-11...\n",
      "Adding 2016-12...\n",
      "Adding 2017-01...\n",
      "Adding 2017-02...\n",
      "Adding 2017-03...\n",
      "Adding 2017-04...\n",
      "Adding 2017-05...\n",
      "Adding 2017-06...\n",
      "Adding 2017-07...\n",
      "Adding 2017-08...\n",
      "Adding 2017-09...\n",
      "Adding 2017-10...\n",
      "Adding 2017-11...\n",
      "Adding 2017-12...\n",
      "Adding 2018-01...\n",
      "Adding 2018-02...\n",
      "Adding 2018-03...\n",
      "Adding 2018-04...\n",
      "Adding 2018-05...\n",
      "Adding 2018-06...\n",
      "Adding 2018-07...\n",
      "Adding 2018-08...\n",
      "Adding 2018-09...\n",
      "Adding 2018-10...\n",
      "Adding 2018-11...\n",
      "Adding 2018-12...\n",
      "Adding 2019-01...\n",
      "Adding 2019-02...\n",
      "Adding 2019-03...\n",
      "Adding 2019-04...\n",
      "Adding 2019-05...\n",
      "Adding 2019-06...\n",
      "Adding 2019-07...\n",
      "Adding 2019-08...\n",
      "Adding 2019-09...\n",
      "Adding 2019-10...\n",
      "Adding 2019-11...\n",
      "Adding 2019-12...\n",
      "Adding 2020-01...\n",
      "Adding 2020-02...\n",
      "Adding 2020-03...\n",
      "Adding 2020-04...\n",
      "Adding 2020-05...\n",
      "Adding 2020-06...\n",
      "Adding 2020-07...\n",
      "Adding 2020-08...\n",
      "Adding 2020-09...\n",
      "Adding 2020-10...\n",
      "Adding 2020-11...\n",
      "Adding 2020-12...\n",
      "Adding 2021-01...\n",
      "Adding 2021-02...\n",
      "Adding 2021-03...\n",
      "Adding 2021-04...\n",
      "Adding 2021-05...\n",
      "Adding 2021-06...\n",
      "Adding 2021-07...\n",
      "Adding 2021-08...\n",
      "Adding 2021-09...\n",
      "Adding 2021-10...\n",
      "Adding 2021-11...\n",
      "Adding 2021-12...\n",
      "Adding 2022-01...\n",
      "Adding 2022-02...\n",
      "Adding 2022-03...\n",
      "Adding 2022-04...\n",
      "Adding 2022-05...\n",
      "Adding 2022-06...\n",
      "Adding 2022-07...\n",
      "Adding 2022-08...\n",
      "Adding 2022-09...\n",
      "Adding 2022-10...\n",
      "Adding 2022-11...\n",
      "Adding 2022-12...\n",
      "Adding 2023-01...\n"
     ]
    },
    {
     "data": {
      "text/plain": "0"
     },
     "execution_count": 12,
     "metadata": {},
     "output_type": "execute_result"
    }
   ],
   "source": [
    "# Define variables specific to this dataset\n",
    "car_type = 'yellow_taxi'\n",
    "month_list = ['01', '02', '03', '04', '05', '06', '07', '08', '09', '10', '11', '12']\n",
    "# month_list = ['01'] #, '02', '03', '04', '05', '06', '07', '08', '09', '10', '11', '12']\n",
    "year_list = [str(i) for i in range(2009, 2024)]\n",
    "first_day = datetime.date(2009, 1, 1)\n",
    "last_day = datetime.date(2023, 1, 31)\n",
    "\n",
    "# More variables\n",
    "last_month = last_day.strftime('%Y-%m')\n",
    "data = pd.DataFrame()\n",
    "\n",
    "# Loop through each year-month\n",
    "for year in year_list:\n",
    "    for month in month_list:\n",
    "        print(f\"Adding {year}-{month}...\")\n",
    "\n",
    "        # Load data\n",
    "        url = f\"https://d37ci6vzurychx.cloudfront.net/trip-data/yellow_tripdata_{year}-{month}.parquet\"\n",
    "        df = pd.read_parquet(url)\n",
    "\n",
    "        # Rename columns\n",
    "        new_names = {'Passanger_Count': 'passanger_count',\n",
    "                     'Trip_Distance': 'trip_distance',\n",
    "                     'Payment_Type': 'payment_type',\n",
    "                     'Tip_Amt': 'tip_amount',\n",
    "                     'Total_Amt': 'total_amount',\n",
    "                     'Trip_Pickup_DateTime': 'tpep_pickup_datetime',\n",
    "                     'Trip_Dropoff_DateTime': 'tpep_dropoff_datetime',\n",
    "                     'pickup_datetime': 'tpep_pickup_datetime',\n",
    "                     'dropoff_datetime': 'tpep_dropoff_datetime',\n",
    "                     'old_col2': 'new_col2'}\n",
    "        df = df.rename(columns=new_names)\n",
    "\n",
    "        # Exclude dates not in range\n",
    "        df['tpep_pickup_datetime'] = pd.to_datetime(df['tpep_pickup_datetime'])\n",
    "        df['tpep_dropoff_datetime'] = pd.to_datetime(df['tpep_dropoff_datetime'])\n",
    "        df = df[df['tpep_pickup_datetime'].dt.date >= first_day]\n",
    "        df = df[df['tpep_pickup_datetime'].dt.date <= last_day]\n",
    "\n",
    "        # Create a column for trip duration\n",
    "        duration_list = []\n",
    "        time_delta_series = df['tpep_dropoff_datetime'] - df['tpep_pickup_datetime']\n",
    "        time_delta_series = time_delta_series.dt.total_seconds() / 60\n",
    "        df.insert(3, 'duration', time_delta_series)\n",
    "\n",
    "        # Define date from the pickup time\n",
    "        df.insert(0, 'date', pd.to_datetime(df['tpep_pickup_datetime']).dt.date)\n",
    "\n",
    "        # Define type of car\n",
    "        df.insert(1, 'type', car_type)\n",
    "\n",
    "        # Create a variable for the share of trip to an airport\n",
    "        if 'RatecodeID' in df.columns:\n",
    "            if 'airport_fee' in df.columns:\n",
    "                # Fill None values with NaN\n",
    "                df['airport_fee'] = df['airport_fee'].fillna(value=np.nan)\n",
    "\n",
    "                # Indicate if the ride was to an airport (RatecodeID = 2 or 3 or airport_fee is non-zero)\n",
    "                df['airport_share'] = df.apply(lambda x: 1 if x['RatecodeID'] in [2, 3] or x['airport_fee'] > 0 else 0, axis=1)\n",
    "            else:\n",
    "                df['airport_share'] = df.apply(lambda x: 1 if x['RatecodeID'] in [2, 3] else 0, axis=1)\n",
    "        else:\n",
    "            # Add blank column\n",
    "            df['airport_share'] = np.nan\n",
    "\n",
    "        # Indicate if the payment was credit (if column exists)\n",
    "        if 'payment_type' in df.columns:\n",
    "            # Use helper function to set cash=0, credit=1 and 0 otherwise\n",
    "            df['credit_share'] = df['payment_type'].apply(cash_or_credit)\n",
    "        else:\n",
    "            df['credit_share'] = np.nan\n",
    "\n",
    "        # Create empty column if it does not exist\n",
    "        if 'passenger_count' not in df.columns:\n",
    "            df['passenger_count'] = np.nan\n",
    "\n",
    "        # Define columns to keep\n",
    "        columns_to_keep =  ['date', 'type', 'duration', 'passenger_count', 'trip_distance', 'tip_amount', 'total_amount', 'airport_share', 'credit_share']\n",
    "        df = df[columns_to_keep]\n",
    "\n",
    "        # Replace rows in defined range with NaN (high likelihood of being outliers or errors)\n",
    "        df.loc[(df['passenger_count'] < 1) | (df['passenger_count'] > 9), 'passenger_count'] = np.nan\n",
    "        df.loc[(df['trip_distance'] <= 0) | (df['trip_distance'] > 100), 'trip_distance'] = np.nan\n",
    "        df.loc[(df['tip_amount'] < 0) | (df['tip_amount'] > 1000), 'tip_amount'] = np.nan\n",
    "        df.loc[(df['total_amount'] < 0) | (df['total_amount'] > 1000), 'total_amount'] = np.nan\n",
    "        df.loc[(df['duration'] < 0) | (df['duration'] > 500), 'duration'] = np.nan\n",
    "\n",
    "        # Group and combine data\n",
    "        df_daily = df.groupby(['date', 'type']).mean()\n",
    "        df_daily.insert(0, 'count', df.groupby(['date', 'type']).count()['duration'])\n",
    "        data = pd.concat([data, df_daily], axis=0)\n",
    "        data = data.sort_values('date')\n",
    "\n",
    "        # # Speak status\n",
    "        # month_name = datetime.date(2000, int(month), 1).strftime('%B')\n",
    "        # os.system(f'say \"{month_name} {year} done\"')\n",
    "\n",
    "        # Stop the loop on the last month\n",
    "        if f\"{year}-{month}\" == last_month:\n",
    "            break\n",
    "\n",
    "    # Speak status\n",
    "    os.system(f'say \"{year} done\"')\n",
    "\n",
    "    # Stop the loop on the last month\n",
    "    if f\"{year}-{month}\" == last_month:\n",
    "        break\n",
    "\n",
    "# Resent the index\n",
    "data = data.reset_index()\n",
    "\n",
    "# Announce completion with a song\n",
    "time.sleep(2)\n",
    "os.system('say \"Daisy, Daisy, give me your answer true. I\\'m. Half. Cray. Zee. All for the likes of you.\"')"
   ],
   "metadata": {
    "collapsed": false
   }
  },
  {
   "cell_type": "code",
   "execution_count": 21,
   "outputs": [],
   "source": [
    "# Define date variables\n",
    "data['date'] = pd.to_datetime(data['date'])\n",
    "data['day_name'] = data['date'].dt.day_name()\n",
    "data['day_number_of_week'] = data['date'].dt.weekday\n",
    "data['day_number_of_year'] = data['date'].dt.dayofyear\n",
    "data['month_name'] = data['date'].dt.month_name()\n",
    "data['month_number'] = data['date'].dt.month"
   ],
   "metadata": {
    "collapsed": false
   }
  },
  {
   "cell_type": "code",
   "execution_count": 26,
   "outputs": [],
   "source": [
    "da = data.copy()\n",
    "da = da.sort_values(by='count', ascending=False)\n",
    "da = da.drop_duplicates(subset='date', keep='first')\n",
    "da = da.sort_values('date')\n",
    "da = da.reset_index(drop=True)\n",
    "da.to_csv('nyc_taxis_before_weather.csv')"
   ],
   "metadata": {
    "collapsed": false
   }
  },
  {
   "cell_type": "code",
   "execution_count": 23,
   "outputs": [
    {
     "data": {
      "text/plain": "           date         type   count   duration  passenger_count  \\\n29   2009-01-01  yellow_taxi      26  22.710897         1.358974   \n10   2009-01-01  yellow_taxi       3  10.888889         2.666667   \n37   2009-01-01  yellow_taxi       3  10.294444         1.000000   \n23   2009-01-01  yellow_taxi      17  24.827451         1.681818   \n40   2009-01-01  yellow_taxi      10  22.368333         1.545455   \n...         ...          ...     ...        ...              ...   \n6329 2023-01-27  yellow_taxi  111564  14.754598         1.379156   \n6330 2023-01-28  yellow_taxi  111521  14.009502         1.463578   \n6331 2023-01-29  yellow_taxi   88042  13.571688         1.428349   \n6332 2023-01-30  yellow_taxi   83704  14.521546         1.314911   \n6333 2023-01-31  yellow_taxi  100311  15.376887         1.307347   \n\n      trip_distance  tip_amount  total_amount  airport_share  credit_share  \\\n29         3.315897    0.870513     17.716154       0.000000      0.282051   \n10         2.286667    0.000000     12.133333       0.000000      0.000000   \n37         1.570000    0.000000     11.300000       0.000000      0.000000   \n23         6.499545    2.194545     31.459091       0.090909      0.272727   \n40         5.332000    2.161818     24.803636       0.090909      0.545455   \n...             ...         ...           ...            ...           ...   \n6329       3.204753    3.352443     27.020168       0.082235      0.827366   \n6330       3.019139    3.120034     25.165459       0.059089      0.831443   \n6331       3.753645    3.458473     27.867417       0.110177      0.831086   \n6332       3.548006    3.423843     28.022183       0.111057      0.817129   \n6333       3.081579    3.361391     26.932619       0.080182      0.834478   \n\n      day_name  day_number_of_week  day_number_of_year month_name  \\\n29    Thursday                   3                   1    January   \n10    Thursday                   3                   1    January   \n37    Thursday                   3                   1    January   \n23    Thursday                   3                   1    January   \n40    Thursday                   3                   1    January   \n...        ...                 ...                 ...        ...   \n6329    Friday                   4                  27    January   \n6330  Saturday                   5                  28    January   \n6331    Sunday                   6                  29    January   \n6332    Monday                   0                  30    January   \n6333   Tuesday                   1                  31    January   \n\n      month_number  \n29               1  \n10               1  \n37               1  \n23               1  \n40               1  \n...            ...  \n6329             1  \n6330             1  \n6331             1  \n6332             1  \n6333             1  \n\n[6334 rows x 15 columns]",
      "text/html": "<div>\n<style scoped>\n    .dataframe tbody tr th:only-of-type {\n        vertical-align: middle;\n    }\n\n    .dataframe tbody tr th {\n        vertical-align: top;\n    }\n\n    .dataframe thead th {\n        text-align: right;\n    }\n</style>\n<table border=\"1\" class=\"dataframe\">\n  <thead>\n    <tr style=\"text-align: right;\">\n      <th></th>\n      <th>date</th>\n      <th>type</th>\n      <th>count</th>\n      <th>duration</th>\n      <th>passenger_count</th>\n      <th>trip_distance</th>\n      <th>tip_amount</th>\n      <th>total_amount</th>\n      <th>airport_share</th>\n      <th>credit_share</th>\n      <th>day_name</th>\n      <th>day_number_of_week</th>\n      <th>day_number_of_year</th>\n      <th>month_name</th>\n      <th>month_number</th>\n    </tr>\n  </thead>\n  <tbody>\n    <tr>\n      <th>29</th>\n      <td>2009-01-01</td>\n      <td>yellow_taxi</td>\n      <td>26</td>\n      <td>22.710897</td>\n      <td>1.358974</td>\n      <td>3.315897</td>\n      <td>0.870513</td>\n      <td>17.716154</td>\n      <td>0.000000</td>\n      <td>0.282051</td>\n      <td>Thursday</td>\n      <td>3</td>\n      <td>1</td>\n      <td>January</td>\n      <td>1</td>\n    </tr>\n    <tr>\n      <th>10</th>\n      <td>2009-01-01</td>\n      <td>yellow_taxi</td>\n      <td>3</td>\n      <td>10.888889</td>\n      <td>2.666667</td>\n      <td>2.286667</td>\n      <td>0.000000</td>\n      <td>12.133333</td>\n      <td>0.000000</td>\n      <td>0.000000</td>\n      <td>Thursday</td>\n      <td>3</td>\n      <td>1</td>\n      <td>January</td>\n      <td>1</td>\n    </tr>\n    <tr>\n      <th>37</th>\n      <td>2009-01-01</td>\n      <td>yellow_taxi</td>\n      <td>3</td>\n      <td>10.294444</td>\n      <td>1.000000</td>\n      <td>1.570000</td>\n      <td>0.000000</td>\n      <td>11.300000</td>\n      <td>0.000000</td>\n      <td>0.000000</td>\n      <td>Thursday</td>\n      <td>3</td>\n      <td>1</td>\n      <td>January</td>\n      <td>1</td>\n    </tr>\n    <tr>\n      <th>23</th>\n      <td>2009-01-01</td>\n      <td>yellow_taxi</td>\n      <td>17</td>\n      <td>24.827451</td>\n      <td>1.681818</td>\n      <td>6.499545</td>\n      <td>2.194545</td>\n      <td>31.459091</td>\n      <td>0.090909</td>\n      <td>0.272727</td>\n      <td>Thursday</td>\n      <td>3</td>\n      <td>1</td>\n      <td>January</td>\n      <td>1</td>\n    </tr>\n    <tr>\n      <th>40</th>\n      <td>2009-01-01</td>\n      <td>yellow_taxi</td>\n      <td>10</td>\n      <td>22.368333</td>\n      <td>1.545455</td>\n      <td>5.332000</td>\n      <td>2.161818</td>\n      <td>24.803636</td>\n      <td>0.090909</td>\n      <td>0.545455</td>\n      <td>Thursday</td>\n      <td>3</td>\n      <td>1</td>\n      <td>January</td>\n      <td>1</td>\n    </tr>\n    <tr>\n      <th>...</th>\n      <td>...</td>\n      <td>...</td>\n      <td>...</td>\n      <td>...</td>\n      <td>...</td>\n      <td>...</td>\n      <td>...</td>\n      <td>...</td>\n      <td>...</td>\n      <td>...</td>\n      <td>...</td>\n      <td>...</td>\n      <td>...</td>\n      <td>...</td>\n      <td>...</td>\n    </tr>\n    <tr>\n      <th>6329</th>\n      <td>2023-01-27</td>\n      <td>yellow_taxi</td>\n      <td>111564</td>\n      <td>14.754598</td>\n      <td>1.379156</td>\n      <td>3.204753</td>\n      <td>3.352443</td>\n      <td>27.020168</td>\n      <td>0.082235</td>\n      <td>0.827366</td>\n      <td>Friday</td>\n      <td>4</td>\n      <td>27</td>\n      <td>January</td>\n      <td>1</td>\n    </tr>\n    <tr>\n      <th>6330</th>\n      <td>2023-01-28</td>\n      <td>yellow_taxi</td>\n      <td>111521</td>\n      <td>14.009502</td>\n      <td>1.463578</td>\n      <td>3.019139</td>\n      <td>3.120034</td>\n      <td>25.165459</td>\n      <td>0.059089</td>\n      <td>0.831443</td>\n      <td>Saturday</td>\n      <td>5</td>\n      <td>28</td>\n      <td>January</td>\n      <td>1</td>\n    </tr>\n    <tr>\n      <th>6331</th>\n      <td>2023-01-29</td>\n      <td>yellow_taxi</td>\n      <td>88042</td>\n      <td>13.571688</td>\n      <td>1.428349</td>\n      <td>3.753645</td>\n      <td>3.458473</td>\n      <td>27.867417</td>\n      <td>0.110177</td>\n      <td>0.831086</td>\n      <td>Sunday</td>\n      <td>6</td>\n      <td>29</td>\n      <td>January</td>\n      <td>1</td>\n    </tr>\n    <tr>\n      <th>6332</th>\n      <td>2023-01-30</td>\n      <td>yellow_taxi</td>\n      <td>83704</td>\n      <td>14.521546</td>\n      <td>1.314911</td>\n      <td>3.548006</td>\n      <td>3.423843</td>\n      <td>28.022183</td>\n      <td>0.111057</td>\n      <td>0.817129</td>\n      <td>Monday</td>\n      <td>0</td>\n      <td>30</td>\n      <td>January</td>\n      <td>1</td>\n    </tr>\n    <tr>\n      <th>6333</th>\n      <td>2023-01-31</td>\n      <td>yellow_taxi</td>\n      <td>100311</td>\n      <td>15.376887</td>\n      <td>1.307347</td>\n      <td>3.081579</td>\n      <td>3.361391</td>\n      <td>26.932619</td>\n      <td>0.080182</td>\n      <td>0.834478</td>\n      <td>Tuesday</td>\n      <td>1</td>\n      <td>31</td>\n      <td>January</td>\n      <td>1</td>\n    </tr>\n  </tbody>\n</table>\n<p>6334 rows × 15 columns</p>\n</div>"
     },
     "execution_count": 23,
     "metadata": {},
     "output_type": "execute_result"
    }
   ],
   "source": [
    "# da.sort_values(by='count', ascending=False)\n",
    "da.sort_values(by='date')"
   ],
   "metadata": {
    "collapsed": false
   }
  },
  {
   "cell_type": "code",
   "execution_count": 24,
   "outputs": [
    {
     "data": {
      "text/plain": "               date         type   duration  passenger_count  trip_distance  \\\n0        2023-01-01  yellow_taxi   8.433333              1.0           0.97   \n1        2023-01-01  yellow_taxi   6.316667              1.0           1.10   \n2        2023-01-01  yellow_taxi  12.750000              1.0           2.51   \n3        2023-01-01  yellow_taxi   9.616667              NaN           1.90   \n4        2023-01-01  yellow_taxi  10.833333              1.0           1.43   \n...             ...          ...        ...              ...            ...   \n3066761  2023-01-31  yellow_taxi  13.983333              NaN           3.05   \n3066762  2023-01-31  yellow_taxi  19.450000              NaN           5.80   \n3066763  2023-01-31  yellow_taxi  24.516667              NaN           4.67   \n3066764  2023-01-31  yellow_taxi  13.000000              NaN           3.15   \n3066765  2023-01-31  yellow_taxi  14.400000              NaN           2.85   \n\n         tip_amount  total_amount  airport_share  credit_share  \n0              0.00         14.30              0           0.0  \n1              4.00         16.90              0           1.0  \n2             15.00         34.90              0           1.0  \n3              0.00         20.85              1           1.0  \n4              3.28         19.68              0           1.0  \n...             ...           ...            ...           ...  \n3066761        3.96         23.76              0           NaN  \n3066762        2.64         29.07              0           NaN  \n3066763        5.32         26.93              0           NaN  \n3066764        4.43         26.58              0           NaN  \n3066765        2.00         21.97              0           NaN  \n\n[3066754 rows x 9 columns]",
      "text/html": "<div>\n<style scoped>\n    .dataframe tbody tr th:only-of-type {\n        vertical-align: middle;\n    }\n\n    .dataframe tbody tr th {\n        vertical-align: top;\n    }\n\n    .dataframe thead th {\n        text-align: right;\n    }\n</style>\n<table border=\"1\" class=\"dataframe\">\n  <thead>\n    <tr style=\"text-align: right;\">\n      <th></th>\n      <th>date</th>\n      <th>type</th>\n      <th>duration</th>\n      <th>passenger_count</th>\n      <th>trip_distance</th>\n      <th>tip_amount</th>\n      <th>total_amount</th>\n      <th>airport_share</th>\n      <th>credit_share</th>\n    </tr>\n  </thead>\n  <tbody>\n    <tr>\n      <th>0</th>\n      <td>2023-01-01</td>\n      <td>yellow_taxi</td>\n      <td>8.433333</td>\n      <td>1.0</td>\n      <td>0.97</td>\n      <td>0.00</td>\n      <td>14.30</td>\n      <td>0</td>\n      <td>0.0</td>\n    </tr>\n    <tr>\n      <th>1</th>\n      <td>2023-01-01</td>\n      <td>yellow_taxi</td>\n      <td>6.316667</td>\n      <td>1.0</td>\n      <td>1.10</td>\n      <td>4.00</td>\n      <td>16.90</td>\n      <td>0</td>\n      <td>1.0</td>\n    </tr>\n    <tr>\n      <th>2</th>\n      <td>2023-01-01</td>\n      <td>yellow_taxi</td>\n      <td>12.750000</td>\n      <td>1.0</td>\n      <td>2.51</td>\n      <td>15.00</td>\n      <td>34.90</td>\n      <td>0</td>\n      <td>1.0</td>\n    </tr>\n    <tr>\n      <th>3</th>\n      <td>2023-01-01</td>\n      <td>yellow_taxi</td>\n      <td>9.616667</td>\n      <td>NaN</td>\n      <td>1.90</td>\n      <td>0.00</td>\n      <td>20.85</td>\n      <td>1</td>\n      <td>1.0</td>\n    </tr>\n    <tr>\n      <th>4</th>\n      <td>2023-01-01</td>\n      <td>yellow_taxi</td>\n      <td>10.833333</td>\n      <td>1.0</td>\n      <td>1.43</td>\n      <td>3.28</td>\n      <td>19.68</td>\n      <td>0</td>\n      <td>1.0</td>\n    </tr>\n    <tr>\n      <th>...</th>\n      <td>...</td>\n      <td>...</td>\n      <td>...</td>\n      <td>...</td>\n      <td>...</td>\n      <td>...</td>\n      <td>...</td>\n      <td>...</td>\n      <td>...</td>\n    </tr>\n    <tr>\n      <th>3066761</th>\n      <td>2023-01-31</td>\n      <td>yellow_taxi</td>\n      <td>13.983333</td>\n      <td>NaN</td>\n      <td>3.05</td>\n      <td>3.96</td>\n      <td>23.76</td>\n      <td>0</td>\n      <td>NaN</td>\n    </tr>\n    <tr>\n      <th>3066762</th>\n      <td>2023-01-31</td>\n      <td>yellow_taxi</td>\n      <td>19.450000</td>\n      <td>NaN</td>\n      <td>5.80</td>\n      <td>2.64</td>\n      <td>29.07</td>\n      <td>0</td>\n      <td>NaN</td>\n    </tr>\n    <tr>\n      <th>3066763</th>\n      <td>2023-01-31</td>\n      <td>yellow_taxi</td>\n      <td>24.516667</td>\n      <td>NaN</td>\n      <td>4.67</td>\n      <td>5.32</td>\n      <td>26.93</td>\n      <td>0</td>\n      <td>NaN</td>\n    </tr>\n    <tr>\n      <th>3066764</th>\n      <td>2023-01-31</td>\n      <td>yellow_taxi</td>\n      <td>13.000000</td>\n      <td>NaN</td>\n      <td>3.15</td>\n      <td>4.43</td>\n      <td>26.58</td>\n      <td>0</td>\n      <td>NaN</td>\n    </tr>\n    <tr>\n      <th>3066765</th>\n      <td>2023-01-31</td>\n      <td>yellow_taxi</td>\n      <td>14.400000</td>\n      <td>NaN</td>\n      <td>2.85</td>\n      <td>2.00</td>\n      <td>21.97</td>\n      <td>0</td>\n      <td>NaN</td>\n    </tr>\n  </tbody>\n</table>\n<p>3066754 rows × 9 columns</p>\n</div>"
     },
     "execution_count": 24,
     "metadata": {},
     "output_type": "execute_result"
    }
   ],
   "source": [
    "df"
   ],
   "metadata": {
    "collapsed": false
   }
  },
  {
   "cell_type": "markdown",
   "source": [
    "# Add weather data\n",
    "[Data source](https://www.ncei.noaa.gov)\n",
    "[Documentation](https://www.ncei.noaa.gov/data/daily-summaries/doc/GHCND_documentation.pdf)"
   ],
   "metadata": {
    "collapsed": false
   }
  },
  {
   "cell_type": "code",
   "execution_count": 31,
   "outputs": [
    {
     "data": {
      "text/plain": "            date         type   count   duration  passenger_count  \\\n0     2009-01-01  yellow_taxi  324225  10.110423              NaN   \n1     2009-01-02  yellow_taxi  372059  10.521323              NaN   \n2     2009-01-03  yellow_taxi  427312  10.676456              NaN   \n3     2009-01-04  yellow_taxi  362132  10.665589              NaN   \n4     2009-01-05  yellow_taxi  365983  10.476732              NaN   \n...          ...          ...     ...        ...              ...   \n5139  2023-01-27  yellow_taxi  111564  14.754598         1.379156   \n5140  2023-01-28  yellow_taxi  111521  14.009502         1.463578   \n5141  2023-01-29  yellow_taxi   88042  13.571688         1.428349   \n5142  2023-01-30  yellow_taxi   83704  14.521546         1.314911   \n5143  2023-01-31  yellow_taxi  100311  15.376887         1.307347   \n\n      trip_distance  tip_amount  total_amount  airport_share  credit_share  \\\n0          2.907790    0.329896     10.377966            NaN      0.145649   \n1          2.706211    0.339906     10.353366            NaN      0.154869   \n2          2.748637    0.366799     10.278468            NaN      0.168207   \n3          3.101978    0.452462     11.064838            NaN      0.190243   \n4          2.816382    0.439258     10.605498            NaN      0.190240   \n...             ...         ...           ...            ...           ...   \n5139       3.204753    3.352443     27.020168       0.082235      0.827366   \n5140       3.019139    3.120034     25.165459       0.059089      0.831443   \n5141       3.753645    3.458473     27.867417       0.110177      0.831086   \n5142       3.548006    3.423843     28.022183       0.111057      0.817129   \n5143       3.081579    3.361391     26.932619       0.080182      0.834478   \n\n      day_name  day_number_of_week  day_number_of_year month_name  \\\n0     Thursday                   3                   1    January   \n1       Friday                   4                   2    January   \n2     Saturday                   5                   3    January   \n3       Sunday                   6                   4    January   \n4       Monday                   0                   5    January   \n...        ...                 ...                 ...        ...   \n5139    Friday                   4                  27    January   \n5140  Saturday                   5                  28    January   \n5141    Sunday                   6                  29    January   \n5142    Monday                   0                  30    January   \n5143   Tuesday                   1                  31    January   \n\n      month_number  avg_wind_speed  precipitation  snow  freezing_rain  \n0                1           11.18           0.00   0.0            0.0  \n1                1            6.26           0.00   0.0            0.0  \n2                1           10.07           0.00   0.0            0.0  \n3                1            7.61           0.00   0.0            0.0  \n4                1            6.93           0.00   0.0            0.0  \n...            ...             ...            ...   ...            ...  \n5139             1            5.82           0.00   0.0            0.0  \n5140             1            7.16           0.00   0.0            0.0  \n5141             1            4.70           0.00   0.0            0.0  \n5142             1            2.91           0.00   0.0            0.0  \n5143             1            4.25           0.06   0.0            0.0  \n\n[5144 rows x 19 columns]",
      "text/html": "<div>\n<style scoped>\n    .dataframe tbody tr th:only-of-type {\n        vertical-align: middle;\n    }\n\n    .dataframe tbody tr th {\n        vertical-align: top;\n    }\n\n    .dataframe thead th {\n        text-align: right;\n    }\n</style>\n<table border=\"1\" class=\"dataframe\">\n  <thead>\n    <tr style=\"text-align: right;\">\n      <th></th>\n      <th>date</th>\n      <th>type</th>\n      <th>count</th>\n      <th>duration</th>\n      <th>passenger_count</th>\n      <th>trip_distance</th>\n      <th>tip_amount</th>\n      <th>total_amount</th>\n      <th>airport_share</th>\n      <th>credit_share</th>\n      <th>day_name</th>\n      <th>day_number_of_week</th>\n      <th>day_number_of_year</th>\n      <th>month_name</th>\n      <th>month_number</th>\n      <th>avg_wind_speed</th>\n      <th>precipitation</th>\n      <th>snow</th>\n      <th>freezing_rain</th>\n    </tr>\n  </thead>\n  <tbody>\n    <tr>\n      <th>0</th>\n      <td>2009-01-01</td>\n      <td>yellow_taxi</td>\n      <td>324225</td>\n      <td>10.110423</td>\n      <td>NaN</td>\n      <td>2.907790</td>\n      <td>0.329896</td>\n      <td>10.377966</td>\n      <td>NaN</td>\n      <td>0.145649</td>\n      <td>Thursday</td>\n      <td>3</td>\n      <td>1</td>\n      <td>January</td>\n      <td>1</td>\n      <td>11.18</td>\n      <td>0.00</td>\n      <td>0.0</td>\n      <td>0.0</td>\n    </tr>\n    <tr>\n      <th>1</th>\n      <td>2009-01-02</td>\n      <td>yellow_taxi</td>\n      <td>372059</td>\n      <td>10.521323</td>\n      <td>NaN</td>\n      <td>2.706211</td>\n      <td>0.339906</td>\n      <td>10.353366</td>\n      <td>NaN</td>\n      <td>0.154869</td>\n      <td>Friday</td>\n      <td>4</td>\n      <td>2</td>\n      <td>January</td>\n      <td>1</td>\n      <td>6.26</td>\n      <td>0.00</td>\n      <td>0.0</td>\n      <td>0.0</td>\n    </tr>\n    <tr>\n      <th>2</th>\n      <td>2009-01-03</td>\n      <td>yellow_taxi</td>\n      <td>427312</td>\n      <td>10.676456</td>\n      <td>NaN</td>\n      <td>2.748637</td>\n      <td>0.366799</td>\n      <td>10.278468</td>\n      <td>NaN</td>\n      <td>0.168207</td>\n      <td>Saturday</td>\n      <td>5</td>\n      <td>3</td>\n      <td>January</td>\n      <td>1</td>\n      <td>10.07</td>\n      <td>0.00</td>\n      <td>0.0</td>\n      <td>0.0</td>\n    </tr>\n    <tr>\n      <th>3</th>\n      <td>2009-01-04</td>\n      <td>yellow_taxi</td>\n      <td>362132</td>\n      <td>10.665589</td>\n      <td>NaN</td>\n      <td>3.101978</td>\n      <td>0.452462</td>\n      <td>11.064838</td>\n      <td>NaN</td>\n      <td>0.190243</td>\n      <td>Sunday</td>\n      <td>6</td>\n      <td>4</td>\n      <td>January</td>\n      <td>1</td>\n      <td>7.61</td>\n      <td>0.00</td>\n      <td>0.0</td>\n      <td>0.0</td>\n    </tr>\n    <tr>\n      <th>4</th>\n      <td>2009-01-05</td>\n      <td>yellow_taxi</td>\n      <td>365983</td>\n      <td>10.476732</td>\n      <td>NaN</td>\n      <td>2.816382</td>\n      <td>0.439258</td>\n      <td>10.605498</td>\n      <td>NaN</td>\n      <td>0.190240</td>\n      <td>Monday</td>\n      <td>0</td>\n      <td>5</td>\n      <td>January</td>\n      <td>1</td>\n      <td>6.93</td>\n      <td>0.00</td>\n      <td>0.0</td>\n      <td>0.0</td>\n    </tr>\n    <tr>\n      <th>...</th>\n      <td>...</td>\n      <td>...</td>\n      <td>...</td>\n      <td>...</td>\n      <td>...</td>\n      <td>...</td>\n      <td>...</td>\n      <td>...</td>\n      <td>...</td>\n      <td>...</td>\n      <td>...</td>\n      <td>...</td>\n      <td>...</td>\n      <td>...</td>\n      <td>...</td>\n      <td>...</td>\n      <td>...</td>\n      <td>...</td>\n      <td>...</td>\n    </tr>\n    <tr>\n      <th>5139</th>\n      <td>2023-01-27</td>\n      <td>yellow_taxi</td>\n      <td>111564</td>\n      <td>14.754598</td>\n      <td>1.379156</td>\n      <td>3.204753</td>\n      <td>3.352443</td>\n      <td>27.020168</td>\n      <td>0.082235</td>\n      <td>0.827366</td>\n      <td>Friday</td>\n      <td>4</td>\n      <td>27</td>\n      <td>January</td>\n      <td>1</td>\n      <td>5.82</td>\n      <td>0.00</td>\n      <td>0.0</td>\n      <td>0.0</td>\n    </tr>\n    <tr>\n      <th>5140</th>\n      <td>2023-01-28</td>\n      <td>yellow_taxi</td>\n      <td>111521</td>\n      <td>14.009502</td>\n      <td>1.463578</td>\n      <td>3.019139</td>\n      <td>3.120034</td>\n      <td>25.165459</td>\n      <td>0.059089</td>\n      <td>0.831443</td>\n      <td>Saturday</td>\n      <td>5</td>\n      <td>28</td>\n      <td>January</td>\n      <td>1</td>\n      <td>7.16</td>\n      <td>0.00</td>\n      <td>0.0</td>\n      <td>0.0</td>\n    </tr>\n    <tr>\n      <th>5141</th>\n      <td>2023-01-29</td>\n      <td>yellow_taxi</td>\n      <td>88042</td>\n      <td>13.571688</td>\n      <td>1.428349</td>\n      <td>3.753645</td>\n      <td>3.458473</td>\n      <td>27.867417</td>\n      <td>0.110177</td>\n      <td>0.831086</td>\n      <td>Sunday</td>\n      <td>6</td>\n      <td>29</td>\n      <td>January</td>\n      <td>1</td>\n      <td>4.70</td>\n      <td>0.00</td>\n      <td>0.0</td>\n      <td>0.0</td>\n    </tr>\n    <tr>\n      <th>5142</th>\n      <td>2023-01-30</td>\n      <td>yellow_taxi</td>\n      <td>83704</td>\n      <td>14.521546</td>\n      <td>1.314911</td>\n      <td>3.548006</td>\n      <td>3.423843</td>\n      <td>28.022183</td>\n      <td>0.111057</td>\n      <td>0.817129</td>\n      <td>Monday</td>\n      <td>0</td>\n      <td>30</td>\n      <td>January</td>\n      <td>1</td>\n      <td>2.91</td>\n      <td>0.00</td>\n      <td>0.0</td>\n      <td>0.0</td>\n    </tr>\n    <tr>\n      <th>5143</th>\n      <td>2023-01-31</td>\n      <td>yellow_taxi</td>\n      <td>100311</td>\n      <td>15.376887</td>\n      <td>1.307347</td>\n      <td>3.081579</td>\n      <td>3.361391</td>\n      <td>26.932619</td>\n      <td>0.080182</td>\n      <td>0.834478</td>\n      <td>Tuesday</td>\n      <td>1</td>\n      <td>31</td>\n      <td>January</td>\n      <td>1</td>\n      <td>4.25</td>\n      <td>0.06</td>\n      <td>0.0</td>\n      <td>0.0</td>\n    </tr>\n  </tbody>\n</table>\n<p>5144 rows × 19 columns</p>\n</div>"
     },
     "execution_count": 31,
     "metadata": {},
     "output_type": "execute_result"
    }
   ],
   "source": [
    "import pandas as pd\n",
    "dfw = pd.read_csv('nyc_weather.csv')\n",
    "df = pd.read_csv('nyc_taxis_before_weather.csv')\n",
    "\n",
    "if 'Unnamed: 0' in df.columns:\n",
    "    df = df.drop(columns='Unnamed: 0')\n",
    "\n",
    "col_dict = {\n",
    "    'DATE':'date',\n",
    "    'AWND':'avg_wind_speed',\n",
    "    'PRCP':'precipitation',\n",
    "    'SNOW':'snow',\n",
    "    'WT17':'freezing_rain'}\n",
    "\n",
    "columns_to_keep = [key for key, value in col_dict.items()]\n",
    "dfw = dfw[columns_to_keep]\n",
    "dfw = dfw.rename(columns=col_dict)\n",
    "dfw['freezing_rain'] = dfw['freezing_rain'].fillna(0)\n",
    "\n",
    "df_full = pd.merge(df, dfw, on='date', how='left')\n",
    "df_full.to_csv('nyc_taxis.csv', index=False)\n",
    "df_full"
   ],
   "metadata": {
    "collapsed": false
   }
  },
  {
   "cell_type": "code",
   "execution_count": 30,
   "outputs": [
    {
     "data": {
      "text/plain": "Index(['Unnamed: 0', 'date', 'type', 'count', 'duration', 'passenger_count',\n       'trip_distance', 'tip_amount', 'total_amount', 'airport_share',\n       'credit_share', 'day_name', 'day_number_of_week', 'day_number_of_year',\n       'month_name', 'month_number', 'avg_wind_speed', 'precipitation', 'snow',\n       'freezing_rain'],\n      dtype='object')"
     },
     "execution_count": 30,
     "metadata": {},
     "output_type": "execute_result"
    }
   ],
   "source": [
    "df_full.columns"
   ],
   "metadata": {
    "collapsed": false,
    "pycharm": {
     "name": "#%%\n"
    }
   }
  }
 ],
 "metadata": {
  "kernelspec": {
   "display_name": "Python 3",
   "language": "python",
   "name": "python3"
  },
  "language_info": {
   "codemirror_mode": {
    "name": "ipython",
    "version": 2
   },
   "file_extension": ".py",
   "mimetype": "text/x-python",
   "name": "python",
   "nbconvert_exporter": "python",
   "pygments_lexer": "ipython2",
   "version": "2.7.6"
  }
 },
 "nbformat": 4,
 "nbformat_minor": 0
}