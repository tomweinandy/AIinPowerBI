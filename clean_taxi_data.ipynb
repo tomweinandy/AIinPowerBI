{
 "cells": [
  {
   "cell_type": "markdown",
   "source": [
    "https://www.nyc.gov/site/tlc/about/tlc-trip-record-data.page\n",
    "\n",
    "[Data dictionary](https://www.nyc.gov/assets/tlc/downloads/pdf/data_dictionary_trip_records_yellow.pdf)"
   ],
   "metadata": {
    "collapsed": false
   }
  },
  {
   "cell_type": "code",
   "execution_count": 3,
   "metadata": {
    "collapsed": true
   },
   "outputs": [],
   "source": [
    "import pandas as pd\n",
    "import pyarrow\n",
    "# import fastparquet\n",
    "\n",
    "url = \"https://d37ci6vzurychx.cloudfront.net/trip-data/yellow_tripdata_2023-01.parquet\"\n",
    "url = \"https://d37ci6vzurychx.cloudfront.net/trip-data/yellow_tripdata_2022-12.parquet\"\n",
    "df2 = pd.read_parquet(url)"
   ]
  },
  {
   "cell_type": "code",
   "execution_count": 30,
   "outputs": [
    {
     "data": {
      "text/plain": "['2008',\n '2009',\n '2010',\n '2011',\n '2012',\n '2013',\n '2014',\n '2015',\n '2016',\n '2017',\n '2018',\n '2019',\n '2020',\n '2021',\n '2022']"
     },
     "execution_count": 30,
     "metadata": {},
     "output_type": "execute_result"
    }
   ],
   "source": [
    "month_list = ['01', '02', '03', '04', '05', '06', '07', '08', '09', '10', '11', '12']\n",
    "year_list = [str(i) for i in range(2009, 2023)]\n",
    "\n",
    "for yeear in year_list:\n",
    "    for month in month_list"
   ],
   "metadata": {
    "collapsed": false,
    "pycharm": {
     "name": "#%%\n"
    }
   }
  },
  {
   "cell_type": "code",
   "execution_count": 4,
   "outputs": [
    {
     "data": {
      "text/plain": "         VendorID tpep_pickup_datetime tpep_dropoff_datetime  passenger_count  \\\n0               1  2022-12-01 00:37:35   2022-12-01 00:47:35              1.0   \n1               1  2022-12-01 00:34:35   2022-12-01 00:55:21              0.0   \n2               1  2022-12-01 00:33:26   2022-12-01 00:37:34              1.0   \n3               1  2022-12-01 00:45:51   2022-12-01 00:53:16              1.0   \n4               2  2022-12-01 00:49:49   2022-12-01 00:54:13              1.0   \n...           ...                  ...                   ...              ...   \n3399544         2  2022-12-31 23:46:00   2023-01-01 00:11:00              NaN   \n3399545         2  2022-12-31 23:13:24   2022-12-31 23:29:08              NaN   \n3399546         2  2022-12-31 23:00:49   2022-12-31 23:26:57              NaN   \n3399547         1  2022-12-31 23:02:50   2022-12-31 23:16:05              NaN   \n3399548         2  2022-12-31 23:00:15   2022-12-31 23:22:56              NaN   \n\n         trip_distance  RatecodeID store_and_fwd_flag  PULocationID  \\\n0                 2.00         1.0                  N           170   \n1                 8.40         1.0                  N           138   \n2                 0.80         1.0                  N           140   \n3                 3.00         1.0                  N           141   \n4                 0.76         1.0                  N           261   \n...                ...         ...                ...           ...   \n3399544          11.56         NaN               None            16   \n3399545           5.06         NaN               None            75   \n3399546          13.35         NaN               None           168   \n3399547           0.00         NaN               None           238   \n3399548           4.24         NaN               None            85   \n\n         DOLocationID  payment_type  fare_amount  extra  mta_tax  tip_amount  \\\n0                 237             1         8.50   3.00      0.5        3.10   \n1                 141             2        26.00   4.25      0.5        0.00   \n2                 140             1         5.00   3.00      0.5        1.76   \n3                  79             3        10.00   3.00      0.5        0.00   \n4                 231             1         5.00   0.50      0.5        1.76   \n...               ...           ...          ...    ...      ...         ...   \n3399544            36             0        39.55   0.00      0.5        8.21   \n3399545            50             0        26.23   0.00      0.5        0.00   \n3399546           197             0        47.73   0.00      0.5        9.85   \n3399547           116             0        12.74   0.00      0.5        0.00   \n3399548            37             0        19.60   0.00      0.5        4.00   \n\n         tolls_amount  improvement_surcharge  total_amount  \\\n0                 0.0                    0.3         15.40   \n1                 0.0                    0.3         31.05   \n2                 0.0                    0.3         10.56   \n3                 0.0                    0.3         13.80   \n4                 0.0                    0.3         10.56   \n...               ...                    ...           ...   \n3399544           0.0                    1.0         49.26   \n3399545           0.0                    1.0         30.23   \n3399546           0.0                    1.0         59.08   \n3399547           0.0                    1.0         16.74   \n3399548           0.0                    1.0         25.10   \n\n         congestion_surcharge  airport_fee  \n0                         2.5         0.00  \n1                         2.5         1.25  \n2                         2.5         0.00  \n3                         2.5         0.00  \n4                         2.5         0.00  \n...                       ...          ...  \n3399544                   NaN          NaN  \n3399545                   NaN          NaN  \n3399546                   NaN          NaN  \n3399547                   NaN          NaN  \n3399548                   NaN          NaN  \n\n[3399549 rows x 19 columns]",
      "text/html": "<div>\n<style scoped>\n    .dataframe tbody tr th:only-of-type {\n        vertical-align: middle;\n    }\n\n    .dataframe tbody tr th {\n        vertical-align: top;\n    }\n\n    .dataframe thead th {\n        text-align: right;\n    }\n</style>\n<table border=\"1\" class=\"dataframe\">\n  <thead>\n    <tr style=\"text-align: right;\">\n      <th></th>\n      <th>VendorID</th>\n      <th>tpep_pickup_datetime</th>\n      <th>tpep_dropoff_datetime</th>\n      <th>passenger_count</th>\n      <th>trip_distance</th>\n      <th>RatecodeID</th>\n      <th>store_and_fwd_flag</th>\n      <th>PULocationID</th>\n      <th>DOLocationID</th>\n      <th>payment_type</th>\n      <th>fare_amount</th>\n      <th>extra</th>\n      <th>mta_tax</th>\n      <th>tip_amount</th>\n      <th>tolls_amount</th>\n      <th>improvement_surcharge</th>\n      <th>total_amount</th>\n      <th>congestion_surcharge</th>\n      <th>airport_fee</th>\n    </tr>\n  </thead>\n  <tbody>\n    <tr>\n      <th>0</th>\n      <td>1</td>\n      <td>2022-12-01 00:37:35</td>\n      <td>2022-12-01 00:47:35</td>\n      <td>1.0</td>\n      <td>2.00</td>\n      <td>1.0</td>\n      <td>N</td>\n      <td>170</td>\n      <td>237</td>\n      <td>1</td>\n      <td>8.50</td>\n      <td>3.00</td>\n      <td>0.5</td>\n      <td>3.10</td>\n      <td>0.0</td>\n      <td>0.3</td>\n      <td>15.40</td>\n      <td>2.5</td>\n      <td>0.00</td>\n    </tr>\n    <tr>\n      <th>1</th>\n      <td>1</td>\n      <td>2022-12-01 00:34:35</td>\n      <td>2022-12-01 00:55:21</td>\n      <td>0.0</td>\n      <td>8.40</td>\n      <td>1.0</td>\n      <td>N</td>\n      <td>138</td>\n      <td>141</td>\n      <td>2</td>\n      <td>26.00</td>\n      <td>4.25</td>\n      <td>0.5</td>\n      <td>0.00</td>\n      <td>0.0</td>\n      <td>0.3</td>\n      <td>31.05</td>\n      <td>2.5</td>\n      <td>1.25</td>\n    </tr>\n    <tr>\n      <th>2</th>\n      <td>1</td>\n      <td>2022-12-01 00:33:26</td>\n      <td>2022-12-01 00:37:34</td>\n      <td>1.0</td>\n      <td>0.80</td>\n      <td>1.0</td>\n      <td>N</td>\n      <td>140</td>\n      <td>140</td>\n      <td>1</td>\n      <td>5.00</td>\n      <td>3.00</td>\n      <td>0.5</td>\n      <td>1.76</td>\n      <td>0.0</td>\n      <td>0.3</td>\n      <td>10.56</td>\n      <td>2.5</td>\n      <td>0.00</td>\n    </tr>\n    <tr>\n      <th>3</th>\n      <td>1</td>\n      <td>2022-12-01 00:45:51</td>\n      <td>2022-12-01 00:53:16</td>\n      <td>1.0</td>\n      <td>3.00</td>\n      <td>1.0</td>\n      <td>N</td>\n      <td>141</td>\n      <td>79</td>\n      <td>3</td>\n      <td>10.00</td>\n      <td>3.00</td>\n      <td>0.5</td>\n      <td>0.00</td>\n      <td>0.0</td>\n      <td>0.3</td>\n      <td>13.80</td>\n      <td>2.5</td>\n      <td>0.00</td>\n    </tr>\n    <tr>\n      <th>4</th>\n      <td>2</td>\n      <td>2022-12-01 00:49:49</td>\n      <td>2022-12-01 00:54:13</td>\n      <td>1.0</td>\n      <td>0.76</td>\n      <td>1.0</td>\n      <td>N</td>\n      <td>261</td>\n      <td>231</td>\n      <td>1</td>\n      <td>5.00</td>\n      <td>0.50</td>\n      <td>0.5</td>\n      <td>1.76</td>\n      <td>0.0</td>\n      <td>0.3</td>\n      <td>10.56</td>\n      <td>2.5</td>\n      <td>0.00</td>\n    </tr>\n    <tr>\n      <th>...</th>\n      <td>...</td>\n      <td>...</td>\n      <td>...</td>\n      <td>...</td>\n      <td>...</td>\n      <td>...</td>\n      <td>...</td>\n      <td>...</td>\n      <td>...</td>\n      <td>...</td>\n      <td>...</td>\n      <td>...</td>\n      <td>...</td>\n      <td>...</td>\n      <td>...</td>\n      <td>...</td>\n      <td>...</td>\n      <td>...</td>\n      <td>...</td>\n    </tr>\n    <tr>\n      <th>3399544</th>\n      <td>2</td>\n      <td>2022-12-31 23:46:00</td>\n      <td>2023-01-01 00:11:00</td>\n      <td>NaN</td>\n      <td>11.56</td>\n      <td>NaN</td>\n      <td>None</td>\n      <td>16</td>\n      <td>36</td>\n      <td>0</td>\n      <td>39.55</td>\n      <td>0.00</td>\n      <td>0.5</td>\n      <td>8.21</td>\n      <td>0.0</td>\n      <td>1.0</td>\n      <td>49.26</td>\n      <td>NaN</td>\n      <td>NaN</td>\n    </tr>\n    <tr>\n      <th>3399545</th>\n      <td>2</td>\n      <td>2022-12-31 23:13:24</td>\n      <td>2022-12-31 23:29:08</td>\n      <td>NaN</td>\n      <td>5.06</td>\n      <td>NaN</td>\n      <td>None</td>\n      <td>75</td>\n      <td>50</td>\n      <td>0</td>\n      <td>26.23</td>\n      <td>0.00</td>\n      <td>0.5</td>\n      <td>0.00</td>\n      <td>0.0</td>\n      <td>1.0</td>\n      <td>30.23</td>\n      <td>NaN</td>\n      <td>NaN</td>\n    </tr>\n    <tr>\n      <th>3399546</th>\n      <td>2</td>\n      <td>2022-12-31 23:00:49</td>\n      <td>2022-12-31 23:26:57</td>\n      <td>NaN</td>\n      <td>13.35</td>\n      <td>NaN</td>\n      <td>None</td>\n      <td>168</td>\n      <td>197</td>\n      <td>0</td>\n      <td>47.73</td>\n      <td>0.00</td>\n      <td>0.5</td>\n      <td>9.85</td>\n      <td>0.0</td>\n      <td>1.0</td>\n      <td>59.08</td>\n      <td>NaN</td>\n      <td>NaN</td>\n    </tr>\n    <tr>\n      <th>3399547</th>\n      <td>1</td>\n      <td>2022-12-31 23:02:50</td>\n      <td>2022-12-31 23:16:05</td>\n      <td>NaN</td>\n      <td>0.00</td>\n      <td>NaN</td>\n      <td>None</td>\n      <td>238</td>\n      <td>116</td>\n      <td>0</td>\n      <td>12.74</td>\n      <td>0.00</td>\n      <td>0.5</td>\n      <td>0.00</td>\n      <td>0.0</td>\n      <td>1.0</td>\n      <td>16.74</td>\n      <td>NaN</td>\n      <td>NaN</td>\n    </tr>\n    <tr>\n      <th>3399548</th>\n      <td>2</td>\n      <td>2022-12-31 23:00:15</td>\n      <td>2022-12-31 23:22:56</td>\n      <td>NaN</td>\n      <td>4.24</td>\n      <td>NaN</td>\n      <td>None</td>\n      <td>85</td>\n      <td>37</td>\n      <td>0</td>\n      <td>19.60</td>\n      <td>0.00</td>\n      <td>0.5</td>\n      <td>4.00</td>\n      <td>0.0</td>\n      <td>1.0</td>\n      <td>25.10</td>\n      <td>NaN</td>\n      <td>NaN</td>\n    </tr>\n  </tbody>\n</table>\n<p>3399549 rows × 19 columns</p>\n</div>"
     },
     "execution_count": 4,
     "metadata": {},
     "output_type": "execute_result"
    }
   ],
   "source": [
    "df2.shape\n",
    "df2"
   ],
   "metadata": {
    "collapsed": false
   }
  },
  {
   "cell_type": "code",
   "execution_count": 27,
   "outputs": [
    {
     "data": {
      "text/plain": "                         count   duration  passenger_count  trip_distance  \\\ndate       type                                                             \n2022-11-30 yellow_taxi      41  48.808943         1.829268       4.061951   \n2022-12-01 yellow_taxi  130584  19.615969         1.342595       3.762795   \n2022-12-02 yellow_taxi  129951  18.574828         1.409842       7.078983   \n2022-12-03 yellow_taxi  129172  17.765761         1.486262       7.828807   \n2022-12-04 yellow_taxi  111619  17.331685         1.459053       5.187190   \n2022-12-05 yellow_taxi  113626  17.839936         1.351442       6.654190   \n2022-12-06 yellow_taxi  120179  19.894612         1.321348       5.898933   \n2022-12-07 yellow_taxi  125589  20.066481         1.327339       5.750370   \n2022-12-08 yellow_taxi  133862  20.442521         1.338319       4.976634   \n2022-12-09 yellow_taxi  135397  19.308076         1.397184       5.262050   \n2022-12-10 yellow_taxi  129278  18.597965         1.470738       4.159240   \n2022-12-11 yellow_taxi  107756  17.423852         1.456085       3.909874   \n2022-12-12 yellow_taxi  112374  17.853251         1.354041       4.268605   \n2022-12-13 yellow_taxi  124239  18.417275         1.330301       4.677001   \n2022-12-14 yellow_taxi  129324  19.010448         1.326511       4.524565   \n2022-12-15 yellow_taxi  131175  19.900291         1.335300       3.526985   \n2022-12-16 yellow_taxi  127755  19.036533         1.389955       4.424712   \n2022-12-17 yellow_taxi  125382  18.495686         1.492043       3.782385   \n2022-12-18 yellow_taxi  102878  17.050404         1.487629       4.017527   \n2022-12-19 yellow_taxi  112460  16.925512         1.404397       4.832532   \n2022-12-20 yellow_taxi  116021  17.863042         1.395455       3.356491   \n2022-12-21 yellow_taxi  113560  18.491917         1.400350       5.167580   \n2022-12-22 yellow_taxi  102850  18.557160         1.414972       3.650806   \n2022-12-23 yellow_taxi   95028  16.382870         1.449239       3.455618   \n2022-12-24 yellow_taxi   75519  14.327706         1.514524       3.329849   \n2022-12-25 yellow_taxi   50109  16.054531         1.556460       4.138615   \n2022-12-26 yellow_taxi   67459  17.667564         1.564689       4.130195   \n2022-12-27 yellow_taxi   86290  18.507198         1.514512       4.205887   \n2022-12-28 yellow_taxi   89065  18.671067         1.510301       4.193342   \n2022-12-29 yellow_taxi   93498  18.804426         1.514585       3.791165   \n2022-12-30 yellow_taxi   92429  18.641188         1.507088       3.934692   \n2022-12-31 yellow_taxi   85075  15.312132         1.522136       5.496663   \n2023-01-01 yellow_taxi       5  12.700000         2.000000       1.752000   \n\n                         tip_amount  total_amount  airport_share  credit_share  \ndate       type                                                                 \n2022-11-30 yellow_taxi     3.546585     24.558780       0.097561      0.853659  \n2022-12-01 yellow_taxi     2.979600     22.982356       0.097968      0.774337  \n2022-12-02 yellow_taxi     2.839394     22.101694       0.090442      0.764111  \n2022-12-03 yellow_taxi     2.695179     20.934024       0.070743      0.764252  \n2022-12-04 yellow_taxi     3.014759     23.263871       0.119693      0.764637  \n2022-12-05 yellow_taxi     2.937978     22.739217       0.114965      0.762317  \n2022-12-06 yellow_taxi     3.026158     22.935720       0.093394      0.772614  \n2022-12-07 yellow_taxi     3.096526     23.262348       0.095422      0.782306  \n2022-12-08 yellow_taxi     3.129861     23.638735       0.095285      0.781088  \n2022-12-09 yellow_taxi     2.988420     22.783169       0.090822      0.770844  \n2022-12-10 yellow_taxi     2.778917     21.525987       0.068349      0.766596  \n2022-12-11 yellow_taxi     3.005270     23.033014       0.115158      0.768932  \n2022-12-12 yellow_taxi     2.899893     22.422283       0.108949      0.765604  \n2022-12-13 yellow_taxi     2.906127     22.065443       0.085835      0.775216  \n2022-12-14 yellow_taxi  1378.200417     22.219213       0.081825      0.772703  \n2022-12-15 yellow_taxi     3.023031     22.769464       0.084803      0.777198  \n2022-12-16 yellow_taxi     2.973724     22.673416       0.089515      0.760628  \n2022-12-17 yellow_taxi     2.834931     21.834228       0.073814      0.756943  \n2022-12-18 yellow_taxi     2.983972     23.269454       0.106621      0.737106  \n2022-12-19 yellow_taxi     3.319893     27.510186       0.099449      0.737053  \n2022-12-20 yellow_taxi     3.385662     27.806331       0.084640      0.753614  \n2022-12-21 yellow_taxi     3.466525     28.507353       0.089222      0.750335  \n2022-12-22 yellow_taxi     3.374415     28.403130       0.096976      0.738755  \n2022-12-23 yellow_taxi     3.123522     26.942867       0.093120      0.713221  \n2022-12-24 yellow_taxi     2.835761     25.025802       0.090904      0.668388  \n2022-12-25 yellow_taxi     3.150251     28.624608       0.139197      0.649125  \n2022-12-26 yellow_taxi     3.341734     29.594587       0.152404      0.692228  \n2022-12-27 yellow_taxi     3.418239     29.909588       0.141766      0.708170  \n2022-12-28 yellow_taxi     3.428778     29.564857       0.127996      0.714624  \n2022-12-29 yellow_taxi     3.429100     29.533789       0.123179      0.719331  \n2022-12-30 yellow_taxi     3.461874     29.836820       0.125956      0.721711  \n2022-12-31 yellow_taxi     3.162040     26.715433       0.103544      0.715087  \n2023-01-01 yellow_taxi     2.780000     22.240000       0.000000      0.800000  ",
      "text/html": "<div>\n<style scoped>\n    .dataframe tbody tr th:only-of-type {\n        vertical-align: middle;\n    }\n\n    .dataframe tbody tr th {\n        vertical-align: top;\n    }\n\n    .dataframe thead th {\n        text-align: right;\n    }\n</style>\n<table border=\"1\" class=\"dataframe\">\n  <thead>\n    <tr style=\"text-align: right;\">\n      <th></th>\n      <th></th>\n      <th>count</th>\n      <th>duration</th>\n      <th>passenger_count</th>\n      <th>trip_distance</th>\n      <th>tip_amount</th>\n      <th>total_amount</th>\n      <th>airport_share</th>\n      <th>credit_share</th>\n    </tr>\n    <tr>\n      <th>date</th>\n      <th>type</th>\n      <th></th>\n      <th></th>\n      <th></th>\n      <th></th>\n      <th></th>\n      <th></th>\n      <th></th>\n      <th></th>\n    </tr>\n  </thead>\n  <tbody>\n    <tr>\n      <th>2022-11-30</th>\n      <th>yellow_taxi</th>\n      <td>41</td>\n      <td>48.808943</td>\n      <td>1.829268</td>\n      <td>4.061951</td>\n      <td>3.546585</td>\n      <td>24.558780</td>\n      <td>0.097561</td>\n      <td>0.853659</td>\n    </tr>\n    <tr>\n      <th>2022-12-01</th>\n      <th>yellow_taxi</th>\n      <td>130584</td>\n      <td>19.615969</td>\n      <td>1.342595</td>\n      <td>3.762795</td>\n      <td>2.979600</td>\n      <td>22.982356</td>\n      <td>0.097968</td>\n      <td>0.774337</td>\n    </tr>\n    <tr>\n      <th>2022-12-02</th>\n      <th>yellow_taxi</th>\n      <td>129951</td>\n      <td>18.574828</td>\n      <td>1.409842</td>\n      <td>7.078983</td>\n      <td>2.839394</td>\n      <td>22.101694</td>\n      <td>0.090442</td>\n      <td>0.764111</td>\n    </tr>\n    <tr>\n      <th>2022-12-03</th>\n      <th>yellow_taxi</th>\n      <td>129172</td>\n      <td>17.765761</td>\n      <td>1.486262</td>\n      <td>7.828807</td>\n      <td>2.695179</td>\n      <td>20.934024</td>\n      <td>0.070743</td>\n      <td>0.764252</td>\n    </tr>\n    <tr>\n      <th>2022-12-04</th>\n      <th>yellow_taxi</th>\n      <td>111619</td>\n      <td>17.331685</td>\n      <td>1.459053</td>\n      <td>5.187190</td>\n      <td>3.014759</td>\n      <td>23.263871</td>\n      <td>0.119693</td>\n      <td>0.764637</td>\n    </tr>\n    <tr>\n      <th>2022-12-05</th>\n      <th>yellow_taxi</th>\n      <td>113626</td>\n      <td>17.839936</td>\n      <td>1.351442</td>\n      <td>6.654190</td>\n      <td>2.937978</td>\n      <td>22.739217</td>\n      <td>0.114965</td>\n      <td>0.762317</td>\n    </tr>\n    <tr>\n      <th>2022-12-06</th>\n      <th>yellow_taxi</th>\n      <td>120179</td>\n      <td>19.894612</td>\n      <td>1.321348</td>\n      <td>5.898933</td>\n      <td>3.026158</td>\n      <td>22.935720</td>\n      <td>0.093394</td>\n      <td>0.772614</td>\n    </tr>\n    <tr>\n      <th>2022-12-07</th>\n      <th>yellow_taxi</th>\n      <td>125589</td>\n      <td>20.066481</td>\n      <td>1.327339</td>\n      <td>5.750370</td>\n      <td>3.096526</td>\n      <td>23.262348</td>\n      <td>0.095422</td>\n      <td>0.782306</td>\n    </tr>\n    <tr>\n      <th>2022-12-08</th>\n      <th>yellow_taxi</th>\n      <td>133862</td>\n      <td>20.442521</td>\n      <td>1.338319</td>\n      <td>4.976634</td>\n      <td>3.129861</td>\n      <td>23.638735</td>\n      <td>0.095285</td>\n      <td>0.781088</td>\n    </tr>\n    <tr>\n      <th>2022-12-09</th>\n      <th>yellow_taxi</th>\n      <td>135397</td>\n      <td>19.308076</td>\n      <td>1.397184</td>\n      <td>5.262050</td>\n      <td>2.988420</td>\n      <td>22.783169</td>\n      <td>0.090822</td>\n      <td>0.770844</td>\n    </tr>\n    <tr>\n      <th>2022-12-10</th>\n      <th>yellow_taxi</th>\n      <td>129278</td>\n      <td>18.597965</td>\n      <td>1.470738</td>\n      <td>4.159240</td>\n      <td>2.778917</td>\n      <td>21.525987</td>\n      <td>0.068349</td>\n      <td>0.766596</td>\n    </tr>\n    <tr>\n      <th>2022-12-11</th>\n      <th>yellow_taxi</th>\n      <td>107756</td>\n      <td>17.423852</td>\n      <td>1.456085</td>\n      <td>3.909874</td>\n      <td>3.005270</td>\n      <td>23.033014</td>\n      <td>0.115158</td>\n      <td>0.768932</td>\n    </tr>\n    <tr>\n      <th>2022-12-12</th>\n      <th>yellow_taxi</th>\n      <td>112374</td>\n      <td>17.853251</td>\n      <td>1.354041</td>\n      <td>4.268605</td>\n      <td>2.899893</td>\n      <td>22.422283</td>\n      <td>0.108949</td>\n      <td>0.765604</td>\n    </tr>\n    <tr>\n      <th>2022-12-13</th>\n      <th>yellow_taxi</th>\n      <td>124239</td>\n      <td>18.417275</td>\n      <td>1.330301</td>\n      <td>4.677001</td>\n      <td>2.906127</td>\n      <td>22.065443</td>\n      <td>0.085835</td>\n      <td>0.775216</td>\n    </tr>\n    <tr>\n      <th>2022-12-14</th>\n      <th>yellow_taxi</th>\n      <td>129324</td>\n      <td>19.010448</td>\n      <td>1.326511</td>\n      <td>4.524565</td>\n      <td>1378.200417</td>\n      <td>22.219213</td>\n      <td>0.081825</td>\n      <td>0.772703</td>\n    </tr>\n    <tr>\n      <th>2022-12-15</th>\n      <th>yellow_taxi</th>\n      <td>131175</td>\n      <td>19.900291</td>\n      <td>1.335300</td>\n      <td>3.526985</td>\n      <td>3.023031</td>\n      <td>22.769464</td>\n      <td>0.084803</td>\n      <td>0.777198</td>\n    </tr>\n    <tr>\n      <th>2022-12-16</th>\n      <th>yellow_taxi</th>\n      <td>127755</td>\n      <td>19.036533</td>\n      <td>1.389955</td>\n      <td>4.424712</td>\n      <td>2.973724</td>\n      <td>22.673416</td>\n      <td>0.089515</td>\n      <td>0.760628</td>\n    </tr>\n    <tr>\n      <th>2022-12-17</th>\n      <th>yellow_taxi</th>\n      <td>125382</td>\n      <td>18.495686</td>\n      <td>1.492043</td>\n      <td>3.782385</td>\n      <td>2.834931</td>\n      <td>21.834228</td>\n      <td>0.073814</td>\n      <td>0.756943</td>\n    </tr>\n    <tr>\n      <th>2022-12-18</th>\n      <th>yellow_taxi</th>\n      <td>102878</td>\n      <td>17.050404</td>\n      <td>1.487629</td>\n      <td>4.017527</td>\n      <td>2.983972</td>\n      <td>23.269454</td>\n      <td>0.106621</td>\n      <td>0.737106</td>\n    </tr>\n    <tr>\n      <th>2022-12-19</th>\n      <th>yellow_taxi</th>\n      <td>112460</td>\n      <td>16.925512</td>\n      <td>1.404397</td>\n      <td>4.832532</td>\n      <td>3.319893</td>\n      <td>27.510186</td>\n      <td>0.099449</td>\n      <td>0.737053</td>\n    </tr>\n    <tr>\n      <th>2022-12-20</th>\n      <th>yellow_taxi</th>\n      <td>116021</td>\n      <td>17.863042</td>\n      <td>1.395455</td>\n      <td>3.356491</td>\n      <td>3.385662</td>\n      <td>27.806331</td>\n      <td>0.084640</td>\n      <td>0.753614</td>\n    </tr>\n    <tr>\n      <th>2022-12-21</th>\n      <th>yellow_taxi</th>\n      <td>113560</td>\n      <td>18.491917</td>\n      <td>1.400350</td>\n      <td>5.167580</td>\n      <td>3.466525</td>\n      <td>28.507353</td>\n      <td>0.089222</td>\n      <td>0.750335</td>\n    </tr>\n    <tr>\n      <th>2022-12-22</th>\n      <th>yellow_taxi</th>\n      <td>102850</td>\n      <td>18.557160</td>\n      <td>1.414972</td>\n      <td>3.650806</td>\n      <td>3.374415</td>\n      <td>28.403130</td>\n      <td>0.096976</td>\n      <td>0.738755</td>\n    </tr>\n    <tr>\n      <th>2022-12-23</th>\n      <th>yellow_taxi</th>\n      <td>95028</td>\n      <td>16.382870</td>\n      <td>1.449239</td>\n      <td>3.455618</td>\n      <td>3.123522</td>\n      <td>26.942867</td>\n      <td>0.093120</td>\n      <td>0.713221</td>\n    </tr>\n    <tr>\n      <th>2022-12-24</th>\n      <th>yellow_taxi</th>\n      <td>75519</td>\n      <td>14.327706</td>\n      <td>1.514524</td>\n      <td>3.329849</td>\n      <td>2.835761</td>\n      <td>25.025802</td>\n      <td>0.090904</td>\n      <td>0.668388</td>\n    </tr>\n    <tr>\n      <th>2022-12-25</th>\n      <th>yellow_taxi</th>\n      <td>50109</td>\n      <td>16.054531</td>\n      <td>1.556460</td>\n      <td>4.138615</td>\n      <td>3.150251</td>\n      <td>28.624608</td>\n      <td>0.139197</td>\n      <td>0.649125</td>\n    </tr>\n    <tr>\n      <th>2022-12-26</th>\n      <th>yellow_taxi</th>\n      <td>67459</td>\n      <td>17.667564</td>\n      <td>1.564689</td>\n      <td>4.130195</td>\n      <td>3.341734</td>\n      <td>29.594587</td>\n      <td>0.152404</td>\n      <td>0.692228</td>\n    </tr>\n    <tr>\n      <th>2022-12-27</th>\n      <th>yellow_taxi</th>\n      <td>86290</td>\n      <td>18.507198</td>\n      <td>1.514512</td>\n      <td>4.205887</td>\n      <td>3.418239</td>\n      <td>29.909588</td>\n      <td>0.141766</td>\n      <td>0.708170</td>\n    </tr>\n    <tr>\n      <th>2022-12-28</th>\n      <th>yellow_taxi</th>\n      <td>89065</td>\n      <td>18.671067</td>\n      <td>1.510301</td>\n      <td>4.193342</td>\n      <td>3.428778</td>\n      <td>29.564857</td>\n      <td>0.127996</td>\n      <td>0.714624</td>\n    </tr>\n    <tr>\n      <th>2022-12-29</th>\n      <th>yellow_taxi</th>\n      <td>93498</td>\n      <td>18.804426</td>\n      <td>1.514585</td>\n      <td>3.791165</td>\n      <td>3.429100</td>\n      <td>29.533789</td>\n      <td>0.123179</td>\n      <td>0.719331</td>\n    </tr>\n    <tr>\n      <th>2022-12-30</th>\n      <th>yellow_taxi</th>\n      <td>92429</td>\n      <td>18.641188</td>\n      <td>1.507088</td>\n      <td>3.934692</td>\n      <td>3.461874</td>\n      <td>29.836820</td>\n      <td>0.125956</td>\n      <td>0.721711</td>\n    </tr>\n    <tr>\n      <th>2022-12-31</th>\n      <th>yellow_taxi</th>\n      <td>85075</td>\n      <td>15.312132</td>\n      <td>1.522136</td>\n      <td>5.496663</td>\n      <td>3.162040</td>\n      <td>26.715433</td>\n      <td>0.103544</td>\n      <td>0.715087</td>\n    </tr>\n    <tr>\n      <th>2023-01-01</th>\n      <th>yellow_taxi</th>\n      <td>5</td>\n      <td>12.700000</td>\n      <td>2.000000</td>\n      <td>1.752000</td>\n      <td>2.780000</td>\n      <td>22.240000</td>\n      <td>0.000000</td>\n      <td>0.800000</td>\n    </tr>\n  </tbody>\n</table>\n</div>"
     },
     "execution_count": 27,
     "metadata": {},
     "output_type": "execute_result"
    }
   ],
   "source": [
    "df = df2.head(100000).copy()\n",
    "\n",
    "# Remove edge cases\n",
    "df[df['tip_amount'] < 1000] # Remove data entry error with 9-figure tip\n",
    "\n",
    "# Create a column for trip duration\n",
    "duration_list = []\n",
    "time_delta_series = df['tpep_dropoff_datetime'] - df['tpep_pickup_datetime']\n",
    "for t in time_delta_series:\n",
    "    duration_list.append(t.total_seconds() / 60)\n",
    "df.insert(3, 'duration', duration_list)\n",
    "\n",
    "\n",
    "# Define date from the pickup time\n",
    "df.insert(0, 'date', df['tpep_pickup_datetime'].dt.date)\n",
    "\n",
    "# Define type\n",
    "df.insert(1, 'type', 'yellow_taxi')\n",
    "\n",
    "# Indicate if the ride was to an airport (RatecodeID = 2 or 3 or airport_fee is non-zero)\n",
    "df['airport_share'] = df.apply(lambda x: 1 if x['RatecodeID'] in [2, 3] or x['airport_fee'] > 0 else 0, axis=1)\n",
    "\n",
    "# Indicate if the payment was credit\n",
    "df['credit_share'] = df['payment_type'].apply(lambda x: 1 if x == 1 else 0)\n",
    "\n",
    "# Define columns to keep\n",
    "columns_to_keep =  ['date', 'type', 'duration', 'passenger_count', 'trip_distance', 'tip_amount', 'total_amount', 'airport_share', 'credit_share']\n",
    "df = df[columns_to_keep]\n",
    "\n",
    "df_daily = df.groupby(['date', 'type']).mean()\n",
    "df_daily.insert(0, 'count', df.groupby(['date', 'type']).count()['duration'])\n",
    "\n",
    "df_daily"
   ],
   "metadata": {
    "collapsed": false
   }
  },
  {
   "cell_type": "code",
   "execution_count": 14,
   "outputs": [
    {
     "data": {
      "text/plain": "Index(['date', 'type', 'VendorID', 'tpep_pickup_datetime',\n       'tpep_dropoff_datetime', 'duration', 'passenger_count', 'trip_distance',\n       'RatecodeID', 'store_and_fwd_flag', 'PULocationID', 'DOLocationID',\n       'payment_type', 'fare_amount', 'extra', 'mta_tax', 'tip_amount',\n       'tolls_amount', 'improvement_surcharge', 'total_amount',\n       'congestion_surcharge', 'airport_fee', 'airport'],\n      dtype='object')"
     },
     "execution_count": 14,
     "metadata": {},
     "output_type": "execute_result"
    }
   ],
   "source": [
    "df.columns"
   ],
   "metadata": {
    "collapsed": false
   }
  },
  {
   "cell_type": "code",
   "execution_count": null,
   "outputs": [],
   "source": [],
   "metadata": {
    "collapsed": false
   }
  }
 ],
 "metadata": {
  "kernelspec": {
   "display_name": "Python 3",
   "language": "python",
   "name": "python3"
  },
  "language_info": {
   "codemirror_mode": {
    "name": "ipython",
    "version": 2
   },
   "file_extension": ".py",
   "mimetype": "text/x-python",
   "name": "python",
   "nbconvert_exporter": "python",
   "pygments_lexer": "ipython2",
   "version": "2.7.6"
  }
 },
 "nbformat": 4,
 "nbformat_minor": 0
}