{
 "cells": [
  {
   "cell_type": "markdown",
   "source": [
    "https://www.nyc.gov/site/tlc/about/tlc-trip-record-data.page"
   ],
   "metadata": {
    "collapsed": false
   }
  },
  {
   "cell_type": "code",
   "execution_count": 30,
   "metadata": {
    "collapsed": true
   },
   "outputs": [],
   "source": [
    "import pandas as pd\n",
    "\n",
    "url = \"https://d37ci6vzurychx.cloudfront.net/trip-data/yellow_tripdata_2023-01.parquet\"\n",
    "df2 = pd.read_parquet(url)"
   ]
  },
  {
   "cell_type": "code",
   "execution_count": 31,
   "outputs": [
    {
     "data": {
      "text/plain": "(3066766, 19)"
     },
     "execution_count": 31,
     "metadata": {},
     "output_type": "execute_result"
    }
   ],
   "source": [
    "df2.shape"
   ],
   "metadata": {
    "collapsed": false
   }
  },
  {
   "cell_type": "code",
   "execution_count": 51,
   "outputs": [
    {
     "data": {
      "text/plain": "          date    type  VendorID tpep_pickup_datetime tpep_dropoff_datetime  \\\n0   2023-01-01  yellow         2  2023-01-01 00:32:10   2023-01-01 00:40:36   \n1   2023-01-01  yellow         2  2023-01-01 00:55:08   2023-01-01 01:01:27   \n2   2023-01-01  yellow         2  2023-01-01 00:25:04   2023-01-01 00:37:49   \n3   2023-01-01  yellow         1  2023-01-01 00:03:48   2023-01-01 00:13:25   \n4   2023-01-01  yellow         2  2023-01-01 00:10:29   2023-01-01 00:21:19   \n..         ...     ...       ...                  ...                   ...   \n95  2023-01-01  yellow         2  2023-01-01 00:20:38   2023-01-01 00:21:26   \n96  2023-01-01  yellow         2  2023-01-01 00:09:16   2023-01-01 00:30:17   \n97  2023-01-01  yellow         2  2023-01-01 00:46:56   2023-01-01 00:59:16   \n98  2023-01-01  yellow         2  2023-01-01 00:10:50   2023-01-01 00:20:19   \n99  2023-01-01  yellow         2  2023-01-01 00:27:35   2023-01-01 00:37:49   \n\n     duration  passenger_count  trip_distance  RatecodeID store_and_fwd_flag  \\\n0    8.433333              1.0           0.97         1.0                  N   \n1    6.316667              1.0           1.10         1.0                  N   \n2   12.750000              1.0           2.51         1.0                  N   \n3    9.616667              0.0           1.90         1.0                  N   \n4   10.833333              1.0           1.43         1.0                  N   \n..        ...              ...            ...         ...                ...   \n95   0.800000              1.0           0.08         1.0                  N   \n96  21.016667              1.0           6.22         1.0                  N   \n97  12.333333              1.0           4.56         1.0                  N   \n98   9.483333              1.0           1.41         1.0                  N   \n99  10.233333              1.0           1.70         1.0                  N   \n\n    ...  payment_type  fare_amount  extra  mta_tax  tip_amount  tolls_amount  \\\n0   ...             2          9.3   1.00      0.5        0.00           0.0   \n1   ...             1          7.9   1.00      0.5        4.00           0.0   \n2   ...             1         14.9   1.00      0.5       15.00           0.0   \n3   ...             1         12.1   7.25      0.5        0.00           0.0   \n4   ...             1         11.4   1.00      0.5        3.28           0.0   \n..  ...           ...          ...    ...      ...         ...           ...   \n95  ...             2          3.0   1.00      0.5        0.00           0.0   \n96  ...             2         31.0   6.00      0.5        0.00           0.0   \n97  ...             1         20.5   1.00      0.5        5.75           0.0   \n98  ...             1         10.7   1.00      0.5        3.92           0.0   \n99  ...             1         11.4   1.00      0.5        2.00           0.0   \n\n    improvement_surcharge  total_amount  congestion_surcharge  airport_fee  \n0                     1.0         14.30                   2.5         0.00  \n1                     1.0         16.90                   2.5         0.00  \n2                     1.0         34.90                   2.5         0.00  \n3                     1.0         20.85                   0.0         1.25  \n4                     1.0         19.68                   2.5         0.00  \n..                    ...           ...                   ...          ...  \n95                    1.0          5.50                   0.0         0.00  \n96                    1.0         39.75                   0.0         1.25  \n97                    1.0         30.00                   0.0         1.25  \n98                    1.0         19.62                   2.5         0.00  \n99                    1.0         18.40                   2.5         0.00  \n\n[100 rows x 22 columns]",
      "text/html": "<div>\n<style scoped>\n    .dataframe tbody tr th:only-of-type {\n        vertical-align: middle;\n    }\n\n    .dataframe tbody tr th {\n        vertical-align: top;\n    }\n\n    .dataframe thead th {\n        text-align: right;\n    }\n</style>\n<table border=\"1\" class=\"dataframe\">\n  <thead>\n    <tr style=\"text-align: right;\">\n      <th></th>\n      <th>date</th>\n      <th>type</th>\n      <th>VendorID</th>\n      <th>tpep_pickup_datetime</th>\n      <th>tpep_dropoff_datetime</th>\n      <th>duration</th>\n      <th>passenger_count</th>\n      <th>trip_distance</th>\n      <th>RatecodeID</th>\n      <th>store_and_fwd_flag</th>\n      <th>...</th>\n      <th>payment_type</th>\n      <th>fare_amount</th>\n      <th>extra</th>\n      <th>mta_tax</th>\n      <th>tip_amount</th>\n      <th>tolls_amount</th>\n      <th>improvement_surcharge</th>\n      <th>total_amount</th>\n      <th>congestion_surcharge</th>\n      <th>airport_fee</th>\n    </tr>\n  </thead>\n  <tbody>\n    <tr>\n      <th>0</th>\n      <td>2023-01-01</td>\n      <td>yellow</td>\n      <td>2</td>\n      <td>2023-01-01 00:32:10</td>\n      <td>2023-01-01 00:40:36</td>\n      <td>8.433333</td>\n      <td>1.0</td>\n      <td>0.97</td>\n      <td>1.0</td>\n      <td>N</td>\n      <td>...</td>\n      <td>2</td>\n      <td>9.3</td>\n      <td>1.00</td>\n      <td>0.5</td>\n      <td>0.00</td>\n      <td>0.0</td>\n      <td>1.0</td>\n      <td>14.30</td>\n      <td>2.5</td>\n      <td>0.00</td>\n    </tr>\n    <tr>\n      <th>1</th>\n      <td>2023-01-01</td>\n      <td>yellow</td>\n      <td>2</td>\n      <td>2023-01-01 00:55:08</td>\n      <td>2023-01-01 01:01:27</td>\n      <td>6.316667</td>\n      <td>1.0</td>\n      <td>1.10</td>\n      <td>1.0</td>\n      <td>N</td>\n      <td>...</td>\n      <td>1</td>\n      <td>7.9</td>\n      <td>1.00</td>\n      <td>0.5</td>\n      <td>4.00</td>\n      <td>0.0</td>\n      <td>1.0</td>\n      <td>16.90</td>\n      <td>2.5</td>\n      <td>0.00</td>\n    </tr>\n    <tr>\n      <th>2</th>\n      <td>2023-01-01</td>\n      <td>yellow</td>\n      <td>2</td>\n      <td>2023-01-01 00:25:04</td>\n      <td>2023-01-01 00:37:49</td>\n      <td>12.750000</td>\n      <td>1.0</td>\n      <td>2.51</td>\n      <td>1.0</td>\n      <td>N</td>\n      <td>...</td>\n      <td>1</td>\n      <td>14.9</td>\n      <td>1.00</td>\n      <td>0.5</td>\n      <td>15.00</td>\n      <td>0.0</td>\n      <td>1.0</td>\n      <td>34.90</td>\n      <td>2.5</td>\n      <td>0.00</td>\n    </tr>\n    <tr>\n      <th>3</th>\n      <td>2023-01-01</td>\n      <td>yellow</td>\n      <td>1</td>\n      <td>2023-01-01 00:03:48</td>\n      <td>2023-01-01 00:13:25</td>\n      <td>9.616667</td>\n      <td>0.0</td>\n      <td>1.90</td>\n      <td>1.0</td>\n      <td>N</td>\n      <td>...</td>\n      <td>1</td>\n      <td>12.1</td>\n      <td>7.25</td>\n      <td>0.5</td>\n      <td>0.00</td>\n      <td>0.0</td>\n      <td>1.0</td>\n      <td>20.85</td>\n      <td>0.0</td>\n      <td>1.25</td>\n    </tr>\n    <tr>\n      <th>4</th>\n      <td>2023-01-01</td>\n      <td>yellow</td>\n      <td>2</td>\n      <td>2023-01-01 00:10:29</td>\n      <td>2023-01-01 00:21:19</td>\n      <td>10.833333</td>\n      <td>1.0</td>\n      <td>1.43</td>\n      <td>1.0</td>\n      <td>N</td>\n      <td>...</td>\n      <td>1</td>\n      <td>11.4</td>\n      <td>1.00</td>\n      <td>0.5</td>\n      <td>3.28</td>\n      <td>0.0</td>\n      <td>1.0</td>\n      <td>19.68</td>\n      <td>2.5</td>\n      <td>0.00</td>\n    </tr>\n    <tr>\n      <th>...</th>\n      <td>...</td>\n      <td>...</td>\n      <td>...</td>\n      <td>...</td>\n      <td>...</td>\n      <td>...</td>\n      <td>...</td>\n      <td>...</td>\n      <td>...</td>\n      <td>...</td>\n      <td>...</td>\n      <td>...</td>\n      <td>...</td>\n      <td>...</td>\n      <td>...</td>\n      <td>...</td>\n      <td>...</td>\n      <td>...</td>\n      <td>...</td>\n      <td>...</td>\n      <td>...</td>\n    </tr>\n    <tr>\n      <th>95</th>\n      <td>2023-01-01</td>\n      <td>yellow</td>\n      <td>2</td>\n      <td>2023-01-01 00:20:38</td>\n      <td>2023-01-01 00:21:26</td>\n      <td>0.800000</td>\n      <td>1.0</td>\n      <td>0.08</td>\n      <td>1.0</td>\n      <td>N</td>\n      <td>...</td>\n      <td>2</td>\n      <td>3.0</td>\n      <td>1.00</td>\n      <td>0.5</td>\n      <td>0.00</td>\n      <td>0.0</td>\n      <td>1.0</td>\n      <td>5.50</td>\n      <td>0.0</td>\n      <td>0.00</td>\n    </tr>\n    <tr>\n      <th>96</th>\n      <td>2023-01-01</td>\n      <td>yellow</td>\n      <td>2</td>\n      <td>2023-01-01 00:09:16</td>\n      <td>2023-01-01 00:30:17</td>\n      <td>21.016667</td>\n      <td>1.0</td>\n      <td>6.22</td>\n      <td>1.0</td>\n      <td>N</td>\n      <td>...</td>\n      <td>2</td>\n      <td>31.0</td>\n      <td>6.00</td>\n      <td>0.5</td>\n      <td>0.00</td>\n      <td>0.0</td>\n      <td>1.0</td>\n      <td>39.75</td>\n      <td>0.0</td>\n      <td>1.25</td>\n    </tr>\n    <tr>\n      <th>97</th>\n      <td>2023-01-01</td>\n      <td>yellow</td>\n      <td>2</td>\n      <td>2023-01-01 00:46:56</td>\n      <td>2023-01-01 00:59:16</td>\n      <td>12.333333</td>\n      <td>1.0</td>\n      <td>4.56</td>\n      <td>1.0</td>\n      <td>N</td>\n      <td>...</td>\n      <td>1</td>\n      <td>20.5</td>\n      <td>1.00</td>\n      <td>0.5</td>\n      <td>5.75</td>\n      <td>0.0</td>\n      <td>1.0</td>\n      <td>30.00</td>\n      <td>0.0</td>\n      <td>1.25</td>\n    </tr>\n    <tr>\n      <th>98</th>\n      <td>2023-01-01</td>\n      <td>yellow</td>\n      <td>2</td>\n      <td>2023-01-01 00:10:50</td>\n      <td>2023-01-01 00:20:19</td>\n      <td>9.483333</td>\n      <td>1.0</td>\n      <td>1.41</td>\n      <td>1.0</td>\n      <td>N</td>\n      <td>...</td>\n      <td>1</td>\n      <td>10.7</td>\n      <td>1.00</td>\n      <td>0.5</td>\n      <td>3.92</td>\n      <td>0.0</td>\n      <td>1.0</td>\n      <td>19.62</td>\n      <td>2.5</td>\n      <td>0.00</td>\n    </tr>\n    <tr>\n      <th>99</th>\n      <td>2023-01-01</td>\n      <td>yellow</td>\n      <td>2</td>\n      <td>2023-01-01 00:27:35</td>\n      <td>2023-01-01 00:37:49</td>\n      <td>10.233333</td>\n      <td>1.0</td>\n      <td>1.70</td>\n      <td>1.0</td>\n      <td>N</td>\n      <td>...</td>\n      <td>1</td>\n      <td>11.4</td>\n      <td>1.00</td>\n      <td>0.5</td>\n      <td>2.00</td>\n      <td>0.0</td>\n      <td>1.0</td>\n      <td>18.40</td>\n      <td>2.5</td>\n      <td>0.00</td>\n    </tr>\n  </tbody>\n</table>\n<p>100 rows × 22 columns</p>\n</div>"
     },
     "execution_count": 51,
     "metadata": {},
     "output_type": "execute_result"
    }
   ],
   "source": [
    "df = df2.head(100).copy()\n",
    "\n",
    "# Create a column for trip duration\n",
    "duration_list = []\n",
    "time_delta_series = df['tpep_dropoff_datetime'] - df['tpep_pickup_datetime']\n",
    "for t in time_delta_series:\n",
    "    duration_list.append(t.total_seconds() / 60)\n",
    "df.insert(3, 'duration', duration_list)\n",
    "\n",
    "\n",
    "# Define date from the pickup time\n",
    "df.insert(0, 'date', df['tpep_pickup_datetime'].dt.date)\n",
    "\n",
    "# Define type\n",
    "df.insert(1, 'type', 'yellow_taxi')\n",
    "\n",
    "df"
   ],
   "metadata": {
    "collapsed": false
   }
  },
  {
   "cell_type": "code",
   "execution_count": 47,
   "outputs": [
    {
     "data": {
      "text/plain": "0     2023-01-01\n1     2023-01-01\n2     2023-01-01\n3     2023-01-01\n4     2023-01-01\n         ...    \n95    2023-01-01\n96    2023-01-01\n97    2023-01-01\n98    2023-01-01\n99    2023-01-01\nName: tpep_pickup_datetime, Length: 100, dtype: object"
     },
     "execution_count": 47,
     "metadata": {},
     "output_type": "execute_result"
    }
   ],
   "source": [
    "# df['tpep_pickup_datetime'].date().strftime('%Y-%m-%d')\n",
    "# df['tpep_pickup_datetime'].to_datetime.strftime('%Y-%m-%d')\n",
    "df['tpep_pickup_datetime'].dt.date\n",
    "# df['tpep_pickup_datetime'][0]"
   ],
   "metadata": {
    "collapsed": false
   }
  },
  {
   "cell_type": "code",
   "execution_count": 48,
   "outputs": [
    {
     "data": {
      "text/plain": "    VendorID tpep_pickup_datetime tpep_dropoff_datetime   duration  \\\n0          2  2023-01-01 00:32:10   2023-01-01 00:40:36   8.433333   \n1          2  2023-01-01 00:55:08   2023-01-01 01:01:27   6.316667   \n2          2  2023-01-01 00:25:04   2023-01-01 00:37:49  12.750000   \n3          1  2023-01-01 00:03:48   2023-01-01 00:13:25   9.616667   \n4          2  2023-01-01 00:10:29   2023-01-01 00:21:19  10.833333   \n..       ...                  ...                   ...        ...   \n95         2  2023-01-01 00:20:38   2023-01-01 00:21:26   0.800000   \n96         2  2023-01-01 00:09:16   2023-01-01 00:30:17  21.016667   \n97         2  2023-01-01 00:46:56   2023-01-01 00:59:16  12.333333   \n98         2  2023-01-01 00:10:50   2023-01-01 00:20:19   9.483333   \n99         2  2023-01-01 00:27:35   2023-01-01 00:37:49  10.233333   \n\n    passenger_count  trip_distance  RatecodeID store_and_fwd_flag  \\\n0               1.0           0.97         1.0                  N   \n1               1.0           1.10         1.0                  N   \n2               1.0           2.51         1.0                  N   \n3               0.0           1.90         1.0                  N   \n4               1.0           1.43         1.0                  N   \n..              ...            ...         ...                ...   \n95              1.0           0.08         1.0                  N   \n96              1.0           6.22         1.0                  N   \n97              1.0           4.56         1.0                  N   \n98              1.0           1.41         1.0                  N   \n99              1.0           1.70         1.0                  N   \n\n    PULocationID  DOLocationID  ...  fare_amount  extra  mta_tax  tip_amount  \\\n0            161           141  ...          9.3   1.00      0.5        0.00   \n1             43           237  ...          7.9   1.00      0.5        4.00   \n2             48           238  ...         14.9   1.00      0.5       15.00   \n3            138             7  ...         12.1   7.25      0.5        0.00   \n4            107            79  ...         11.4   1.00      0.5        3.28   \n..           ...           ...  ...          ...    ...      ...         ...   \n95            75            75  ...          3.0   1.00      0.5        0.00   \n96           138            95  ...         31.0   6.00      0.5        0.00   \n97           132           218  ...         20.5   1.00      0.5        5.75   \n98           264           186  ...         10.7   1.00      0.5        3.92   \n99           264           114  ...         11.4   1.00      0.5        2.00   \n\n    tolls_amount  improvement_surcharge  total_amount  congestion_surcharge  \\\n0            0.0                    1.0         14.30                   2.5   \n1            0.0                    1.0         16.90                   2.5   \n2            0.0                    1.0         34.90                   2.5   \n3            0.0                    1.0         20.85                   0.0   \n4            0.0                    1.0         19.68                   2.5   \n..           ...                    ...           ...                   ...   \n95           0.0                    1.0          5.50                   0.0   \n96           0.0                    1.0         39.75                   0.0   \n97           0.0                    1.0         30.00                   0.0   \n98           0.0                    1.0         19.62                   2.5   \n99           0.0                    1.0         18.40                   2.5   \n\n    airport_fee         new  \n0          0.00  2023-01-01  \n1          0.00  2023-01-01  \n2          0.00  2023-01-01  \n3          1.25  2023-01-01  \n4          0.00  2023-01-01  \n..          ...         ...  \n95         0.00  2023-01-01  \n96         1.25  2023-01-01  \n97         1.25  2023-01-01  \n98         0.00  2023-01-01  \n99         0.00  2023-01-01  \n\n[100 rows x 21 columns]",
      "text/html": "<div>\n<style scoped>\n    .dataframe tbody tr th:only-of-type {\n        vertical-align: middle;\n    }\n\n    .dataframe tbody tr th {\n        vertical-align: top;\n    }\n\n    .dataframe thead th {\n        text-align: right;\n    }\n</style>\n<table border=\"1\" class=\"dataframe\">\n  <thead>\n    <tr style=\"text-align: right;\">\n      <th></th>\n      <th>VendorID</th>\n      <th>tpep_pickup_datetime</th>\n      <th>tpep_dropoff_datetime</th>\n      <th>duration</th>\n      <th>passenger_count</th>\n      <th>trip_distance</th>\n      <th>RatecodeID</th>\n      <th>store_and_fwd_flag</th>\n      <th>PULocationID</th>\n      <th>DOLocationID</th>\n      <th>...</th>\n      <th>fare_amount</th>\n      <th>extra</th>\n      <th>mta_tax</th>\n      <th>tip_amount</th>\n      <th>tolls_amount</th>\n      <th>improvement_surcharge</th>\n      <th>total_amount</th>\n      <th>congestion_surcharge</th>\n      <th>airport_fee</th>\n      <th>new</th>\n    </tr>\n  </thead>\n  <tbody>\n    <tr>\n      <th>0</th>\n      <td>2</td>\n      <td>2023-01-01 00:32:10</td>\n      <td>2023-01-01 00:40:36</td>\n      <td>8.433333</td>\n      <td>1.0</td>\n      <td>0.97</td>\n      <td>1.0</td>\n      <td>N</td>\n      <td>161</td>\n      <td>141</td>\n      <td>...</td>\n      <td>9.3</td>\n      <td>1.00</td>\n      <td>0.5</td>\n      <td>0.00</td>\n      <td>0.0</td>\n      <td>1.0</td>\n      <td>14.30</td>\n      <td>2.5</td>\n      <td>0.00</td>\n      <td>2023-01-01</td>\n    </tr>\n    <tr>\n      <th>1</th>\n      <td>2</td>\n      <td>2023-01-01 00:55:08</td>\n      <td>2023-01-01 01:01:27</td>\n      <td>6.316667</td>\n      <td>1.0</td>\n      <td>1.10</td>\n      <td>1.0</td>\n      <td>N</td>\n      <td>43</td>\n      <td>237</td>\n      <td>...</td>\n      <td>7.9</td>\n      <td>1.00</td>\n      <td>0.5</td>\n      <td>4.00</td>\n      <td>0.0</td>\n      <td>1.0</td>\n      <td>16.90</td>\n      <td>2.5</td>\n      <td>0.00</td>\n      <td>2023-01-01</td>\n    </tr>\n    <tr>\n      <th>2</th>\n      <td>2</td>\n      <td>2023-01-01 00:25:04</td>\n      <td>2023-01-01 00:37:49</td>\n      <td>12.750000</td>\n      <td>1.0</td>\n      <td>2.51</td>\n      <td>1.0</td>\n      <td>N</td>\n      <td>48</td>\n      <td>238</td>\n      <td>...</td>\n      <td>14.9</td>\n      <td>1.00</td>\n      <td>0.5</td>\n      <td>15.00</td>\n      <td>0.0</td>\n      <td>1.0</td>\n      <td>34.90</td>\n      <td>2.5</td>\n      <td>0.00</td>\n      <td>2023-01-01</td>\n    </tr>\n    <tr>\n      <th>3</th>\n      <td>1</td>\n      <td>2023-01-01 00:03:48</td>\n      <td>2023-01-01 00:13:25</td>\n      <td>9.616667</td>\n      <td>0.0</td>\n      <td>1.90</td>\n      <td>1.0</td>\n      <td>N</td>\n      <td>138</td>\n      <td>7</td>\n      <td>...</td>\n      <td>12.1</td>\n      <td>7.25</td>\n      <td>0.5</td>\n      <td>0.00</td>\n      <td>0.0</td>\n      <td>1.0</td>\n      <td>20.85</td>\n      <td>0.0</td>\n      <td>1.25</td>\n      <td>2023-01-01</td>\n    </tr>\n    <tr>\n      <th>4</th>\n      <td>2</td>\n      <td>2023-01-01 00:10:29</td>\n      <td>2023-01-01 00:21:19</td>\n      <td>10.833333</td>\n      <td>1.0</td>\n      <td>1.43</td>\n      <td>1.0</td>\n      <td>N</td>\n      <td>107</td>\n      <td>79</td>\n      <td>...</td>\n      <td>11.4</td>\n      <td>1.00</td>\n      <td>0.5</td>\n      <td>3.28</td>\n      <td>0.0</td>\n      <td>1.0</td>\n      <td>19.68</td>\n      <td>2.5</td>\n      <td>0.00</td>\n      <td>2023-01-01</td>\n    </tr>\n    <tr>\n      <th>...</th>\n      <td>...</td>\n      <td>...</td>\n      <td>...</td>\n      <td>...</td>\n      <td>...</td>\n      <td>...</td>\n      <td>...</td>\n      <td>...</td>\n      <td>...</td>\n      <td>...</td>\n      <td>...</td>\n      <td>...</td>\n      <td>...</td>\n      <td>...</td>\n      <td>...</td>\n      <td>...</td>\n      <td>...</td>\n      <td>...</td>\n      <td>...</td>\n      <td>...</td>\n      <td>...</td>\n    </tr>\n    <tr>\n      <th>95</th>\n      <td>2</td>\n      <td>2023-01-01 00:20:38</td>\n      <td>2023-01-01 00:21:26</td>\n      <td>0.800000</td>\n      <td>1.0</td>\n      <td>0.08</td>\n      <td>1.0</td>\n      <td>N</td>\n      <td>75</td>\n      <td>75</td>\n      <td>...</td>\n      <td>3.0</td>\n      <td>1.00</td>\n      <td>0.5</td>\n      <td>0.00</td>\n      <td>0.0</td>\n      <td>1.0</td>\n      <td>5.50</td>\n      <td>0.0</td>\n      <td>0.00</td>\n      <td>2023-01-01</td>\n    </tr>\n    <tr>\n      <th>96</th>\n      <td>2</td>\n      <td>2023-01-01 00:09:16</td>\n      <td>2023-01-01 00:30:17</td>\n      <td>21.016667</td>\n      <td>1.0</td>\n      <td>6.22</td>\n      <td>1.0</td>\n      <td>N</td>\n      <td>138</td>\n      <td>95</td>\n      <td>...</td>\n      <td>31.0</td>\n      <td>6.00</td>\n      <td>0.5</td>\n      <td>0.00</td>\n      <td>0.0</td>\n      <td>1.0</td>\n      <td>39.75</td>\n      <td>0.0</td>\n      <td>1.25</td>\n      <td>2023-01-01</td>\n    </tr>\n    <tr>\n      <th>97</th>\n      <td>2</td>\n      <td>2023-01-01 00:46:56</td>\n      <td>2023-01-01 00:59:16</td>\n      <td>12.333333</td>\n      <td>1.0</td>\n      <td>4.56</td>\n      <td>1.0</td>\n      <td>N</td>\n      <td>132</td>\n      <td>218</td>\n      <td>...</td>\n      <td>20.5</td>\n      <td>1.00</td>\n      <td>0.5</td>\n      <td>5.75</td>\n      <td>0.0</td>\n      <td>1.0</td>\n      <td>30.00</td>\n      <td>0.0</td>\n      <td>1.25</td>\n      <td>2023-01-01</td>\n    </tr>\n    <tr>\n      <th>98</th>\n      <td>2</td>\n      <td>2023-01-01 00:10:50</td>\n      <td>2023-01-01 00:20:19</td>\n      <td>9.483333</td>\n      <td>1.0</td>\n      <td>1.41</td>\n      <td>1.0</td>\n      <td>N</td>\n      <td>264</td>\n      <td>186</td>\n      <td>...</td>\n      <td>10.7</td>\n      <td>1.00</td>\n      <td>0.5</td>\n      <td>3.92</td>\n      <td>0.0</td>\n      <td>1.0</td>\n      <td>19.62</td>\n      <td>2.5</td>\n      <td>0.00</td>\n      <td>2023-01-01</td>\n    </tr>\n    <tr>\n      <th>99</th>\n      <td>2</td>\n      <td>2023-01-01 00:27:35</td>\n      <td>2023-01-01 00:37:49</td>\n      <td>10.233333</td>\n      <td>1.0</td>\n      <td>1.70</td>\n      <td>1.0</td>\n      <td>N</td>\n      <td>264</td>\n      <td>114</td>\n      <td>...</td>\n      <td>11.4</td>\n      <td>1.00</td>\n      <td>0.5</td>\n      <td>2.00</td>\n      <td>0.0</td>\n      <td>1.0</td>\n      <td>18.40</td>\n      <td>2.5</td>\n      <td>0.00</td>\n      <td>2023-01-01</td>\n    </tr>\n  </tbody>\n</table>\n<p>100 rows × 21 columns</p>\n</div>"
     },
     "execution_count": 48,
     "metadata": {},
     "output_type": "execute_result"
    }
   ],
   "source": [
    "df['new'] = df['tpep_pickup_datetime'].dt.date\n",
    "df"
   ],
   "metadata": {
    "collapsed": false
   }
  },
  {
   "cell_type": "code",
   "execution_count": null,
   "outputs": [],
   "source": [],
   "metadata": {
    "collapsed": false
   }
  }
 ],
 "metadata": {
  "kernelspec": {
   "display_name": "Python 3",
   "language": "python",
   "name": "python3"
  },
  "language_info": {
   "codemirror_mode": {
    "name": "ipython",
    "version": 2
   },
   "file_extension": ".py",
   "mimetype": "text/x-python",
   "name": "python",
   "nbconvert_exporter": "python",
   "pygments_lexer": "ipython2",
   "version": "2.7.6"
  }
 },
 "nbformat": 4,
 "nbformat_minor": 0
}
