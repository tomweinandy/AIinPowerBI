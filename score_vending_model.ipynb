{
 "cells": [
  {
   "cell_type": "code",
   "execution_count": 2,
   "outputs": [
    {
     "name": "stdout",
     "output_type": "stream",
     "text": [
      "8/8 [==============================] - 0s 2ms/step\n",
      "\n",
      "Accuracy: 0.9365079365079365\n"
     ]
    },
    {
     "data": {
      "text/plain": "    Location Predicted_Location\n0    Factory             Mall 1\n2     Mall 1             Mall 1\n3     Mall 2             Mall 2\n4     Office             Office\n5    Factory            Factory\n..       ...                ...\n257   Mall 1             Mall 1\n258   Mall 2             Office\n259   Office             Office\n262   Mall 1             Office\n263   Mall 2             Mall 2\n\n[252 rows x 2 columns]",
      "text/html": "<div>\n<style scoped>\n    .dataframe tbody tr th:only-of-type {\n        vertical-align: middle;\n    }\n\n    .dataframe tbody tr th {\n        vertical-align: top;\n    }\n\n    .dataframe thead th {\n        text-align: right;\n    }\n</style>\n<table border=\"1\" class=\"dataframe\">\n  <thead>\n    <tr style=\"text-align: right;\">\n      <th></th>\n      <th>Location</th>\n      <th>Predicted_Location</th>\n    </tr>\n  </thead>\n  <tbody>\n    <tr>\n      <th>0</th>\n      <td>Factory</td>\n      <td>Mall 1</td>\n    </tr>\n    <tr>\n      <th>2</th>\n      <td>Mall 1</td>\n      <td>Mall 1</td>\n    </tr>\n    <tr>\n      <th>3</th>\n      <td>Mall 2</td>\n      <td>Mall 2</td>\n    </tr>\n    <tr>\n      <th>4</th>\n      <td>Office</td>\n      <td>Office</td>\n    </tr>\n    <tr>\n      <th>5</th>\n      <td>Factory</td>\n      <td>Factory</td>\n    </tr>\n    <tr>\n      <th>...</th>\n      <td>...</td>\n      <td>...</td>\n    </tr>\n    <tr>\n      <th>257</th>\n      <td>Mall 1</td>\n      <td>Mall 1</td>\n    </tr>\n    <tr>\n      <th>258</th>\n      <td>Mall 2</td>\n      <td>Office</td>\n    </tr>\n    <tr>\n      <th>259</th>\n      <td>Office</td>\n      <td>Office</td>\n    </tr>\n    <tr>\n      <th>262</th>\n      <td>Mall 1</td>\n      <td>Office</td>\n    </tr>\n    <tr>\n      <th>263</th>\n      <td>Mall 2</td>\n      <td>Mall 2</td>\n    </tr>\n  </tbody>\n</table>\n<p>252 rows × 2 columns</p>\n</div>"
     },
     "execution_count": 2,
     "metadata": {},
     "output_type": "execute_result"
    }
   ],
   "source": [
    "import pandas as pd\n",
    "import pickle\n",
    "import requests\n",
    "import tensorflow as tf\n",
    "from sklearn.preprocessing import LabelEncoder\n",
    "\n",
    "data_url = 'https://raw.githubusercontent.com/tomweinandy/AIinPowerBI/main/vending_revenue.csv'\n",
    "algo_url = 'https://github.com/tomweinandy/AIinPowerBI/blob/main/vending_model.pickle?raw=true'\n",
    "\n",
    "# Load data\n",
    "# df = pd.read_csv('vending_revenue.csv')\n",
    "df = pd.read_csv(data_url)\n",
    "df = df.dropna()\n",
    "df = df.drop(columns=['WeekStartingSat'])\n",
    "\n",
    "# # Load the saved model from the pickle file\n",
    "# with open('vending_model.pickle', 'rb') as file:\n",
    "#     model_info = pickle.load(file)\n",
    "\n",
    "# Load the pickled deep learning algorithm\n",
    "response = requests.get(algo_url)\n",
    "model_info = pickle.loads(response.content)\n",
    "\n",
    "# Reconstruct the model architecture\n",
    "loaded_model = tf.keras.models.model_from_json(model_info['architecture'])\n",
    "\n",
    "# Set the model weights\n",
    "loaded_model.set_weights(model_info['weights'])\n",
    "\n",
    "# Preprocess the data\n",
    "label_encoder = LabelEncoder()\n",
    "df['Location'] = label_encoder.fit_transform(df['Location'])  # Encode location labels\n",
    "\n",
    "# Split the data into input features (X)\n",
    "X = df.drop('Location', axis=1)\n",
    "\n",
    "# Predict the labels\n",
    "predictions = loaded_model.predict(X)\n",
    "\n",
    "# Change predictions to integers between 0 and 4\n",
    "encoded_labels = [int(min(max(p.round(0), 0), 4)) for p in predictions]\n",
    "\n",
    "# Decode the predicted labels\n",
    "decoded_labels = label_encoder.inverse_transform(encoded_labels)\n",
    "\n",
    "# Add the predicted labels to the DataFrame\n",
    "df['Predicted_Location'] = decoded_labels\n",
    "\n",
    "# Decode Location\n",
    "df['Location'] = label_encoder.inverse_transform(df['Location'])\n",
    "\n",
    "# Print accuracy\n",
    "accuracy = sum(df['Location'] == df['Predicted_Location'])/len(df)\n",
    "print(f\"\\nAccuracy: {accuracy}\")\n",
    "\n",
    "# Print the DataFrame with the predictions\n",
    "df[['Location', 'Predicted_Location']]"
   ],
   "metadata": {
    "collapsed": false,
    "pycharm": {
     "name": "#%%\n"
    }
   }
  }
 ],
 "metadata": {
  "kernelspec": {
   "display_name": "Python 3",
   "language": "python",
   "name": "python3"
  },
  "language_info": {
   "codemirror_mode": {
    "name": "ipython",
    "version": 2
   },
   "file_extension": ".py",
   "mimetype": "text/x-python",
   "name": "python",
   "nbconvert_exporter": "python",
   "pygments_lexer": "ipython2",
   "version": "2.7.6"
  }
 },
 "nbformat": 4,
 "nbformat_minor": 0
}