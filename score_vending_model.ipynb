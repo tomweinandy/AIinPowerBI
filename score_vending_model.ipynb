{
 "cells": [
  {
   "cell_type": "code",
   "execution_count": 46,
   "metadata": {
    "collapsed": true
   },
   "outputs": [
    {
     "data": {
      "text/plain": "    WeekStartingSat Location  Total  Quantity  AvgPriceItemSold  Type_Drink  \\\n0        2022-01-01  Factory  58.50      35.0          1.671429    0.228571   \n1        2022-01-01  Library   0.00       0.0               NaN         NaN   \n2        2022-01-01   Mall 1  23.00       9.0          2.555556    0.666667   \n3        2022-01-01   Mall 2  17.75       9.0          1.972222    0.625000   \n4        2022-01-01   Office  26.75      13.0          2.057692    0.153846   \n..              ...      ...    ...       ...               ...         ...   \n260      2022-12-31  Factory   0.00       0.0               NaN         NaN   \n261      2022-12-31  Library   0.00       0.0               NaN         NaN   \n262      2022-12-31   Mall 1   3.00       2.0          1.500000    1.000000   \n263      2022-12-31   Mall 2   3.50       2.0          1.750000    0.500000   \n264      2022-12-31   Office   0.00       0.0               NaN         NaN   \n\n     Type_Food  Category_Carbonated  Category_Non Carbonated  Category_Salty  \\\n0     0.771429             0.171429                 0.057143        0.342857   \n1          NaN                  NaN                      NaN             NaN   \n2     0.333333             0.666667                 0.000000        0.333333   \n3     0.375000             0.125000                 0.250000        0.250000   \n4     0.846154             0.000000                 0.153846        0.692308   \n..         ...                  ...                      ...             ...   \n260        NaN                  NaN                      NaN             NaN   \n261        NaN                  NaN                      NaN             NaN   \n262   0.000000             0.000000                 0.000000        0.000000   \n263   0.500000             0.500000                 0.000000        0.000000   \n264        NaN                  NaN                      NaN             NaN   \n\n     ...  HealthyMarketing_True  Payment_Cash  Payment_Credit  DayOfWeek_Sat  \\\n0    ...               0.485714      0.942857        0.057143       0.000000   \n1    ...                    NaN           NaN             NaN            NaN   \n2    ...               0.444444      0.111111        0.888889       0.555556   \n3    ...               0.750000      0.875000        0.125000       0.000000   \n4    ...               0.846154      0.769231        0.230769       0.000000   \n..   ...                    ...           ...             ...            ...   \n260  ...                    NaN           NaN             NaN            NaN   \n261  ...                    NaN           NaN             NaN            NaN   \n262  ...               1.000000      1.000000        0.000000       1.000000   \n263  ...               1.000000      1.000000        0.000000       1.000000   \n264  ...                    NaN           NaN             NaN            NaN   \n\n     DayOfWeek_Sun  DayOfWeek_Mon  DayOfWeek_Tue  DayOfWeek_Wed  \\\n0            0.000       0.228571       0.342857       0.171429   \n1              NaN            NaN            NaN            NaN   \n2            0.000       0.111111       0.111111       0.111111   \n3            0.125       0.125000       0.250000       0.000000   \n4            0.000       0.384615       0.076923       0.153846   \n..             ...            ...            ...            ...   \n260            NaN            NaN            NaN            NaN   \n261            NaN            NaN            NaN            NaN   \n262          0.000       0.000000       0.000000       0.000000   \n263          0.000       0.000000       0.000000       0.000000   \n264            NaN            NaN            NaN            NaN   \n\n     DayOfWeek_Thu  DayOfWeek_Fri  \n0         0.142857       0.114286  \n1              NaN            NaN  \n2         0.111111       0.000000  \n3         0.250000       0.250000  \n4         0.307692       0.076923  \n..             ...            ...  \n260            NaN            NaN  \n261            NaN            NaN  \n262       0.000000       0.000000  \n263       0.000000       0.000000  \n264            NaN            NaN  \n\n[265 rows x 23 columns]",
      "text/html": "<div>\n<style scoped>\n    .dataframe tbody tr th:only-of-type {\n        vertical-align: middle;\n    }\n\n    .dataframe tbody tr th {\n        vertical-align: top;\n    }\n\n    .dataframe thead th {\n        text-align: right;\n    }\n</style>\n<table border=\"1\" class=\"dataframe\">\n  <thead>\n    <tr style=\"text-align: right;\">\n      <th></th>\n      <th>WeekStartingSat</th>\n      <th>Location</th>\n      <th>Total</th>\n      <th>Quantity</th>\n      <th>AvgPriceItemSold</th>\n      <th>Type_Drink</th>\n      <th>Type_Food</th>\n      <th>Category_Carbonated</th>\n      <th>Category_Non Carbonated</th>\n      <th>Category_Salty</th>\n      <th>...</th>\n      <th>HealthyMarketing_True</th>\n      <th>Payment_Cash</th>\n      <th>Payment_Credit</th>\n      <th>DayOfWeek_Sat</th>\n      <th>DayOfWeek_Sun</th>\n      <th>DayOfWeek_Mon</th>\n      <th>DayOfWeek_Tue</th>\n      <th>DayOfWeek_Wed</th>\n      <th>DayOfWeek_Thu</th>\n      <th>DayOfWeek_Fri</th>\n    </tr>\n  </thead>\n  <tbody>\n    <tr>\n      <th>0</th>\n      <td>2022-01-01</td>\n      <td>Factory</td>\n      <td>58.50</td>\n      <td>35.0</td>\n      <td>1.671429</td>\n      <td>0.228571</td>\n      <td>0.771429</td>\n      <td>0.171429</td>\n      <td>0.057143</td>\n      <td>0.342857</td>\n      <td>...</td>\n      <td>0.485714</td>\n      <td>0.942857</td>\n      <td>0.057143</td>\n      <td>0.000000</td>\n      <td>0.000</td>\n      <td>0.228571</td>\n      <td>0.342857</td>\n      <td>0.171429</td>\n      <td>0.142857</td>\n      <td>0.114286</td>\n    </tr>\n    <tr>\n      <th>1</th>\n      <td>2022-01-01</td>\n      <td>Library</td>\n      <td>0.00</td>\n      <td>0.0</td>\n      <td>NaN</td>\n      <td>NaN</td>\n      <td>NaN</td>\n      <td>NaN</td>\n      <td>NaN</td>\n      <td>NaN</td>\n      <td>...</td>\n      <td>NaN</td>\n      <td>NaN</td>\n      <td>NaN</td>\n      <td>NaN</td>\n      <td>NaN</td>\n      <td>NaN</td>\n      <td>NaN</td>\n      <td>NaN</td>\n      <td>NaN</td>\n      <td>NaN</td>\n    </tr>\n    <tr>\n      <th>2</th>\n      <td>2022-01-01</td>\n      <td>Mall 1</td>\n      <td>23.00</td>\n      <td>9.0</td>\n      <td>2.555556</td>\n      <td>0.666667</td>\n      <td>0.333333</td>\n      <td>0.666667</td>\n      <td>0.000000</td>\n      <td>0.333333</td>\n      <td>...</td>\n      <td>0.444444</td>\n      <td>0.111111</td>\n      <td>0.888889</td>\n      <td>0.555556</td>\n      <td>0.000</td>\n      <td>0.111111</td>\n      <td>0.111111</td>\n      <td>0.111111</td>\n      <td>0.111111</td>\n      <td>0.000000</td>\n    </tr>\n    <tr>\n      <th>3</th>\n      <td>2022-01-01</td>\n      <td>Mall 2</td>\n      <td>17.75</td>\n      <td>9.0</td>\n      <td>1.972222</td>\n      <td>0.625000</td>\n      <td>0.375000</td>\n      <td>0.125000</td>\n      <td>0.250000</td>\n      <td>0.250000</td>\n      <td>...</td>\n      <td>0.750000</td>\n      <td>0.875000</td>\n      <td>0.125000</td>\n      <td>0.000000</td>\n      <td>0.125</td>\n      <td>0.125000</td>\n      <td>0.250000</td>\n      <td>0.000000</td>\n      <td>0.250000</td>\n      <td>0.250000</td>\n    </tr>\n    <tr>\n      <th>4</th>\n      <td>2022-01-01</td>\n      <td>Office</td>\n      <td>26.75</td>\n      <td>13.0</td>\n      <td>2.057692</td>\n      <td>0.153846</td>\n      <td>0.846154</td>\n      <td>0.000000</td>\n      <td>0.153846</td>\n      <td>0.692308</td>\n      <td>...</td>\n      <td>0.846154</td>\n      <td>0.769231</td>\n      <td>0.230769</td>\n      <td>0.000000</td>\n      <td>0.000</td>\n      <td>0.384615</td>\n      <td>0.076923</td>\n      <td>0.153846</td>\n      <td>0.307692</td>\n      <td>0.076923</td>\n    </tr>\n    <tr>\n      <th>...</th>\n      <td>...</td>\n      <td>...</td>\n      <td>...</td>\n      <td>...</td>\n      <td>...</td>\n      <td>...</td>\n      <td>...</td>\n      <td>...</td>\n      <td>...</td>\n      <td>...</td>\n      <td>...</td>\n      <td>...</td>\n      <td>...</td>\n      <td>...</td>\n      <td>...</td>\n      <td>...</td>\n      <td>...</td>\n      <td>...</td>\n      <td>...</td>\n      <td>...</td>\n      <td>...</td>\n    </tr>\n    <tr>\n      <th>260</th>\n      <td>2022-12-31</td>\n      <td>Factory</td>\n      <td>0.00</td>\n      <td>0.0</td>\n      <td>NaN</td>\n      <td>NaN</td>\n      <td>NaN</td>\n      <td>NaN</td>\n      <td>NaN</td>\n      <td>NaN</td>\n      <td>...</td>\n      <td>NaN</td>\n      <td>NaN</td>\n      <td>NaN</td>\n      <td>NaN</td>\n      <td>NaN</td>\n      <td>NaN</td>\n      <td>NaN</td>\n      <td>NaN</td>\n      <td>NaN</td>\n      <td>NaN</td>\n    </tr>\n    <tr>\n      <th>261</th>\n      <td>2022-12-31</td>\n      <td>Library</td>\n      <td>0.00</td>\n      <td>0.0</td>\n      <td>NaN</td>\n      <td>NaN</td>\n      <td>NaN</td>\n      <td>NaN</td>\n      <td>NaN</td>\n      <td>NaN</td>\n      <td>...</td>\n      <td>NaN</td>\n      <td>NaN</td>\n      <td>NaN</td>\n      <td>NaN</td>\n      <td>NaN</td>\n      <td>NaN</td>\n      <td>NaN</td>\n      <td>NaN</td>\n      <td>NaN</td>\n      <td>NaN</td>\n    </tr>\n    <tr>\n      <th>262</th>\n      <td>2022-12-31</td>\n      <td>Mall 1</td>\n      <td>3.00</td>\n      <td>2.0</td>\n      <td>1.500000</td>\n      <td>1.000000</td>\n      <td>0.000000</td>\n      <td>0.000000</td>\n      <td>0.000000</td>\n      <td>0.000000</td>\n      <td>...</td>\n      <td>1.000000</td>\n      <td>1.000000</td>\n      <td>0.000000</td>\n      <td>1.000000</td>\n      <td>0.000</td>\n      <td>0.000000</td>\n      <td>0.000000</td>\n      <td>0.000000</td>\n      <td>0.000000</td>\n      <td>0.000000</td>\n    </tr>\n    <tr>\n      <th>263</th>\n      <td>2022-12-31</td>\n      <td>Mall 2</td>\n      <td>3.50</td>\n      <td>2.0</td>\n      <td>1.750000</td>\n      <td>0.500000</td>\n      <td>0.500000</td>\n      <td>0.500000</td>\n      <td>0.000000</td>\n      <td>0.000000</td>\n      <td>...</td>\n      <td>1.000000</td>\n      <td>1.000000</td>\n      <td>0.000000</td>\n      <td>1.000000</td>\n      <td>0.000</td>\n      <td>0.000000</td>\n      <td>0.000000</td>\n      <td>0.000000</td>\n      <td>0.000000</td>\n      <td>0.000000</td>\n    </tr>\n    <tr>\n      <th>264</th>\n      <td>2022-12-31</td>\n      <td>Office</td>\n      <td>0.00</td>\n      <td>0.0</td>\n      <td>NaN</td>\n      <td>NaN</td>\n      <td>NaN</td>\n      <td>NaN</td>\n      <td>NaN</td>\n      <td>NaN</td>\n      <td>...</td>\n      <td>NaN</td>\n      <td>NaN</td>\n      <td>NaN</td>\n      <td>NaN</td>\n      <td>NaN</td>\n      <td>NaN</td>\n      <td>NaN</td>\n      <td>NaN</td>\n      <td>NaN</td>\n      <td>NaN</td>\n    </tr>\n  </tbody>\n</table>\n<p>265 rows × 23 columns</p>\n</div>"
     },
     "execution_count": 46,
     "metadata": {},
     "output_type": "execute_result"
    }
   ],
   "source": [
    "import pandas as pd\n",
    "\n",
    "df_raw = pd.read_csv('vending_revenue.csv')\n",
    "df_raw"
   ]
  },
  {
   "cell_type": "code",
   "execution_count": 47,
   "outputs": [
    {
     "data": {
      "text/plain": "    Location  Total  Quantity  AvgPriceItemSold  Type_Drink  Type_Food  \\\n0    Factory  58.50      35.0          1.671429    0.228571   0.771429   \n2     Mall 1  23.00       9.0          2.555556    0.666667   0.333333   \n3     Mall 2  17.75       9.0          1.972222    0.625000   0.375000   \n4     Office  26.75      13.0          2.057692    0.153846   0.846154   \n5    Factory  61.50      40.0          1.537500    0.425000   0.575000   \n..       ...    ...       ...               ...         ...        ...   \n257   Mall 1  46.50      26.0          1.788462    0.541667   0.458333   \n258   Mall 2  30.00      16.0          1.875000    0.533333   0.466667   \n259   Office   3.00       2.0          1.500000    0.000000   1.000000   \n262   Mall 1   3.00       2.0          1.500000    1.000000   0.000000   \n263   Mall 2   3.50       2.0          1.750000    0.500000   0.500000   \n\n     Category_Carbonated  Category_Non Carbonated  Category_Salty  \\\n0               0.171429                 0.057143        0.342857   \n2               0.666667                 0.000000        0.333333   \n3               0.125000                 0.250000        0.250000   \n4               0.000000                 0.153846        0.692308   \n5               0.425000                 0.000000        0.400000   \n..                   ...                      ...             ...   \n257             0.000000                 0.250000        0.333333   \n258             0.333333                 0.200000        0.466667   \n259             0.000000                 0.000000        1.000000   \n262             0.000000                 0.000000        0.000000   \n263             0.500000                 0.000000        0.000000   \n\n     Category_Sweet  ...  HealthyMarketing_True  Payment_Cash  Payment_Credit  \\\n0          0.428571  ...               0.485714      0.942857        0.057143   \n2          0.000000  ...               0.444444      0.111111        0.888889   \n3          0.125000  ...               0.750000      0.875000        0.125000   \n4          0.153846  ...               0.846154      0.769231        0.230769   \n5          0.175000  ...               0.375000      0.850000        0.150000   \n..              ...  ...                    ...           ...             ...   \n257        0.125000  ...               0.541667      0.666667        0.333333   \n258        0.000000  ...               0.666667      0.666667        0.333333   \n259        0.000000  ...               0.000000      1.000000        0.000000   \n262        0.000000  ...               1.000000      1.000000        0.000000   \n263        0.500000  ...               1.000000      1.000000        0.000000   \n\n     DayOfWeek_Sat  DayOfWeek_Sun  DayOfWeek_Mon  DayOfWeek_Tue  \\\n0         0.000000          0.000       0.228571       0.342857   \n2         0.555556          0.000       0.111111       0.111111   \n3         0.000000          0.125       0.125000       0.250000   \n4         0.000000          0.000       0.384615       0.076923   \n5         0.050000          0.000       0.050000       0.100000   \n..             ...            ...            ...            ...   \n257       0.041667          0.000       0.541667       0.083333   \n258       0.000000          0.000       0.466667       0.066667   \n259       0.000000          0.000       0.000000       0.500000   \n262       1.000000          0.000       0.000000       0.000000   \n263       1.000000          0.000       0.000000       0.000000   \n\n     DayOfWeek_Wed  DayOfWeek_Thu  DayOfWeek_Fri  \n0         0.171429       0.142857       0.114286  \n2         0.111111       0.111111       0.000000  \n3         0.000000       0.250000       0.250000  \n4         0.153846       0.307692       0.076923  \n5         0.025000       0.275000       0.500000  \n..             ...            ...            ...  \n257       0.166667       0.000000       0.166667  \n258       0.466667       0.000000       0.000000  \n259       0.000000       0.500000       0.000000  \n262       0.000000       0.000000       0.000000  \n263       0.000000       0.000000       0.000000  \n\n[252 rows x 22 columns]",
      "text/html": "<div>\n<style scoped>\n    .dataframe tbody tr th:only-of-type {\n        vertical-align: middle;\n    }\n\n    .dataframe tbody tr th {\n        vertical-align: top;\n    }\n\n    .dataframe thead th {\n        text-align: right;\n    }\n</style>\n<table border=\"1\" class=\"dataframe\">\n  <thead>\n    <tr style=\"text-align: right;\">\n      <th></th>\n      <th>Location</th>\n      <th>Total</th>\n      <th>Quantity</th>\n      <th>AvgPriceItemSold</th>\n      <th>Type_Drink</th>\n      <th>Type_Food</th>\n      <th>Category_Carbonated</th>\n      <th>Category_Non Carbonated</th>\n      <th>Category_Salty</th>\n      <th>Category_Sweet</th>\n      <th>...</th>\n      <th>HealthyMarketing_True</th>\n      <th>Payment_Cash</th>\n      <th>Payment_Credit</th>\n      <th>DayOfWeek_Sat</th>\n      <th>DayOfWeek_Sun</th>\n      <th>DayOfWeek_Mon</th>\n      <th>DayOfWeek_Tue</th>\n      <th>DayOfWeek_Wed</th>\n      <th>DayOfWeek_Thu</th>\n      <th>DayOfWeek_Fri</th>\n    </tr>\n  </thead>\n  <tbody>\n    <tr>\n      <th>0</th>\n      <td>Factory</td>\n      <td>58.50</td>\n      <td>35.0</td>\n      <td>1.671429</td>\n      <td>0.228571</td>\n      <td>0.771429</td>\n      <td>0.171429</td>\n      <td>0.057143</td>\n      <td>0.342857</td>\n      <td>0.428571</td>\n      <td>...</td>\n      <td>0.485714</td>\n      <td>0.942857</td>\n      <td>0.057143</td>\n      <td>0.000000</td>\n      <td>0.000</td>\n      <td>0.228571</td>\n      <td>0.342857</td>\n      <td>0.171429</td>\n      <td>0.142857</td>\n      <td>0.114286</td>\n    </tr>\n    <tr>\n      <th>2</th>\n      <td>Mall 1</td>\n      <td>23.00</td>\n      <td>9.0</td>\n      <td>2.555556</td>\n      <td>0.666667</td>\n      <td>0.333333</td>\n      <td>0.666667</td>\n      <td>0.000000</td>\n      <td>0.333333</td>\n      <td>0.000000</td>\n      <td>...</td>\n      <td>0.444444</td>\n      <td>0.111111</td>\n      <td>0.888889</td>\n      <td>0.555556</td>\n      <td>0.000</td>\n      <td>0.111111</td>\n      <td>0.111111</td>\n      <td>0.111111</td>\n      <td>0.111111</td>\n      <td>0.000000</td>\n    </tr>\n    <tr>\n      <th>3</th>\n      <td>Mall 2</td>\n      <td>17.75</td>\n      <td>9.0</td>\n      <td>1.972222</td>\n      <td>0.625000</td>\n      <td>0.375000</td>\n      <td>0.125000</td>\n      <td>0.250000</td>\n      <td>0.250000</td>\n      <td>0.125000</td>\n      <td>...</td>\n      <td>0.750000</td>\n      <td>0.875000</td>\n      <td>0.125000</td>\n      <td>0.000000</td>\n      <td>0.125</td>\n      <td>0.125000</td>\n      <td>0.250000</td>\n      <td>0.000000</td>\n      <td>0.250000</td>\n      <td>0.250000</td>\n    </tr>\n    <tr>\n      <th>4</th>\n      <td>Office</td>\n      <td>26.75</td>\n      <td>13.0</td>\n      <td>2.057692</td>\n      <td>0.153846</td>\n      <td>0.846154</td>\n      <td>0.000000</td>\n      <td>0.153846</td>\n      <td>0.692308</td>\n      <td>0.153846</td>\n      <td>...</td>\n      <td>0.846154</td>\n      <td>0.769231</td>\n      <td>0.230769</td>\n      <td>0.000000</td>\n      <td>0.000</td>\n      <td>0.384615</td>\n      <td>0.076923</td>\n      <td>0.153846</td>\n      <td>0.307692</td>\n      <td>0.076923</td>\n    </tr>\n    <tr>\n      <th>5</th>\n      <td>Factory</td>\n      <td>61.50</td>\n      <td>40.0</td>\n      <td>1.537500</td>\n      <td>0.425000</td>\n      <td>0.575000</td>\n      <td>0.425000</td>\n      <td>0.000000</td>\n      <td>0.400000</td>\n      <td>0.175000</td>\n      <td>...</td>\n      <td>0.375000</td>\n      <td>0.850000</td>\n      <td>0.150000</td>\n      <td>0.050000</td>\n      <td>0.000</td>\n      <td>0.050000</td>\n      <td>0.100000</td>\n      <td>0.025000</td>\n      <td>0.275000</td>\n      <td>0.500000</td>\n    </tr>\n    <tr>\n      <th>...</th>\n      <td>...</td>\n      <td>...</td>\n      <td>...</td>\n      <td>...</td>\n      <td>...</td>\n      <td>...</td>\n      <td>...</td>\n      <td>...</td>\n      <td>...</td>\n      <td>...</td>\n      <td>...</td>\n      <td>...</td>\n      <td>...</td>\n      <td>...</td>\n      <td>...</td>\n      <td>...</td>\n      <td>...</td>\n      <td>...</td>\n      <td>...</td>\n      <td>...</td>\n      <td>...</td>\n    </tr>\n    <tr>\n      <th>257</th>\n      <td>Mall 1</td>\n      <td>46.50</td>\n      <td>26.0</td>\n      <td>1.788462</td>\n      <td>0.541667</td>\n      <td>0.458333</td>\n      <td>0.000000</td>\n      <td>0.250000</td>\n      <td>0.333333</td>\n      <td>0.125000</td>\n      <td>...</td>\n      <td>0.541667</td>\n      <td>0.666667</td>\n      <td>0.333333</td>\n      <td>0.041667</td>\n      <td>0.000</td>\n      <td>0.541667</td>\n      <td>0.083333</td>\n      <td>0.166667</td>\n      <td>0.000000</td>\n      <td>0.166667</td>\n    </tr>\n    <tr>\n      <th>258</th>\n      <td>Mall 2</td>\n      <td>30.00</td>\n      <td>16.0</td>\n      <td>1.875000</td>\n      <td>0.533333</td>\n      <td>0.466667</td>\n      <td>0.333333</td>\n      <td>0.200000</td>\n      <td>0.466667</td>\n      <td>0.000000</td>\n      <td>...</td>\n      <td>0.666667</td>\n      <td>0.666667</td>\n      <td>0.333333</td>\n      <td>0.000000</td>\n      <td>0.000</td>\n      <td>0.466667</td>\n      <td>0.066667</td>\n      <td>0.466667</td>\n      <td>0.000000</td>\n      <td>0.000000</td>\n    </tr>\n    <tr>\n      <th>259</th>\n      <td>Office</td>\n      <td>3.00</td>\n      <td>2.0</td>\n      <td>1.500000</td>\n      <td>0.000000</td>\n      <td>1.000000</td>\n      <td>0.000000</td>\n      <td>0.000000</td>\n      <td>1.000000</td>\n      <td>0.000000</td>\n      <td>...</td>\n      <td>0.000000</td>\n      <td>1.000000</td>\n      <td>0.000000</td>\n      <td>0.000000</td>\n      <td>0.000</td>\n      <td>0.000000</td>\n      <td>0.500000</td>\n      <td>0.000000</td>\n      <td>0.500000</td>\n      <td>0.000000</td>\n    </tr>\n    <tr>\n      <th>262</th>\n      <td>Mall 1</td>\n      <td>3.00</td>\n      <td>2.0</td>\n      <td>1.500000</td>\n      <td>1.000000</td>\n      <td>0.000000</td>\n      <td>0.000000</td>\n      <td>0.000000</td>\n      <td>0.000000</td>\n      <td>0.000000</td>\n      <td>...</td>\n      <td>1.000000</td>\n      <td>1.000000</td>\n      <td>0.000000</td>\n      <td>1.000000</td>\n      <td>0.000</td>\n      <td>0.000000</td>\n      <td>0.000000</td>\n      <td>0.000000</td>\n      <td>0.000000</td>\n      <td>0.000000</td>\n    </tr>\n    <tr>\n      <th>263</th>\n      <td>Mall 2</td>\n      <td>3.50</td>\n      <td>2.0</td>\n      <td>1.750000</td>\n      <td>0.500000</td>\n      <td>0.500000</td>\n      <td>0.500000</td>\n      <td>0.000000</td>\n      <td>0.000000</td>\n      <td>0.500000</td>\n      <td>...</td>\n      <td>1.000000</td>\n      <td>1.000000</td>\n      <td>0.000000</td>\n      <td>1.000000</td>\n      <td>0.000</td>\n      <td>0.000000</td>\n      <td>0.000000</td>\n      <td>0.000000</td>\n      <td>0.000000</td>\n      <td>0.000000</td>\n    </tr>\n  </tbody>\n</table>\n<p>252 rows × 22 columns</p>\n</div>"
     },
     "execution_count": 47,
     "metadata": {},
     "output_type": "execute_result"
    }
   ],
   "source": [
    "df = df_raw.copy()\n",
    "df = df.dropna()\n",
    "df = df.drop(columns=['WeekStartingSat'])\n",
    "df"
   ],
   "metadata": {
    "collapsed": false,
    "pycharm": {
     "name": "#%%\n"
    }
   }
  },
  {
   "cell_type": "code",
   "execution_count": 48,
   "outputs": [],
   "source": [
    "import pandas as pd\n",
    "import tensorflow as tf\n",
    "from sklearn.model_selection import train_test_split\n",
    "from sklearn.preprocessing import LabelEncoder\n",
    "\n",
    "# Load the data from the CSV file\n",
    "# df = pd.read_csv('data.csv')\n",
    "\n",
    "# Preprocess the data\n",
    "label_encoder = LabelEncoder()\n",
    "# df['Location'] = label_encoder.fit_transform(df['Location'])  # Convert location labels to numeric values\n",
    "#\n",
    "# # Split the data into input features (X) and the target variable (y)\n",
    "# X = df.drop('Location', axis=1)\n",
    "# y = df['Location']\n",
    "#\n",
    "# # Split the data into training and testing sets\n",
    "# X_train, X_test, y_train, y_test = train_test_split(X, y, test_size=0.2, random_state=24)\n",
    "#\n",
    "# # Define the TensorFlow model\n",
    "# model = tf.keras.Sequential()\n",
    "# model.add(tf.keras.layers.Dense(64, activation='relu', input_shape=(X_train.shape[1],)))\n",
    "# model.add(tf.keras.layers.Dense(64, activation='relu'))\n",
    "# model.add(tf.keras.layers.Dense(1, activation='linear'))\n",
    "#\n",
    "# # Compile the model\n",
    "# model.compile(optimizer='adam', loss='mean_squared_error')\n",
    "#\n",
    "# # Train the model\n",
    "# model.fit(X_train, y_train, epochs=100, batch_size=32, validation_data=(X_test, y_test))\n",
    "#\n",
    "# # Evaluate the model\n",
    "# loss = model.evaluate(X_test, y_test)\n",
    "# print('Test Loss:', loss)"
   ],
   "metadata": {
    "collapsed": false,
    "pycharm": {
     "name": "#%%\n"
    }
   }
  },
  {
   "cell_type": "code",
   "execution_count": 49,
   "outputs": [],
   "source": [
    "# Save the trained model\n",
    "# model.save('location_prediction_model')\n",
    "\n",
    "# # Or save it in the TensorFlow SavedModel format\n",
    "# tf.saved_model.save(model, 'location_prediction_saved_model')"
   ],
   "metadata": {
    "collapsed": false,
    "pycharm": {
     "name": "#%%\n"
    }
   }
  },
  {
   "cell_type": "code",
   "execution_count": 50,
   "outputs": [
    {
     "name": "stdout",
     "output_type": "stream",
     "text": [
      "8/8 [==============================] - 0s 2ms/step\n",
      "    Location  Total  Quantity  AvgPriceItemSold  Type_Drink  Type_Food  \\\n",
      "0    Factory  58.50      35.0          1.671429    0.228571   0.771429   \n",
      "2     Mall 1  23.00       9.0          2.555556    0.666667   0.333333   \n",
      "3     Mall 2  17.75       9.0          1.972222    0.625000   0.375000   \n",
      "4     Office  26.75      13.0          2.057692    0.153846   0.846154   \n",
      "5    Factory  61.50      40.0          1.537500    0.425000   0.575000   \n",
      "..       ...    ...       ...               ...         ...        ...   \n",
      "257   Mall 1  46.50      26.0          1.788462    0.541667   0.458333   \n",
      "258   Mall 2  30.00      16.0          1.875000    0.533333   0.466667   \n",
      "259   Office   3.00       2.0          1.500000    0.000000   1.000000   \n",
      "262   Mall 1   3.00       2.0          1.500000    1.000000   0.000000   \n",
      "263   Mall 2   3.50       2.0          1.750000    0.500000   0.500000   \n",
      "\n",
      "     Category_Carbonated  Category_Non Carbonated  Category_Salty  \\\n",
      "0               0.171429                 0.057143        0.342857   \n",
      "2               0.666667                 0.000000        0.333333   \n",
      "3               0.125000                 0.250000        0.250000   \n",
      "4               0.000000                 0.153846        0.692308   \n",
      "5               0.425000                 0.000000        0.400000   \n",
      "..                   ...                      ...             ...   \n",
      "257             0.000000                 0.250000        0.333333   \n",
      "258             0.333333                 0.200000        0.466667   \n",
      "259             0.000000                 0.000000        1.000000   \n",
      "262             0.000000                 0.000000        0.000000   \n",
      "263             0.500000                 0.000000        0.000000   \n",
      "\n",
      "     Category_Sweet  ...  Payment_Cash  Payment_Credit  DayOfWeek_Sat  \\\n",
      "0          0.428571  ...      0.942857        0.057143       0.000000   \n",
      "2          0.000000  ...      0.111111        0.888889       0.555556   \n",
      "3          0.125000  ...      0.875000        0.125000       0.000000   \n",
      "4          0.153846  ...      0.769231        0.230769       0.000000   \n",
      "5          0.175000  ...      0.850000        0.150000       0.050000   \n",
      "..              ...  ...           ...             ...            ...   \n",
      "257        0.125000  ...      0.666667        0.333333       0.041667   \n",
      "258        0.000000  ...      0.666667        0.333333       0.000000   \n",
      "259        0.000000  ...      1.000000        0.000000       0.000000   \n",
      "262        0.000000  ...      1.000000        0.000000       1.000000   \n",
      "263        0.500000  ...      1.000000        0.000000       1.000000   \n",
      "\n",
      "     DayOfWeek_Sun  DayOfWeek_Mon  DayOfWeek_Tue  DayOfWeek_Wed  \\\n",
      "0            0.000       0.228571       0.342857       0.171429   \n",
      "2            0.000       0.111111       0.111111       0.111111   \n",
      "3            0.125       0.125000       0.250000       0.000000   \n",
      "4            0.000       0.384615       0.076923       0.153846   \n",
      "5            0.000       0.050000       0.100000       0.025000   \n",
      "..             ...            ...            ...            ...   \n",
      "257          0.000       0.541667       0.083333       0.166667   \n",
      "258          0.000       0.466667       0.066667       0.466667   \n",
      "259          0.000       0.000000       0.500000       0.000000   \n",
      "262          0.000       0.000000       0.000000       0.000000   \n",
      "263          0.000       0.000000       0.000000       0.000000   \n",
      "\n",
      "     DayOfWeek_Thu  DayOfWeek_Fri  Predicted_Location  \n",
      "0         0.142857       0.114286              Office  \n",
      "2         0.111111       0.000000              Mall 1  \n",
      "3         0.250000       0.250000              Mall 2  \n",
      "4         0.307692       0.076923              Office  \n",
      "5         0.275000       0.500000             Factory  \n",
      "..             ...            ...                 ...  \n",
      "257       0.000000       0.166667              Mall 1  \n",
      "258       0.000000       0.000000              Office  \n",
      "259       0.500000       0.000000              Office  \n",
      "262       0.000000       0.000000              Mall 1  \n",
      "263       0.000000       0.000000              Mall 2  \n",
      "\n",
      "[252 rows x 23 columns]\n"
     ]
    }
   ],
   "source": [
    "import pandas as pd\n",
    "import tensorflow as tf\n",
    "from sklearn.preprocessing import LabelEncoder\n",
    "from tensorflow.keras.utils import to_categorical\n",
    "\n",
    "# Load the saved model\n",
    "loaded_model = tf.keras.models.load_model('location_prediction_model')\n",
    "\n",
    "# Load the dataset\n",
    "# df = pd.read_csv('data.csv')\n",
    "\n",
    "# Preprocess the data\n",
    "label_encoder = LabelEncoder()\n",
    "df['Location'] = label_encoder.fit_transform(df['Location'])  # Encode location labels\n",
    "\n",
    "# Split the data into input features (X) and the target variable (y)\n",
    "X = df.drop('Location', axis=1)\n",
    "\n",
    "# Predict the labels\n",
    "predictions = loaded_model.predict(X)\n",
    "###\n",
    "import numpy as np\n",
    "# p = predictions.round(0)\n",
    "p = [int(min(max(pred.round(0), 0), 4)) for pred in predictions]\n",
    "# p = np.where(p == -1, 0, p)\n",
    "# p = np.where(p == -0, 0, p)\n",
    "# p = np.where(p == 5, 4, p)\n",
    "# p = p.astype(int)\n",
    "# p = p.ravel()\n",
    "###\n",
    "# predicted_labels = tf.argmax(p, axis=1)\n",
    "\n",
    "# Decode the predicted labels\n",
    "decoded_labels = label_encoder.inverse_transform(p)\n",
    "\n",
    "# Add the predicted labels to the DataFrame\n",
    "df['Predicted_Location'] = decoded_labels\n",
    "\n",
    "# Decode Location\n",
    "df['Location'] = label_encoder.inverse_transform(df['Location'])\n",
    "\n",
    "# Print the DataFrame with the predictions\n",
    "print(df)"
   ],
   "metadata": {
    "collapsed": false,
    "pycharm": {
     "name": "#%%\n"
    }
   }
  },
  {
   "cell_type": "code",
   "execution_count": 51,
   "outputs": [
    {
     "data": {
      "text/plain": "    Location Predicted_Location\n0    Factory             Office\n2     Mall 1             Mall 1\n3     Mall 2             Mall 2\n4     Office             Office\n5    Factory            Factory\n..       ...                ...\n257   Mall 1             Mall 1\n258   Mall 2             Office\n259   Office             Office\n262   Mall 1             Mall 1\n263   Mall 2             Mall 2\n\n[252 rows x 2 columns]",
      "text/html": "<div>\n<style scoped>\n    .dataframe tbody tr th:only-of-type {\n        vertical-align: middle;\n    }\n\n    .dataframe tbody tr th {\n        vertical-align: top;\n    }\n\n    .dataframe thead th {\n        text-align: right;\n    }\n</style>\n<table border=\"1\" class=\"dataframe\">\n  <thead>\n    <tr style=\"text-align: right;\">\n      <th></th>\n      <th>Location</th>\n      <th>Predicted_Location</th>\n    </tr>\n  </thead>\n  <tbody>\n    <tr>\n      <th>0</th>\n      <td>Factory</td>\n      <td>Office</td>\n    </tr>\n    <tr>\n      <th>2</th>\n      <td>Mall 1</td>\n      <td>Mall 1</td>\n    </tr>\n    <tr>\n      <th>3</th>\n      <td>Mall 2</td>\n      <td>Mall 2</td>\n    </tr>\n    <tr>\n      <th>4</th>\n      <td>Office</td>\n      <td>Office</td>\n    </tr>\n    <tr>\n      <th>5</th>\n      <td>Factory</td>\n      <td>Factory</td>\n    </tr>\n    <tr>\n      <th>...</th>\n      <td>...</td>\n      <td>...</td>\n    </tr>\n    <tr>\n      <th>257</th>\n      <td>Mall 1</td>\n      <td>Mall 1</td>\n    </tr>\n    <tr>\n      <th>258</th>\n      <td>Mall 2</td>\n      <td>Office</td>\n    </tr>\n    <tr>\n      <th>259</th>\n      <td>Office</td>\n      <td>Office</td>\n    </tr>\n    <tr>\n      <th>262</th>\n      <td>Mall 1</td>\n      <td>Mall 1</td>\n    </tr>\n    <tr>\n      <th>263</th>\n      <td>Mall 2</td>\n      <td>Mall 2</td>\n    </tr>\n  </tbody>\n</table>\n<p>252 rows × 2 columns</p>\n</div>"
     },
     "execution_count": 51,
     "metadata": {},
     "output_type": "execute_result"
    }
   ],
   "source": [
    "df_output = df[['Location', 'Predicted_Location']]\n",
    "df_output"
   ],
   "metadata": {
    "collapsed": false,
    "pycharm": {
     "name": "#%%\n"
    }
   }
  },
  {
   "cell_type": "code",
   "execution_count": 52,
   "outputs": [
    {
     "data": {
      "text/plain": "0.9404761904761905"
     },
     "execution_count": 52,
     "metadata": {},
     "output_type": "execute_result"
    }
   ],
   "source": [
    "# df_output['Incorrect']\n",
    "sum(df_output['Location'] == df_output['Predicted_Location'])/len(df_output)"
   ],
   "metadata": {
    "collapsed": false,
    "pycharm": {
     "name": "#%%\n"
    }
   }
  },
  {
   "cell_type": "code",
   "execution_count": 52,
   "outputs": [],
   "source": [],
   "metadata": {
    "collapsed": false,
    "pycharm": {
     "name": "#%%\n"
    }
   }
  }
 ],
 "metadata": {
  "kernelspec": {
   "display_name": "Python 3",
   "language": "python",
   "name": "python3"
  },
  "language_info": {
   "codemirror_mode": {
    "name": "ipython",
    "version": 2
   },
   "file_extension": ".py",
   "mimetype": "text/x-python",
   "name": "python",
   "nbconvert_exporter": "python",
   "pygments_lexer": "ipython2",
   "version": "2.7.6"
  }
 },
 "nbformat": 4,
 "nbformat_minor": 0
}