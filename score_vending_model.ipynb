{
 "cells": [
  {
   "cell_type": "code",
   "execution_count": 2,
   "outputs": [
    {
     "name": "stdout",
     "output_type": "stream",
     "text": [
      "8/8 [==============================] - 0s 1ms/step\n",
      "\n",
      "Accuracy: 0.9365079365079365\n"
     ]
    },
    {
     "data": {
      "text/plain": "    Predicted_Location Location  Total  Quantity  AvgPriceItemSold  \\\n0               Mall 1  Factory  58.50      35.0          1.671429   \n2               Mall 1   Mall 1  23.00       9.0          2.555556   \n3               Mall 2   Mall 2  17.75       9.0          1.972222   \n4               Office   Office  26.75      13.0          2.057692   \n5              Factory  Factory  61.50      40.0          1.537500   \n..                 ...      ...    ...       ...               ...   \n257             Mall 1   Mall 1  46.50      26.0          1.788462   \n258             Office   Mall 2  30.00      16.0          1.875000   \n259             Office   Office   3.00       2.0          1.500000   \n262             Office   Mall 1   3.00       2.0          1.500000   \n263             Mall 2   Mall 2   3.50       2.0          1.750000   \n\n     Type_Drink  Type_Food  Category_Carbonated  Category_Non Carbonated  \\\n0      0.228571   0.771429             0.171429                 0.057143   \n2      0.666667   0.333333             0.666667                 0.000000   \n3      0.625000   0.375000             0.125000                 0.250000   \n4      0.153846   0.846154             0.000000                 0.153846   \n5      0.425000   0.575000             0.425000                 0.000000   \n..          ...        ...                  ...                      ...   \n257    0.541667   0.458333             0.000000                 0.250000   \n258    0.533333   0.466667             0.333333                 0.200000   \n259    0.000000   1.000000             0.000000                 0.000000   \n262    1.000000   0.000000             0.000000                 0.000000   \n263    0.500000   0.500000             0.500000                 0.000000   \n\n     Category_Salty  ...  HealthyMarketing_True  Payment_Cash  Payment_Credit  \\\n0          0.342857  ...               0.485714      0.942857        0.057143   \n2          0.333333  ...               0.444444      0.111111        0.888889   \n3          0.250000  ...               0.750000      0.875000        0.125000   \n4          0.692308  ...               0.846154      0.769231        0.230769   \n5          0.400000  ...               0.375000      0.850000        0.150000   \n..              ...  ...                    ...           ...             ...   \n257        0.333333  ...               0.541667      0.666667        0.333333   \n258        0.466667  ...               0.666667      0.666667        0.333333   \n259        1.000000  ...               0.000000      1.000000        0.000000   \n262        0.000000  ...               1.000000      1.000000        0.000000   \n263        0.000000  ...               1.000000      1.000000        0.000000   \n\n     DayOfWeek_Sat  DayOfWeek_Sun  DayOfWeek_Mon  DayOfWeek_Tue  \\\n0         0.000000          0.000       0.228571       0.342857   \n2         0.555556          0.000       0.111111       0.111111   \n3         0.000000          0.125       0.125000       0.250000   \n4         0.000000          0.000       0.384615       0.076923   \n5         0.050000          0.000       0.050000       0.100000   \n..             ...            ...            ...            ...   \n257       0.041667          0.000       0.541667       0.083333   \n258       0.000000          0.000       0.466667       0.066667   \n259       0.000000          0.000       0.000000       0.500000   \n262       1.000000          0.000       0.000000       0.000000   \n263       1.000000          0.000       0.000000       0.000000   \n\n     DayOfWeek_Wed  DayOfWeek_Thu  DayOfWeek_Fri  \n0         0.171429       0.142857       0.114286  \n2         0.111111       0.111111       0.000000  \n3         0.000000       0.250000       0.250000  \n4         0.153846       0.307692       0.076923  \n5         0.025000       0.275000       0.500000  \n..             ...            ...            ...  \n257       0.166667       0.000000       0.166667  \n258       0.466667       0.000000       0.000000  \n259       0.000000       0.500000       0.000000  \n262       0.000000       0.000000       0.000000  \n263       0.000000       0.000000       0.000000  \n\n[252 rows x 23 columns]",
      "text/html": "<div>\n<style scoped>\n    .dataframe tbody tr th:only-of-type {\n        vertical-align: middle;\n    }\n\n    .dataframe tbody tr th {\n        vertical-align: top;\n    }\n\n    .dataframe thead th {\n        text-align: right;\n    }\n</style>\n<table border=\"1\" class=\"dataframe\">\n  <thead>\n    <tr style=\"text-align: right;\">\n      <th></th>\n      <th>Predicted_Location</th>\n      <th>Location</th>\n      <th>Total</th>\n      <th>Quantity</th>\n      <th>AvgPriceItemSold</th>\n      <th>Type_Drink</th>\n      <th>Type_Food</th>\n      <th>Category_Carbonated</th>\n      <th>Category_Non Carbonated</th>\n      <th>Category_Salty</th>\n      <th>...</th>\n      <th>HealthyMarketing_True</th>\n      <th>Payment_Cash</th>\n      <th>Payment_Credit</th>\n      <th>DayOfWeek_Sat</th>\n      <th>DayOfWeek_Sun</th>\n      <th>DayOfWeek_Mon</th>\n      <th>DayOfWeek_Tue</th>\n      <th>DayOfWeek_Wed</th>\n      <th>DayOfWeek_Thu</th>\n      <th>DayOfWeek_Fri</th>\n    </tr>\n  </thead>\n  <tbody>\n    <tr>\n      <th>0</th>\n      <td>Mall 1</td>\n      <td>Factory</td>\n      <td>58.50</td>\n      <td>35.0</td>\n      <td>1.671429</td>\n      <td>0.228571</td>\n      <td>0.771429</td>\n      <td>0.171429</td>\n      <td>0.057143</td>\n      <td>0.342857</td>\n      <td>...</td>\n      <td>0.485714</td>\n      <td>0.942857</td>\n      <td>0.057143</td>\n      <td>0.000000</td>\n      <td>0.000</td>\n      <td>0.228571</td>\n      <td>0.342857</td>\n      <td>0.171429</td>\n      <td>0.142857</td>\n      <td>0.114286</td>\n    </tr>\n    <tr>\n      <th>2</th>\n      <td>Mall 1</td>\n      <td>Mall 1</td>\n      <td>23.00</td>\n      <td>9.0</td>\n      <td>2.555556</td>\n      <td>0.666667</td>\n      <td>0.333333</td>\n      <td>0.666667</td>\n      <td>0.000000</td>\n      <td>0.333333</td>\n      <td>...</td>\n      <td>0.444444</td>\n      <td>0.111111</td>\n      <td>0.888889</td>\n      <td>0.555556</td>\n      <td>0.000</td>\n      <td>0.111111</td>\n      <td>0.111111</td>\n      <td>0.111111</td>\n      <td>0.111111</td>\n      <td>0.000000</td>\n    </tr>\n    <tr>\n      <th>3</th>\n      <td>Mall 2</td>\n      <td>Mall 2</td>\n      <td>17.75</td>\n      <td>9.0</td>\n      <td>1.972222</td>\n      <td>0.625000</td>\n      <td>0.375000</td>\n      <td>0.125000</td>\n      <td>0.250000</td>\n      <td>0.250000</td>\n      <td>...</td>\n      <td>0.750000</td>\n      <td>0.875000</td>\n      <td>0.125000</td>\n      <td>0.000000</td>\n      <td>0.125</td>\n      <td>0.125000</td>\n      <td>0.250000</td>\n      <td>0.000000</td>\n      <td>0.250000</td>\n      <td>0.250000</td>\n    </tr>\n    <tr>\n      <th>4</th>\n      <td>Office</td>\n      <td>Office</td>\n      <td>26.75</td>\n      <td>13.0</td>\n      <td>2.057692</td>\n      <td>0.153846</td>\n      <td>0.846154</td>\n      <td>0.000000</td>\n      <td>0.153846</td>\n      <td>0.692308</td>\n      <td>...</td>\n      <td>0.846154</td>\n      <td>0.769231</td>\n      <td>0.230769</td>\n      <td>0.000000</td>\n      <td>0.000</td>\n      <td>0.384615</td>\n      <td>0.076923</td>\n      <td>0.153846</td>\n      <td>0.307692</td>\n      <td>0.076923</td>\n    </tr>\n    <tr>\n      <th>5</th>\n      <td>Factory</td>\n      <td>Factory</td>\n      <td>61.50</td>\n      <td>40.0</td>\n      <td>1.537500</td>\n      <td>0.425000</td>\n      <td>0.575000</td>\n      <td>0.425000</td>\n      <td>0.000000</td>\n      <td>0.400000</td>\n      <td>...</td>\n      <td>0.375000</td>\n      <td>0.850000</td>\n      <td>0.150000</td>\n      <td>0.050000</td>\n      <td>0.000</td>\n      <td>0.050000</td>\n      <td>0.100000</td>\n      <td>0.025000</td>\n      <td>0.275000</td>\n      <td>0.500000</td>\n    </tr>\n    <tr>\n      <th>...</th>\n      <td>...</td>\n      <td>...</td>\n      <td>...</td>\n      <td>...</td>\n      <td>...</td>\n      <td>...</td>\n      <td>...</td>\n      <td>...</td>\n      <td>...</td>\n      <td>...</td>\n      <td>...</td>\n      <td>...</td>\n      <td>...</td>\n      <td>...</td>\n      <td>...</td>\n      <td>...</td>\n      <td>...</td>\n      <td>...</td>\n      <td>...</td>\n      <td>...</td>\n      <td>...</td>\n    </tr>\n    <tr>\n      <th>257</th>\n      <td>Mall 1</td>\n      <td>Mall 1</td>\n      <td>46.50</td>\n      <td>26.0</td>\n      <td>1.788462</td>\n      <td>0.541667</td>\n      <td>0.458333</td>\n      <td>0.000000</td>\n      <td>0.250000</td>\n      <td>0.333333</td>\n      <td>...</td>\n      <td>0.541667</td>\n      <td>0.666667</td>\n      <td>0.333333</td>\n      <td>0.041667</td>\n      <td>0.000</td>\n      <td>0.541667</td>\n      <td>0.083333</td>\n      <td>0.166667</td>\n      <td>0.000000</td>\n      <td>0.166667</td>\n    </tr>\n    <tr>\n      <th>258</th>\n      <td>Office</td>\n      <td>Mall 2</td>\n      <td>30.00</td>\n      <td>16.0</td>\n      <td>1.875000</td>\n      <td>0.533333</td>\n      <td>0.466667</td>\n      <td>0.333333</td>\n      <td>0.200000</td>\n      <td>0.466667</td>\n      <td>...</td>\n      <td>0.666667</td>\n      <td>0.666667</td>\n      <td>0.333333</td>\n      <td>0.000000</td>\n      <td>0.000</td>\n      <td>0.466667</td>\n      <td>0.066667</td>\n      <td>0.466667</td>\n      <td>0.000000</td>\n      <td>0.000000</td>\n    </tr>\n    <tr>\n      <th>259</th>\n      <td>Office</td>\n      <td>Office</td>\n      <td>3.00</td>\n      <td>2.0</td>\n      <td>1.500000</td>\n      <td>0.000000</td>\n      <td>1.000000</td>\n      <td>0.000000</td>\n      <td>0.000000</td>\n      <td>1.000000</td>\n      <td>...</td>\n      <td>0.000000</td>\n      <td>1.000000</td>\n      <td>0.000000</td>\n      <td>0.000000</td>\n      <td>0.000</td>\n      <td>0.000000</td>\n      <td>0.500000</td>\n      <td>0.000000</td>\n      <td>0.500000</td>\n      <td>0.000000</td>\n    </tr>\n    <tr>\n      <th>262</th>\n      <td>Office</td>\n      <td>Mall 1</td>\n      <td>3.00</td>\n      <td>2.0</td>\n      <td>1.500000</td>\n      <td>1.000000</td>\n      <td>0.000000</td>\n      <td>0.000000</td>\n      <td>0.000000</td>\n      <td>0.000000</td>\n      <td>...</td>\n      <td>1.000000</td>\n      <td>1.000000</td>\n      <td>0.000000</td>\n      <td>1.000000</td>\n      <td>0.000</td>\n      <td>0.000000</td>\n      <td>0.000000</td>\n      <td>0.000000</td>\n      <td>0.000000</td>\n      <td>0.000000</td>\n    </tr>\n    <tr>\n      <th>263</th>\n      <td>Mall 2</td>\n      <td>Mall 2</td>\n      <td>3.50</td>\n      <td>2.0</td>\n      <td>1.750000</td>\n      <td>0.500000</td>\n      <td>0.500000</td>\n      <td>0.500000</td>\n      <td>0.000000</td>\n      <td>0.000000</td>\n      <td>...</td>\n      <td>1.000000</td>\n      <td>1.000000</td>\n      <td>0.000000</td>\n      <td>1.000000</td>\n      <td>0.000</td>\n      <td>0.000000</td>\n      <td>0.000000</td>\n      <td>0.000000</td>\n      <td>0.000000</td>\n      <td>0.000000</td>\n    </tr>\n  </tbody>\n</table>\n<p>252 rows × 23 columns</p>\n</div>"
     },
     "execution_count": 2,
     "metadata": {},
     "output_type": "execute_result"
    }
   ],
   "source": [
    "import pandas as pd\n",
    "import pickle\n",
    "import requests\n",
    "import tensorflow as tf\n",
    "from sklearn.preprocessing import LabelEncoder\n",
    "\n",
    "# Locate assets from GitHub\n",
    "data_url = \"https://raw.githubusercontent.com/tomweinandy/AIinPowerBI/main/vending_revenue.csv\"\n",
    "algo_url = \"https://raw.githubusercontent.com/tomweinandy/AIinPowerBI/main/vending_model.pickle\"\n",
    "\n",
    "# Load data\n",
    "# df = pd.read_csv('vending_revenue.csv')\n",
    "df = pd.read_csv(data_url)\n",
    "df = df.dropna()\n",
    "df = df.drop(columns=[\"WeekStartingSat\"])\n",
    "\n",
    "# # Load the saved model from the pickle file\n",
    "# with open('vending_model.pickle', 'rb') as file:\n",
    "#     model_info = pickle.load(file)\n",
    "\n",
    "# Load the pickled deep learning algorithm\n",
    "response = requests.get(algo_url)\n",
    "model_info = pickle.loads(response.content)\n",
    "\n",
    "# Reconstruct the model architecture\n",
    "loaded_model = tf.keras.models.model_from_json(model_info[\"architecture\"])\n",
    "\n",
    "# Set the model weights\n",
    "loaded_model.set_weights(model_info[\"weights\"])\n",
    "\n",
    "# Preprocess the data\n",
    "label_encoder = LabelEncoder()\n",
    "df[\"Location\"] = label_encoder.fit_transform(df[\"Location\"])  # Encode location labels\n",
    "\n",
    "# Split the data into input features (X)\n",
    "X = df.drop(\"Location\", axis=1)\n",
    "\n",
    "# Predict the labels\n",
    "predictions = loaded_model.predict(X)\n",
    "\n",
    "# Change predictions to integers between 0 and 4\n",
    "encoded_labels = [int(min(max(p.round(0), 0), 4)) for p in predictions]\n",
    "\n",
    "# Decode the predicted labels\n",
    "decoded_labels = label_encoder.inverse_transform(encoded_labels)\n",
    "\n",
    "# Add the predicted labels to the DataFrame\n",
    "df.insert(0, \"Predicted_Location\", decoded_labels)\n",
    "\n",
    "# Decode Location\n",
    "df[\"Location\"] = label_encoder.inverse_transform(df[\"Location\"])\n",
    "\n",
    "# Print accuracy\n",
    "accuracy = sum(df[\"Location\"] == df[\"Predicted_Location\"])/len(df)\n",
    "print(f\"\\nAccuracy: {accuracy}\")\n",
    "\n",
    "# Print the DataFrame with the predictions\n",
    "df[[\"Location\", \"Predicted_Location\"]]\n",
    "df"
   ],
   "metadata": {
    "collapsed": false,
    "pycharm": {
     "name": "#%%\n"
    }
   }
  },
  {
   "cell_type": "code",
   "execution_count": null,
   "outputs": [],
   "source": [],
   "metadata": {
    "collapsed": false,
    "pycharm": {
     "name": "#%%\n"
    }
   }
  }
 ],
 "metadata": {
  "kernelspec": {
   "display_name": "Python 3",
   "language": "python",
   "name": "python3"
  },
  "language_info": {
   "codemirror_mode": {
    "name": "ipython",
    "version": 2
   },
   "file_extension": ".py",
   "mimetype": "text/x-python",
   "name": "python",
   "nbconvert_exporter": "python",
   "pygments_lexer": "ipython2",
   "version": "2.7.6"
  }
 },
 "nbformat": 4,
 "nbformat_minor": 0
}